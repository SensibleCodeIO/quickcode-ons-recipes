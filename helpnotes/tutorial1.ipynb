{
 "cells": [
  {
   "cell_type": "code",
   "execution_count": 1,
   "metadata": {
    "collapsed": false
   },
   "outputs": [
    {
     "name": "stdout",
     "output_type": "stream",
     "text": [
      "The sum of 2+3 is 5\n"
     ]
    }
   ],
   "source": [
    "# This is a Python notebook where you can interact with the code\n",
    "# quickly, learn what each function does and what is in the data\n",
    "\n",
    "# Each of these cells is a snippet of Python.  You can run a cell \n",
    "# using the menu above, or try Shift-Return\n",
    "\n",
    "print(\"The sum of 2+3 is\", (2+3))\n",
    "\n",
    "# The output of any print statements will appear below the cell.  \n",
    "# You can change the code in the cell and run it as many times \n",
    "# as you like."
   ]
  },
  {
   "cell_type": "code",
   "execution_count": 2,
   "metadata": {
    "collapsed": true
   },
   "outputs": [],
   "source": [
    "# That's enough fun.  Now it's time to work on some spreadsheets.\n",
    "# This will requires us to load the basic functions.  This is done \n",
    "# with the following line:\n",
    "from databaker.framework import *"
   ]
  },
  {
   "cell_type": "code",
   "execution_count": 3,
   "metadata": {
    "collapsed": false
   },
   "outputs": [
    {
     "name": "stdout",
     "output_type": "stream",
     "text": [
      "Loading example1.xls which has size 6144 bytes\n",
      "Table names: beatles\n"
     ]
    }
   ],
   "source": [
    "# Let's load a very small example spreadsheet, like so:\n",
    "tabs = loadxlstabs(\"example1.xls\")\n",
    "\n",
    "# You can load this into excel as well so you can see what is going on."
   ]
  },
  {
   "cell_type": "code",
   "execution_count": 4,
   "metadata": {
    "collapsed": false
   },
   "outputs": [
    {
     "data": {
      "text/plain": [
       "{<B3 'Cars'>, <C2 ''>, <D4 1.0>, <C3 'Planes'>, <A3 ''>, <A1 'Date'>, <A2 ''>, <B4 2.0>, <C6 1.0>, <D1 ''>, <D5 2.0>, <C4 2.0>, <B2 ''>, <A7 'George'>, <D3 'Trains'>, <D6 3.0>, <C1 ''>, <C7 5.0>, <B6 4.0>, <B5 3.0>, <A6 'Ringo'>, <D7 5.0>, <A4 'John'>, <D2 ''>, <C5 3.0>, <B7 2.0>, <B1 2014.0>, <A5 'Paul'>}"
      ]
     },
     "execution_count": 4,
     "metadata": {},
     "output_type": "execute_result"
    }
   ],
   "source": [
    "# There is only one tab in this spreadsheet, so we copy it into the variable 'tab'\n",
    "tab = tabs[0]\n",
    "tab   # any time you put a variable on its own at the end of a cell, it gets printed automatically"
   ]
  },
  {
   "cell_type": "code",
   "execution_count": 5,
   "metadata": {
    "collapsed": false
   },
   "outputs": [
    {
     "data": {
      "text/html": [
       "<div id=\"injblock1001\">#injblock1001\n",
       "<style>\n",
       "table.ex, table.exkey { border: thin black solid }\n",
       "table.ex td, table.ex tr { border: none }\n",
       "td.exbold { font-weight: bold }\n",
       "td.exnumber { color: green }\n",
       "td.exdate { color: purple }\n",
       "table { border-collapse: collapse }\n",
       "td.exc0 { background-color: Aqua }\n",
       "td.exc1 { background-color: LightGreen }\n",
       "td.exc2 { background-color: PaleTurquoise }\n",
       "td.exc3 { background-color: LightBlue }\n",
       "td.exc4 { background-color: SkyBlue }\n",
       "td.exc5 { background-color: Plum }\n",
       "td.exc6 { background-color: Gold }\n",
       "td.exc7 { background-color: Lime }\n",
       "td.exc8 { background-color: Coral }\n",
       "td.exc9 { background-color: BurlyWood }\n",
       "td.exc10 { background-color: CornflowerBlue }\n",
       "td.exc-2 { background-color: MistyRose }\n",
       "td.exc-9 { background-color: Lavender }\n",
       "td.exc-8 { background-color: Violet }\n",
       "td.exc-7 { background-color: LightGray }\n",
       "td.exc-6 { background-color: SeaGreen }\n",
       "td.exc-5 { background-color: DeepSkyBlue }\n",
       "td.exc-4 { background-color: Blue }\n",
       "td.exc-3 { background-color: LightGray }\n",
       "td.exc-1 { background-color: Tan }\n",
       "table.ex td:hover { border: thin blue solid }\n",
       "table.ex td.exc-9:hover { border: thin red solid }\n",
       "table.ex td.selected { background-color: red; border: thin blue dotted }\n",
       "</style>\n",
       "\n",
       "\n",
       "Table: <b>beatles</b> <table class=\"exkey\">\n",
       "<tr></tr></table>\n",
       "\n",
       "<table class=\"ex\">\n",
       "<tr><td class=\"\" title=\"0 0\">Date</td><td class=\"exdate exnumber\" title=\"1 0\">2014.0</td><td class=\"\" title=\"2 0\"></td><td class=\"\" title=\"3 0\"></td></tr>\n",
       "<tr><td class=\"\" title=\"0 1\"></td><td class=\"\" title=\"1 1\"></td><td class=\"\" title=\"2 1\"></td><td class=\"\" title=\"3 1\"></td></tr>\n",
       "<tr><td class=\"\" title=\"0 2\"></td><td class=\"\" title=\"1 2\">Cars</td><td class=\"\" title=\"2 2\">Planes</td><td class=\"\" title=\"3 2\">Trains</td></tr>\n",
       "<tr><td class=\"\" title=\"0 3\">John</td><td class=\"exnumber\" title=\"1 3\">2.0</td><td class=\"exnumber\" title=\"2 3\">2.0</td><td class=\"exnumber\" title=\"3 3\">1.0</td></tr>\n",
       "<tr><td class=\"\" title=\"0 4\">Paul</td><td class=\"exnumber\" title=\"1 4\">3.0</td><td class=\"exnumber\" title=\"2 4\">3.0</td><td class=\"exnumber\" title=\"3 4\">2.0</td></tr>\n",
       "<tr><td class=\"\" title=\"0 5\">Ringo</td><td class=\"exnumber\" title=\"1 5\">4.0</td><td class=\"exnumber\" title=\"2 5\">1.0</td><td class=\"exnumber\" title=\"3 5\">3.0</td></tr>\n",
       "<tr><td class=\"\" title=\"0 6\">George</td><td class=\"exnumber\" title=\"1 6\">2.0</td><td class=\"exnumber\" title=\"2 6\">5.0</td><td class=\"exnumber\" title=\"3 6\">5.0</td></tr>\n",
       "</table>\n",
       "\n",
       "</div>\n"
      ],
      "text/plain": [
       "<IPython.core.display.HTML object>"
      ]
     },
     "metadata": {},
     "output_type": "display_data"
    }
   ],
   "source": [
    "# What you see are all the excel cells jumbled up, with their positions and values in \n",
    "# an unordered set.  We can print this as a proper table, like so:\n",
    "\n",
    "savepreviewhtml(tab)"
   ]
  },
  {
   "cell_type": "code",
   "execution_count": 6,
   "metadata": {
    "collapsed": false
   },
   "outputs": [],
   "source": [
    "# Our work begins with learning how to select subsets from this table to make up \n",
    "# the observations, using the functions described here:\n",
    "#      https://sensiblecodeio.github.io/quickcode-ons-docs/lang/function_reference.html\n",
    "\n",
    "# And then connecting these observations to other subsets (which we have selected the same way) \n",
    "# that make up the dimensions.  \n",
    "\n",
    "# Finally we write out the data created by looking up each observation against each dimension \n",
    "# into a file that can be read into the WDA system"
   ]
  },
  {
   "cell_type": "code",
   "execution_count": null,
   "metadata": {
    "collapsed": true
   },
   "outputs": [],
   "source": []
  }
 ],
 "metadata": {
  "kernelspec": {
   "display_name": "Python 3",
   "language": "python",
   "name": "python3"
  },
  "language_info": {
   "codemirror_mode": {
    "name": "ipython",
    "version": 3
   },
   "file_extension": ".py",
   "mimetype": "text/x-python",
   "name": "python",
   "nbconvert_exporter": "python",
   "pygments_lexer": "ipython3",
   "version": "3.5.2"
  }
 },
 "nbformat": 4,
 "nbformat_minor": 1
}
