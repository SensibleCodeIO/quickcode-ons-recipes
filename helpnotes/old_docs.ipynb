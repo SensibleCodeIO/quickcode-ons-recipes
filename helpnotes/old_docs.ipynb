{
 "cells": [
  {
   "cell_type": "markdown",
   "metadata": {},
   "source": [
    "# Function reference"
   ]
  },
  {
   "cell_type": "code",
   "execution_count": 68,
   "metadata": {
    "collapsed": false
   },
   "outputs": [],
   "source": [
    "from databaker.framework import *"
   ]
  },
  {
   "cell_type": "code",
   "execution_count": 69,
   "metadata": {
    "collapsed": false
   },
   "outputs": [
    {
     "name": "stdout",
     "output_type": "stream",
     "text": [
      "Loading example1.xls which has size 7168 bytes\n",
      "Table names: ['beatles', 'stones']\n"
     ]
    }
   ],
   "source": [
    "# put your input-output files here\n",
    "inputfile = \"example1.xls\"\n",
    "outputfile = \"example1.csv\"\n",
    "previewfile = \"preview.html\"\n",
    "\n",
    "tabs = loadxlstabs(inputfile)"
   ]
  },
  {
   "cell_type": "code",
   "execution_count": 70,
   "metadata": {
    "collapsed": false
   },
   "outputs": [],
   "source": [
    "beatles = tabs[0]"
   ]
  },
  {
   "cell_type": "markdown",
   "metadata": {},
   "source": [
    "## Core\n",
    "\n",
    "### bag.dimension(label, method, direction)\n",
    "\n",
    "### table.dimension(label, literal_value)\n",
    "\n",
    "### table.dimension(label, [subdimensions])\n",
    "\n",
    "Use the first to specify a dimension to output, selecting the header cells so that the observations can find them in the first case, or a literal string value in the second.\n",
    "\n",
    "Subdimensions are exactly like dimensions, except:\n",
    "\n",
    "* you use `.subdim` instead of `.dimension`\n",
    "\n",
    "* they don't have labels\n",
    "\n",
    "* they don't appear independently in the output."
   ]
  },
  {
   "cell_type": "markdown",
   "metadata": {},
   "source": [
    "### per_tab(tab)\n",
    "\n",
    "Function run once per tab.\n",
    "\n",
    "Must return the observations and set up any dimensions.\n",
    "\n",
    "```python\n",
    "obs = tab.selector()\n",
    "return obs\n",
    "```\n",
    "\n",
    "As per normal python, the return statement must be the last thing in the function."
   ]
  },
  {
   "cell_type": "markdown",
   "metadata": {},
   "source": [
    "### per_file(tableset)\n",
    "\n",
    "Must return either the names of the tabs, or individual items from `tableset`.\n",
    "\n",
    "Consider using `tableset.remove(\"unwanted tab\")` in the second instance.\n",
    "\n",
    "You can get a list of tableset names with `tableset.names`\n",
    "\n",
    "You can return them all with `tableset` or `\"*\"`"
   ]
  },
  {
   "cell_type": "markdown",
   "metadata": {},
   "source": [
    "## Constants\n",
    "\n",
    "### Directions\n",
    "\n",
    "ABOVE (synonym for UP), BELOW (synonym for DOWN), LEFT, RIGHT"
   ]
  },
  {
   "cell_type": "markdown",
   "metadata": {},
   "source": [
    "### Special dimensions\n",
    "\n",
    "* OBS is an observation, a particular piece of data.\n",
    "* DATAMARKER refer to footnote-like things, for example `(a)` to refer\n",
    "  to approximate data.\n",
    "* GEOG is the GSS code, e.g. `E04001323`.\n",
    "* TIME specifies the period, e.g. a year, month or quarter for which the\n",
    "  observation applies, e.g. `Feb-Apr 1971`.\n",
    "* TIMEUNIT is the length of the time period, e.g. `Quarter`.\n",
    "* Also STATPOP, UNITOFMEASURE, UNITMULTIPLIER, MEASURETYPE, STATUNIT."
   ]
  },
  {
   "cell_type": "markdown",
   "metadata": {},
   "source": [
    "### Selection specifiers\n",
    "\n",
    "How we get from observations to headers:\n",
    "\n",
    "* CLOSEST (gets the *first* cell in the same column or row as the\n",
    "  observation in a specified direction);\n",
    "* DIRECTLY (gets the *closest* cell in the same column or row as the\n",
    "  observation in a specified direction)."
   ]
  },
  {
   "cell_type": "markdown",
   "metadata": {
    "collapsed": true
   },
   "source": [
    "## Bags\n",
    "\n",
    "### Set operators\n",
    "\n",
    "Bags are 'sets' of cells - and you can treat them just like Python sets.\n",
    "\n",
    "Specifically, you can use:\n",
    "\n",
    "```python\n",
    "newbag = bigbag | bag_of_cells_we_want  # also .union\n",
    "newbag = bigbag - bag_of_cells_we_dont  # also .difference\n",
    "newbag = bag & other_bag                # also .intersection\n",
    "```\n",
    "\n",
    "\n",
    "![Bags as sets example](set.jpeg)"
   ]
  },
  {
   "cell_type": "code",
   "execution_count": 73,
   "metadata": {
    "collapsed": false,
    "scrolled": true
   },
   "outputs": [
    {
     "data": {
      "text/html": [
       "<div id=\"injblock1044\">#injblock1044\n",
       "<style>\n",
       "table.ex, table.exkey { border: thin black solid }\n",
       "table.ex td, table.ex tr { border: none }\n",
       "table.ex td:hover { border: thin blue solid }\n",
       "table.ex td.excOBS:hover { border: thin red solid }\n",
       "table.ex td.selected { border: thick red solid }\n",
       "</style>\n",
       "\n",
       "\n",
       "Table: <b>beatles</b> <table class=\"exkey\">\n",
       "<tr><td class=\"xc0\" style=\"background-color:Aqua\">item 0</td></tr></table>\n",
       "\n",
       "<table class=\"ex\">\n",
       "<tr><td title=\"0 0\">Date</td><td title=\"1 0\">2014.0</td><td title=\"2 0\"></td><td title=\"3 0\"></td></tr>\n",
       "<tr><td title=\"0 1\"></td><td title=\"1 1\"></td><td title=\"2 1\"></td><td title=\"3 1\"></td></tr>\n",
       "<tr><td title=\"0 2\"></td><td title=\"1 2\">Cars</td><td style=\"font-weight:bold\" title=\"2 2\">Planes</td><td style=\"font-weight:bold\" title=\"3 2\">Trains</td></tr>\n",
       "<tr><td title=\"0 3\">John</td><td style=\"background-color:Aqua\" title=\"1 3\">2.0</td><td style=\"background-color:Aqua\" title=\"2 3\">2.0</td><td style=\"background-color:Aqua\" title=\"3 3\">1.0</td></tr>\n",
       "<tr><td title=\"0 4\">Paul</td><td style=\"background-color:Aqua\" title=\"1 4\">4xxxx</td><td style=\"background-color:Aqua\" title=\"2 4\">3.0</td><td style=\"background-color:Aqua\" title=\"3 4\">2.0</td></tr>\n",
       "<tr><td title=\"0 5\">Ringo</td><td style=\"background-color:Aqua\" title=\"1 5\">4.0</td><td style=\"background-color:Aqua\" title=\"2 5\">1.0</td><td style=\"background-color:Aqua\" title=\"3 5\">3.0</td></tr>\n",
       "<tr><td title=\"0 6\">George</td><td style=\"background-color:Aqua\" title=\"1 6\">2.0</td><td style=\"background-color:Aqua\" title=\"2 6\">5.0</td><td style=\"background-color:Aqua\" title=\"3 6\">5.0</td></tr>\n",
       "</table>\n",
       "\n",
       "</div>\n"
      ],
      "text/plain": [
       "<IPython.core.display.HTML object>"
      ]
     },
     "metadata": {},
     "output_type": "display_data"
    }
   ],
   "source": [
    "# Difference between bags — bag_a - bag_b — gives the cells in bag_a, but not in bag_b.\n",
    "\n",
    "# NB: This isn't the simplest way of selecting these cells; you could select\n",
    "# the headers then fill(RIGHT) instead\n",
    "\n",
    "row_headers = beatles.filter(\"John\").assert_one().expand(DOWN)\n",
    "# savepreviewhtml(row_headers)\n",
    "all_value_rows = beatles.filter(\"John\").assert_one().expand(RIGHT).expand(DOWN)\n",
    "# savepreviewhtml(all_row_cells)\n",
    "# Finding the difference of all row cells and headers gives just the values. \n",
    "savepreviewhtml(all_value_rows - row_headers)"
   ]
  },
  {
   "cell_type": "code",
   "execution_count": 74,
   "metadata": {
    "collapsed": false
   },
   "outputs": [
    {
     "data": {
      "text/html": [
       "<div id=\"injblock1045\">#injblock1045\n",
       "<style>\n",
       "table.ex, table.exkey { border: thin black solid }\n",
       "table.ex td, table.ex tr { border: none }\n",
       "table.ex td:hover { border: thin blue solid }\n",
       "table.ex td.excOBS:hover { border: thin red solid }\n",
       "table.ex td.selected { border: thick red solid }\n",
       "</style>\n",
       "\n",
       "\n",
       "Table: <b>beatles</b> <table class=\"exkey\">\n",
       "<tr><td class=\"xc0\" style=\"background-color:Aqua\">item 0</td></tr></table>\n",
       "\n",
       "<table class=\"ex\">\n",
       "<tr><td title=\"0 0\">Date</td><td title=\"1 0\">2014.0</td><td title=\"2 0\"></td><td title=\"3 0\"></td></tr>\n",
       "<tr><td title=\"0 1\"></td><td title=\"1 1\"></td><td title=\"2 1\"></td><td title=\"3 1\"></td></tr>\n",
       "<tr><td title=\"0 2\"></td><td style=\"background-color:Aqua\" title=\"1 2\">Cars</td><td style=\"background-color:Aqua;font-weight:bold\" title=\"2 2\">Planes</td><td style=\"background-color:Aqua;font-weight:bold\" title=\"3 2\">Trains</td></tr>\n",
       "<tr><td style=\"background-color:Aqua\" title=\"0 3\">John</td><td title=\"1 3\">2.0</td><td title=\"2 3\">2.0</td><td title=\"3 3\">1.0</td></tr>\n",
       "<tr><td style=\"background-color:Aqua\" title=\"0 4\">Paul</td><td title=\"1 4\">4xxxx</td><td title=\"2 4\">3.0</td><td title=\"3 4\">2.0</td></tr>\n",
       "<tr><td style=\"background-color:Aqua\" title=\"0 5\">Ringo</td><td title=\"1 5\">4.0</td><td title=\"2 5\">1.0</td><td title=\"3 5\">3.0</td></tr>\n",
       "<tr><td style=\"background-color:Aqua\" title=\"0 6\">George</td><td title=\"1 6\">2.0</td><td title=\"2 6\">5.0</td><td title=\"3 6\">5.0</td></tr>\n",
       "</table>\n",
       "\n",
       "</div>\n"
      ],
      "text/plain": [
       "<IPython.core.display.HTML object>"
      ]
     },
     "metadata": {},
     "output_type": "display_data"
    }
   ],
   "source": [
    "# Union of cells — bag_a | bag_b — gives cells that are in bag_a and bag_b (including those in both).\n",
    "column_headers = beatles.filter(\"Cars\").assert_one().expand(RIGHT)\n",
    "all_headers = row_headers | column_headers\n",
    "savepreviewhtml(all_headers)"
   ]
  },
  {
   "cell_type": "code",
   "execution_count": 75,
   "metadata": {
    "collapsed": false
   },
   "outputs": [
    {
     "name": "stdout",
     "output_type": "stream",
     "text": [
      "set()\n"
     ]
    }
   ],
   "source": [
    "# Intersection of cells — bag_a & bag_b — gives cells in both bag_a and bag_b.\n",
    "cells_in_both_headers = row_headers & column_headers\n",
    "# This set is empty as no cells are in both sets of headers.\n",
    "print(cells_in_both_headers)"
   ]
  },
  {
   "cell_type": "markdown",
   "metadata": {},
   "source": [
    "### bag.filter(_string_)\n",
    "\n",
    "Return only the cells in the bag with a value of _string_. Typically there's only one, so this is often followed by `.assert_one()`. See later for other options to pass to select."
   ]
  },
  {
   "cell_type": "code",
   "execution_count": 78,
   "metadata": {
    "collapsed": false
   },
   "outputs": [
    {
     "name": "stdout",
     "output_type": "stream",
     "text": [
      "set()\n"
     ]
    }
   ],
   "source": [
    "singer = beatles.filter(\"Mick\")\n",
    "# No matches, as expected.\n",
    "print(singer)"
   ]
  },
  {
   "cell_type": "code",
   "execution_count": 79,
   "metadata": {
    "collapsed": false
   },
   "outputs": [
    {
     "ename": "NoCellsAssertionError",
     "evalue": "assert_one() : 0 cells in bag, not 1",
     "output_type": "error",
     "traceback": [
      "\u001b[0;31m---------------------------------------------------------------------------\u001b[0m",
      "\u001b[0;31mNoCellsAssertionError\u001b[0m                     Traceback (most recent call last)",
      "\u001b[0;32m<ipython-input-79-6c685cb87728>\u001b[0m in \u001b[0;36m<module>\u001b[0;34m()\u001b[0m\n\u001b[1;32m      1\u001b[0m \u001b[0;31m# If we want to fail loudly, we can use .assert_one()\u001b[0m\u001b[0;34m\u001b[0m\u001b[0;34m\u001b[0m\u001b[0m\n\u001b[0;32m----> 2\u001b[0;31m \u001b[0msinger\u001b[0m \u001b[0;34m=\u001b[0m \u001b[0mbeatles\u001b[0m\u001b[0;34m.\u001b[0m\u001b[0mfilter\u001b[0m\u001b[0;34m(\u001b[0m\u001b[0;34m\"Mick\"\u001b[0m\u001b[0;34m)\u001b[0m\u001b[0;34m.\u001b[0m\u001b[0massert_one\u001b[0m\u001b[0;34m(\u001b[0m\u001b[0;34m)\u001b[0m\u001b[0;34m\u001b[0m\u001b[0m\n\u001b[0m",
      "\u001b[0;32m/home/sm/.virtualenvs/databaker/lib/python3.5/site-packages/xypath/xypath.py\u001b[0m in \u001b[0;36massert_one\u001b[0;34m(self, message)\u001b[0m\n\u001b[1;32m    426\u001b[0m             raise NoCellsAssertionError(\n\u001b[1;32m    427\u001b[0m                 message.format(\n\u001b[0;32m--> 428\u001b[0;31m                     \u001b[0mlen\u001b[0m\u001b[0;34m(\u001b[0m\u001b[0mself\u001b[0m\u001b[0;34m.\u001b[0m\u001b[0m__store\u001b[0m\u001b[0;34m)\u001b[0m\u001b[0;34m\u001b[0m\u001b[0m\n\u001b[0m\u001b[1;32m    429\u001b[0m                 )\n\u001b[1;32m    430\u001b[0m             )\n",
      "\u001b[0;31mNoCellsAssertionError\u001b[0m: assert_one() : 0 cells in bag, not 1"
     ]
    }
   ],
   "source": [
    "# If we want to fail loudly, we can use .assert_one()\n",
    "# This is useful for guaranteeing a value is present\n",
    "singer = beatles.filter(\"Mick\").assert_one()"
   ]
  },
  {
   "cell_type": "code",
   "execution_count": 81,
   "metadata": {
    "collapsed": false
   },
   "outputs": [
    {
     "name": "stdout",
     "output_type": "stream",
     "text": [
      "{<A5 'Paul'>}\n"
     ]
    }
   ],
   "source": [
    "# This works without an error, as the expected value is present.\n",
    "singer = beatles.filter(\"Paul\").assert_one()\n",
    "print(singer)"
   ]
  },
  {
   "cell_type": "markdown",
   "metadata": {},
   "source": [
    "### bag.one\\_of(_list-of-selects_) [db]\n",
    "\n",
    "Return cells in the bag for which any of the selects match. selects are usually strings but could also be _cell-functions_ (see the backend of bag.select, below)."
   ]
  },
  {
   "cell_type": "markdown",
   "metadata": {},
   "source": [
    "### bag.regex(_regular-expression_) [db]\n",
    "\n",
    "Return cells whose values match the regular expression."
   ]
  },
  {
   "cell_type": "markdown",
   "metadata": {},
   "source": [
    "### bag.assert_one()\n",
    "\n",
    "Return the bag unchanged, so long as it contains exactly one cell.\n",
    "Otherwise crash."
   ]
  },
  {
   "cell_type": "markdown",
   "metadata": {},
   "source": [
    "### bag.shift(_x_, _y_)\n",
    "### bag.shift(_direction_)\n",
    "\n",
    "Return only cells which are exactly _x_ cells to the right, and _y_ cells down from a cell in the current bag. Either _x_ or _y_ can be negative to look left and up respectively.\n",
    "\n",
    "There's no guarantee that you'll have the same number of cells afterwards; there might not be a cell at the new position.\n",
    "\n",
    "You can also use any direction: `UP`, `DOWN`, `LEFT`, `RIGHT`, `ABOVE`, `BELOW`; or pass an `(`_x_`, `_y_`)` tuple.\n",
    "\n",
    "![Shift example](shift.jpeg)"
   ]
  },
  {
   "cell_type": "markdown",
   "metadata": {},
   "source": [
    "### bag.extrude(_x_, _y_)\n",
    "\n",
    "Get this cell, and all cells within _x_ squares right of it, and _y_ squares below it. _x_ and _y_ can be negative for left and up respectively.\n",
    "\n",
    "![Extrude example](extrude.jpeg)"
   ]
  },
  {
   "cell_type": "markdown",
   "metadata": {},
   "source": [
    "### bag.fill(_direction_)\n",
    "### bag.expand(_direction_)\n",
    "\n",
    "From each of the cells in the bag, get all cells that are in the specified _direction_. `fill` doesn't include the original cells; `expand` does.\n",
    "Note that this might get a lot of blank cells: consider using `is_not_blank()`.\n",
    "\n",
    "![Fill and expand example](fillexpand.jpeg)\n",
    "\n",
    "It also has a `stop_before` parameter: this takes a function which is tested against each bag; the fill/expand will stop if function(bag) is True. Note that this only works when cells are in a single row or column (specifically; the cells are scanned in book-reading order, left to right and top to bottom; we stop the first time the value is True)."
   ]
  },
  {
   "cell_type": "markdown",
   "metadata": {},
   "source": [
    "### bag.is_number() [DB]\n",
    "\n",
    "Return only the cells in the bag which have a numeric value."
   ]
  },
  {
   "cell_type": "markdown",
   "metadata": {},
   "source": [
    "### bag.is_date() [DB]\n",
    "\n",
    "Return only the cells in the bag which are in one of the following string formats:\n",
    "```\n",
    "1999\n",
    "1999 Q1\n",
    "Jan 1999\n",
    "Jan-Mar 1999\n",
    "```\n",
    "Note that currently this won't detect cells which are actually recognised by Excel as dates!"
   ]
  },
  {
   "cell_type": "markdown",
   "metadata": {},
   "source": [
    "### bag.spaceprefix(count)\n",
    "\n",
    "Return cells which have `count` whitespace at the start, and then a non-whitespace character."
   ]
  },
  {
   "cell_type": "markdown",
   "metadata": {},
   "source": [
    "### bag.is_XXX()\n",
    "### bag.is\\_not\\_XXX()\n",
    "\n",
    "Return only the cells which are / are not a thing.\n",
    "\n",
    "```python\n",
    "bag.is_not_bold()\n",
    "bag.is_strikeout()\n",
    "```\n",
    "\n",
    "Options which make sense: `bold`, `italic`, `strikeout`, `underline`, `blank`, `any_border`, `all_border`, `richtext`, `whitespace`.\n",
    "(is any border lined? are all four borders lined? is this cell richtext?)"
   ]
  },
  {
   "cell_type": "markdown",
   "metadata": {},
   "source": [
    "### bag.XXX\\_is(_value_)\n",
    "### bag.XXX\\_is\\_not(_value_)\n",
    "\n",
    "Return only the cells for which the property has / doesn't have a particular value.\n",
    "\n",
    "Options which make sense: `size` (in points), `font_name` (a string).\n",
    "\n",
    "`bag.font_name_is_not(\"Comic Sans MS\")`"
   ]
  },
  {
   "cell_type": "markdown",
   "metadata": {},
   "source": [
    "### bag.value\n",
    "Returns the value of a single cell."
   ]
  },
  {
   "cell_type": "markdown",
   "metadata": {},
   "source": [
    "### bag.parent()\n",
    "\n",
    "For any spanned cells, get the top-left cell (which contains all the info).\n",
    "\n",
    "Non-spanned cells are passed unchanged."
   ]
  },
  {
   "cell_type": "markdown",
   "metadata": {},
   "source": [
    "### bag.children()\n",
    "For any cell that is part of a span, get *all* cells that are parts of the span.\n",
    "\n",
    "Useful for .fill(DOWN), but note that if the spanned cell is more than one row high,\n",
    "that'll include some of the spanned cells!"
   ]
  },
  {
   "cell_type": "markdown",
   "metadata": {},
   "source": [
    "### bag.group(_regular-expression_) [db]\n",
    "\n",
    "For a single cell, get the matching group from the regular expression.\n",
    "\n",
    "e.g. if the regular expression was `-(.*)-` and the cell's value was `cat-dog-fish`; this would return `dog`."
   ]
  },
  {
   "cell_type": "markdown",
   "metadata": {},
   "source": [
    "### bag.waffle(_other-bag_)\n",
    "\n",
    "Get all cells which have a cell from one bag above them, and the other bag to the side. Note that the two bags are interchangable without changing the output. You can change the direction from its default (DOWN) by specifying `direction=LEFT` or similar.\n",
    "\n",
    "![Junction extrude example](junctionextrude.jpeg)"
   ]
  },
  {
   "cell_type": "markdown",
   "metadata": {},
   "source": [
    "### bag.same\\_row(_other-bag_)\n",
    "### bag.same\\_col(_other-bag_)\n",
    "\n",
    "Get cells in this bag which are in the same row/column as a cell in the second.\n",
    "\n",
    "![Same row example](same_row.jpeg)"
   ]
  },
  {
   "cell_type": "markdown",
   "metadata": {},
   "source": [
    "### bag.table\n",
    "\n",
    "The table which these cells are from."
   ]
  },
  {
   "cell_type": "markdown",
   "metadata": {},
   "source": [
    "### bag.by_index(index)\n",
    "\n",
    "Get cells from this bag by their position in the bag: i.e. `by_index(1)` will get the first.\n",
    "\n",
    "Can also pass lists of numbers: `by_index([2,4,6,8])` but this might get removed in future,,\n",
    "in favour of using standard Python indexes `bag[4]`.\n",
    "\n",
    "**experimental** : might remove and replace with standard pythonic indexes."
   ]
  },
  {
   "cell_type": "markdown",
   "metadata": {},
   "source": [
    "## Table only\n",
    "\n",
    "### table.debug_dimensions() [db]\n",
    "Adds debug dimensions - giving the table name and Excel cell reference - to the output CSV."
   ]
  },
  {
   "cell_type": "markdown",
   "metadata": {},
   "source": [
    "### table.excel\\_ref(_ref_) [db]\n",
    "\n",
    "Get cells from the table via an Excel cell reference: e.g. \"G4\", \"C\", \"9\", \"Q5:Z9\", \"A:C\", \"9:88\".\n",
    "\n",
    "This is useful as a last resort if there's absolutely no other way of\n",
    "specifying a particular cell or cells. However, it's preferable to\n",
    "select cells via dimensions instead as these will be more robust to\n",
    "spreadsheet change.\n",
    "\n",
    "For example, if all the cells are shifted right one\n",
    "in a new version of a spreadsheet, the desired cell will have shifted\n",
    "too, but the reference in the recipe won't be updated and the recipe\n",
    "will not behave as intended."
   ]
  },
  {
   "cell_type": "markdown",
   "metadata": {},
   "source": [
    "### Shallow magic\n",
    "\n",
    "These are reasonably detailed internals, but might be useful to know.\n",
    "\n",
    "### bag.select(_function_)\n",
    "\n",
    "Get cells from the same table as these cells, based on a function.\n",
    "\n",
    "The function must take two arguments: a bag cell, and a table cell.\n",
    "\n",
    "If the function is `True`, the table cell will be in the output.\n",
    "\n",
    "### bag.select_other(lambda bag_cell, other_cell: foo, other_bag)\n",
    "\n",
    "As `bag.select` except it inspects another bag rather than the bag's table.\n",
    "\n",
    "This is useful because you can return cells from only a subset of the table, or use a different table entirely."
   ]
  },
  {
   "cell_type": "markdown",
   "metadata": {},
   "source": [
    "### bag.junction(otherbag)\n",
    "\n",
    "Similar to `bag.waffle`, except it outputs a list of the form\n",
    "\n",
    "```python\n",
    "[\n",
    "    [bag_cell, otherbag_cell, cell_at_junction],\n",
    "    [bag_cell, otherbag_cell, cell_at_junction],\n",
    "    ...\n",
    "]"
   ]
  },
  {
   "cell_type": "markdown",
   "metadata": {},
   "source": [
    "### bag.select(_cell-function_)\n",
    "\n",
    "This is the more general form of the 'filter' command.\n",
    "Return only the cells in the bag for which the _cell-function_ is true. These are typically written\n",
    "```python\n",
    "bag.filter(lambda cell: cell.value > 20 and cell.y < 40)\n",
    "```\n",
    "or\n",
    "\n",
    "```python\n",
    "def large_value_near_top(cell):\n",
    "    return cell.value > 20 and cell.y < 40\n",
    "    \n",
    "bag.filter(large_value_near_top)\n",
    "```\n",
    "\n",
    "Optionally, if you install *hamcrest* (`pip install pyhamcrest`) you can use their matching functions on the cell value - see the [hamcrest documentation](http://pyhamcrest.readthedocs.org/en/latest/library/) for the available functions.\n",
    "\n",
    "```python\n",
    "bag.filter(hamcrest.equal_to(\"dog\"))\n",
    "```\n",
    "\n",
    "Of specific interest is when the _cell-function_ is `re.compile(`_regular-expression_`)`: this is `True` when the regular expression matches the cell's value.  "
   ]
  },
  {
   "cell_type": "markdown",
   "metadata": {},
   "source": [
    "### bag.glue(_cell-function_, _join-function_, _blank_=True)\n",
    "\n",
    "**WARNING** : this function modifies cell values and has interesting side-effects. See details below.\n",
    "\n",
    "Sometimes, what should be one cell in the output is split across multiple cells in the Excel spreadsheet. `.glue` rejoins these cells together.\n",
    "\n",
    "![Glue example](glue.png)\n",
    "\n",
    "The bag needs to contain the key cells: those which will contain values once we're done. For each of these cells, the cell_function is called on it, giving a range of ancillary cells which will provide their values to the key cell.\n",
    "\n",
    "The key cell's value becomes the concatenation of it and the ancillary cells in reading order; the ancillary cells values are then wiped (unless `blank` is set to `False`)\n",
    "\n",
    "This does not change the formatting properties of the cells: in particular, the cells are not spanned together.\n",
    "\n",
    "The `join_function` defaults to concatenating the values together with space: a different function can be provided. (i.e. `' '.join`)\n",
    "\n",
    "It is *strongly* recommended that gluing of cells occurs as early as possible in the `per_tab` function: the results of other functions will change after a call to `.glue`.\n",
    "\n",
    "Example code for above:\n",
    "\n",
    "```python\n",
    "def per_tab(tab):\n",
    "    # ... code to acquire key_cells, e.g.\n",
    "    key_cells = tab.filter(\"All homes\")\n",
    "    key_cells.glue(lambda cell: cell.extrude(0,3))\n",
    "\n",
    "    # all homes cells have been changed so the \n",
    "    # function we used gives us a different answer now\n",
    "    assert len(tab.filter(\"All homes\")) == 0\n",
    "\n",
    "    # ... rest of per_tab function as per usual\n",
    "    tab.filter(re.compile(\"All homes.*\")).dimension('location', DIRECTLY, ABOVE)\n",
    "    # ...\n",
    "\n",
    "```\n",
    "\n",
    "**WARNING** -- Unlike other functions this modifies the values of the cells. Inappropriate use can lead to inconsistent results! -- **WARNING**\n",
    "\n",
    "Selectors which filter by the values of the affected cells -- like the ones used to select the key cells in the first place -- will return results based on the *modified* values after the use of `.glue`.\n",
    "\n",
    "It is therefore *strongly* recommended that gluing of cells occurs as early as possible in the `per_tab` function.\n",
    "\n",
    "Whilst `.glue` can be chained (it returns the bag of key cells provided to it; the bag is unchanged but the values of the cells in it are) it's not recommended since it isn't a 'pure' function."
   ]
  },
  {
   "cell_type": "markdown",
   "metadata": {},
   "source": [
    "## Other things that might be useful, maybe.\n",
    "\n",
    "scan.py looks for duplicated sets of dimension values\n",
    "\n",
    "bag.pprint, .aslist and .excel_locations might be useful ways of displaying the data when debugging."
   ]
  },
  {
   "cell_type": "code",
   "execution_count": 3,
   "metadata": {
    "collapsed": false
   },
   "outputs": [],
   "source": [
    "# recipe area\n",
    "conversionsegments = [ ]\n",
    "tab = tabs[0]\n",
    "\n",
    "obs = tab.excel_ref('B4').expand(DOWN).expand(RIGHT).is_not_blank().is_not_whitespace()\n",
    "dimensions = [ \n",
    "    HDim(tab.excel_ref('B1'), TIME, CLOSEST, ABOVE), \n",
    "    HDim(tab.excel_ref('B3').expand(RIGHT), \"Vehicles\", DIRECTLY, ABOVE, cellvalueoverride={\"Cars\":\"Car\"}), \n",
    "    HDim(tab.excel_ref('A3').fill(DOWN), \"Name\", DIRECTLY, LEFT), \n",
    "    HDimConst(\"All\", \"thing\")\n",
    "]\n",
    "\n",
    "conversionsegment = ConversionSegment(tab, dimensions, obs)\n",
    "conversionsegments.append(conversionsegment)\n"
   ]
  },
  {
   "cell_type": "code",
   "execution_count": 4,
   "metadata": {
    "collapsed": false
   },
   "outputs": [
    {
     "data": {
      "text/plain": [
       "{<D6 3.0>, <C5 3.0>, <C7 5.0>, <B6 4.0>, <D5 2.0>, <B4 2.0>, <C4 2.0>, <D7 5.0>, <B7 2.0>, <C6 1.0>, <D4 1.0>, <B5 3.0>}"
      ]
     },
     "execution_count": 4,
     "metadata": {},
     "output_type": "execute_result"
    }
   ],
   "source": [
    "conversionsegment = conversionsegments[0]\n",
    "\n",
    "hdim = conversionsegment.dimensions[1]\n",
    "hdim.hbagset\n",
    "conversionsegment.segment"
   ]
  },
  {
   "cell_type": "code",
   "execution_count": 5,
   "metadata": {
    "collapsed": false
   },
   "outputs": [
    {
     "name": "stdout",
     "output_type": "stream",
     "text": [
      "{'All': 'thing', 'Vehicles': 'Car', 'Name': 'John', -2: 2014.0, -9: 2.0}\n",
      "{'All': 'thing', 'Vehicles': 'Planes', 'Name': 'John', -2: 2014.0, -9: 2.0}\n",
      "{'All': 'thing', 'Vehicles': 'Trains', 'Name': 'John', -2: 2014.0, -9: 1.0}\n",
      "{'All': 'thing', 'Vehicles': 'Car', 'Name': 'Paul', -2: 2014.0, -9: 3.0}\n",
      "{'All': 'thing', 'Vehicles': 'Planes', 'Name': 'Paul', -2: 2014.0, -9: 3.0}\n",
      "{'All': 'thing', 'Vehicles': 'Trains', 'Name': 'Paul', -2: 2014.0, -9: 2.0}\n",
      "{'All': 'thing', 'Vehicles': 'Car', 'Name': 'Ringo', -2: 2014.0, -9: 4.0}\n",
      "{'All': 'thing', 'Vehicles': 'Planes', 'Name': 'Ringo', -2: 2014.0, -9: 1.0}\n",
      "{'All': 'thing', 'Vehicles': 'Trains', 'Name': 'Ringo', -2: 2014.0, -9: 3.0}\n",
      "{'All': 'thing', 'Vehicles': 'Car', 'Name': 'George', -2: 2014.0, -9: 2.0}\n",
      "{'All': 'thing', 'Vehicles': 'Planes', 'Name': 'George', -2: 2014.0, -9: 5.0}\n",
      "{'All': 'thing', 'Vehicles': 'Trains', 'Name': 'George', -2: 2014.0, -9: 5.0}\n"
     ]
    }
   ],
   "source": [
    "for ob in list(conversionsegment.segment):\n",
    "    print(conversionsegment.lookupobs(ob))"
   ]
  },
  {
   "cell_type": "code",
   "execution_count": 6,
   "metadata": {
    "collapsed": false
   },
   "outputs": [
    {
     "name": "stdout",
     "output_type": "stream",
     "text": [
      "tablepart 'beatles' written #injblock1001\n",
      "javascript calculated\n"
     ]
    },
    {
     "data": {
      "text/html": [
       "Written to file <a href=\"file:///home/goatchurch/sensiblecode/quickcode-ons-recipes/helpnotes/preview.html\" title=\"It would work if this linked to something like: http://localhost:8888/files/ILCH/preview.html\" >/home/goatchurch/sensiblecode/quickcode-ons-recipes/helpnotes/preview.html</a>"
      ],
      "text/plain": [
       "<IPython.core.display.HTML object>"
      ]
     },
     "metadata": {},
     "output_type": "display_data"
    },
    {
     "data": {
      "text/html": [
       "<div id=\"injblock1002\">#injblock1002\n",
       "<style>\n",
       "table.ex, table.exkey { border: thin black solid }\n",
       "table.ex td, table.ex tr { border: none }\n",
       "td.xb { font-weight: bold }\n",
       "td.xn { color: green }\n",
       "td.xd { color: purple }\n",
       "table { border-collapse: collapse }\n",
       "td.xc0 { background-color: Aqua }\n",
       "td.xc1 { background-color: LightGreen }\n",
       "td.xc2 { background-color: PaleTurquoise }\n",
       "td.xc3 { background-color: LightBlue }\n",
       "td.xc4 { background-color: SkyBlue }\n",
       "td.xc5 { background-color: Plum }\n",
       "td.xc6 { background-color: Gold }\n",
       "td.xc7 { background-color: Lime }\n",
       "td.xc8 { background-color: Coral }\n",
       "td.xc9 { background-color: BurlyWood }\n",
       "td.xc10 { background-color: CornflowerBlue }\n",
       "td.xc-2 { background-color: MistyRose }\n",
       "td.xc-9 { background-color: Lavender }\n",
       "td.xc-8 { background-color: Violet }\n",
       "td.xc-7 { background-color: LightGray }\n",
       "td.xc-6 { background-color: SeaGreen }\n",
       "td.xc-5 { background-color: DeepSkyBlue }\n",
       "td.xc-4 { background-color: Blue }\n",
       "td.xc-3 { background-color: LightGray }\n",
       "td.xc-1 { background-color: Tan }\n",
       "table.ex td:hover { border: thin blue solid }\n",
       "table.ex td.exc-9:hover { border: thin red solid }\n",
       "table.ex td.selected { background-color: red; border: thin blue dotted }\n",
       "</style>\n",
       "\n",
       "\n",
       "Table: <b>beatles</b> <table class=\"exkey\">\n",
       "<tr><td class=\"xc-9\">OBS</td><td class=\"xc0\">TIME</td><td class=\"xc1\">Vehicles</td><td class=\"xc2\">Name</td></tr></table>\n",
       "\n",
       "<table class=\"ex\">\n",
       "<tr><td class=\"\" title=\"0 0\">Date</td><td class=\"xc0 xn\" title=\"1 0\">2014.0</td><td class=\"\" title=\"2 0\"></td><td class=\"\" title=\"3 0\"></td></tr>\n",
       "<tr><td class=\"\" title=\"0 1\"></td><td class=\"\" title=\"1 1\"></td><td class=\"\" title=\"2 1\"></td><td class=\"\" title=\"3 1\"></td></tr>\n",
       "<tr><td class=\"\" title=\"0 2\"></td><td class=\"xc1\" title=\"1 2\">Cars</td><td class=\"xc1\" title=\"2 2\">Planes</td><td class=\"xc1\" title=\"3 2\">Trains</td></tr>\n",
       "<tr><td class=\"xc2\" title=\"0 3\">John</td><td class=\"xc-9 xn\" title=\"1 3\">2.0</td><td class=\"xc-9 xn\" title=\"2 3\">2.0</td><td class=\"xc-9 xn\" title=\"3 3\">1.0</td></tr>\n",
       "<tr><td class=\"xc2\" title=\"0 4\">Paul</td><td class=\"xc-9 xn\" title=\"1 4\">3.0</td><td class=\"xc-9 xn\" title=\"2 4\">3.0</td><td class=\"xc-9 xn\" title=\"3 4\">2.0</td></tr>\n",
       "<tr><td class=\"xc2\" title=\"0 5\">Ringo</td><td class=\"xc-9 xn\" title=\"1 5\">4.0</td><td class=\"xc-9 xn\" title=\"2 5\">1.0</td><td class=\"xc-9 xn\" title=\"3 5\">3.0</td></tr>\n",
       "<tr><td class=\"xc2\" title=\"0 6\">George</td><td class=\"xc-9 xn\" title=\"1 6\">2.0</td><td class=\"xc-9 xn\" title=\"2 6\">5.0</td><td class=\"xc-9 xn\" title=\"3 6\">5.0</td></tr>\n",
       "</table>\n",
       "\n",
       "</div>\n",
       "\n",
       "<script>\n",
       "var jslookup = {\"3 5\":[1,0,3,2,0,5],\"2 4\":[1,0,2,2,0,4],\"2 6\":[1,0,2,2,0,6],\"1 5\":[1,0,1,2,0,5],\"3 4\":[1,0,3,2,0,4],\"1 3\":[1,0,1,2,0,3],\"2 3\":[1,0,2,2,0,3],\"3 6\":[1,0,3,2,0,6],\"1 6\":[1,0,1,2,0,6],\"2 5\":[1,0,2,2,0,5],\"3 3\":[1,0,3,2,0,3],\"1 4\":[1,0,1,2,0,4]}; \n",
       "var jdividNUM = \"injblock1002\"; \n",
       "var Dclickedcell = null; \n",
       "function clickedcell() \n",
       "{ \n",
       "    Dclickedcell = this; \n",
       "    console.log(\"jjjj\", this); \n",
       "    var rgc = new RegExp('(^|\\b)' + \"selected\".split(' ').join('|') + '(\\b|$)', 'gi'); \n",
       "    Array.prototype.forEach.call(document.querySelectorAll(\"div#\"+jdividNUM+\" table.ex td.selected\"), function(el, i) { \n",
       "        if (el.classList)  el.classList.remove(\"selected\");\n",
       "        else  el.className = el.className.replace(rgc, ' ');\n",
       "    }); \n",
       "    if (this.classList)  this.classList.add(\"selected\");\n",
       "    else this.className += ' ' + \"selected\";\n",
       "\n",
       "    var dimpairs = jslookup[this.title]; \n",
       "    if (dimpairs !== undefined) {\n",
       "        for (var i = 1; i < dimpairs.length; i += 2) {\n",
       "            var row = document.querySelectorAll(\"div#\"+jdividNUM+\" table.ex tr\")[dimpairs[i]]; \n",
       "            var el = row.querySelectorAll(\"td\")[dimpairs[i-1]]; \n",
       "            if (el.classList)  el.classList.add(\"selected\");\n",
       "            else el.className += ' ' + \"selected\";\n",
       "        }\n",
       "    }\n",
       "}\n",
       "Array.prototype.forEach.call(document.querySelectorAll(\"div#\"+jdividNUM+\" table.ex td\"), function(item, i) { item.onclick=clickedcell; }); \n",
       "</script>\n"
      ],
      "text/plain": [
       "<IPython.core.display.HTML object>"
      ]
     },
     "metadata": {},
     "output_type": "display_data"
    }
   ],
   "source": [
    "# this is the preview system\n",
    "conversionsegment = conversionsegments[0]\n",
    "savepreviewhtml(conversionsegment, previewfile)\n",
    "savepreviewhtml(conversionsegment)\n"
   ]
  },
  {
   "cell_type": "code",
   "execution_count": 7,
   "metadata": {
    "collapsed": false
   },
   "outputs": [
    {
     "name": "stdout",
     "output_type": "stream",
     "text": [
      "writing 1 conversion segments into /home/goatchurch/sensiblecode/quickcode-ons-recipes/helpnotes/example1.csv\n",
      "conversionwrite segment size 12 table 'beatles; TIMEUNIT='Year'\n"
     ]
    }
   ],
   "source": [
    "writetechnicalCSV(outputfile, conversionsegments)\n"
   ]
  },
  {
   "cell_type": "code",
   "execution_count": 8,
   "metadata": {
    "collapsed": false
   },
   "outputs": [
    {
     "data": {
      "text/html": [
       "<div>\n",
       "<table border=\"1\" class=\"dataframe\">\n",
       "  <thead>\n",
       "    <tr style=\"text-align: right;\">\n",
       "      <th></th>\n",
       "      <th>All</th>\n",
       "      <th>Name</th>\n",
       "      <th>Vehicles</th>\n",
       "      <th>-2</th>\n",
       "      <th>-9</th>\n",
       "    </tr>\n",
       "  </thead>\n",
       "  <tbody>\n",
       "    <tr>\n",
       "      <th>0</th>\n",
       "      <td>thing</td>\n",
       "      <td>John</td>\n",
       "      <td>Car</td>\n",
       "      <td>2014.0</td>\n",
       "      <td>2.0</td>\n",
       "    </tr>\n",
       "    <tr>\n",
       "      <th>1</th>\n",
       "      <td>thing</td>\n",
       "      <td>John</td>\n",
       "      <td>Planes</td>\n",
       "      <td>2014.0</td>\n",
       "      <td>2.0</td>\n",
       "    </tr>\n",
       "    <tr>\n",
       "      <th>2</th>\n",
       "      <td>thing</td>\n",
       "      <td>John</td>\n",
       "      <td>Trains</td>\n",
       "      <td>2014.0</td>\n",
       "      <td>1.0</td>\n",
       "    </tr>\n",
       "    <tr>\n",
       "      <th>3</th>\n",
       "      <td>thing</td>\n",
       "      <td>Paul</td>\n",
       "      <td>Car</td>\n",
       "      <td>2014.0</td>\n",
       "      <td>3.0</td>\n",
       "    </tr>\n",
       "    <tr>\n",
       "      <th>4</th>\n",
       "      <td>thing</td>\n",
       "      <td>Paul</td>\n",
       "      <td>Planes</td>\n",
       "      <td>2014.0</td>\n",
       "      <td>3.0</td>\n",
       "    </tr>\n",
       "    <tr>\n",
       "      <th>5</th>\n",
       "      <td>thing</td>\n",
       "      <td>Paul</td>\n",
       "      <td>Trains</td>\n",
       "      <td>2014.0</td>\n",
       "      <td>2.0</td>\n",
       "    </tr>\n",
       "    <tr>\n",
       "      <th>6</th>\n",
       "      <td>thing</td>\n",
       "      <td>Ringo</td>\n",
       "      <td>Car</td>\n",
       "      <td>2014.0</td>\n",
       "      <td>4.0</td>\n",
       "    </tr>\n",
       "    <tr>\n",
       "      <th>7</th>\n",
       "      <td>thing</td>\n",
       "      <td>Ringo</td>\n",
       "      <td>Planes</td>\n",
       "      <td>2014.0</td>\n",
       "      <td>1.0</td>\n",
       "    </tr>\n",
       "    <tr>\n",
       "      <th>8</th>\n",
       "      <td>thing</td>\n",
       "      <td>Ringo</td>\n",
       "      <td>Trains</td>\n",
       "      <td>2014.0</td>\n",
       "      <td>3.0</td>\n",
       "    </tr>\n",
       "    <tr>\n",
       "      <th>9</th>\n",
       "      <td>thing</td>\n",
       "      <td>George</td>\n",
       "      <td>Car</td>\n",
       "      <td>2014.0</td>\n",
       "      <td>2.0</td>\n",
       "    </tr>\n",
       "    <tr>\n",
       "      <th>10</th>\n",
       "      <td>thing</td>\n",
       "      <td>George</td>\n",
       "      <td>Planes</td>\n",
       "      <td>2014.0</td>\n",
       "      <td>5.0</td>\n",
       "    </tr>\n",
       "    <tr>\n",
       "      <th>11</th>\n",
       "      <td>thing</td>\n",
       "      <td>George</td>\n",
       "      <td>Trains</td>\n",
       "      <td>2014.0</td>\n",
       "      <td>5.0</td>\n",
       "    </tr>\n",
       "  </tbody>\n",
       "</table>\n",
       "</div>"
      ],
      "text/plain": [
       "      All    Name Vehicles      -2   -9\n",
       "0   thing    John      Car  2014.0  2.0\n",
       "1   thing    John   Planes  2014.0  2.0\n",
       "2   thing    John   Trains  2014.0  1.0\n",
       "3   thing    Paul      Car  2014.0  3.0\n",
       "4   thing    Paul   Planes  2014.0  3.0\n",
       "5   thing    Paul   Trains  2014.0  2.0\n",
       "6   thing   Ringo      Car  2014.0  4.0\n",
       "7   thing   Ringo   Planes  2014.0  1.0\n",
       "8   thing   Ringo   Trains  2014.0  3.0\n",
       "9   thing  George      Car  2014.0  2.0\n",
       "10  thing  George   Planes  2014.0  5.0\n",
       "11  thing  George   Trains  2014.0  5.0"
      ]
     },
     "execution_count": 8,
     "metadata": {},
     "output_type": "execute_result"
    }
   ],
   "source": [
    "topandas(conversionsegment)\n"
   ]
  },
  {
   "cell_type": "code",
   "execution_count": 9,
   "metadata": {
    "collapsed": false
   },
   "outputs": [
    {
     "name": "stdout",
     "output_type": "stream",
     "text": [
      "observation,data_marking,statistical_unit_eng,statistical_unit_cym,measure_type_eng,measure_type_cym,observation_type,empty,obs_type_value,unit_multiplier,unit_of_measure_eng,unit_of_measure_cym,confidentuality,empty1,geographic_area,empty2,empty3,time_dim_item_id,time_dim_item_label_eng,time_dim_item_label_cym,time_type,empty4,statistical_population_id,statistical_population_label_eng,statistical_population_label_cym,cdid,cdiddescrip,empty5,empty6,empty7,empty8,empty9,empty10,empty11,empty12,dim_id_1,dimension_label_eng_1,dimension_label_cym_1,dim_item_id_1,dimension_item_label_eng_1,dimension_item_label_cym_1,is_total_1,is_sub_total_1,dim_id_2,dimension_label_eng_2,dimension_label_cym_2,dim_item_id_2,dimension_item_label_eng_2,dimension_item_label_cym_2,is_total_2,is_sub_total_2,dim_id_3,dimension_label_eng_3,dimension_label_cym_3,dim_item_id_3,dimension_item_label_eng_3,dimension_item_label_cym_3,is_total_3,is_sub_total_3\r\n",
      "2.0,,,,,,,,,,,,,,,,,2014,2014,,Year,,,,,,,,,,,,,,,Vehicles,Vehicles,,Car,Car,,,,Name,Name,,John,John,,,,All,All,,thing,thing,,,\r\n",
      "2.0,,,,,,,,,,,,,,,,,2014,2014,,Year,,,,,,,,,,,,,,,Vehicles,Vehicles,,Planes,Planes,,,,Name,Name,,John,John,,,,All,All,,thing,thing,,,\r\n",
      "1.0,,,,,,,,,,,,,,,,,2014,2014,,Year,,,,,,,,,,,,,,,Vehicles,Vehicles,,Trains,Trains,,,,Name,Name,,John,John,,,,All,All,,thing,thing,,,\r\n",
      "3.0,,,,,,,,,,,,,,,,,2014,2014,,Year,,,,,,,,,,,,,,,Vehicles,Vehicles,,Car,Car,,,,Name,Name,,Paul,Paul,,,,All,All,,thing,thing,,,\r\n",
      "3.0,,,,,,,,,,,,,,,,,2014,2014,,Year,,,,,,,,,,,,,,,Vehicles,Vehicles,,Planes,Planes,,,,Name,Name,,Paul,Paul,,,,All,All,,thing,thing,,,\r\n",
      "2.0,,,,,,,,,,,,,,,,,2014,2014,,Year,,,,,,,,,,,,,,,Vehicles,Vehicles,,Trains,Trains,,,,Name,Name,,Paul,Paul,,,,All,All,,thing,thing,,,\r\n",
      "4.0,,,,,,,,,,,,,,,,,2014,2014,,Year,,,,,,,,,,,,,,,Vehicles,Vehicles,,Car,Car,,,,Name,Name,,Ringo,Ringo,,,,All,All,,thing,thing,,,\r\n",
      "1.0,,,,,,,,,,,,,,,,,2014,2014,,Year,,,,,,,,,,,,,,,Vehicles,Vehicles,,Planes,Planes,,,,Name,Name,,Ringo,Ringo,,,,All,All,,thing,thing,,,\r\n",
      "3.0,,,,,,,,,,,,,,,,,2014,2014,,Year,,,,,,,,,,,,,,,Vehicles,Vehicles,,Trains,Trains,,,,Name,Name,,Ringo,Ringo,,,,All,All,,thing,thing,,,\r\n",
      "2.0,,,,,,,,,,,,,,,,,2014,2014,,Year,,,,,,,,,,,,,,,Vehicles,Vehicles,,Car,Car,,,,Name,Name,,George,George,,,,All,All,,thing,thing,,,\r\n",
      "5.0,,,,,,,,,,,,,,,,,2014,2014,,Year,,,,,,,,,,,,,,,Vehicles,Vehicles,,Planes,Planes,,,,Name,Name,,George,George,,,,All,All,,thing,thing,,,\r\n",
      "5.0,,,,,,,,,,,,,,,,,2014,2014,,Year,,,,,,,,,,,,,,,Vehicles,Vehicles,,Trains,Trains,,,,Name,Name,,George,George,,,,All,All,,thing,thing,,,\r\n",
      "*********,12\r\n",
      "\n"
     ]
    }
   ],
   "source": [
    "writetechnicalCSV(None, conversionsegments)\n"
   ]
  },
  {
   "cell_type": "code",
   "execution_count": null,
   "metadata": {
    "collapsed": true
   },
   "outputs": [],
   "source": []
  },
  {
   "cell_type": "code",
   "execution_count": null,
   "metadata": {
    "collapsed": true
   },
   "outputs": [],
   "source": []
  }
 ],
 "metadata": {
  "kernelspec": {
   "display_name": "Python 3",
   "language": "python",
   "name": "python3"
  },
  "language_info": {
   "codemirror_mode": {
    "name": "ipython",
    "version": 3
   },
   "file_extension": ".py",
   "mimetype": "text/x-python",
   "name": "python",
   "nbconvert_exporter": "python",
   "pygments_lexer": "ipython3",
   "version": "3.5.2"
  }
 },
 "nbformat": 4,
 "nbformat_minor": 1
}
