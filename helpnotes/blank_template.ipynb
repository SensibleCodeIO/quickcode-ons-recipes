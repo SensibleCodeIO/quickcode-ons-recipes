{
 "cells": [
  {
   "cell_type": "code",
   "execution_count": 1,
   "metadata": {
    "collapsed": false
   },
   "outputs": [],
   "source": [
    "from databaker.framework import *"
   ]
  },
  {
   "cell_type": "code",
   "execution_count": 2,
   "metadata": {
    "collapsed": false
   },
   "outputs": [
    {
     "name": "stdout",
     "output_type": "stream",
     "text": [
      "Loading example1.xls which has size 7168 bytes\n",
      "Table names: ['beatles', 'stones']\n"
     ]
    }
   ],
   "source": [
    "# put your input-output files here\n",
    "inputfile = \"example1.xls\"\n",
    "outputfile = \"example1.csv\"\n",
    "previewfile = \"preview.html\"\n",
    "\n",
    "tabs = loadxlstabs(inputfile)"
   ]
  },
  {
   "cell_type": "code",
   "execution_count": 3,
   "metadata": {
    "collapsed": false
   },
   "outputs": [],
   "source": [
    "# recipe area\n",
    "conversionsegments = [ ]\n",
    "tab = tabs[0]\n",
    "\n",
    "obs = tab.excel_ref('B4').expand(DOWN).expand(RIGHT).is_not_blank().is_not_whitespace()\n",
    "dimensions = [ \n",
    "    HDim(tab.excel_ref('B1'), TIME, CLOSEST, ABOVE), \n",
    "    HDim(tab.excel_ref('B3').expand(RIGHT), \"Vehicles\", DIRECTLY, ABOVE, cellvalueoverride={\"Cars\":\"Car\"}), \n",
    "    HDim(tab.excel_ref('A3').fill(DOWN), \"Name\", DIRECTLY, LEFT), \n",
    "    HDimConst(\"All\", \"thing\")\n",
    "]\n",
    "\n",
    "conversionsegment = ConversionSegment(tab, dimensions, obs)\n",
    "conversionsegments.append(conversionsegment)\n"
   ]
  },
  {
   "cell_type": "code",
   "execution_count": 4,
   "metadata": {
    "collapsed": false
   },
   "outputs": [
    {
     "data": {
      "text/plain": [
       "{<D6 3.0>, <C5 3.0>, <C7 5.0>, <B6 4.0>, <D5 2.0>, <B4 2.0>, <C4 2.0>, <D7 5.0>, <B7 2.0>, <C6 1.0>, <D4 1.0>, <B5 3.0>}"
      ]
     },
     "execution_count": 4,
     "metadata": {},
     "output_type": "execute_result"
    }
   ],
   "source": [
    "conversionsegment = conversionsegments[0]\n",
    "\n",
    "hdim = conversionsegment.dimensions[1]\n",
    "hdim.hbagset\n",
    "conversionsegment.segment"
   ]
  },
  {
   "cell_type": "code",
   "execution_count": 5,
   "metadata": {
    "collapsed": false
   },
   "outputs": [
    {
     "name": "stdout",
     "output_type": "stream",
     "text": [
      "{'All': 'thing', 'Vehicles': 'Car', 'Name': 'John', -2: 2014.0, -9: 2.0}\n",
      "{'All': 'thing', 'Vehicles': 'Planes', 'Name': 'John', -2: 2014.0, -9: 2.0}\n",
      "{'All': 'thing', 'Vehicles': 'Trains', 'Name': 'John', -2: 2014.0, -9: 1.0}\n",
      "{'All': 'thing', 'Vehicles': 'Car', 'Name': 'Paul', -2: 2014.0, -9: 3.0}\n",
      "{'All': 'thing', 'Vehicles': 'Planes', 'Name': 'Paul', -2: 2014.0, -9: 3.0}\n",
      "{'All': 'thing', 'Vehicles': 'Trains', 'Name': 'Paul', -2: 2014.0, -9: 2.0}\n",
      "{'All': 'thing', 'Vehicles': 'Car', 'Name': 'Ringo', -2: 2014.0, -9: 4.0}\n",
      "{'All': 'thing', 'Vehicles': 'Planes', 'Name': 'Ringo', -2: 2014.0, -9: 1.0}\n",
      "{'All': 'thing', 'Vehicles': 'Trains', 'Name': 'Ringo', -2: 2014.0, -9: 3.0}\n",
      "{'All': 'thing', 'Vehicles': 'Car', 'Name': 'George', -2: 2014.0, -9: 2.0}\n",
      "{'All': 'thing', 'Vehicles': 'Planes', 'Name': 'George', -2: 2014.0, -9: 5.0}\n",
      "{'All': 'thing', 'Vehicles': 'Trains', 'Name': 'George', -2: 2014.0, -9: 5.0}\n"
     ]
    }
   ],
   "source": [
    "for ob in list(conversionsegment.segment):\n",
    "    print(conversionsegment.lookupobs(ob))"
   ]
  },
  {
   "cell_type": "code",
   "execution_count": 6,
   "metadata": {
    "collapsed": false
   },
   "outputs": [
    {
     "name": "stdout",
     "output_type": "stream",
     "text": [
      "tablepart 'beatles' written #injblock1001\n",
      "javascript calculated\n"
     ]
    },
    {
     "data": {
      "text/html": [
       "Written to file <a href=\"file:///home/goatchurch/sensiblecode/quickcode-ons-recipes/helpnotes/preview.html\" title=\"It would work if this linked to something like: http://localhost:8888/files/ILCH/preview.html\" >/home/goatchurch/sensiblecode/quickcode-ons-recipes/helpnotes/preview.html</a>"
      ],
      "text/plain": [
       "<IPython.core.display.HTML object>"
      ]
     },
     "metadata": {},
     "output_type": "display_data"
    },
    {
     "data": {
      "text/html": [
       "<div id=\"injblock1002\">#injblock1002\n",
       "<style>\n",
       "table.ex, table.exkey { border: thin black solid }\n",
       "table.ex td, table.ex tr { border: none }\n",
       "td.xb { font-weight: bold }\n",
       "td.xn { color: green }\n",
       "td.xd { color: purple }\n",
       "table { border-collapse: collapse }\n",
       "td.xc0 { background-color: Aqua }\n",
       "td.xc1 { background-color: LightGreen }\n",
       "td.xc2 { background-color: PaleTurquoise }\n",
       "td.xc3 { background-color: LightBlue }\n",
       "td.xc4 { background-color: SkyBlue }\n",
       "td.xc5 { background-color: Plum }\n",
       "td.xc6 { background-color: Gold }\n",
       "td.xc7 { background-color: Lime }\n",
       "td.xc8 { background-color: Coral }\n",
       "td.xc9 { background-color: BurlyWood }\n",
       "td.xc10 { background-color: CornflowerBlue }\n",
       "td.xc-2 { background-color: MistyRose }\n",
       "td.xc-9 { background-color: Lavender }\n",
       "td.xc-8 { background-color: Violet }\n",
       "td.xc-7 { background-color: LightGray }\n",
       "td.xc-6 { background-color: SeaGreen }\n",
       "td.xc-5 { background-color: DeepSkyBlue }\n",
       "td.xc-4 { background-color: Blue }\n",
       "td.xc-3 { background-color: LightGray }\n",
       "td.xc-1 { background-color: Tan }\n",
       "table.ex td:hover { border: thin blue solid }\n",
       "table.ex td.exc-9:hover { border: thin red solid }\n",
       "table.ex td.selected { background-color: red; border: thin blue dotted }\n",
       "</style>\n",
       "\n",
       "\n",
       "Table: <b>beatles</b> <table class=\"exkey\">\n",
       "<tr><td class=\"xc-9\">OBS</td><td class=\"xc0\">TIME</td><td class=\"xc1\">Vehicles</td><td class=\"xc2\">Name</td></tr></table>\n",
       "\n",
       "<table class=\"ex\">\n",
       "<tr><td class=\"\" title=\"0 0\">Date</td><td class=\"xc0 xn\" title=\"1 0\">2014.0</td><td class=\"\" title=\"2 0\"></td><td class=\"\" title=\"3 0\"></td></tr>\n",
       "<tr><td class=\"\" title=\"0 1\"></td><td class=\"\" title=\"1 1\"></td><td class=\"\" title=\"2 1\"></td><td class=\"\" title=\"3 1\"></td></tr>\n",
       "<tr><td class=\"\" title=\"0 2\"></td><td class=\"xc1\" title=\"1 2\">Cars</td><td class=\"xc1\" title=\"2 2\">Planes</td><td class=\"xc1\" title=\"3 2\">Trains</td></tr>\n",
       "<tr><td class=\"xc2\" title=\"0 3\">John</td><td class=\"xc-9 xn\" title=\"1 3\">2.0</td><td class=\"xc-9 xn\" title=\"2 3\">2.0</td><td class=\"xc-9 xn\" title=\"3 3\">1.0</td></tr>\n",
       "<tr><td class=\"xc2\" title=\"0 4\">Paul</td><td class=\"xc-9 xn\" title=\"1 4\">3.0</td><td class=\"xc-9 xn\" title=\"2 4\">3.0</td><td class=\"xc-9 xn\" title=\"3 4\">2.0</td></tr>\n",
       "<tr><td class=\"xc2\" title=\"0 5\">Ringo</td><td class=\"xc-9 xn\" title=\"1 5\">4.0</td><td class=\"xc-9 xn\" title=\"2 5\">1.0</td><td class=\"xc-9 xn\" title=\"3 5\">3.0</td></tr>\n",
       "<tr><td class=\"xc2\" title=\"0 6\">George</td><td class=\"xc-9 xn\" title=\"1 6\">2.0</td><td class=\"xc-9 xn\" title=\"2 6\">5.0</td><td class=\"xc-9 xn\" title=\"3 6\">5.0</td></tr>\n",
       "</table>\n",
       "\n",
       "</div>\n",
       "\n",
       "<script>\n",
       "var jslookup = {\"3 5\":[1,0,3,2,0,5],\"2 4\":[1,0,2,2,0,4],\"2 6\":[1,0,2,2,0,6],\"1 5\":[1,0,1,2,0,5],\"3 4\":[1,0,3,2,0,4],\"1 3\":[1,0,1,2,0,3],\"2 3\":[1,0,2,2,0,3],\"3 6\":[1,0,3,2,0,6],\"1 6\":[1,0,1,2,0,6],\"2 5\":[1,0,2,2,0,5],\"3 3\":[1,0,3,2,0,3],\"1 4\":[1,0,1,2,0,4]}; \n",
       "var jdividNUM = \"injblock1002\"; \n",
       "var Dclickedcell = null; \n",
       "function clickedcell() \n",
       "{ \n",
       "    Dclickedcell = this; \n",
       "    console.log(\"jjjj\", this); \n",
       "    var rgc = new RegExp('(^|\\b)' + \"selected\".split(' ').join('|') + '(\\b|$)', 'gi'); \n",
       "    Array.prototype.forEach.call(document.querySelectorAll(\"div#\"+jdividNUM+\" table.ex td.selected\"), function(el, i) { \n",
       "        if (el.classList)  el.classList.remove(\"selected\");\n",
       "        else  el.className = el.className.replace(rgc, ' ');\n",
       "    }); \n",
       "    if (this.classList)  this.classList.add(\"selected\");\n",
       "    else this.className += ' ' + \"selected\";\n",
       "\n",
       "    var dimpairs = jslookup[this.title]; \n",
       "    if (dimpairs !== undefined) {\n",
       "        for (var i = 1; i < dimpairs.length; i += 2) {\n",
       "            var row = document.querySelectorAll(\"div#\"+jdividNUM+\" table.ex tr\")[dimpairs[i]]; \n",
       "            var el = row.querySelectorAll(\"td\")[dimpairs[i-1]]; \n",
       "            if (el.classList)  el.classList.add(\"selected\");\n",
       "            else el.className += ' ' + \"selected\";\n",
       "        }\n",
       "    }\n",
       "}\n",
       "Array.prototype.forEach.call(document.querySelectorAll(\"div#\"+jdividNUM+\" table.ex td\"), function(item, i) { item.onclick=clickedcell; }); \n",
       "</script>\n"
      ],
      "text/plain": [
       "<IPython.core.display.HTML object>"
      ]
     },
     "metadata": {},
     "output_type": "display_data"
    }
   ],
   "source": [
    "# this is the preview system\n",
    "conversionsegment = conversionsegments[0]\n",
    "savepreviewhtml(conversionsegment, previewfile)\n",
    "savepreviewhtml(conversionsegment)\n"
   ]
  },
  {
   "cell_type": "code",
   "execution_count": 7,
   "metadata": {
    "collapsed": false
   },
   "outputs": [
    {
     "name": "stdout",
     "output_type": "stream",
     "text": [
      "writing 1 conversion segments into /home/goatchurch/sensiblecode/quickcode-ons-recipes/helpnotes/example1.csv\n",
      "conversionwrite segment size 12 table 'beatles; TIMEUNIT='Year'\n"
     ]
    }
   ],
   "source": [
    "writetechnicalCSV(outputfile, conversionsegments)\n"
   ]
  },
  {
   "cell_type": "code",
   "execution_count": 8,
   "metadata": {
    "collapsed": false
   },
   "outputs": [
    {
     "data": {
      "text/html": [
       "<div>\n",
       "<table border=\"1\" class=\"dataframe\">\n",
       "  <thead>\n",
       "    <tr style=\"text-align: right;\">\n",
       "      <th></th>\n",
       "      <th>All</th>\n",
       "      <th>Name</th>\n",
       "      <th>Vehicles</th>\n",
       "      <th>-2</th>\n",
       "      <th>-9</th>\n",
       "    </tr>\n",
       "  </thead>\n",
       "  <tbody>\n",
       "    <tr>\n",
       "      <th>0</th>\n",
       "      <td>thing</td>\n",
       "      <td>John</td>\n",
       "      <td>Car</td>\n",
       "      <td>2014.0</td>\n",
       "      <td>2.0</td>\n",
       "    </tr>\n",
       "    <tr>\n",
       "      <th>1</th>\n",
       "      <td>thing</td>\n",
       "      <td>John</td>\n",
       "      <td>Planes</td>\n",
       "      <td>2014.0</td>\n",
       "      <td>2.0</td>\n",
       "    </tr>\n",
       "    <tr>\n",
       "      <th>2</th>\n",
       "      <td>thing</td>\n",
       "      <td>John</td>\n",
       "      <td>Trains</td>\n",
       "      <td>2014.0</td>\n",
       "      <td>1.0</td>\n",
       "    </tr>\n",
       "    <tr>\n",
       "      <th>3</th>\n",
       "      <td>thing</td>\n",
       "      <td>Paul</td>\n",
       "      <td>Car</td>\n",
       "      <td>2014.0</td>\n",
       "      <td>3.0</td>\n",
       "    </tr>\n",
       "    <tr>\n",
       "      <th>4</th>\n",
       "      <td>thing</td>\n",
       "      <td>Paul</td>\n",
       "      <td>Planes</td>\n",
       "      <td>2014.0</td>\n",
       "      <td>3.0</td>\n",
       "    </tr>\n",
       "    <tr>\n",
       "      <th>5</th>\n",
       "      <td>thing</td>\n",
       "      <td>Paul</td>\n",
       "      <td>Trains</td>\n",
       "      <td>2014.0</td>\n",
       "      <td>2.0</td>\n",
       "    </tr>\n",
       "    <tr>\n",
       "      <th>6</th>\n",
       "      <td>thing</td>\n",
       "      <td>Ringo</td>\n",
       "      <td>Car</td>\n",
       "      <td>2014.0</td>\n",
       "      <td>4.0</td>\n",
       "    </tr>\n",
       "    <tr>\n",
       "      <th>7</th>\n",
       "      <td>thing</td>\n",
       "      <td>Ringo</td>\n",
       "      <td>Planes</td>\n",
       "      <td>2014.0</td>\n",
       "      <td>1.0</td>\n",
       "    </tr>\n",
       "    <tr>\n",
       "      <th>8</th>\n",
       "      <td>thing</td>\n",
       "      <td>Ringo</td>\n",
       "      <td>Trains</td>\n",
       "      <td>2014.0</td>\n",
       "      <td>3.0</td>\n",
       "    </tr>\n",
       "    <tr>\n",
       "      <th>9</th>\n",
       "      <td>thing</td>\n",
       "      <td>George</td>\n",
       "      <td>Car</td>\n",
       "      <td>2014.0</td>\n",
       "      <td>2.0</td>\n",
       "    </tr>\n",
       "    <tr>\n",
       "      <th>10</th>\n",
       "      <td>thing</td>\n",
       "      <td>George</td>\n",
       "      <td>Planes</td>\n",
       "      <td>2014.0</td>\n",
       "      <td>5.0</td>\n",
       "    </tr>\n",
       "    <tr>\n",
       "      <th>11</th>\n",
       "      <td>thing</td>\n",
       "      <td>George</td>\n",
       "      <td>Trains</td>\n",
       "      <td>2014.0</td>\n",
       "      <td>5.0</td>\n",
       "    </tr>\n",
       "  </tbody>\n",
       "</table>\n",
       "</div>"
      ],
      "text/plain": [
       "      All    Name Vehicles      -2   -9\n",
       "0   thing    John      Car  2014.0  2.0\n",
       "1   thing    John   Planes  2014.0  2.0\n",
       "2   thing    John   Trains  2014.0  1.0\n",
       "3   thing    Paul      Car  2014.0  3.0\n",
       "4   thing    Paul   Planes  2014.0  3.0\n",
       "5   thing    Paul   Trains  2014.0  2.0\n",
       "6   thing   Ringo      Car  2014.0  4.0\n",
       "7   thing   Ringo   Planes  2014.0  1.0\n",
       "8   thing   Ringo   Trains  2014.0  3.0\n",
       "9   thing  George      Car  2014.0  2.0\n",
       "10  thing  George   Planes  2014.0  5.0\n",
       "11  thing  George   Trains  2014.0  5.0"
      ]
     },
     "execution_count": 8,
     "metadata": {},
     "output_type": "execute_result"
    }
   ],
   "source": [
    "topandas(conversionsegment)\n"
   ]
  },
  {
   "cell_type": "code",
   "execution_count": 9,
   "metadata": {
    "collapsed": false
   },
   "outputs": [
    {
     "name": "stdout",
     "output_type": "stream",
     "text": [
      "observation,data_marking,statistical_unit_eng,statistical_unit_cym,measure_type_eng,measure_type_cym,observation_type,empty,obs_type_value,unit_multiplier,unit_of_measure_eng,unit_of_measure_cym,confidentuality,empty1,geographic_area,empty2,empty3,time_dim_item_id,time_dim_item_label_eng,time_dim_item_label_cym,time_type,empty4,statistical_population_id,statistical_population_label_eng,statistical_population_label_cym,cdid,cdiddescrip,empty5,empty6,empty7,empty8,empty9,empty10,empty11,empty12,dim_id_1,dimension_label_eng_1,dimension_label_cym_1,dim_item_id_1,dimension_item_label_eng_1,dimension_item_label_cym_1,is_total_1,is_sub_total_1,dim_id_2,dimension_label_eng_2,dimension_label_cym_2,dim_item_id_2,dimension_item_label_eng_2,dimension_item_label_cym_2,is_total_2,is_sub_total_2,dim_id_3,dimension_label_eng_3,dimension_label_cym_3,dim_item_id_3,dimension_item_label_eng_3,dimension_item_label_cym_3,is_total_3,is_sub_total_3\r\n",
      "2.0,,,,,,,,,,,,,,,,,2014,2014,,Year,,,,,,,,,,,,,,,Vehicles,Vehicles,,Car,Car,,,,Name,Name,,John,John,,,,All,All,,thing,thing,,,\r\n",
      "2.0,,,,,,,,,,,,,,,,,2014,2014,,Year,,,,,,,,,,,,,,,Vehicles,Vehicles,,Planes,Planes,,,,Name,Name,,John,John,,,,All,All,,thing,thing,,,\r\n",
      "1.0,,,,,,,,,,,,,,,,,2014,2014,,Year,,,,,,,,,,,,,,,Vehicles,Vehicles,,Trains,Trains,,,,Name,Name,,John,John,,,,All,All,,thing,thing,,,\r\n",
      "3.0,,,,,,,,,,,,,,,,,2014,2014,,Year,,,,,,,,,,,,,,,Vehicles,Vehicles,,Car,Car,,,,Name,Name,,Paul,Paul,,,,All,All,,thing,thing,,,\r\n",
      "3.0,,,,,,,,,,,,,,,,,2014,2014,,Year,,,,,,,,,,,,,,,Vehicles,Vehicles,,Planes,Planes,,,,Name,Name,,Paul,Paul,,,,All,All,,thing,thing,,,\r\n",
      "2.0,,,,,,,,,,,,,,,,,2014,2014,,Year,,,,,,,,,,,,,,,Vehicles,Vehicles,,Trains,Trains,,,,Name,Name,,Paul,Paul,,,,All,All,,thing,thing,,,\r\n",
      "4.0,,,,,,,,,,,,,,,,,2014,2014,,Year,,,,,,,,,,,,,,,Vehicles,Vehicles,,Car,Car,,,,Name,Name,,Ringo,Ringo,,,,All,All,,thing,thing,,,\r\n",
      "1.0,,,,,,,,,,,,,,,,,2014,2014,,Year,,,,,,,,,,,,,,,Vehicles,Vehicles,,Planes,Planes,,,,Name,Name,,Ringo,Ringo,,,,All,All,,thing,thing,,,\r\n",
      "3.0,,,,,,,,,,,,,,,,,2014,2014,,Year,,,,,,,,,,,,,,,Vehicles,Vehicles,,Trains,Trains,,,,Name,Name,,Ringo,Ringo,,,,All,All,,thing,thing,,,\r\n",
      "2.0,,,,,,,,,,,,,,,,,2014,2014,,Year,,,,,,,,,,,,,,,Vehicles,Vehicles,,Car,Car,,,,Name,Name,,George,George,,,,All,All,,thing,thing,,,\r\n",
      "5.0,,,,,,,,,,,,,,,,,2014,2014,,Year,,,,,,,,,,,,,,,Vehicles,Vehicles,,Planes,Planes,,,,Name,Name,,George,George,,,,All,All,,thing,thing,,,\r\n",
      "5.0,,,,,,,,,,,,,,,,,2014,2014,,Year,,,,,,,,,,,,,,,Vehicles,Vehicles,,Trains,Trains,,,,Name,Name,,George,George,,,,All,All,,thing,thing,,,\r\n",
      "*********,12\r\n",
      "\n"
     ]
    }
   ],
   "source": [
    "writetechnicalCSV(None, conversionsegments)\n"
   ]
  },
  {
   "cell_type": "code",
   "execution_count": null,
   "metadata": {
    "collapsed": true
   },
   "outputs": [],
   "source": []
  },
  {
   "cell_type": "code",
   "execution_count": null,
   "metadata": {
    "collapsed": true
   },
   "outputs": [],
   "source": []
  }
 ],
 "metadata": {
  "kernelspec": {
   "display_name": "Python 3",
   "language": "python",
   "name": "python3"
  },
  "language_info": {
   "codemirror_mode": {
    "name": "ipython",
    "version": 3
   },
   "file_extension": ".py",
   "mimetype": "text/x-python",
   "name": "python",
   "nbconvert_exporter": "python",
   "pygments_lexer": "ipython3",
   "version": "3.5.2"
  }
 },
 "nbformat": 4,
 "nbformat_minor": 1
}
