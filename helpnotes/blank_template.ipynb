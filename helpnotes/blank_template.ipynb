{
 "cells": [
  {
   "cell_type": "code",
   "execution_count": 1,
   "metadata": {
    "collapsed": false
   },
   "outputs": [],
   "source": [
    "from databaker.framework import *"
   ]
  },
  {
   "cell_type": "code",
   "execution_count": 2,
   "metadata": {
    "collapsed": false
   },
   "outputs": [
    {
     "name": "stdout",
     "output_type": "stream",
     "text": [
      "Loading example1.xls which has size 6144 bytes\n",
      "Table names: beatles\n"
     ]
    }
   ],
   "source": [
    "# put your input-output files here\n",
    "inputfile = \"example1.xls\"\n",
    "outputfile = \"example1.csv\"\n",
    "previewfile = \"preview.html\"\n",
    "\n",
    "tabs = loadxlstabs(inputfile)"
   ]
  },
  {
   "cell_type": "code",
   "execution_count": 7,
   "metadata": {
    "collapsed": false
   },
   "outputs": [],
   "source": [
    "# recipe area\n",
    "conversionsegments = [ ]\n",
    "for tab in tabs:\n",
    "    obs = tab.excel_ref('B4').expand(DOWN).expand(RIGHT).is_not_blank().is_not_whitespace()\n",
    "    dimensions = [ \n",
    "        HDim(tab.excel_ref('B1'), TIME, CLOSEST, ABOVE), \n",
    "        HDim(tab.excel_ref('B4').expand(RIGHT), \"Vehicles\", DIRECTLY, ABOVE), \n",
    "        HDim(tab.excel_ref('A3').fill(DOWN), \"Name\", DIRECTLY, LEFT)\n",
    "    ]\n",
    "    \n",
    "    conversionsegment = ConversionSegment(tab, dimensions, obs)\n",
    "    conversionsegments.append(conversionsegment)\n",
    "    "
   ]
  },
  {
   "cell_type": "code",
   "execution_count": 11,
   "metadata": {
    "collapsed": false
   },
   "outputs": [
    {
     "data": {
      "text/plain": [
       "{<C4 2.0>, <D4 1.0>, <B4 2.0>}"
      ]
     },
     "execution_count": 11,
     "metadata": {},
     "output_type": "execute_result"
    }
   ],
   "source": [
    "conversionsegment = conversionsegments[0]\n",
    "\n",
    "hdim = conversionsegment.dimensions[1]\n",
    "hdim.hbagset"
   ]
  },
  {
   "cell_type": "code",
   "execution_count": 17,
   "metadata": {
    "collapsed": false
   },
   "outputs": [
    {
     "name": "stdout",
     "output_type": "stream",
     "text": [
      "{-1: 'Year', 'Name': 'John', 'Vehicles': 2.0, -2: 2014.0, -9: 2.0}\n",
      "{-1: 'Year', 'Name': 'John', 'Vehicles': 2.0, -2: 2014.0, -9: 2.0}\n",
      "{-1: 'Year', 'Name': 'John', 'Vehicles': 1.0, -2: 2014.0, -9: 1.0}\n",
      "{-1: 'Year', 'Name': 'Paul', 'Vehicles': 2.0, -2: 2014.0, -9: 3.0}\n",
      "{-1: 'Year', 'Name': 'Paul', 'Vehicles': 2.0, -2: 2014.0, -9: 3.0}\n",
      "{-1: 'Year', 'Name': 'Paul', 'Vehicles': 1.0, -2: 2014.0, -9: 2.0}\n",
      "{-1: 'Year', 'Name': 'Ringo', 'Vehicles': 2.0, -2: 2014.0, -9: 4.0}\n",
      "{-1: 'Year', 'Name': 'Ringo', 'Vehicles': 2.0, -2: 2014.0, -9: 1.0}\n",
      "{-1: 'Year', 'Name': 'Ringo', 'Vehicles': 1.0, -2: 2014.0, -9: 3.0}\n",
      "{-1: 'Year', 'Name': 'George', 'Vehicles': 2.0, -2: 2014.0, -9: 2.0}\n",
      "{-1: 'Year', 'Name': 'George', 'Vehicles': 2.0, -2: 2014.0, -9: 5.0}\n",
      "{-1: 'Year', 'Name': 'George', 'Vehicles': 1.0, -2: 2014.0, -9: 5.0}\n"
     ]
    }
   ],
   "source": [
    "for ob in list(conversionsegment.segment):\n",
    "    print(conversionsegment.lookupobs(ob))"
   ]
  },
  {
   "cell_type": "code",
   "execution_count": 5,
   "metadata": {
    "collapsed": false
   },
   "outputs": [
    {
     "name": "stdout",
     "output_type": "stream",
     "text": [
      "tablepart 'beatles' written\n",
      "javascript calculated\n",
      "Written to file 'preview.html'\n"
     ]
    },
    {
     "data": {
      "text/html": [
       "<div id=\"injblock1002\">\n",
       "<style>\n",
       "table.ex, table.exkey { border: thin black solid }\n",
       "table.ex td, table.ex tr { border: none }\n",
       "td.exbold { font-weight: bold }\n",
       "td.exnumber { color: green }\n",
       "td.exdate { color: purple }\n",
       "table { border-collapse: collapse }\n",
       "td.exc0 { background-color: Aqua }\n",
       "td.exc1 { background-color: LightGreen }\n",
       "td.exc2 { background-color: PaleTurquoise }\n",
       "td.exc3 { background-color: LightBlue }\n",
       "td.exc4 { background-color: SkyBlue }\n",
       "td.exc5 { background-color: Plum }\n",
       "td.exc6 { background-color: Gold }\n",
       "td.exc7 { background-color: Lime }\n",
       "td.exc8 { background-color: Coral }\n",
       "td.exc9 { background-color: BurlyWood }\n",
       "td.exc10 { background-color: CornflowerBlue }\n",
       "td.exc-2 { background-color: MistyRose }\n",
       "td.exc-9 { background-color: Lavender }\n",
       "td.exc-8 { background-color: Violet }\n",
       "td.exc-7 { background-color: LightGray }\n",
       "td.exc-6 { background-color: SeaGreen }\n",
       "td.exc-5 { background-color: DeepSkyBlue }\n",
       "td.exc-4 { background-color: Blue }\n",
       "td.exc-3 { background-color: LightGray }\n",
       "td.exc-1 { background-color: Tan }\n",
       "table.ex td:hover { border: thin blue solid }\n",
       "table.ex td.exc-9:hover { border: thin red solid }\n",
       "table.ex td.selected { background-color: red; border: thin blue dotted }\n",
       "</style>\n",
       "\n",
       "\n",
       "Table: <b>beatles</b> <table class=\"exkey\">\n",
       "<tr><td class=\"exc-9\">OBS</td><td class=\"exc0\">TIME</td><td class=\"exc1\">Vehicles</td><td class=\"exc2\">Name</td></tr></table>\n",
       "\n",
       "<table class=\"ex\">\n",
       "<tr><td class=\"\" title=\"0 0\">Date</td><td class=\"exc0 exdate exnumber\" title=\"1 0\">2014.0</td><td class=\"\" title=\"2 0\"></td><td class=\"\" title=\"3 0\"></td></tr>\n",
       "<tr><td class=\"\" title=\"0 1\"></td><td class=\"\" title=\"1 1\"></td><td class=\"\" title=\"2 1\"></td><td class=\"\" title=\"3 1\"></td></tr>\n",
       "<tr><td class=\"\" title=\"0 2\"></td><td class=\"\" title=\"1 2\">Cars</td><td class=\"\" title=\"2 2\">Planes</td><td class=\"\" title=\"3 2\">Trains</td></tr>\n",
       "<tr><td class=\"exc2\" title=\"0 3\">John</td><td class=\"exc1 exnumber\" title=\"1 3\">2.0</td><td class=\"exc1 exnumber\" title=\"2 3\">2.0</td><td class=\"exc1 exnumber\" title=\"3 3\">1.0</td></tr>\n",
       "<tr><td class=\"exc2\" title=\"0 4\">Paul</td><td class=\"exc-9 exnumber\" title=\"1 4\">3.0</td><td class=\"exc-9 exnumber\" title=\"2 4\">3.0</td><td class=\"exc-9 exnumber\" title=\"3 4\">2.0</td></tr>\n",
       "<tr><td class=\"exc2\" title=\"0 5\">Ringo</td><td class=\"exc-9 exnumber\" title=\"1 5\">4.0</td><td class=\"exc-9 exnumber\" title=\"2 5\">1.0</td><td class=\"exc-9 exnumber\" title=\"3 5\">3.0</td></tr>\n",
       "<tr><td class=\"exc2\" title=\"0 6\">George</td><td class=\"exc-9 exnumber\" title=\"1 6\">2.0</td><td class=\"exc-9 exnumber\" title=\"2 6\">5.0</td><td class=\"exc-9 exnumber\" title=\"3 6\">5.0</td></tr>\n",
       "</table>\n",
       "\n",
       "</div>\n",
       "\n",
       "<script>\n",
       "var jslookup = {\"3 6\":[1,0,3,3,0,6],\"1 3\":[1,0,1,3,0,3],\"3 3\":[1,0,3,3,0,3],\"3 5\":[1,0,3,3,0,5],\"2 4\":[1,0,2,3,0,4],\"1 5\":[1,0,1,3,0,5],\"3 4\":[1,0,3,3,0,4],\"1 6\":[1,0,1,3,0,6],\"2 3\":[1,0,2,3,0,3],\"1 4\":[1,0,1,3,0,4],\"2 6\":[1,0,2,3,0,6],\"2 5\":[1,0,2,3,0,5]}; \n",
       "var jdividNUM = \"injblock1002\"; \n",
       "var Dclickedcell = null; \n",
       "function clickedcell() \n",
       "{ \n",
       "    Dclickedcell = this; \n",
       "    console.log(\"jjjj\", this); \n",
       "    var rgc = new RegExp('(^|\\b)' + \"selected\".split(' ').join('|') + '(\\b|$)', 'gi'); \n",
       "    Array.prototype.forEach.call(document.querySelectorAll(\"div#\"+jdividNUM+\" table.ex td.selected\"), function(el, i) { \n",
       "        if (el.classList)  el.classList.remove(\"selected\");\n",
       "        else  el.className = el.className.replace(rgc, ' ');\n",
       "    }); \n",
       "    if (this.classList)  this.classList.add(\"selected\");\n",
       "    else this.className += ' ' + \"selected\";\n",
       "\n",
       "    var dimpairs = jslookup[this.title]; \n",
       "    if (dimpairs !== undefined) {\n",
       "        for (var i = 1; i < dimpairs.length; i += 2) {\n",
       "            var row = document.querySelectorAll(\"div#\"+jdividNUM+\" table.ex tr\")[dimpairs[i]]; \n",
       "            var el = row.querySelectorAll(\"td\")[dimpairs[i-1]]; \n",
       "            if (el.classList)  el.classList.add(\"selected\");\n",
       "            else el.className += ' ' + \"selected\";\n",
       "        }\n",
       "    }\n",
       "}\n",
       "Array.prototype.forEach.call(document.querySelectorAll(\"div#\"+jdividNUM+\" table.ex td\"), function(item, i) { item.onclick=clickedcell; }); \n",
       "</script>\n"
      ],
      "text/plain": [
       "<IPython.core.display.HTML object>"
      ]
     },
     "metadata": {},
     "output_type": "display_data"
    }
   ],
   "source": [
    "# this is the preview system\n",
    "conversionsegment = conversionsegments[0]\n",
    "savepreviewhtml(conversionsegment, previewfile)\n",
    "savepreviewhtml(conversionsegment)\n"
   ]
  },
  {
   "cell_type": "code",
   "execution_count": 6,
   "metadata": {
    "collapsed": false
   },
   "outputs": [
    {
     "name": "stdout",
     "output_type": "stream",
     "text": [
      "converting and writing 1 conversion segments into example1.csv\n",
      "conversion segment size 12\n",
      "writing 1 conversion segments into example1.csv\n",
      "conversionwrite segment size 12\n"
     ]
    }
   ],
   "source": [
    "\n",
    "print(\"converting and writing %d conversion segments into %s\" % (len(conversionsegments), outputfile))\n",
    "convertedrows = [ ]\n",
    "for conversionsegment in conversionsegments:\n",
    "    print(\"conversion segment size %d\" % len(conversionsegment[2]))\n",
    "    rows = procrows(conversionsegment)\n",
    "    convertedrows.append(rows)\n",
    "    #print(convertedrows)\n",
    "# Should detect errors and throw up preview with cells marked\n",
    "# (though actually the errors manifest further upstream, normally)\n",
    "    \n",
    "# here we can do further sorting and postprocessing and allocating to different files \n",
    "\n",
    "writetechnicalCSV(outputfile, conversionsegments)\n",
    "\n"
   ]
  },
  {
   "cell_type": "code",
   "execution_count": null,
   "metadata": {
    "collapsed": true
   },
   "outputs": [],
   "source": []
  },
  {
   "cell_type": "code",
   "execution_count": 6,
   "metadata": {
    "collapsed": false
   },
   "outputs": [
    {
     "data": {
      "text/plain": [
       "xypath.xypath.Bag"
      ]
     },
     "execution_count": 6,
     "metadata": {},
     "output_type": "execute_result"
    }
   ],
   "source": [
    "k = list(obs)[0]\n",
    "type(k)"
   ]
  },
  {
   "cell_type": "code",
   "execution_count": 7,
   "metadata": {
    "collapsed": false
   },
   "outputs": [],
   "source": [
    "d = conversionsegment.lookupobs(k)\n"
   ]
  },
  {
   "cell_type": "code",
   "execution_count": 8,
   "metadata": {
    "collapsed": false
   },
   "outputs": [
    {
     "data": {
      "text/plain": [
       "{'Vehicles': 2.0, 'Name': 'John', -1: 'Year', -2: 2014.0, -9: 2.0}"
      ]
     },
     "execution_count": 8,
     "metadata": {},
     "output_type": "execute_result"
    }
   ],
   "source": [
    "d"
   ]
  },
  {
   "cell_type": "code",
   "execution_count": 10,
   "metadata": {
    "collapsed": false
   },
   "outputs": [
    {
     "data": {
      "text/plain": [
       "-2"
      ]
     },
     "execution_count": 10,
     "metadata": {},
     "output_type": "execute_result"
    }
   ],
   "source": [
    "TIME"
   ]
  },
  {
   "cell_type": "code",
   "execution_count": null,
   "metadata": {
    "collapsed": true
   },
   "outputs": [],
   "source": []
  }
 ],
 "metadata": {
  "kernelspec": {
   "display_name": "Python 3",
   "language": "python",
   "name": "python3"
  },
  "language_info": {
   "codemirror_mode": {
    "name": "ipython",
    "version": 3
   },
   "file_extension": ".py",
   "mimetype": "text/x-python",
   "name": "python",
   "nbconvert_exporter": "python",
   "pygments_lexer": "ipython3",
   "version": "3.5.2"
  }
 },
 "nbformat": 4,
 "nbformat_minor": 1
}
