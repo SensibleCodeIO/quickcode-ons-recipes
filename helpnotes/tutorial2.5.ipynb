{
 "cells": [
  {
   "cell_type": "code",
   "execution_count": 2,
   "metadata": {
    "collapsed": false
   },
   "outputs": [
    {
     "name": "stdout",
     "output_type": "stream",
     "text": [
      "Loading ott.xls which has size 193536 bytes\n",
      "Table names: ['Index', 'Table 1', 'Table 2', 'Table 3', 'Table 4', 'Table 5']\n"
     ]
    }
   ],
   "source": [
    "from databaker.framework import *\n",
    "inputfile = \"ott.xls\"\n",
    "outputfile = \"ott.csv\"\n",
    "previewfile = \"preview.html\"\n",
    "\n",
    "tabs = loadxlstabs(inputfile)\n"
   ]
  },
  {
   "cell_type": "code",
   "execution_count": 5,
   "metadata": {
    "collapsed": false
   },
   "outputs": [
    {
     "data": {
      "text/html": [
       "<div id=\"injblock1001\">#injblock1001\n",
       "<style>\n",
       "table.ex, table.exkey { border: thin black solid }\n",
       "table.ex td, table.ex tr { border: none }\n",
       "td.xb { font-weight: bold }\n",
       "td.xn { color: green }\n",
       "td.xd { color: purple }\n",
       "table { border-collapse: collapse }\n",
       "td.xc0 { background-color: Aqua }\n",
       "td.xc1 { background-color: LightGreen }\n",
       "td.xc2 { background-color: PaleTurquoise }\n",
       "td.xc3 { background-color: LightBlue }\n",
       "td.xc4 { background-color: SkyBlue }\n",
       "td.xc5 { background-color: Plum }\n",
       "td.xc6 { background-color: Gold }\n",
       "td.xc7 { background-color: Lime }\n",
       "td.xc8 { background-color: Coral }\n",
       "td.xc9 { background-color: BurlyWood }\n",
       "td.xc10 { background-color: CornflowerBlue }\n",
       "td.xc-2 { background-color: MistyRose }\n",
       "td.xc-9 { background-color: Lavender }\n",
       "td.xc-8 { background-color: Violet }\n",
       "td.xc-7 { background-color: LightGray }\n",
       "td.xc-6 { background-color: SeaGreen }\n",
       "td.xc-5 { background-color: DeepSkyBlue }\n",
       "td.xc-4 { background-color: Blue }\n",
       "td.xc-3 { background-color: LightGray }\n",
       "td.xc-1 { background-color: Tan }\n",
       "table.ex td:hover { border: thin blue solid }\n",
       "table.ex td.exc-9:hover { border: thin red solid }\n",
       "table.ex td.selected { background-color: red; border: thin blue dotted }\n",
       "</style>\n",
       "\n",
       "\n",
       "Table: <b>Table 1</b> <table class=\"exkey\">\n",
       "<tr></tr></table>\n",
       "\n",
       "<table class=\"ex\">\n",
       "<tr><td class=\"xb xn\" title=\"0 0\">1.0</td><td class=\"xb\" title=\"1 0\">Overseas residents' visits to the UK by month</td><td class=\"\" title=\"2 0\"></td><td class=\"\" title=\"3 0\"></td><td class=\"\" title=\"4 0\"></td><td class=\"\" title=\"5 0\"></td><td class=\"\" title=\"6 0\"></td><td class=\"\" title=\"7 0\"></td><td class=\"\" title=\"8 0\"></td><td class=\"\" title=\"9 0\"></td><td class=\"\" title=\"10 0\"></td><td class=\"\" title=\"11 0\"></td><td class=\"\" title=\"12 0\"></td><td class=\"\" title=\"13 0\"></td><td class=\"\" title=\"14 0\"></td><td class=\"\" title=\"15 0\"></td><td class=\"\" title=\"16 0\"></td><td class=\"\" title=\"17 0\"></td><td class=\"\" title=\"18 0\"></td><td class=\"\" title=\"19 0\"></td><td class=\"\" title=\"20 0\"></td><td class=\"\" title=\"21 0\"></td><td class=\"\" title=\"22 0\"></td><td class=\"\" title=\"23 0\"></td><td class=\"\" title=\"24 0\"></td></tr>\n",
       "<tr><td class=\"\" title=\"0 1\"></td><td class=\"\" title=\"1 1\"></td><td class=\"\" title=\"2 1\"></td><td class=\"\" title=\"3 1\"></td><td class=\"\" title=\"4 1\"></td><td class=\"\" title=\"5 1\"></td><td class=\"\" title=\"6 1\"></td><td class=\"\" title=\"7 1\"></td><td class=\"\" title=\"8 1\"></td><td class=\"\" title=\"9 1\"></td><td class=\"\" title=\"10 1\"></td><td class=\"\" title=\"11 1\"></td><td class=\"\" title=\"12 1\"></td><td class=\"\" title=\"13 1\"></td><td class=\"\" title=\"14 1\"></td><td class=\"\" title=\"15 1\"></td><td class=\"\" title=\"16 1\">thousands</td><td class=\"\" title=\"17 1\"></td><td class=\"\" title=\"18 1\"></td><td class=\"\" title=\"19 1\"></td><td class=\"\" title=\"20 1\"></td><td class=\"\" title=\"21 1\"></td><td class=\"\" title=\"22 1\"></td><td class=\"\" title=\"23 1\"></td><td class=\"\" title=\"24 1\"></td></tr>\n",
       "<tr><td class=\"\" title=\"0 2\"></td><td class=\"\" title=\"1 2\"></td><td class=\"\" title=\"2 2\">All Visits</td><td class=\"\" title=\"3 2\"></td><td class=\"\" title=\"4 2\"></td><td class=\"\" title=\"5 2\"></td><td class=\"\" title=\"6 2\">Area of residence</td><td class=\"\" title=\"7 2\"></td><td class=\"\" title=\"8 2\"></td><td class=\"\" title=\"9 2\"></td><td class=\"\" title=\"10 2\"></td><td class=\"\" title=\"11 2\"></td><td class=\"\" title=\"12 2\"></td><td class=\"\" title=\"13 2\"></td><td class=\"\" title=\"14 2\"></td><td class=\"\" title=\"15 2\"></td><td class=\"\" title=\"16 2\"></td><td class=\"\" title=\"17 2\"></td><td class=\"\" title=\"18 2\"></td><td class=\"\" title=\"19 2\"></td><td class=\"\" title=\"20 2\"></td><td class=\"\" title=\"21 2\"></td><td class=\"\" title=\"22 2\"></td><td class=\"\" title=\"23 2\"></td><td class=\"\" title=\"24 2\"></td></tr>\n",
       "<tr><td class=\"\" title=\"0 3\"></td><td class=\"\" title=\"1 3\"></td><td class=\"\" title=\"2 3\"></td><td class=\"\" title=\"3 3\"></td><td class=\"\" title=\"4 3\"></td><td class=\"\" title=\"5 3\"></td><td class=\"\" title=\"6 3\">North America</td><td class=\"\" title=\"7 3\"></td><td class=\"\" title=\"8 3\">Europe</td><td class=\"\" title=\"9 3\"></td><td class=\"\" title=\"10 3\">of which</td><td class=\"\" title=\"11 3\"></td><td class=\"\" title=\"12 3\"></td><td class=\"\" title=\"13 3\"></td><td class=\"\" title=\"14 3\"></td><td class=\"\" title=\"15 3\"></td><td class=\"\" title=\"16 3\">Other countries</td><td class=\"\" title=\"17 3\"></td><td class=\"\" title=\"18 3\"></td><td class=\"\" title=\"19 3\"></td><td class=\"\" title=\"20 3\"></td><td class=\"\" title=\"21 3\"></td><td class=\"\" title=\"22 3\"></td><td class=\"\" title=\"23 3\"></td><td class=\"\" title=\"24 3\"></td></tr>\n",
       "<tr><td class=\"\" title=\"0 4\"></td><td class=\"\" title=\"1 4\"></td><td class=\"\" title=\"2 4\"></td><td class=\"\" title=\"3 4\"></td><td class=\"\" title=\"4 4\"></td><td class=\"\" title=\"5 4\"></td><td class=\"\" title=\"6 4\"></td><td class=\"\" title=\"7 4\"></td><td class=\"\" title=\"8 4\"></td><td class=\"\" title=\"9 4\"></td><td class=\"\" title=\"10 4\">European Union</td><td class=\"\" title=\"11 4\"></td><td class=\"\" title=\"12 4\">Other EU</td><td class=\"\" title=\"13 4\"></td><td class=\"\" title=\"14 4\">EU15</td><td class=\"\" title=\"15 4\"></td><td class=\"\" title=\"16 4\"></td><td class=\"\" title=\"17 4\"></td><td class=\"\" title=\"18 4\"></td><td class=\"\" title=\"19 4\"></td><td class=\"\" title=\"20 4\"></td><td class=\"\" title=\"21 4\"></td><td class=\"\" title=\"22 4\"></td><td class=\"\" title=\"23 4\"></td><td class=\"\" title=\"24 4\"></td></tr>\n",
       "<tr><td class=\"\" title=\"0 5\"></td><td class=\"\" title=\"1 5\"></td><td class=\"\" title=\"2 5\">NSA</td><td class=\"\" title=\"3 5\"></td><td class=\"\" title=\"4 5\">SA</td><td class=\"\" title=\"5 5\"></td><td class=\"\" title=\"6 5\">NSA</td><td class=\"\" title=\"7 5\"></td><td class=\"\" title=\"8 5\">NSA</td><td class=\"\" title=\"9 5\"></td><td class=\"\" title=\"10 5\">NSA</td><td class=\"\" title=\"11 5\"></td><td class=\"\" title=\"12 5\">NSA</td><td class=\"\" title=\"13 5\"></td><td class=\"\" title=\"14 5\">NSA</td><td class=\"\" title=\"15 5\"></td><td class=\"\" title=\"16 5\">NSA</td><td class=\"\" title=\"17 5\"></td><td class=\"\" title=\"18 5\"></td><td class=\"\" title=\"19 5\"></td><td class=\"\" title=\"20 5\"></td><td class=\"\" title=\"21 5\"></td><td class=\"\" title=\"22 5\"></td><td class=\"\" title=\"23 5\"></td><td class=\"\" title=\"24 5\"></td></tr>\n",
       "<tr><td class=\"xn\" title=\"0 6\">2012.0</td><td class=\"\" title=\"1 6\">Jan</td><td class=\"xn\" title=\"2 6\">2245.592954550293</td><td class=\"\" title=\"3 6\"></td><td class=\"xn\" title=\"4 6\">2660.0</td><td class=\"\" title=\"5 6\"></td><td class=\"xn\" title=\"6 6\">192.21229470537563</td><td class=\"\" title=\"7 6\"></td><td class=\"xn\" title=\"8 6\">1704.4816733269165</td><td class=\"\" title=\"9 6\"></td><td class=\"xn\" title=\"10 6\">1552.412174949455</td><td class=\"\" title=\"11 6\"></td><td class=\"xn\" title=\"12 6\">249.0991413858186</td><td class=\"\" title=\"13 6\"></td><td class=\"xn\" title=\"14 6\">1303.4940908711926</td><td class=\"\" title=\"15 6\"></td><td class=\"xn\" title=\"16 6\">348.89898651800115</td><td class=\"\" title=\"17 6\"></td><td class=\"\" title=\"18 6\"></td><td class=\"\" title=\"19 6\"></td><td class=\"\" title=\"20 6\"></td><td class=\"\" title=\"21 6\"></td><td class=\"\" title=\"22 6\"></td><td class=\"\" title=\"23 6\"></td><td class=\"\" title=\"24 6\"></td></tr>\n",
       "<tr><td class=\"\" title=\"0 7\"></td><td class=\"\" title=\"1 7\">Feb</td><td class=\"xn\" title=\"2 7\">1736.129036504862</td><td class=\"\" title=\"3 7\"></td><td class=\"xn\" title=\"4 7\">2470.0</td><td class=\"\" title=\"5 7\"></td><td class=\"xn\" title=\"6 7\">153.7561014513549</td><td class=\"\" title=\"7 7\"></td><td class=\"xn\" title=\"8 7\">1369.440097085472</td><td class=\"\" title=\"9 7\"></td><td class=\"xn\" title=\"10 7\">1240.8713395332634</td><td class=\"\" title=\"11 7\"></td><td class=\"xn\" title=\"12 7\">207.1271352212234</td><td class=\"\" title=\"13 7\"></td><td class=\"xn\" title=\"14 7\">1034.6525700977759</td><td class=\"\" title=\"15 7\"></td><td class=\"xn\" title=\"16 7\">212.93283796803516</td><td class=\"\" title=\"17 7\"></td><td class=\"\" title=\"18 7\"></td><td class=\"\" title=\"19 7\"></td><td class=\"\" title=\"20 7\"></td><td class=\"\" title=\"21 7\"></td><td class=\"\" title=\"22 7\"></td><td class=\"\" title=\"23 7\"></td><td class=\"\" title=\"24 7\"></td></tr>\n",
       "<tr><td class=\"\" title=\"0 8\"></td><td class=\"\" title=\"1 8\">Mar</td><td class=\"xn\" title=\"2 8\">2267.4311699448435</td><td class=\"\" title=\"3 8\"></td><td class=\"xn\" title=\"4 8\">2670.0</td><td class=\"\" title=\"5 8\"></td><td class=\"xn\" title=\"6 8\">242.55224884326984</td><td class=\"\" title=\"7 8\"></td><td class=\"xn\" title=\"8 8\">1740.1932695876103</td><td class=\"\" title=\"9 8\"></td><td class=\"xn\" title=\"10 8\">1584.3530885172784</td><td class=\"\" title=\"11 8\"></td><td class=\"xn\" title=\"12 8\">240.8462083929564</td><td class=\"\" title=\"13 8\"></td><td class=\"xn\" title=\"14 8\">1342.4174570310302</td><td class=\"\" title=\"15 8\"></td><td class=\"xn\" title=\"16 8\">284.68565151396353</td><td class=\"\" title=\"17 8\"></td><td class=\"\" title=\"18 8\"></td><td class=\"\" title=\"19 8\"></td><td class=\"\" title=\"20 8\"></td><td class=\"\" title=\"21 8\"></td><td class=\"\" title=\"22 8\"></td><td class=\"\" title=\"23 8\"></td><td class=\"\" title=\"24 8\"></td></tr>\n",
       "<tr><td class=\"\" title=\"0 9\"></td><td class=\"\" title=\"1 9\">Apr</td><td class=\"xn\" title=\"2 9\">2916.704542485911</td><td class=\"\" title=\"3 9\"></td><td class=\"xn\" title=\"4 9\">2840.0</td><td class=\"\" title=\"5 9\"></td><td class=\"xn\" title=\"6 9\">268.70022773969265</td><td class=\"\" title=\"7 9\"></td><td class=\"xn\" title=\"8 9\">2326.066874709368</td><td class=\"\" title=\"9 9\"></td><td class=\"xn\" title=\"10 9\">2077.8696517981816</td><td class=\"\" title=\"11 9\"></td><td class=\"xn\" title=\"12 9\">228.5194996568238</td><td class=\"\" title=\"13 9\"></td><td class=\"xn\" title=\"14 9\">1849.5368517213751</td><td class=\"\" title=\"15 9\"></td><td class=\"xn\" title=\"16 9\">321.93744003685015</td><td class=\"\" title=\"17 9\"></td><td class=\"\" title=\"18 9\"></td><td class=\"\" title=\"19 9\"></td><td class=\"\" title=\"20 9\"></td><td class=\"\" title=\"21 9\"></td><td class=\"\" title=\"22 9\"></td><td class=\"\" title=\"23 9\"></td><td class=\"\" title=\"24 9\"></td></tr>\n",
       "<tr><td class=\"\" title=\"0 10\"></td><td class=\"\" title=\"1 10\">May</td><td class=\"xn\" title=\"2 10\">2969.853554587926</td><td class=\"\" title=\"3 10\"></td><td class=\"xn\" title=\"4 10\">2610.0</td><td class=\"\" title=\"5 10\"></td><td class=\"xn\" title=\"6 10\">391.05892923269533</td><td class=\"\" title=\"7 10\"></td><td class=\"xn\" title=\"8 10\">2187.8407114177335</td><td class=\"\" title=\"9 10\"></td><td class=\"xn\" title=\"10 10\">1963.6802285252038</td><td class=\"\" title=\"11 10\"></td><td class=\"xn\" title=\"12 10\">256.1299185956458</td><td class=\"\" title=\"13 10\"></td><td class=\"xn\" title=\"14 10\">1707.4276347748282</td><td class=\"\" title=\"15 10\"></td><td class=\"xn\" title=\"16 10\">390.9539139374972</td><td class=\"\" title=\"17 10\"></td><td class=\"\" title=\"18 10\"></td><td class=\"\" title=\"19 10\"></td><td class=\"\" title=\"20 10\"></td><td class=\"\" title=\"21 10\"></td><td class=\"\" title=\"22 10\"></td><td class=\"\" title=\"23 10\"></td><td class=\"\" title=\"24 10\"></td></tr>\n",
       "<tr><td class=\"\" title=\"0 11\"></td><td class=\"\" title=\"1 11\">Jun</td><td class=\"xn\" title=\"2 11\">2570.468925926163</td><td class=\"\" title=\"3 11\"></td><td class=\"xn\" title=\"4 11\">2360.0</td><td class=\"\" title=\"5 11\"></td><td class=\"xn\" title=\"6 11\">426.7612180276118</td><td class=\"\" title=\"7 11\"></td><td class=\"xn\" title=\"8 11\">1667.776517872899</td><td class=\"\" title=\"9 11\"></td><td class=\"xn\" title=\"10 11\">1495.5048226766137</td><td class=\"\" title=\"11 11\"></td><td class=\"xn\" title=\"12 11\">191.11553774753037</td><td class=\"\" title=\"13 11\"></td><td class=\"xn\" title=\"14 11\">1304.3252605037965</td><td class=\"\" title=\"15 11\"></td><td class=\"xn\" title=\"16 11\">475.93119002565254</td><td class=\"\" title=\"17 11\"></td><td class=\"\" title=\"18 11\"></td><td class=\"\" title=\"19 11\"></td><td class=\"\" title=\"20 11\"></td><td class=\"\" title=\"21 11\"></td><td class=\"\" title=\"22 11\"></td><td class=\"\" title=\"23 11\"></td><td class=\"\" title=\"24 11\"></td></tr>\n",
       "<tr><td class=\"\" title=\"0 12\"></td><td class=\"\" title=\"1 12\">Jul</td><td class=\"xn\" title=\"2 12\">3158.139027487155</td><td class=\"\" title=\"3 12\"></td><td class=\"xn\" title=\"4 12\">2520.0</td><td class=\"\" title=\"5 12\"></td><td class=\"xn\" title=\"6 12\">421.8524359234095</td><td class=\"\" title=\"7 12\"></td><td class=\"xn\" title=\"8 12\">2112.3129671637353</td><td class=\"\" title=\"9 12\"></td><td class=\"xn\" title=\"10 12\">1896.0982305727905</td><td class=\"\" title=\"11 12\"></td><td class=\"xn\" title=\"12 12\">233.00355190216553</td><td class=\"\" title=\"13 12\"></td><td class=\"xn\" title=\"14 12\">1662.7683045011556</td><td class=\"\" title=\"15 12\"></td><td class=\"xn\" title=\"16 12\">623.9736244000106</td><td class=\"\" title=\"17 12\"></td><td class=\"\" title=\"18 12\"></td><td class=\"\" title=\"19 12\"></td><td class=\"\" title=\"20 12\"></td><td class=\"\" title=\"21 12\"></td><td class=\"\" title=\"22 12\"></td><td class=\"\" title=\"23 12\"></td><td class=\"\" title=\"24 12\"></td></tr>\n",
       "<tr><td class=\"\" title=\"0 13\"></td><td class=\"\" title=\"1 13\">Aug</td><td class=\"xn\" title=\"2 13\">3016.207329791903</td><td class=\"\" title=\"3 13\"></td><td class=\"xn\" title=\"4 13\">2400.0</td><td class=\"\" title=\"5 13\"></td><td class=\"xn\" title=\"6 13\">367.84415591508537</td><td class=\"\" title=\"7 13\"></td><td class=\"xn\" title=\"8 13\">2146.8298228782082</td><td class=\"\" title=\"9 13\"></td><td class=\"xn\" title=\"10 13\">1941.224523252362</td><td class=\"\" title=\"11 13\"></td><td class=\"xn\" title=\"12 13\">245.20508099041558</td><td class=\"\" title=\"13 13\"></td><td class=\"xn\" title=\"14 13\">1695.8214586576967</td><td class=\"\" title=\"15 13\"></td><td class=\"xn\" title=\"16 13\">501.5333509986091</td><td class=\"\" title=\"17 13\"></td><td class=\"\" title=\"18 13\"></td><td class=\"\" title=\"19 13\"></td><td class=\"\" title=\"20 13\"></td><td class=\"\" title=\"21 13\"></td><td class=\"\" title=\"22 13\"></td><td class=\"\" title=\"23 13\"></td><td class=\"\" title=\"24 13\"></td></tr>\n",
       "<tr><td class=\"\" title=\"0 14\"></td><td class=\"\" title=\"1 14\">Sep</td><td class=\"xn\" title=\"2 14\">2611.5419408358653</td><td class=\"\" title=\"3 14\"></td><td class=\"xn\" title=\"4 14\">2540.0</td><td class=\"\" title=\"5 14\"></td><td class=\"xn\" title=\"6 14\">378.0909527912463</td><td class=\"\" title=\"7 14\"></td><td class=\"xn\" title=\"8 14\">1705.8301661411745</td><td class=\"\" title=\"9 14\"></td><td class=\"xn\" title=\"10 14\">1565.9875152408404</td><td class=\"\" title=\"11 14\"></td><td class=\"xn\" title=\"12 14\">231.24827287219392</td><td class=\"\" title=\"13 14\"></td><td class=\"xn\" title=\"14 14\">1335.263600142366</td><td class=\"\" title=\"15 14\"></td><td class=\"xn\" title=\"16 14\">527.6208219034447</td><td class=\"\" title=\"17 14\"></td><td class=\"\" title=\"18 14\"></td><td class=\"\" title=\"19 14\"></td><td class=\"\" title=\"20 14\"></td><td class=\"\" title=\"21 14\"></td><td class=\"\" title=\"22 14\"></td><td class=\"\" title=\"23 14\"></td><td class=\"\" title=\"24 14\"></td></tr>\n",
       "<tr><td class=\"\" title=\"0 15\"></td><td class=\"\" title=\"1 15\">Oct</td><td class=\"xn\" title=\"2 15\">2689.8869714038015</td><td class=\"\" title=\"3 15\"></td><td class=\"xn\" title=\"4 15\">2550.0</td><td class=\"\" title=\"5 15\"></td><td class=\"xn\" title=\"6 15\">285.259673997169</td><td class=\"\" title=\"7 15\"></td><td class=\"xn\" title=\"8 15\">1992.194737472603</td><td class=\"\" title=\"9 15\"></td><td class=\"xn\" title=\"10 15\">1815.271449313272</td><td class=\"\" title=\"11 15\"></td><td class=\"xn\" title=\"12 15\">249.5890030155751</td><td class=\"\" title=\"13 15\"></td><td class=\"xn\" title=\"14 15\">1565.665790494392</td><td class=\"\" title=\"15 15\"></td><td class=\"xn\" title=\"16 15\">412.4325599340295</td><td class=\"\" title=\"17 15\"></td><td class=\"\" title=\"18 15\"></td><td class=\"\" title=\"19 15\"></td><td class=\"\" title=\"20 15\"></td><td class=\"\" title=\"21 15\"></td><td class=\"\" title=\"22 15\"></td><td class=\"\" title=\"23 15\"></td><td class=\"\" title=\"24 15\"></td></tr>\n",
       "<tr><td class=\"\" title=\"0 16\"></td><td class=\"\" title=\"1 16\">Nov</td><td class=\"xn\" title=\"2 16\">2475.5880728547536</td><td class=\"\" title=\"3 16\"></td><td class=\"xn\" title=\"4 16\">2730.0</td><td class=\"\" title=\"5 16\"></td><td class=\"xn\" title=\"6 16\">202.45048589175286</td><td class=\"\" title=\"7 16\"></td><td class=\"xn\" title=\"8 16\">1983.8345865045467</td><td class=\"\" title=\"9 16\"></td><td class=\"xn\" title=\"10 16\">1752.2646714591303</td><td class=\"\" title=\"11 16\"></td><td class=\"xn\" title=\"12 16\">258.36334826930346</td><td class=\"\" title=\"13 16\"></td><td class=\"xn\" title=\"14 16\">1493.9078262422013</td><td class=\"\" title=\"15 16\"></td><td class=\"xn\" title=\"16 16\">289.3030004584539</td><td class=\"\" title=\"17 16\"></td><td class=\"\" title=\"18 16\"></td><td class=\"\" title=\"19 16\"></td><td class=\"\" title=\"20 16\"></td><td class=\"\" title=\"21 16\"></td><td class=\"\" title=\"22 16\"></td><td class=\"\" title=\"23 16\"></td><td class=\"\" title=\"24 16\"></td></tr>\n",
       "<tr><td class=\"\" title=\"0 17\"></td><td class=\"\" title=\"1 17\">Dec</td><td class=\"xn\" title=\"2 17\">2426.5413567414466</td><td class=\"\" title=\"3 17\"></td><td class=\"xn\" title=\"4 17\">2790.0</td><td class=\"\" title=\"5 17\"></td><td class=\"xn\" title=\"6 17\">213.29648511107794</td><td class=\"\" title=\"7 17\"></td><td class=\"xn\" title=\"8 17\">1859.3957320228517</td><td class=\"\" title=\"9 17\"></td><td class=\"xn\" title=\"10 17\">1667.0998132276038</td><td class=\"\" title=\"11 17\"></td><td class=\"xn\" title=\"12 17\">248.86864271512394</td><td class=\"\" title=\"13 17\"></td><td class=\"xn\" title=\"14 17\">1418.2413232634103</td><td class=\"\" title=\"15 17\"></td><td class=\"xn\" title=\"16 17\">353.8491396075168</td><td class=\"\" title=\"17 17\"></td><td class=\"\" title=\"18 17\"></td><td class=\"\" title=\"19 17\"></td><td class=\"\" title=\"20 17\"></td><td class=\"\" title=\"21 17\"></td><td class=\"\" title=\"22 17\"></td><td class=\"\" title=\"23 17\"></td><td class=\"\" title=\"24 17\"></td></tr>\n",
       "<tr><td class=\"xn\" title=\"0 18\">2013.0</td><td class=\"\" title=\"1 18\">Jan</td><td class=\"xn\" title=\"2 18\">2200.2391927884196</td><td class=\"\" title=\"3 18\"></td><td class=\"xn\" title=\"4 18\">2630.0</td><td class=\"\" title=\"5 18\"></td><td class=\"xn\" title=\"6 18\">212.15605289841125</td><td class=\"\" title=\"7 18\"></td><td class=\"xn\" title=\"8 18\">1589.1073732273387</td><td class=\"\" title=\"9 18\"></td><td class=\"xn\" title=\"10 18\">1438.8353239503167</td><td class=\"\" title=\"11 18\"></td><td class=\"xn\" title=\"12 18\">242.1221565823409</td><td class=\"\" title=\"13 18\"></td><td class=\"xn\" title=\"14 18\">1197.3603734953638</td><td class=\"\" title=\"15 18\"></td><td class=\"xn\" title=\"16 18\">398.97576666266974</td><td class=\"\" title=\"17 18\"></td><td class=\"\" title=\"18 18\"></td><td class=\"\" title=\"19 18\"></td><td class=\"\" title=\"20 18\"></td><td class=\"\" title=\"21 18\"></td><td class=\"\" title=\"22 18\"></td><td class=\"\" title=\"23 18\"></td><td class=\"\" title=\"24 18\"></td></tr>\n",
       "<tr><td class=\"\" title=\"0 19\"></td><td class=\"\" title=\"1 19\">Feb</td><td class=\"xn\" title=\"2 19\">1951.431244455929</td><td class=\"\" title=\"3 19\"></td><td class=\"xn\" title=\"4 19\">2720.0</td><td class=\"\" title=\"5 19\"></td><td class=\"xn\" title=\"6 19\">150.4281679720754</td><td class=\"\" title=\"7 19\"></td><td class=\"xn\" title=\"8 19\">1573.4548328099365</td><td class=\"\" title=\"9 19\"></td><td class=\"xn\" title=\"10 19\">1429.8517034364809</td><td class=\"\" title=\"11 19\"></td><td class=\"xn\" title=\"12 19\">200.2597873475139</td><td class=\"\" title=\"13 19\"></td><td class=\"xn\" title=\"14 19\">1228.2066783054597</td><td class=\"\" title=\"15 19\"></td><td class=\"xn\" title=\"16 19\">227.54824367391697</td><td class=\"\" title=\"17 19\"></td><td class=\"\" title=\"18 19\"></td><td class=\"\" title=\"19 19\"></td><td class=\"\" title=\"20 19\"></td><td class=\"\" title=\"21 19\"></td><td class=\"\" title=\"22 19\"></td><td class=\"\" title=\"23 19\"></td><td class=\"\" title=\"24 19\"></td></tr>\n",
       "<tr><td class=\"\" title=\"0 20\"></td><td class=\"\" title=\"1 20\">Mar</td><td class=\"xn\" title=\"2 20\">2181.2305517556506</td><td class=\"\" title=\"3 20\"></td><td class=\"xn\" title=\"4 20\">2540.0</td><td class=\"\" title=\"5 20\"></td><td class=\"xn\" title=\"6 20\">208.60430212951314</td><td class=\"\" title=\"7 20\"></td><td class=\"xn\" title=\"8 20\">1695.8319569627238</td><td class=\"\" title=\"9 20\"></td><td class=\"xn\" title=\"10 20\">1541.2619026132013</td><td class=\"\" title=\"11 20\"></td><td class=\"xn\" title=\"12 20\">260.24840007014524</td><td class=\"\" title=\"13 20\"></td><td class=\"xn\" title=\"14 20\">1281.7515341991757</td><td class=\"\" title=\"15 20\"></td><td class=\"xn\" title=\"16 20\">276.7942926634136</td><td class=\"\" title=\"17 20\"></td><td class=\"\" title=\"18 20\"></td><td class=\"\" title=\"19 20\"></td><td class=\"\" title=\"20 20\"></td><td class=\"\" title=\"21 20\"></td><td class=\"\" title=\"22 20\"></td><td class=\"\" title=\"23 20\"></td><td class=\"\" title=\"24 20\"></td></tr>\n",
       "<tr><td class=\"\" title=\"0 21\"></td><td class=\"\" title=\"1 21\">Apr</td><td class=\"xn\" title=\"2 21\">2888.1056843526903</td><td class=\"\" title=\"3 21\"></td><td class=\"xn\" title=\"4 21\">2850.0</td><td class=\"\" title=\"5 21\"></td><td class=\"xn\" title=\"6 21\">241.00704066971423</td><td class=\"\" title=\"7 21\"></td><td class=\"xn\" title=\"8 21\">2300.2036421771804</td><td class=\"\" title=\"9 21\"></td><td class=\"xn\" title=\"10 21\">2063.077130546139</td><td class=\"\" title=\"11 21\"></td><td class=\"xn\" title=\"12 21\">321.64906208717775</td><td class=\"\" title=\"13 21\"></td><td class=\"xn\" title=\"14 21\">1813.6525557787618</td><td class=\"\" title=\"15 21\"></td><td class=\"xn\" title=\"16 21\">346.89500150579556</td><td class=\"\" title=\"17 21\"></td><td class=\"\" title=\"18 21\"></td><td class=\"\" title=\"19 21\"></td><td class=\"\" title=\"20 21\"></td><td class=\"\" title=\"21 21\"></td><td class=\"\" title=\"22 21\"></td><td class=\"\" title=\"23 21\"></td><td class=\"\" title=\"24 21\"></td></tr>\n",
       "<tr><td class=\"\" title=\"0 22\"></td><td class=\"\" title=\"1 22\">May</td><td class=\"xn\" title=\"2 22\">3084.39514969178</td><td class=\"\" title=\"3 22\"></td><td class=\"xn\" title=\"4 22\">2710.0</td><td class=\"\" title=\"5 22\"></td><td class=\"xn\" title=\"6 22\">358.83849156825966</td><td class=\"\" title=\"7 22\"></td><td class=\"xn\" title=\"8 22\">2300.6930851662305</td><td class=\"\" title=\"9 22\"></td><td class=\"xn\" title=\"10 22\">2107.748768741895</td><td class=\"\" title=\"11 22\"></td><td class=\"xn\" title=\"12 22\">340.1364689084956</td><td class=\"\" title=\"13 22\"></td><td class=\"xn\" title=\"14 22\">1766.6580969388488</td><td class=\"\" title=\"15 22\"></td><td class=\"xn\" title=\"16 22\">424.86357295728953</td><td class=\"\" title=\"17 22\"></td><td class=\"\" title=\"18 22\"></td><td class=\"\" title=\"19 22\"></td><td class=\"\" title=\"20 22\"></td><td class=\"\" title=\"21 22\"></td><td class=\"\" title=\"22 22\"></td><td class=\"\" title=\"23 22\"></td><td class=\"\" title=\"24 22\"></td></tr>\n",
       "<tr><td class=\"\" title=\"0 23\"></td><td class=\"\" title=\"1 23\">June</td><td class=\"xn\" title=\"2 23\">2896.526299955531</td><td class=\"\" title=\"3 23\"></td><td class=\"xn\" title=\"4 23\">2670.0</td><td class=\"\" title=\"5 23\"></td><td class=\"xn\" title=\"6 23\">408.98516876202564</td><td class=\"\" title=\"7 23\"></td><td class=\"xn\" title=\"8 23\">1937.8135896565898</td><td class=\"\" title=\"9 23\"></td><td class=\"xn\" title=\"10 23\">1765.9805627119642</td><td class=\"\" title=\"11 23\"></td><td class=\"xn\" title=\"12 23\">264.05216391283363</td><td class=\"\" title=\"13 23\"></td><td class=\"xn\" title=\"14 23\">1501.6739102823892</td><td class=\"\" title=\"15 23\"></td><td class=\"xn\" title=\"16 23\">549.7275415369157</td><td class=\"\" title=\"17 23\"></td><td class=\"\" title=\"18 23\"></td><td class=\"\" title=\"19 23\"></td><td class=\"\" title=\"20 23\"></td><td class=\"\" title=\"21 23\"></td><td class=\"\" title=\"22 23\"></td><td class=\"\" title=\"23 23\"></td><td class=\"\" title=\"24 23\"></td></tr>\n",
       "<tr><td class=\"\" title=\"0 24\"></td><td class=\"\" title=\"1 24\">July</td><td class=\"xn\" title=\"2 24\">3303.790716662488</td><td class=\"\" title=\"3 24\"></td><td class=\"xn\" title=\"4 24\">2640.0</td><td class=\"\" title=\"5 24\"></td><td class=\"xn\" title=\"6 24\">444.38261075049843</td><td class=\"\" title=\"7 24\"></td><td class=\"xn\" title=\"8 24\">2165.3883265027243</td><td class=\"\" title=\"9 24\"></td><td class=\"xn\" title=\"10 24\">1930.5968602785192</td><td class=\"\" title=\"11 24\"></td><td class=\"xn\" title=\"12 24\">254.46005021668054</td><td class=\"\" title=\"13 24\"></td><td class=\"xn\" title=\"14 24\">1676.1437587118708</td><td class=\"\" title=\"15 24\"></td><td class=\"xn\" title=\"16 24\">694.0197794092657</td><td class=\"\" title=\"17 24\"></td><td class=\"\" title=\"18 24\"></td><td class=\"\" title=\"19 24\"></td><td class=\"\" title=\"20 24\"></td><td class=\"\" title=\"21 24\"></td><td class=\"\" title=\"22 24\"></td><td class=\"\" title=\"23 24\"></td><td class=\"\" title=\"24 24\"></td></tr>\n",
       "<tr><td class=\"\" title=\"0 25\"></td><td class=\"\" title=\"1 25\">Aug</td><td class=\"xn\" title=\"2 25\">3535.203490679437</td><td class=\"\" title=\"3 25\"></td><td class=\"xn\" title=\"4 25\">2850.0</td><td class=\"\" title=\"5 25\"></td><td class=\"xn\" title=\"6 25\">431.1507097710026</td><td class=\"\" title=\"7 25\"></td><td class=\"xn\" title=\"8 25\">2455.5450120102846</td><td class=\"\" title=\"9 25\"></td><td class=\"xn\" title=\"10 25\">2249.0414375331457</td><td class=\"\" title=\"11 25\"></td><td class=\"xn\" title=\"12 25\">289.83606211178034</td><td class=\"\" title=\"13 25\"></td><td class=\"xn\" title=\"14 25\">1959.2341910800642</td><td class=\"\" title=\"15 25\"></td><td class=\"xn\" title=\"16 25\">648.5077688981496</td><td class=\"\" title=\"17 25\"></td><td class=\"\" title=\"18 25\"></td><td class=\"\" title=\"19 25\"></td><td class=\"\" title=\"20 25\"></td><td class=\"\" title=\"21 25\"></td><td class=\"\" title=\"22 25\"></td><td class=\"\" title=\"23 25\"></td><td class=\"\" title=\"24 25\"></td></tr>\n",
       "<tr><td class=\"\" title=\"0 26\"></td><td class=\"\" title=\"1 26\">Sep</td><td class=\"xn\" title=\"2 26\">2806.426651658074</td><td class=\"\" title=\"3 26\"></td><td class=\"xn\" title=\"4 26\">2730.0</td><td class=\"\" title=\"5 26\"></td><td class=\"xn\" title=\"6 26\">357.7569734785006</td><td class=\"\" title=\"7 26\"></td><td class=\"xn\" title=\"8 26\">1887.6815604869873</td><td class=\"\" title=\"9 26\"></td><td class=\"xn\" title=\"10 26\">1684.8918071883352</td><td class=\"\" title=\"11 26\"></td><td class=\"xn\" title=\"12 26\">235.39075167153925</td><td class=\"\" title=\"13 26\"></td><td class=\"xn\" title=\"14 26\">1449.4652912080649</td><td class=\"\" title=\"15 26\"></td><td class=\"xn\" title=\"16 26\">560.9881176925865</td><td class=\"\" title=\"17 26\"></td><td class=\"\" title=\"18 26\"></td><td class=\"\" title=\"19 26\"></td><td class=\"\" title=\"20 26\"></td><td class=\"\" title=\"21 26\"></td><td class=\"\" title=\"22 26\"></td><td class=\"\" title=\"23 26\"></td><td class=\"\" title=\"24 26\"></td></tr>\n",
       "<tr><td class=\"\" title=\"0 27\"></td><td class=\"\" title=\"1 27\">Oct</td><td class=\"xn\" title=\"2 27\">2980.3678966295843</td><td class=\"\" title=\"3 27\"></td><td class=\"xn\" title=\"4 27\">2820.0</td><td class=\"\" title=\"5 27\"></td><td class=\"xn\" title=\"6 27\">303.2241853421893</td><td class=\"\" title=\"7 27\"></td><td class=\"xn\" title=\"8 27\">2187.9828569051306</td><td class=\"\" title=\"9 27\"></td><td class=\"xn\" title=\"10 27\">1984.2035306176397</td><td class=\"\" title=\"11 27\"></td><td class=\"xn\" title=\"12 27\">347.5453632200034</td><td class=\"\" title=\"13 27\"></td><td class=\"xn\" title=\"14 27\">1636.6527471756972</td><td class=\"\" title=\"15 27\"></td><td class=\"xn\" title=\"16 27\">489.1608543822645</td><td class=\"\" title=\"17 27\"></td><td class=\"\" title=\"18 27\"></td><td class=\"\" title=\"19 27\"></td><td class=\"\" title=\"20 27\"></td><td class=\"\" title=\"21 27\"></td><td class=\"\" title=\"22 27\"></td><td class=\"\" title=\"23 27\"></td><td class=\"\" title=\"24 27\"></td></tr>\n",
       "<tr><td class=\"\" title=\"0 28\"></td><td class=\"\" title=\"1 28\">Nov</td><td class=\"xn\" title=\"2 28\">2443.3893513320672</td><td class=\"\" title=\"3 28\"></td><td class=\"xn\" title=\"4 28\">2710.0</td><td class=\"\" title=\"5 28\"></td><td class=\"xn\" title=\"6 28\">196.68498639137056</td><td class=\"\" title=\"7 28\"></td><td class=\"xn\" title=\"8 28\">1932.1544442197617</td><td class=\"\" title=\"9 28\"></td><td class=\"xn\" title=\"10 28\">1724.8907252985691</td><td class=\"\" title=\"11 28\"></td><td class=\"xn\" title=\"12 28\">311.28318941324017</td><td class=\"\" title=\"13 28\"></td><td class=\"xn\" title=\"14 28\">1413.598020572682</td><td class=\"\" title=\"15 28\"></td><td class=\"xn\" title=\"16 28\">314.549920720935</td><td class=\"\" title=\"17 28\"></td><td class=\"\" title=\"18 28\"></td><td class=\"\" title=\"19 28\"></td><td class=\"\" title=\"20 28\"></td><td class=\"\" title=\"21 28\"></td><td class=\"\" title=\"22 28\"></td><td class=\"\" title=\"23 28\"></td><td class=\"\" title=\"24 28\"></td></tr>\n",
       "<tr><td class=\"\" title=\"0 29\"></td><td class=\"\" title=\"1 29\">Dec</td><td class=\"xn\" title=\"2 29\">2420.24275203835</td><td class=\"\" title=\"3 29\"></td><td class=\"xn\" title=\"4 29\">2800.0</td><td class=\"\" title=\"5 29\"></td><td class=\"xn\" title=\"6 29\">195.09082826644024</td><td class=\"\" title=\"7 29\"></td><td class=\"xn\" title=\"8 29\">1839.862698875109</td><td class=\"\" title=\"9 29\"></td><td class=\"xn\" title=\"10 29\">1674.9057440837912</td><td class=\"\" title=\"11 29\"></td><td class=\"xn\" title=\"12 29\">256.1714473667565</td><td class=\"\" title=\"13 29\"></td><td class=\"xn\" title=\"14 29\">1418.749232251621</td><td class=\"\" title=\"15 29\"></td><td class=\"xn\" title=\"16 29\">385.28922489680053</td><td class=\"\" title=\"17 29\"></td><td class=\"\" title=\"18 29\"></td><td class=\"\" title=\"19 29\"></td><td class=\"\" title=\"20 29\"></td><td class=\"\" title=\"21 29\"></td><td class=\"\" title=\"22 29\"></td><td class=\"\" title=\"23 29\"></td><td class=\"\" title=\"24 29\"></td></tr>\n",
       "<tr><td class=\"xn\" title=\"0 30\">2014.0</td><td class=\"\" title=\"1 30\">Jan</td><td class=\"xn\" title=\"2 30\">2358.664303695916</td><td class=\"\" title=\"3 30\"></td><td class=\"xn\" title=\"4 30\">2790.0</td><td class=\"\" title=\"5 30\"></td><td class=\"xn\" title=\"6 30\">211.7061071675332</td><td class=\"\" title=\"7 30\"></td><td class=\"xn\" title=\"8 30\">1739.02201910128</td><td class=\"\" title=\"9 30\"></td><td class=\"xn\" title=\"10 30\">1596.1602865054583</td><td class=\"\" title=\"11 30\"></td><td class=\"xn\" title=\"12 30\">276.22474212577856</td><td class=\"\" title=\"13 30\"></td><td class=\"xn\" title=\"14 30\">1319.792991995811</td><td class=\"\" title=\"15 30\"></td><td class=\"xn\" title=\"16 30\">407.9361774271026</td><td class=\"\" title=\"17 30\"></td><td class=\"\" title=\"18 30\"></td><td class=\"\" title=\"19 30\"></td><td class=\"\" title=\"20 30\"></td><td class=\"\" title=\"21 30\"></td><td class=\"\" title=\"22 30\"></td><td class=\"\" title=\"23 30\"></td><td class=\"\" title=\"24 30\"></td></tr>\n",
       "<tr><td class=\"\" title=\"0 31\"></td><td class=\"\" title=\"1 31\">Feb</td><td class=\"xn\" title=\"2 31\">2099.1390586216153</td><td class=\"\" title=\"3 31\"></td><td class=\"xn\" title=\"4 31\">2870.0</td><td class=\"\" title=\"5 31\"></td><td class=\"xn\" title=\"6 31\">131.87219786023562</td><td class=\"\" title=\"7 31\"></td><td class=\"xn\" title=\"8 31\">1719.6416202637809</td><td class=\"\" title=\"9 31\"></td><td class=\"xn\" title=\"10 31\">1555.0671662863028</td><td class=\"\" title=\"11 31\"></td><td class=\"xn\" title=\"12 31\">234.62413743930142</td><td class=\"\" title=\"13 31\"></td><td class=\"xn\" title=\"14 31\">1322.5954737090178</td><td class=\"\" title=\"15 31\"></td><td class=\"xn\" title=\"16 31\">247.62524049759855</td><td class=\"\" title=\"17 31\"></td><td class=\"\" title=\"18 31\"></td><td class=\"\" title=\"19 31\"></td><td class=\"\" title=\"20 31\"></td><td class=\"\" title=\"21 31\"></td><td class=\"\" title=\"22 31\"></td><td class=\"\" title=\"23 31\"></td><td class=\"\" title=\"24 31\"></td></tr>\n",
       "<tr><td class=\"\" title=\"0 32\"></td><td class=\"\" title=\"1 32\">Mar</td><td class=\"xn\" title=\"2 32\">2351.70999368247</td><td class=\"\" title=\"3 32\"></td><td class=\"xn\" title=\"4 32\">2800.0</td><td class=\"\" title=\"5 32\"></td><td class=\"xn\" title=\"6 32\">217.4916829722314</td><td class=\"\" title=\"7 32\"></td><td class=\"xn\" title=\"8 32\">1851.9496266349404</td><td class=\"\" title=\"9 32\"></td><td class=\"xn\" title=\"10 32\">1673.103907208239</td><td class=\"\" title=\"11 32\"></td><td class=\"xn\" title=\"12 32\">317.54416643491965</td><td class=\"\" title=\"13 32\"></td><td class=\"xn\" title=\"14 32\">1353.5498482951725</td><td class=\"\" title=\"15 32\"></td><td class=\"xn\" title=\"16 32\">282.26868407529844</td><td class=\"\" title=\"17 32\"></td><td class=\"\" title=\"18 32\"></td><td class=\"\" title=\"19 32\"></td><td class=\"\" title=\"20 32\"></td><td class=\"\" title=\"21 32\"></td><td class=\"\" title=\"22 32\"></td><td class=\"\" title=\"23 32\"></td><td class=\"\" title=\"24 32\"></td></tr>\n",
       "<tr><td class=\"\" title=\"0 33\"></td><td class=\"\" title=\"1 33\">Apr</td><td class=\"xn\" title=\"2 33\">2951.504175359555</td><td class=\"\" title=\"3 33\"></td><td class=\"xn\" title=\"4 33\">2840.0</td><td class=\"\" title=\"5 33\"></td><td class=\"xn\" title=\"6 33\">293.2100312423863</td><td class=\"\" title=\"7 33\"></td><td class=\"xn\" title=\"8 33\">2326.2077917252914</td><td class=\"\" title=\"9 33\"></td><td class=\"xn\" title=\"10 33\">2109.5214136550007</td><td class=\"\" title=\"11 33\"></td><td class=\"xn\" title=\"12 33\">277.00093647703983</td><td class=\"\" title=\"13 33\"></td><td class=\"xn\" title=\"14 33\">1832.0746445007096</td><td class=\"\" title=\"15 33\"></td><td class=\"xn\" title=\"16 33\">332.0863523918774</td><td class=\"\" title=\"17 33\"></td><td class=\"\" title=\"18 33\"></td><td class=\"\" title=\"19 33\"></td><td class=\"\" title=\"20 33\"></td><td class=\"\" title=\"21 33\"></td><td class=\"\" title=\"22 33\"></td><td class=\"\" title=\"23 33\"></td><td class=\"\" title=\"24 33\"></td></tr>\n",
       "<tr><td class=\"\" title=\"0 34\"></td><td class=\"\" title=\"1 34\">May</td><td class=\"xn\" title=\"2 34\">3273.601899274044</td><td class=\"\" title=\"3 34\"></td><td class=\"xn\" title=\"4 34\">2870.0</td><td class=\"\" title=\"5 34\"></td><td class=\"xn\" title=\"6 34\">398.72435128417493</td><td class=\"\" title=\"7 34\"></td><td class=\"xn\" title=\"8 34\">2399.003625209407</td><td class=\"\" title=\"9 34\"></td><td class=\"xn\" title=\"10 34\">2161.0057844830167</td><td class=\"\" title=\"11 34\"></td><td class=\"xn\" title=\"12 34\">317.083786274468</td><td class=\"\" title=\"13 34\"></td><td class=\"xn\" title=\"14 34\">1844.7375702813704</td><td class=\"\" title=\"15 34\"></td><td class=\"xn\" title=\"16 34\">475.87392278046235</td><td class=\"\" title=\"17 34\"></td><td class=\"\" title=\"18 34\"></td><td class=\"\" title=\"19 34\"></td><td class=\"\" title=\"20 34\"></td><td class=\"\" title=\"21 34\"></td><td class=\"\" title=\"22 34\"></td><td class=\"\" title=\"23 34\"></td><td class=\"\" title=\"24 34\"></td></tr>\n",
       "<tr><td class=\"\" title=\"0 35\"></td><td class=\"\" title=\"1 35\">June</td><td class=\"xn\" title=\"2 35\">3263.8538493664123</td><td class=\"\" title=\"3 35\"></td><td class=\"xn\" title=\"4 35\">3040.0</td><td class=\"\" title=\"5 35\"></td><td class=\"xn\" title=\"6 35\">410.09904847343796</td><td class=\"\" title=\"7 35\"></td><td class=\"xn\" title=\"8 35\">2307.9879270653137</td><td class=\"\" title=\"9 35\"></td><td class=\"xn\" title=\"10 35\">2077.4102678619906</td><td class=\"\" title=\"11 35\"></td><td class=\"xn\" title=\"12 35\">274.59964224849176</td><td class=\"\" title=\"13 35\"></td><td class=\"xn\" title=\"14 35\">1802.4408862179203</td><td class=\"\" title=\"15 35\"></td><td class=\"xn\" title=\"16 35\">545.7668738276607</td><td class=\"\" title=\"17 35\"></td><td class=\"\" title=\"18 35\"></td><td class=\"\" title=\"19 35\"></td><td class=\"\" title=\"20 35\"></td><td class=\"\" title=\"21 35\"></td><td class=\"\" title=\"22 35\"></td><td class=\"\" title=\"23 35\"></td><td class=\"\" title=\"24 35\"></td></tr>\n",
       "<tr><td class=\"\" title=\"0 36\"></td><td class=\"\" title=\"1 36\">July</td><td class=\"xn\" title=\"2 36\">3469.693196632233</td><td class=\"\" title=\"3 36\"></td><td class=\"xn\" title=\"4 36\">2820.0</td><td class=\"\" title=\"5 36\"></td><td class=\"xn\" title=\"6 36\">424.5717911379167</td><td class=\"\" title=\"7 36\"></td><td class=\"xn\" title=\"8 36\">2350.3124815155293</td><td class=\"\" title=\"9 36\"></td><td class=\"xn\" title=\"10 36\">2124.672429883982</td><td class=\"\" title=\"11 36\"></td><td class=\"xn\" title=\"12 36\">280.0102516227539</td><td class=\"\" title=\"13 36\"></td><td class=\"xn\" title=\"14 36\">1844.5429095589204</td><td class=\"\" title=\"15 36\"></td><td class=\"xn\" title=\"16 36\">694.8089239787872</td><td class=\"\" title=\"17 36\"></td><td class=\"\" title=\"18 36\"></td><td class=\"\" title=\"19 36\"></td><td class=\"\" title=\"20 36\"></td><td class=\"\" title=\"21 36\"></td><td class=\"\" title=\"22 36\"></td><td class=\"\" title=\"23 36\"></td><td class=\"\" title=\"24 36\"></td></tr>\n",
       "<tr><td class=\"\" title=\"0 37\"></td><td class=\"\" title=\"1 37\">Aug</td><td class=\"xn\" title=\"2 37\">3575.6581001982763</td><td class=\"\" title=\"3 37\"></td><td class=\"xn\" title=\"4 37\">2880.0</td><td class=\"\" title=\"5 37\"></td><td class=\"xn\" title=\"6 37\">408.798717794403</td><td class=\"\" title=\"7 37\"></td><td class=\"xn\" title=\"8 37\">2473.554049654368</td><td class=\"\" title=\"9 37\"></td><td class=\"xn\" title=\"10 37\">2248.818524192416</td><td class=\"\" title=\"11 37\"></td><td class=\"xn\" title=\"12 37\">278.9565925550314</td><td class=\"\" title=\"13 37\"></td><td class=\"xn\" title=\"14 37\">1969.563239912986</td><td class=\"\" title=\"15 37\"></td><td class=\"xn\" title=\"16 37\">693.3053327495054</td><td class=\"\" title=\"17 37\"></td><td class=\"\" title=\"18 37\"></td><td class=\"\" title=\"19 37\"></td><td class=\"\" title=\"20 37\"></td><td class=\"\" title=\"21 37\"></td><td class=\"\" title=\"22 37\"></td><td class=\"\" title=\"23 37\"></td><td class=\"\" title=\"24 37\"></td></tr>\n",
       "<tr><td class=\"\" title=\"0 38\"></td><td class=\"\" title=\"1 38\">Sept</td><td class=\"xn\" title=\"2 38\">2983.684065169517</td><td class=\"\" title=\"3 38\"></td><td class=\"xn\" title=\"4 38\">2900.0</td><td class=\"\" title=\"5 38\"></td><td class=\"xn\" title=\"6 38\">413.2624440676789</td><td class=\"\" title=\"7 38\"></td><td class=\"xn\" title=\"8 38\">1976.4710698301285</td><td class=\"\" title=\"9 38\"></td><td class=\"xn\" title=\"10 38\">1781.476515923624</td><td class=\"\" title=\"11 38\"></td><td class=\"xn\" title=\"12 38\">287.08582582221493</td><td class=\"\" title=\"13 38\"></td><td class=\"xn\" title=\"14 38\">1494.8086505281087</td><td class=\"\" title=\"15 38\"></td><td class=\"xn\" title=\"16 38\">593.9505512717097</td><td class=\"\" title=\"17 38\"></td><td class=\"\" title=\"18 38\"></td><td class=\"\" title=\"19 38\"></td><td class=\"\" title=\"20 38\"></td><td class=\"\" title=\"21 38\"></td><td class=\"\" title=\"22 38\"></td><td class=\"\" title=\"23 38\"></td><td class=\"\" title=\"24 38\"></td></tr>\n",
       "<tr><td class=\"\" title=\"0 39\"></td><td class=\"\" title=\"1 39\">Oct</td><td class=\"xn\" title=\"2 39\">3008.2505056177833</td><td class=\"\" title=\"3 39\"></td><td class=\"xn\" title=\"4 39\">2850.0</td><td class=\"\" title=\"5 39\"></td><td class=\"xn\" title=\"6 39\">326.2829997459372</td><td class=\"\" title=\"7 39\"></td><td class=\"xn\" title=\"8 39\">2254.5692240118005</td><td class=\"\" title=\"9 39\"></td><td class=\"xn\" title=\"10 39\">2045.9810956982146</td><td class=\"\" title=\"11 39\"></td><td class=\"xn\" title=\"12 39\">368.9459198179362</td><td class=\"\" title=\"13 39\"></td><td class=\"xn\" title=\"14 39\">1676.9308966984615</td><td class=\"\" title=\"15 39\"></td><td class=\"xn\" title=\"16 39\">427.3982818600456</td><td class=\"\" title=\"17 39\"></td><td class=\"\" title=\"18 39\"></td><td class=\"\" title=\"19 39\"></td><td class=\"\" title=\"20 39\"></td><td class=\"\" title=\"21 39\"></td><td class=\"\" title=\"22 39\"></td><td class=\"\" title=\"23 39\"></td><td class=\"\" title=\"24 39\"></td></tr>\n",
       "<tr><td class=\"\" title=\"0 40\"></td><td class=\"\" title=\"1 40\">Nov</td><td class=\"xn\" title=\"2 40\">2624.5568807232503</td><td class=\"\" title=\"3 40\"></td><td class=\"xn\" title=\"4 40\">2860.0</td><td class=\"\" title=\"5 40\"></td><td class=\"xn\" title=\"6 40\">192.27553206628346</td><td class=\"\" title=\"7 40\"></td><td class=\"xn\" title=\"8 40\">2155.7979615710683</td><td class=\"\" title=\"9 40\"></td><td class=\"xn\" title=\"10 40\">1924.497538082707</td><td class=\"\" title=\"11 40\"></td><td class=\"xn\" title=\"12 40\">329.6980395744182</td><td class=\"\" title=\"13 40\"></td><td class=\"xn\" title=\"14 40\">1593.8010041947796</td><td class=\"\" title=\"15 40\"></td><td class=\"xn\" title=\"16 40\">276.48338708589836</td><td class=\"\" title=\"17 40\"></td><td class=\"\" title=\"18 40\"></td><td class=\"\" title=\"19 40\"></td><td class=\"\" title=\"20 40\"></td><td class=\"\" title=\"21 40\"></td><td class=\"\" title=\"22 40\"></td><td class=\"\" title=\"23 40\"></td><td class=\"\" title=\"24 40\"></td></tr>\n",
       "<tr><td class=\"\" title=\"0 41\"></td><td class=\"\" title=\"1 41\">Dec</td><td class=\"xn\" title=\"2 41\">2416.69782865895</td><td class=\"\" title=\"3 41\"></td><td class=\"xn\" title=\"4 41\">2800.0</td><td class=\"\" title=\"5 41\"></td><td class=\"xn\" title=\"6 41\">196.52265318777918</td><td class=\"\" title=\"7 41\"></td><td class=\"xn\" title=\"8 41\">1887.495428417113</td><td class=\"\" title=\"9 41\"></td><td class=\"xn\" title=\"10 41\">1711.5548632190514</td><td class=\"\" title=\"11 41\"></td><td class=\"xn\" title=\"12 41\">331.55836560764465</td><td class=\"\" title=\"13 41\"></td><td class=\"xn\" title=\"14 41\">1381.099271106738</td><td class=\"\" title=\"15 41\"></td><td class=\"xn\" title=\"16 41\">332.6797470540577</td><td class=\"\" title=\"17 41\"></td><td class=\"\" title=\"18 41\"></td><td class=\"\" title=\"19 41\"></td><td class=\"\" title=\"20 41\"></td><td class=\"\" title=\"21 41\"></td><td class=\"\" title=\"22 41\"></td><td class=\"\" title=\"23 41\"></td><td class=\"\" title=\"24 41\"></td></tr>\n",
       "<tr><td class=\"xn\" title=\"0 42\">2015.0</td><td class=\"\" title=\"1 42\">Jan†</td><td class=\"xn\" title=\"2 42\">2391.6466473847067</td><td class=\"\" title=\"3 42\"></td><td class=\"xn\" title=\"4 42\">2820.0</td><td class=\"\" title=\"5 42\"></td><td class=\"xn\" title=\"6 42\">208.43323451002772</td><td class=\"\" title=\"7 42\"></td><td class=\"xn\" title=\"8 42\">1766.200849496862</td><td class=\"\" title=\"9 42\"></td><td class=\"xn\" title=\"10 42\">1607.8607192809181</td><td class=\"\" title=\"11 42\"></td><td class=\"xn\" title=\"12 42\">337.7804852717075</td><td class=\"\" title=\"13 42\"></td><td class=\"xn\" title=\"14 42\">1271.7013809001076</td><td class=\"\" title=\"15 42\"></td><td class=\"xn\" title=\"16 42\">417.01256337781723</td><td class=\"\" title=\"17 42\"></td><td class=\"\" title=\"18 42\"></td><td class=\"\" title=\"19 42\"></td><td class=\"\" title=\"20 42\"></td><td class=\"\" title=\"21 42\"></td><td class=\"\" title=\"22 42\"></td><td class=\"\" title=\"23 42\"></td><td class=\"\" title=\"24 42\"></td></tr>\n",
       "<tr><td class=\"\" title=\"0 43\"></td><td class=\"\" title=\"1 43\">Feb</td><td class=\"xn\" title=\"2 43\">2077.378332895147</td><td class=\"\" title=\"3 43\"></td><td class=\"xn\" title=\"4 43\">2890.0</td><td class=\"\" title=\"5 43\"></td><td class=\"xn\" title=\"6 43\">159.68289026327463</td><td class=\"\" title=\"7 43\"></td><td class=\"xn\" title=\"8 43\">1656.5946670355054</td><td class=\"\" title=\"9 43\"></td><td class=\"xn\" title=\"10 43\">1508.9673301012047</td><td class=\"\" title=\"11 43\"></td><td class=\"xn\" title=\"12 43\">306.90466544826177</td><td class=\"\" title=\"13 43\"></td><td class=\"xn\" title=\"14 43\">1202.9978038575432</td><td class=\"\" title=\"15 43\"></td><td class=\"xn\" title=\"16 43\">261.1007755963672</td><td class=\"\" title=\"17 43\"></td><td class=\"\" title=\"18 43\"></td><td class=\"\" title=\"19 43\"></td><td class=\"\" title=\"20 43\"></td><td class=\"\" title=\"21 43\"></td><td class=\"\" title=\"22 43\"></td><td class=\"\" title=\"23 43\"></td><td class=\"\" title=\"24 43\"></td></tr>\n",
       "<tr><td class=\"\" title=\"0 44\"></td><td class=\"\" title=\"1 44\">Mar</td><td class=\"xn\" title=\"2 44\">2406.1218677201455</td><td class=\"\" title=\"3 44\"></td><td class=\"xn\" title=\"4 44\">2840.0</td><td class=\"\" title=\"5 44\"></td><td class=\"xn\" title=\"6 44\">215.68780422669732</td><td class=\"\" title=\"7 44\"></td><td class=\"xn\" title=\"8 44\">1921.8955274676332</td><td class=\"\" title=\"9 44\"></td><td class=\"xn\" title=\"10 44\">1769.3665696178796</td><td class=\"\" title=\"11 44\"></td><td class=\"xn\" title=\"12 44\">296.93920228003077</td><td class=\"\" title=\"13 44\"></td><td class=\"xn\" title=\"14 44\">1469.8710812423503</td><td class=\"\" title=\"15 44\"></td><td class=\"xn\" title=\"16 44\">268.5385360258153</td><td class=\"\" title=\"17 44\"></td><td class=\"\" title=\"18 44\"></td><td class=\"\" title=\"19 44\"></td><td class=\"\" title=\"20 44\"></td><td class=\"\" title=\"21 44\"></td><td class=\"\" title=\"22 44\"></td><td class=\"\" title=\"23 44\"></td><td class=\"\" title=\"24 44\"></td></tr>\n",
       "<tr><td class=\"\" title=\"0 45\"></td><td class=\"\" title=\"1 45\">Apr¹</td><td class=\"xn\" title=\"2 45\">3140.0</td><td class=\"\" title=\"3 45\"></td><td class=\"xn\" title=\"4 45\">3040.0</td><td class=\"\" title=\"5 45\"></td><td class=\"xn\" title=\"6 45\">250.0</td><td class=\"\" title=\"7 45\"></td><td class=\"xn\" title=\"8 45\">2550.0</td><td class=\"\" title=\"9 45\"></td><td class=\"xn\" title=\"10 45\">2360.0</td><td class=\"\" title=\"11 45\"></td><td class=\"xn\" title=\"12 45\">310.0</td><td class=\"\" title=\"13 45\"></td><td class=\"xn\" title=\"14 45\">2040.0</td><td class=\"\" title=\"15 45\"></td><td class=\"xn\" title=\"16 45\">340.0</td><td class=\"\" title=\"17 45\"></td><td class=\"\" title=\"18 45\"></td><td class=\"\" title=\"19 45\"></td><td class=\"\" title=\"20 45\"></td><td class=\"\" title=\"21 45\"></td><td class=\"\" title=\"22 45\"></td><td class=\"\" title=\"23 45\"></td><td class=\"\" title=\"24 45\"></td></tr>\n",
       "<tr><td class=\"\" title=\"0 46\"></td><td class=\"\" title=\"1 46\">May¹</td><td class=\"xn\" title=\"2 46\">3560.0</td><td class=\"\" title=\"3 46\"></td><td class=\"xn\" title=\"4 46\">3120.0</td><td class=\"\" title=\"5 46\"></td><td class=\"xn\" title=\"6 46\">430.0</td><td class=\"\" title=\"7 46\"></td><td class=\"xn\" title=\"8 46\">2660.0</td><td class=\"\" title=\"9 46\"></td><td class=\"xn\" title=\"10 46\">2460.0</td><td class=\"\" title=\"11 46\"></td><td class=\"xn\" title=\"12 46\">450.0</td><td class=\"\" title=\"13 46\"></td><td class=\"xn\" title=\"14 46\">2010.0</td><td class=\"\" title=\"15 46\"></td><td class=\"xn\" title=\"16 46\">470.0</td><td class=\"\" title=\"17 46\"></td><td class=\"\" title=\"18 46\"></td><td class=\"\" title=\"19 46\"></td><td class=\"\" title=\"20 46\"></td><td class=\"\" title=\"21 46\"></td><td class=\"\" title=\"22 46\"></td><td class=\"\" title=\"23 46\"></td><td class=\"\" title=\"24 46\"></td></tr>\n",
       "<tr><td class=\"\" title=\"0 47\"></td><td class=\"\" title=\"1 47\">June¹</td><td class=\"xn\" title=\"2 47\">3230.0</td><td class=\"\" title=\"3 47\"></td><td class=\"xn\" title=\"4 47\">3010.0</td><td class=\"\" title=\"5 47\"></td><td class=\"xn\" title=\"6 47\">470.0</td><td class=\"\" title=\"7 47\"></td><td class=\"xn\" title=\"8 47\">2260.0</td><td class=\"\" title=\"9 47\"></td><td class=\"xn\" title=\"10 47\">2080.0</td><td class=\"\" title=\"11 47\"></td><td class=\"xn\" title=\"12 47\">280.0</td><td class=\"\" title=\"13 47\"></td><td class=\"xn\" title=\"14 47\">1800.0</td><td class=\"\" title=\"15 47\"></td><td class=\"xn\" title=\"16 47\">510.0</td><td class=\"\" title=\"17 47\"></td><td class=\"\" title=\"18 47\"></td><td class=\"\" title=\"19 47\"></td><td class=\"\" title=\"20 47\"></td><td class=\"\" title=\"21 47\"></td><td class=\"\" title=\"22 47\"></td><td class=\"\" title=\"23 47\"></td><td class=\"\" title=\"24 47\"></td></tr>\n",
       "<tr><td class=\"\" title=\"0 48\"></td><td class=\"\" title=\"1 48\"></td><td class=\"\" title=\"2 48\"></td><td class=\"\" title=\"3 48\"></td><td class=\"\" title=\"4 48\"></td><td class=\"\" title=\"5 48\"></td><td class=\"\" title=\"6 48\"></td><td class=\"\" title=\"7 48\"></td><td class=\"\" title=\"8 48\"></td><td class=\"\" title=\"9 48\"></td><td class=\"\" title=\"10 48\"></td><td class=\"\" title=\"11 48\"></td><td class=\"\" title=\"12 48\"></td><td class=\"\" title=\"13 48\"></td><td class=\"\" title=\"14 48\"></td><td class=\"\" title=\"15 48\"></td><td class=\"\" title=\"16 48\"></td><td class=\"\" title=\"17 48\"></td><td class=\"\" title=\"18 48\"></td><td class=\"\" title=\"19 48\"></td><td class=\"\" title=\"20 48\"></td><td class=\"\" title=\"21 48\"></td><td class=\"\" title=\"22 48\"></td><td class=\"\" title=\"23 48\"></td><td class=\"\" title=\"24 48\"></td></tr>\n",
       "<tr><td class=\"\" title=\"0 49\">Latest three months</td><td class=\"\" title=\"1 49\"></td><td class=\"xn\" title=\"2 49\">9930.0</td><td class=\"\" title=\"3 49\"></td><td class=\"xn\" title=\"4 49\">9170.0</td><td class=\"\" title=\"5 49\"></td><td class=\"xn\" title=\"6 49\">1150.0</td><td class=\"\" title=\"7 49\"></td><td class=\"xn\" title=\"8 49\">7470.0</td><td class=\"\" title=\"9 49\"></td><td class=\"xn\" title=\"10 49\">6900.0</td><td class=\"\" title=\"11 49\"></td><td class=\"xn\" title=\"12 49\">1040.0</td><td class=\"\" title=\"13 49\"></td><td class=\"xn\" title=\"14 49\">5850.0</td><td class=\"\" title=\"15 49\"></td><td class=\"xn\" title=\"16 49\">1320.0</td><td class=\"\" title=\"17 49\"></td><td class=\"\" title=\"18 49\"></td><td class=\"\" title=\"19 49\"></td><td class=\"\" title=\"20 49\"></td><td class=\"\" title=\"21 49\"></td><td class=\"\" title=\"22 49\"></td><td class=\"\" title=\"23 49\"></td><td class=\"\" title=\"24 49\"></td></tr>\n",
       "<tr><td class=\"\" title=\"0 50\">% change from year earlier</td><td class=\"\" title=\"1 50\"></td><td class=\"xn\" title=\"2 50\">5.0</td><td class=\"\" title=\"3 50\"></td><td class=\"xn\" title=\"4 50\">5.0</td><td class=\"\" title=\"5 50\"></td><td class=\"xn\" title=\"6 50\">4.0</td><td class=\"\" title=\"7 50\"></td><td class=\"xn\" title=\"8 50\">6.0</td><td class=\"\" title=\"9 50\"></td><td class=\"xn\" title=\"10 50\">9.0</td><td class=\"\" title=\"11 50\"></td><td class=\"xn\" title=\"12 50\">20.0</td><td class=\"\" title=\"13 50\"></td><td class=\"xn\" title=\"14 50\">7.0</td><td class=\"\" title=\"15 50\"></td><td class=\"xn\" title=\"16 50\">-2.0</td><td class=\"\" title=\"17 50\"></td><td class=\"\" title=\"18 50\"></td><td class=\"\" title=\"19 50\"></td><td class=\"\" title=\"20 50\"></td><td class=\"\" title=\"21 50\"></td><td class=\"\" title=\"22 50\"></td><td class=\"\" title=\"23 50\"></td><td class=\"\" title=\"24 50\"></td></tr>\n",
       "<tr><td class=\"\" title=\"0 51\"></td><td class=\"\" title=\"1 51\"></td><td class=\"\" title=\"2 51\"></td><td class=\"\" title=\"3 51\"></td><td class=\"\" title=\"4 51\"></td><td class=\"\" title=\"5 51\"></td><td class=\"\" title=\"6 51\"></td><td class=\"\" title=\"7 51\"></td><td class=\"\" title=\"8 51\"></td><td class=\"\" title=\"9 51\"></td><td class=\"\" title=\"10 51\"></td><td class=\"\" title=\"11 51\"></td><td class=\"\" title=\"12 51\"></td><td class=\"\" title=\"13 51\"></td><td class=\"\" title=\"14 51\"></td><td class=\"\" title=\"15 51\"></td><td class=\"\" title=\"16 51\"></td><td class=\"\" title=\"17 51\"></td><td class=\"\" title=\"18 51\"></td><td class=\"\" title=\"19 51\"></td><td class=\"\" title=\"20 51\"></td><td class=\"\" title=\"21 51\"></td><td class=\"\" title=\"22 51\"></td><td class=\"\" title=\"23 51\"></td><td class=\"\" title=\"24 51\"></td></tr>\n",
       "<tr><td class=\"\" title=\"0 52\">Year to date</td><td class=\"\" title=\"1 52\"></td><td class=\"xn\" title=\"2 52\">16810.0</td><td class=\"\" title=\"3 52\"></td><td class=\"xn\" title=\"4 52\">17720.0</td><td class=\"\" title=\"5 52\"></td><td class=\"xn\" title=\"6 52\">1730.0</td><td class=\"\" title=\"7 52\"></td><td class=\"xn\" title=\"8 52\">12810.0</td><td class=\"\" title=\"9 52\"></td><td class=\"xn\" title=\"10 52\">11790.0</td><td class=\"\" title=\"11 52\"></td><td class=\"xn\" title=\"12 52\">1980.0</td><td class=\"\" title=\"13 52\"></td><td class=\"xn\" title=\"14 52\">9790.0</td><td class=\"\" title=\"15 52\"></td><td class=\"xn\" title=\"16 52\">2270.0</td><td class=\"\" title=\"17 52\"></td><td class=\"\" title=\"18 52\"></td><td class=\"\" title=\"19 52\"></td><td class=\"\" title=\"20 52\"></td><td class=\"\" title=\"21 52\"></td><td class=\"\" title=\"22 52\"></td><td class=\"\" title=\"23 52\"></td><td class=\"\" title=\"24 52\"></td></tr>\n",
       "<tr><td class=\"\" title=\"0 53\">% change from year earlier</td><td class=\"\" title=\"1 53\"></td><td class=\"xn\" title=\"2 53\">3.0</td><td class=\"\" title=\"3 53\"></td><td class=\"xn\" title=\"4 53\">3.0</td><td class=\"\" title=\"5 53\"></td><td class=\"xn\" title=\"6 53\">4.0</td><td class=\"\" title=\"7 53\"></td><td class=\"xn\" title=\"8 53\">4.0</td><td class=\"\" title=\"9 53\"></td><td class=\"xn\" title=\"10 53\">5.0</td><td class=\"\" title=\"11 53\"></td><td class=\"xn\" title=\"12 53\">17.0</td><td class=\"\" title=\"13 53\"></td><td class=\"xn\" title=\"14 53\">3.0</td><td class=\"\" title=\"15 53\"></td><td class=\"xn\" title=\"16 53\">-1.0</td><td class=\"\" title=\"17 53\"></td><td class=\"\" title=\"18 53\"></td><td class=\"\" title=\"19 53\"></td><td class=\"\" title=\"20 53\"></td><td class=\"\" title=\"21 53\"></td><td class=\"\" title=\"22 53\"></td><td class=\"\" title=\"23 53\"></td><td class=\"\" title=\"24 53\"></td></tr>\n",
       "<tr><td class=\"\" title=\"0 54\"></td><td class=\"\" title=\"1 54\"></td><td class=\"\" title=\"2 54\"></td><td class=\"\" title=\"3 54\"></td><td class=\"\" title=\"4 54\"></td><td class=\"\" title=\"5 54\"></td><td class=\"\" title=\"6 54\"></td><td class=\"\" title=\"7 54\"></td><td class=\"\" title=\"8 54\"></td><td class=\"\" title=\"9 54\"></td><td class=\"\" title=\"10 54\"></td><td class=\"\" title=\"11 54\"></td><td class=\"\" title=\"12 54\"></td><td class=\"\" title=\"13 54\"></td><td class=\"\" title=\"14 54\"></td><td class=\"\" title=\"15 54\"></td><td class=\"\" title=\"16 54\"></td><td class=\"\" title=\"17 54\"></td><td class=\"\" title=\"18 54\"></td><td class=\"\" title=\"19 54\"></td><td class=\"\" title=\"20 54\"></td><td class=\"\" title=\"21 54\"></td><td class=\"\" title=\"22 54\"></td><td class=\"\" title=\"23 54\"></td><td class=\"\" title=\"24 54\"></td></tr>\n",
       "<tr><td class=\"\" title=\"0 55\">Latest 12 months</td><td class=\"\" title=\"1 55\"></td><td class=\"xn\" title=\"2 55\">34880.0</td><td class=\"\" title=\"3 55\"></td><td class=\"xn\" title=\"4 55\">34830.0</td><td class=\"\" title=\"5 55\"></td><td class=\"xn\" title=\"6 55\">3700.0</td><td class=\"\" title=\"7 55\"></td><td class=\"xn\" title=\"8 55\">25910.0</td><td class=\"\" title=\"9 55\"></td><td class=\"xn\" title=\"10 55\">23620.0</td><td class=\"\" title=\"11 55\"></td><td class=\"xn\" title=\"12 55\">3860.0</td><td class=\"\" title=\"13 55\"></td><td class=\"xn\" title=\"14 55\">19760.0</td><td class=\"\" title=\"15 55\"></td><td class=\"xn\" title=\"16 55\">5290.0</td><td class=\"\" title=\"17 55\"></td><td class=\"\" title=\"18 55\"></td><td class=\"\" title=\"19 55\"></td><td class=\"\" title=\"20 55\"></td><td class=\"\" title=\"21 55\"></td><td class=\"\" title=\"22 55\"></td><td class=\"\" title=\"23 55\"></td><td class=\"\" title=\"24 55\"></td></tr>\n",
       "<tr><td class=\"\" title=\"0 56\">% change from year earlier</td><td class=\"\" title=\"1 56\"></td><td class=\"xn\" title=\"2 56\">3.0</td><td class=\"\" title=\"3 56\"></td><td class=\"xn\" title=\"4 56\">3.0</td><td class=\"\" title=\"5 56\"></td><td class=\"xn\" title=\"6 56\">3.0</td><td class=\"\" title=\"7 56\"></td><td class=\"xn\" title=\"8 56\">4.0</td><td class=\"\" title=\"9 56\"></td><td class=\"xn\" title=\"10 56\">5.0</td><td class=\"\" title=\"11 56\"></td><td class=\"xn\" title=\"12 56\">14.0</td><td class=\"\" title=\"13 56\"></td><td class=\"xn\" title=\"14 56\">4.0</td><td class=\"\" title=\"15 56\"></td><td class=\"xn\" title=\"16 56\">-2.0</td><td class=\"\" title=\"17 56\"></td><td class=\"\" title=\"18 56\"></td><td class=\"\" title=\"19 56\"></td><td class=\"\" title=\"20 56\"></td><td class=\"\" title=\"21 56\"></td><td class=\"\" title=\"22 56\"></td><td class=\"\" title=\"23 56\"></td><td class=\"\" title=\"24 56\"></td></tr>\n",
       "<tr><td class=\"\" title=\"0 57\"></td><td class=\"\" title=\"1 57\"></td><td class=\"\" title=\"2 57\"></td><td class=\"\" title=\"3 57\"></td><td class=\"\" title=\"4 57\"></td><td class=\"\" title=\"5 57\"></td><td class=\"\" title=\"6 57\"></td><td class=\"\" title=\"7 57\"></td><td class=\"\" title=\"8 57\"></td><td class=\"\" title=\"9 57\"></td><td class=\"\" title=\"10 57\"></td><td class=\"\" title=\"11 57\"></td><td class=\"\" title=\"12 57\"></td><td class=\"\" title=\"13 57\"></td><td class=\"\" title=\"14 57\"></td><td class=\"\" title=\"15 57\"></td><td class=\"\" title=\"16 57\"></td><td class=\"\" title=\"17 57\"></td><td class=\"\" title=\"18 57\"></td><td class=\"\" title=\"19 57\"></td><td class=\"\" title=\"20 57\"></td><td class=\"\" title=\"21 57\"></td><td class=\"\" title=\"22 57\"></td><td class=\"\" title=\"23 57\"></td><td class=\"\" title=\"24 57\"></td></tr>\n",
       "<tr><td class=\"\" title=\"0 58\"></td><td class=\"\" title=\"1 58\"></td><td class=\"\" title=\"2 58\"></td><td class=\"\" title=\"3 58\"></td><td class=\"\" title=\"4 58\"></td><td class=\"\" title=\"5 58\"></td><td class=\"\" title=\"6 58\"></td><td class=\"\" title=\"7 58\"></td><td class=\"\" title=\"8 58\"></td><td class=\"\" title=\"9 58\"></td><td class=\"\" title=\"10 58\"></td><td class=\"\" title=\"11 58\"></td><td class=\"\" title=\"12 58\"></td><td class=\"\" title=\"13 58\"></td><td class=\"\" title=\"14 58\"></td><td class=\"\" title=\"15 58\"></td><td class=\"\" title=\"16 58\"></td><td class=\"\" title=\"17 58\"></td><td class=\"\" title=\"18 58\"></td><td class=\"\" title=\"19 58\"></td><td class=\"\" title=\"20 58\"></td><td class=\"\" title=\"21 58\"></td><td class=\"\" title=\"22 58\"></td><td class=\"\" title=\"23 58\"></td><td class=\"\" title=\"24 58\"></td></tr>\n",
       "<tr><td class=\"\" title=\"0 59\">Source: International Passenger Survey</td><td class=\"\" title=\"1 59\"></td><td class=\"\" title=\"2 59\"></td><td class=\"\" title=\"3 59\"></td><td class=\"\" title=\"4 59\"></td><td class=\"\" title=\"5 59\"></td><td class=\"\" title=\"6 59\"></td><td class=\"\" title=\"7 59\"></td><td class=\"\" title=\"8 59\"></td><td class=\"\" title=\"9 59\"></td><td class=\"\" title=\"10 59\"></td><td class=\"\" title=\"11 59\"></td><td class=\"\" title=\"12 59\"></td><td class=\"\" title=\"13 59\"></td><td class=\"\" title=\"14 59\"></td><td class=\"\" title=\"15 59\"></td><td class=\"\" title=\"16 59\"></td><td class=\"\" title=\"17 59\"></td><td class=\"\" title=\"18 59\"></td><td class=\"\" title=\"19 59\"></td><td class=\"\" title=\"20 59\"></td><td class=\"\" title=\"21 59\"></td><td class=\"\" title=\"22 59\"></td><td class=\"\" title=\"23 59\"></td><td class=\"\" title=\"24 59\"></td></tr>\n",
       "<tr><td class=\"\" title=\"0 60\"></td><td class=\"\" title=\"1 60\"></td><td class=\"\" title=\"2 60\"></td><td class=\"\" title=\"3 60\"></td><td class=\"\" title=\"4 60\"></td><td class=\"\" title=\"5 60\"></td><td class=\"\" title=\"6 60\"></td><td class=\"\" title=\"7 60\"></td><td class=\"\" title=\"8 60\"></td><td class=\"\" title=\"9 60\"></td><td class=\"\" title=\"10 60\"></td><td class=\"\" title=\"11 60\"></td><td class=\"\" title=\"12 60\"></td><td class=\"\" title=\"13 60\"></td><td class=\"\" title=\"14 60\"></td><td class=\"\" title=\"15 60\"></td><td class=\"\" title=\"16 60\"></td><td class=\"\" title=\"17 60\"></td><td class=\"\" title=\"18 60\"></td><td class=\"\" title=\"19 60\"></td><td class=\"\" title=\"20 60\"></td><td class=\"\" title=\"21 60\"></td><td class=\"\" title=\"22 60\"></td><td class=\"\" title=\"23 60\"></td><td class=\"\" title=\"24 60\"></td></tr>\n",
       "<tr><td class=\"\" title=\"0 61\">Note: The European Union categories were updated in July 2013 to facilitate the inclusion of </td><td class=\"\" title=\"1 61\"></td><td class=\"\" title=\"2 61\"></td><td class=\"\" title=\"3 61\"></td><td class=\"\" title=\"4 61\"></td><td class=\"\" title=\"5 61\"></td><td class=\"\" title=\"6 61\"></td><td class=\"\" title=\"7 61\"></td><td class=\"\" title=\"8 61\"></td><td class=\"\" title=\"9 61\"></td><td class=\"\" title=\"10 61\"></td><td class=\"\" title=\"11 61\"></td><td class=\"\" title=\"12 61\"></td><td class=\"\" title=\"13 61\"></td><td class=\"\" title=\"14 61\"></td><td class=\"\" title=\"15 61\"></td><td class=\"\" title=\"16 61\"></td><td class=\"\" title=\"17 61\"></td><td class=\"\" title=\"18 61\"></td><td class=\"\" title=\"19 61\"></td><td class=\"\" title=\"20 61\"></td><td class=\"\" title=\"21 61\"></td><td class=\"\" title=\"22 61\"></td><td class=\"\" title=\"23 61\"></td><td class=\"\" title=\"24 61\"></td></tr>\n",
       "<tr><td class=\"\" title=\"0 62\">Croatia into the European Union from the 1st July, and to enable the inclusion of additional countries in the future.</td><td class=\"\" title=\"1 62\"></td><td class=\"\" title=\"2 62\"></td><td class=\"\" title=\"3 62\"></td><td class=\"\" title=\"4 62\"></td><td class=\"\" title=\"5 62\"></td><td class=\"\" title=\"6 62\"></td><td class=\"\" title=\"7 62\"></td><td class=\"\" title=\"8 62\"></td><td class=\"\" title=\"9 62\"></td><td class=\"\" title=\"10 62\"></td><td class=\"\" title=\"11 62\"></td><td class=\"\" title=\"12 62\"></td><td class=\"\" title=\"13 62\"></td><td class=\"\" title=\"14 62\"></td><td class=\"\" title=\"15 62\"></td><td class=\"\" title=\"16 62\"></td><td class=\"\" title=\"17 62\"></td><td class=\"\" title=\"18 62\"></td><td class=\"\" title=\"19 62\"></td><td class=\"\" title=\"20 62\"></td><td class=\"\" title=\"21 62\"></td><td class=\"\" title=\"22 62\"></td><td class=\"\" title=\"23 62\"></td><td class=\"\" title=\"24 62\"></td></tr>\n",
       "<tr><td class=\"xb\" title=\"0 63\">European Union: Countries that are currently members of the European Union.</td><td class=\"\" title=\"1 63\"></td><td class=\"\" title=\"2 63\"></td><td class=\"\" title=\"3 63\"></td><td class=\"\" title=\"4 63\"></td><td class=\"\" title=\"5 63\"></td><td class=\"\" title=\"6 63\"></td><td class=\"\" title=\"7 63\"></td><td class=\"\" title=\"8 63\"></td><td class=\"\" title=\"9 63\"></td><td class=\"\" title=\"10 63\"></td><td class=\"\" title=\"11 63\"></td><td class=\"\" title=\"12 63\"></td><td class=\"\" title=\"13 63\"></td><td class=\"\" title=\"14 63\"></td><td class=\"\" title=\"15 63\"></td><td class=\"\" title=\"16 63\"></td><td class=\"\" title=\"17 63\"></td><td class=\"\" title=\"18 63\"></td><td class=\"\" title=\"19 63\"></td><td class=\"\" title=\"20 63\"></td><td class=\"\" title=\"21 63\"></td><td class=\"\" title=\"22 63\"></td><td class=\"\" title=\"23 63\"></td><td class=\"\" title=\"24 63\"></td></tr>\n",
       "<tr><td class=\"\" title=\"0 64\">Other EU: Countries that joined the European Union from January 2004 onwards.</td><td class=\"\" title=\"1 64\"></td><td class=\"\" title=\"2 64\"></td><td class=\"\" title=\"3 64\"></td><td class=\"\" title=\"4 64\"></td><td class=\"\" title=\"5 64\"></td><td class=\"\" title=\"6 64\"></td><td class=\"\" title=\"7 64\"></td><td class=\"\" title=\"8 64\"></td><td class=\"\" title=\"9 64\"></td><td class=\"\" title=\"10 64\"></td><td class=\"\" title=\"11 64\"></td><td class=\"\" title=\"12 64\"></td><td class=\"\" title=\"13 64\"></td><td class=\"\" title=\"14 64\"></td><td class=\"\" title=\"15 64\"></td><td class=\"\" title=\"16 64\"></td><td class=\"\" title=\"17 64\"></td><td class=\"\" title=\"18 64\"></td><td class=\"\" title=\"19 64\"></td><td class=\"\" title=\"20 64\"></td><td class=\"\" title=\"21 64\"></td><td class=\"\" title=\"22 64\"></td><td class=\"\" title=\"23 64\"></td><td class=\"\" title=\"24 64\"></td></tr>\n",
       "<tr><td class=\"\" title=\"0 65\">EU15: Countries that joined the European Union before January 2004.</td><td class=\"\" title=\"1 65\"></td><td class=\"\" title=\"2 65\"></td><td class=\"\" title=\"3 65\"></td><td class=\"\" title=\"4 65\"></td><td class=\"\" title=\"5 65\"></td><td class=\"\" title=\"6 65\"></td><td class=\"\" title=\"7 65\"></td><td class=\"\" title=\"8 65\"></td><td class=\"\" title=\"9 65\"></td><td class=\"\" title=\"10 65\"></td><td class=\"\" title=\"11 65\"></td><td class=\"\" title=\"12 65\"></td><td class=\"\" title=\"13 65\"></td><td class=\"\" title=\"14 65\"></td><td class=\"\" title=\"15 65\"></td><td class=\"\" title=\"16 65\"></td><td class=\"\" title=\"17 65\"></td><td class=\"\" title=\"18 65\"></td><td class=\"\" title=\"19 65\"></td><td class=\"\" title=\"20 65\"></td><td class=\"\" title=\"21 65\"></td><td class=\"\" title=\"22 65\"></td><td class=\"\" title=\"23 65\"></td><td class=\"\" title=\"24 65\"></td></tr>\n",
       "<tr><td class=\"\" title=\"0 66\"></td><td class=\"\" title=\"1 66\"></td><td class=\"\" title=\"2 66\"></td><td class=\"\" title=\"3 66\"></td><td class=\"\" title=\"4 66\"></td><td class=\"\" title=\"5 66\"></td><td class=\"\" title=\"6 66\"></td><td class=\"\" title=\"7 66\"></td><td class=\"\" title=\"8 66\"></td><td class=\"\" title=\"9 66\"></td><td class=\"\" title=\"10 66\"></td><td class=\"\" title=\"11 66\"></td><td class=\"\" title=\"12 66\"></td><td class=\"\" title=\"13 66\"></td><td class=\"\" title=\"14 66\"></td><td class=\"\" title=\"15 66\"></td><td class=\"\" title=\"16 66\"></td><td class=\"\" title=\"17 66\"></td><td class=\"\" title=\"18 66\"></td><td class=\"\" title=\"19 66\"></td><td class=\"\" title=\"20 66\"></td><td class=\"\" title=\"21 66\"></td><td class=\"\" title=\"22 66\"></td><td class=\"\" title=\"23 66\"></td><td class=\"\" title=\"24 66\"></td></tr>\n",
       "<tr><td class=\"xb\" title=\"0 67\">Croatia joined the European Union on 1st July 2013 and data relating to Croatia collected from that date onwards has been  </td><td class=\"\" title=\"1 67\"></td><td class=\"\" title=\"2 67\"></td><td class=\"\" title=\"3 67\"></td><td class=\"\" title=\"4 67\"></td><td class=\"\" title=\"5 67\"></td><td class=\"\" title=\"6 67\"></td><td class=\"\" title=\"7 67\"></td><td class=\"\" title=\"8 67\"></td><td class=\"\" title=\"9 67\"></td><td class=\"\" title=\"10 67\"></td><td class=\"\" title=\"11 67\"></td><td class=\"\" title=\"12 67\"></td><td class=\"\" title=\"13 67\"></td><td class=\"\" title=\"14 67\"></td><td class=\"\" title=\"15 67\"></td><td class=\"\" title=\"16 67\"></td><td class=\"\" title=\"17 67\"></td><td class=\"\" title=\"18 67\"></td><td class=\"\" title=\"19 67\"></td><td class=\"\" title=\"20 67\"></td><td class=\"\" title=\"21 67\"></td><td class=\"\" title=\"22 67\"></td><td class=\"\" title=\"23 67\"></td><td class=\"\" title=\"24 67\"></td></tr>\n",
       "<tr><td class=\"xb\" title=\"0 68\">included in the 'European Union', 'Other EU' and 'Europe' categories. Data relating to Croatia collected prior to 1st July 2013 </td><td class=\"\" title=\"1 68\"></td><td class=\"\" title=\"2 68\"></td><td class=\"\" title=\"3 68\"></td><td class=\"\" title=\"4 68\"></td><td class=\"\" title=\"5 68\"></td><td class=\"\" title=\"6 68\"></td><td class=\"\" title=\"7 68\"></td><td class=\"\" title=\"8 68\"></td><td class=\"\" title=\"9 68\"></td><td class=\"\" title=\"10 68\"></td><td class=\"\" title=\"11 68\"></td><td class=\"\" title=\"12 68\"></td><td class=\"\" title=\"13 68\"></td><td class=\"\" title=\"14 68\"></td><td class=\"\" title=\"15 68\"></td><td class=\"\" title=\"16 68\"></td><td class=\"\" title=\"17 68\"></td><td class=\"\" title=\"18 68\"></td><td class=\"\" title=\"19 68\"></td><td class=\"\" title=\"20 68\"></td><td class=\"\" title=\"21 68\"></td><td class=\"\" title=\"22 68\"></td><td class=\"\" title=\"23 68\"></td><td class=\"\" title=\"24 68\"></td></tr>\n",
       "<tr><td class=\"xb\" title=\"0 69\">is included in the 'Europe' category only.</td><td class=\"\" title=\"1 69\"></td><td class=\"\" title=\"2 69\"></td><td class=\"\" title=\"3 69\"></td><td class=\"\" title=\"4 69\"></td><td class=\"\" title=\"5 69\"></td><td class=\"\" title=\"6 69\"></td><td class=\"\" title=\"7 69\"></td><td class=\"\" title=\"8 69\"></td><td class=\"\" title=\"9 69\"></td><td class=\"\" title=\"10 69\"></td><td class=\"\" title=\"11 69\"></td><td class=\"\" title=\"12 69\"></td><td class=\"\" title=\"13 69\"></td><td class=\"\" title=\"14 69\"></td><td class=\"\" title=\"15 69\"></td><td class=\"\" title=\"16 69\"></td><td class=\"\" title=\"17 69\"></td><td class=\"\" title=\"18 69\"></td><td class=\"\" title=\"19 69\"></td><td class=\"\" title=\"20 69\"></td><td class=\"\" title=\"21 69\"></td><td class=\"\" title=\"22 69\"></td><td class=\"\" title=\"23 69\"></td><td class=\"\" title=\"24 69\"></td></tr>\n",
       "<tr><td class=\"\" title=\"0 70\"></td><td class=\"\" title=\"1 70\"></td><td class=\"\" title=\"2 70\"></td><td class=\"\" title=\"3 70\"></td><td class=\"\" title=\"4 70\"></td><td class=\"\" title=\"5 70\"></td><td class=\"\" title=\"6 70\"></td><td class=\"\" title=\"7 70\"></td><td class=\"\" title=\"8 70\"></td><td class=\"\" title=\"9 70\"></td><td class=\"\" title=\"10 70\"></td><td class=\"\" title=\"11 70\"></td><td class=\"\" title=\"12 70\"></td><td class=\"\" title=\"13 70\"></td><td class=\"\" title=\"14 70\"></td><td class=\"\" title=\"15 70\"></td><td class=\"\" title=\"16 70\"></td><td class=\"\" title=\"17 70\"></td><td class=\"\" title=\"18 70\"></td><td class=\"\" title=\"19 70\"></td><td class=\"\" title=\"20 70\"></td><td class=\"\" title=\"21 70\"></td><td class=\"\" title=\"22 70\"></td><td class=\"\" title=\"23 70\"></td><td class=\"\" title=\"24 70\"></td></tr>\n",
       "<tr><td class=\"\" title=\"0 71\">For a full breakdown of these categories see 'Background notes : Geographical areas' in the accompanying statistical bulletin.</td><td class=\"\" title=\"1 71\"></td><td class=\"\" title=\"2 71\"></td><td class=\"\" title=\"3 71\"></td><td class=\"\" title=\"4 71\"></td><td class=\"\" title=\"5 71\"></td><td class=\"\" title=\"6 71\"></td><td class=\"\" title=\"7 71\"></td><td class=\"\" title=\"8 71\"></td><td class=\"\" title=\"9 71\"></td><td class=\"\" title=\"10 71\"></td><td class=\"\" title=\"11 71\"></td><td class=\"\" title=\"12 71\"></td><td class=\"\" title=\"13 71\"></td><td class=\"\" title=\"14 71\"></td><td class=\"\" title=\"15 71\"></td><td class=\"\" title=\"16 71\"></td><td class=\"\" title=\"17 71\"></td><td class=\"\" title=\"18 71\"></td><td class=\"\" title=\"19 71\"></td><td class=\"\" title=\"20 71\"></td><td class=\"\" title=\"21 71\"></td><td class=\"\" title=\"22 71\"></td><td class=\"\" title=\"23 71\"></td><td class=\"\" title=\"24 71\"></td></tr>\n",
       "<tr><td class=\"\" title=\"0 72\"></td><td class=\"\" title=\"1 72\"></td><td class=\"\" title=\"2 72\"></td><td class=\"\" title=\"3 72\"></td><td class=\"\" title=\"4 72\"></td><td class=\"\" title=\"5 72\"></td><td class=\"\" title=\"6 72\"></td><td class=\"\" title=\"7 72\"></td><td class=\"\" title=\"8 72\"></td><td class=\"\" title=\"9 72\"></td><td class=\"\" title=\"10 72\"></td><td class=\"\" title=\"11 72\"></td><td class=\"\" title=\"12 72\"></td><td class=\"\" title=\"13 72\"></td><td class=\"\" title=\"14 72\"></td><td class=\"\" title=\"15 72\"></td><td class=\"\" title=\"16 72\"></td><td class=\"\" title=\"17 72\"></td><td class=\"\" title=\"18 72\"></td><td class=\"\" title=\"19 72\"></td><td class=\"\" title=\"20 72\"></td><td class=\"\" title=\"21 72\"></td><td class=\"\" title=\"22 72\"></td><td class=\"\" title=\"23 72\"></td><td class=\"\" title=\"24 72\"></td></tr>\n",
       "<tr><td class=\"\" title=\"0 73\">                      1          Estimate rounded to nearest 10000</td><td class=\"\" title=\"1 73\"></td><td class=\"\" title=\"2 73\"></td><td class=\"\" title=\"3 73\"></td><td class=\"\" title=\"4 73\"></td><td class=\"\" title=\"5 73\"></td><td class=\"\" title=\"6 73\"></td><td class=\"\" title=\"7 73\"></td><td class=\"\" title=\"8 73\"></td><td class=\"\" title=\"9 73\"></td><td class=\"\" title=\"10 73\"></td><td class=\"\" title=\"11 73\"></td><td class=\"\" title=\"12 73\"></td><td class=\"\" title=\"13 73\"></td><td class=\"\" title=\"14 73\"></td><td class=\"\" title=\"15 73\"></td><td class=\"\" title=\"16 73\"></td><td class=\"\" title=\"17 73\"></td><td class=\"\" title=\"18 73\"></td><td class=\"\" title=\"19 73\"></td><td class=\"\" title=\"20 73\"></td><td class=\"\" title=\"21 73\"></td><td class=\"\" title=\"22 73\"></td><td class=\"\" title=\"23 73\"></td><td class=\"\" title=\"24 73\"></td></tr>\n",
       "<tr><td class=\"\" title=\"0 74\">                      †          point of earliest revision due to the most recent quarterly benchmarking.</td><td class=\"\" title=\"1 74\"></td><td class=\"\" title=\"2 74\"></td><td class=\"\" title=\"3 74\"></td><td class=\"\" title=\"4 74\"></td><td class=\"\" title=\"5 74\"></td><td class=\"\" title=\"6 74\"></td><td class=\"\" title=\"7 74\"></td><td class=\"\" title=\"8 74\"></td><td class=\"\" title=\"9 74\"></td><td class=\"\" title=\"10 74\"></td><td class=\"\" title=\"11 74\"></td><td class=\"\" title=\"12 74\"></td><td class=\"\" title=\"13 74\"></td><td class=\"\" title=\"14 74\"></td><td class=\"\" title=\"15 74\"></td><td class=\"\" title=\"16 74\"></td><td class=\"\" title=\"17 74\"></td><td class=\"\" title=\"18 74\"></td><td class=\"\" title=\"19 74\"></td><td class=\"\" title=\"20 74\"></td><td class=\"\" title=\"21 74\"></td><td class=\"\" title=\"22 74\"></td><td class=\"\" title=\"23 74\"></td><td class=\"\" title=\"24 74\"></td></tr>\n",
       "<tr><td class=\"\" title=\"0 75\">                      NSA   Not seasonally adjusted</td><td class=\"\" title=\"1 75\"></td><td class=\"\" title=\"2 75\"></td><td class=\"\" title=\"3 75\"></td><td class=\"\" title=\"4 75\"></td><td class=\"\" title=\"5 75\"></td><td class=\"\" title=\"6 75\"></td><td class=\"\" title=\"7 75\"></td><td class=\"\" title=\"8 75\"></td><td class=\"\" title=\"9 75\"></td><td class=\"\" title=\"10 75\"></td><td class=\"\" title=\"11 75\"></td><td class=\"\" title=\"12 75\"></td><td class=\"\" title=\"13 75\"></td><td class=\"\" title=\"14 75\"></td><td class=\"\" title=\"15 75\"></td><td class=\"\" title=\"16 75\"></td><td class=\"\" title=\"17 75\"></td><td class=\"\" title=\"18 75\"></td><td class=\"\" title=\"19 75\"></td><td class=\"\" title=\"20 75\"></td><td class=\"\" title=\"21 75\"></td><td class=\"\" title=\"22 75\"></td><td class=\"\" title=\"23 75\"></td><td class=\"\" title=\"24 75\"></td></tr>\n",
       "<tr><td class=\"\" title=\"0 76\">                      SA      Seasonally adjusted</td><td class=\"\" title=\"1 76\"></td><td class=\"\" title=\"2 76\"></td><td class=\"\" title=\"3 76\"></td><td class=\"\" title=\"4 76\"></td><td class=\"\" title=\"5 76\"></td><td class=\"\" title=\"6 76\"></td><td class=\"\" title=\"7 76\"></td><td class=\"\" title=\"8 76\"></td><td class=\"\" title=\"9 76\"></td><td class=\"\" title=\"10 76\"></td><td class=\"\" title=\"11 76\"></td><td class=\"\" title=\"12 76\"></td><td class=\"\" title=\"13 76\"></td><td class=\"\" title=\"14 76\"></td><td class=\"\" title=\"15 76\"></td><td class=\"\" title=\"16 76\"></td><td class=\"\" title=\"17 76\"></td><td class=\"\" title=\"18 76\"></td><td class=\"\" title=\"19 76\"></td><td class=\"\" title=\"20 76\"></td><td class=\"\" title=\"21 76\"></td><td class=\"\" title=\"22 76\"></td><td class=\"\" title=\"23 76\"></td><td class=\"\" title=\"24 76\"></td></tr>\n",
       "</table>\n",
       "\n",
       "</div>\n"
      ],
      "text/plain": [
       "<IPython.core.display.HTML object>"
      ]
     },
     "metadata": {},
     "output_type": "display_data"
    }
   ],
   "source": [
    "savepreviewhtml(tabs[1])"
   ]
  },
  {
   "cell_type": "code",
   "execution_count": 2,
   "metadata": {
    "collapsed": false
   },
   "outputs": [
    {
     "name": "stdout",
     "output_type": "stream",
     "text": [
      "<class 'databaker.jupybakeutils.HDim'>\n"
     ]
    },
    {
     "data": {
      "text/plain": [
       "\"TIMEUNIT='Year'\""
      ]
     },
     "execution_count": 2,
     "metadata": {},
     "output_type": "execute_result"
    }
   ],
   "source": [
    "r1 = tab.excel_ref('B3').expand(RIGHT)\n",
    "r2 = tab.excel_ref('A3').fill(DOWN)\n",
    "obs = tab.excel_ref('B4').expand(DOWN).expand(RIGHT).is_not_blank().is_not_whitespace()\n",
    "\n",
    "h1 = HDim(r1, \"Vehicles\", DIRECTLY, ABOVE) \n",
    "b4cell = tab.excel_ref('B4')._cell\n",
    "print(type(h1))\n",
    "h1.cellvalueoverride[b4cell] = \"Clouds\"\n",
    "\n",
    "dimensions = [ \n",
    "    HDim(tab.excel_ref('B1'), TIME, CLOSEST, ABOVE), \n",
    "    h1, \n",
    "    HDim(r2, \"Name\", DIRECTLY, LEFT), \n",
    "    HDimConst(\"Category\", \"Beatles\")\n",
    "]\n",
    "c1 = ConversionSegment(tab, dimensions, obs)\n",
    "c1.process()\n",
    "# make a second conversion segment??"
   ]
  },
  {
   "cell_type": "code",
   "execution_count": 3,
   "metadata": {
    "collapsed": false
   },
   "outputs": [
    {
     "name": "stdout",
     "output_type": "stream",
     "text": [
      "Conversion seg 0 error: Unmatched new values in segment {('2.0', 'John', 'Clouds', '2014')}\n",
      "Conversion seg 0 error: Unmatched extra values in wda file {('2.0', 'John', 'Cars', '2014')}\n"
     ]
    },
    {
     "data": {
      "text/plain": [
       "{0: [('NEWVALUESINSEGMENT', {('2.0', 'John', 'Clouds', '2014')}),\n",
       "  ('WDAEXTRAVALUES', {('2.0', 'John', 'Cars', '2014')})]}"
      ]
     },
     "execution_count": 3,
     "metadata": {},
     "output_type": "execute_result"
    }
   ],
   "source": [
    "CompareConversionSegments(c1, \"DDex.csv\", True)"
   ]
  },
  {
   "cell_type": "code",
   "execution_count": 4,
   "metadata": {
    "collapsed": false
   },
   "outputs": [],
   "source": [
    "#c1.processedrows[3]"
   ]
  },
  {
   "cell_type": "code",
   "execution_count": 5,
   "metadata": {
    "collapsed": false
   },
   "outputs": [
    {
     "data": {
      "text/plain": [
       "(False, 2745, 2757)"
      ]
     },
     "execution_count": 5,
     "metadata": {},
     "output_type": "execute_result"
    }
   ],
   "source": [
    "x, Lx = writetechnicalCSV(None, c1), LwritetechnicalCSV(None, c1)\n",
    "x == Lx, len(x), len(Lx)"
   ]
  },
  {
   "cell_type": "code",
   "execution_count": 7,
   "metadata": {
    "collapsed": false
   },
   "outputs": [
    {
     "data": {
      "text/plain": [
       "{}"
      ]
     },
     "execution_count": 7,
     "metadata": {},
     "output_type": "execute_result"
    }
   ],
   "source": [
    "def CompareConversionSegments(conversionsegments, wdafile):\n",
    "    if type(conversionsegments) is ConversionSegment:\n",
    "        conversionsegments = [conversionsegments]\n",
    "    \n",
    "    msglistperseg = { }\n",
    "    wdasegs = readtechnicalCSV(wdafile)\n",
    "    extracsegs = [ c  for c in wdasegs.keys()  if not 0<=c<len(conversionsegments) ]\n",
    "    if extracsegs:\n",
    "        msglistperseg[-1] = [ (\"EXTRAWDACONVERSIONSEGMENTS\", extracsegs) ]\n",
    "    for isegmentnumber, conversionsegment in enumerate(conversionsegments):\n",
    "        msglist = [ ]\n",
    "        wdaseg = wdasegs[isegmentnumber]\n",
    "        headers = extraheaderscheck(c1, wdaseg, msglist)\n",
    "        headers = checktheconstantdimensions(c1, headers, wdaseg, msglist)\n",
    "        checksegmentobsvalues(c1.processedrows, headers, wdaseg, msglist)\n",
    "        if msglist:\n",
    "            msglistperseg[isegmentnumber] = msglist\n",
    "    return msglistperseg\n",
    "\n",
    "msglistperseg = CompareConversionSegments(c1, Lx)\n",
    "for isegmentnumber, msglist in msglistperseg.items():\n",
    "    for msg, v in msglist:\n",
    "        warnings.warn(\"Conversion seg %d error: \" % (isegmentnumber, (wdamsgstrings[msg] % v)))\n"
   ]
  },
  {
   "cell_type": "code",
   "execution_count": 9,
   "metadata": {
    "collapsed": false
   },
   "outputs": [
    {
     "name": "stdout",
     "output_type": "stream",
     "text": [
      "writing 1 conversion segments into /home/goatchurch/sensiblecode/quickcode-ons-recipes/helpnotes/DDex.csv\n",
      "conversionwrite segment size 12 table 'beatles; \n"
     ]
    }
   ],
   "source": [
    "LwritetechnicalCSV(\"DDex.csv\", [c1])"
   ]
  },
  {
   "cell_type": "code",
   "execution_count": 8,
   "metadata": {
    "collapsed": false
   },
   "outputs": [
    {
     "name": "stderr",
     "output_type": "stream",
     "text": [
      "/home/goatchurch/sensiblecode/lib/python3.5/site-packages/ipykernel/__main__.py:86: UserWarning: Constant column Category value changed Beatles but was in wda file dBeatles\n"
     ]
    }
   ],
   "source": [
    "import warnings\n",
    "import collections\n",
    "\n",
    "# separated out so we can decide the severity of them before printing them out\n",
    "wdamsgstrings = { \n",
    "    \"WDAHEADERSINCONSISTENT\": \"Inconsistent extra headings headings in segment: %s\", \n",
    "    \"WDAHEADERSMISSING\": \"Extra headings in segment than in wda file: %s\", \n",
    "    \"WDAHEADERSEXTRA\": \"Extra headings in wda file not in segment: %s\", \n",
    "    \"WDACOLUMNNOTCONSTANT\": \"Constant column %s has multiple values: %s\", \n",
    "    \"WDACOLUMNCONSTCHANGED\": \"Constant column %s value changed %s but was in wda file %s\", \n",
    "    \"NEWVALUESINSEGMENT\": \"Unmatched new values in segment %s\", \n",
    "    \"WDAEXTRAVALUES\": \"Unmatched extra values in wda file %s\", \n",
    "    \"WDADUPLICATESMISMATCH\": \"Duplicates mismatche counts %s\", \n",
    "}\n",
    "\n",
    "def headersfromwdasegment(wdaseg, msglist):\n",
    "    derivedheaders = [ OBS ] + (template.SH_Create_ONS_time and [ TIMEUNIT ] or []) + (DATAMARKER and [DATAMARKER] or [])\n",
    "    headersunion = None\n",
    "    headersintersection = None\n",
    "    for wdarow in wdaseg:\n",
    "        ahset = set(k  for k in wdarow.keys()  if k not in derivedheaders)\n",
    "        if headersunion is None:\n",
    "            headersintersection = set(ahset)\n",
    "            headersunion = set(ahset)\n",
    "        else:\n",
    "            headersunion.update(ahset)\n",
    "            headersintersection.intersection_update(ahset)\n",
    "    if headersunion != headersintersection:\n",
    "        msglist.append((\"WDAHEADERSINCONSISTENT\", headersunion.difference(headersintersection)))\n",
    "    return headersintersection\n",
    "\n",
    "def extraheaderscheck(conversionsegment, wdaseg, msglist):\n",
    "    wdaheaders = headersfromwdasegment(wdaseg, msglist)\n",
    "    segmentheaders = set([c.label  for c in conversionsegment.dimensions])\n",
    "    extraheadersinsegment = segmentheaders.difference(wdaheaders)\n",
    "    extraheadersinwdaseg = wdaheaders.difference(segmentheaders)\n",
    "    if extraheadersinsegment:\n",
    "        msglist.append((\"WDAHEADERSMISSING\", extraheadersinsegment))\n",
    "    if extraheadersinwdaseg:\n",
    "        msglist.append((\"WDAHEADERSEXTRA\", extraheadersinwdaseg))\n",
    "    return wdaheaders.intersection(segmentheaders)\n",
    "\n",
    "def checktheconstantdimensions(conversionsegment, headers, wdaseg, msglist):\n",
    "    for dimension in conversionsegment.dimensions:\n",
    "        if dimension.label in headers:\n",
    "            if dimension.hbagset is None:\n",
    "                constval = dimension.cellvalueoverride.get(None)\n",
    "                wdaconst = set(row.get(dimension.label)  for row in wdaseg)\n",
    "                if len(wdaconst) != 1:\n",
    "                    msglist.append((\"WDACOLUMNNOTCONSTANT\", (dimension.label, wdaconst)))\n",
    "                elif constval not in wdaconst:\n",
    "                    msglist.append((\"WDACOLUMNCONSTCHANGED\", (dimension.label, constval, wdaconst.pop())))\n",
    "                headers.remove(dimension.label)\n",
    "    return headers\n",
    "\n",
    "def checkvalues(processedrows, headers, wdaseg, msglist):\n",
    "    oheaders = [OBS]+list(headers)\n",
    "\n",
    "    # produce counts of each element in case there are duplicates (we are not keeping the orders of the lists)\n",
    "    ccounts = collections.Counter(tuple(row.get(h)  for h in oheaders)  for row in processedrows)\n",
    "    wcounts = collections.Counter(tuple(wrow.get(h)  for h in oheaders)  for wrow in wdaseg)\n",
    "    cset = set(ccounts.keys())\n",
    "    wset = set(wcounts.keys())\n",
    "    \n",
    "    cdiffextra = cset.difference(wset)\n",
    "    sdiffextra = wset.difference(cset)\n",
    "    if cdiffextra:\n",
    "        msglist.append((\"NEWVALUESINSEGMENT\", cdiffextra))\n",
    "    if sdiffextra:\n",
    "        msglist.append((\"WDAEXTRAVALUES\", sdiffextra))\n",
    "        \n",
    "    dupmismatch = { }\n",
    "    for s in cset.intersection(wset):\n",
    "        if ccounts[s] != wcounts[s]:\n",
    "            dupmismatch[s] = (ccounts[s], wcounts[s])\n",
    "    if dupmismatch:\n",
    "        msglist.append((\"WDADUPLICATESMISMATCH\", dupmismatch))\n",
    "    \n",
    "        \n",
    "wdaseg = readtechnicalCSV(Lx)[0]\n",
    "msglist = [ ]\n",
    "headers = extraheaderscheck(c1, wdaseg, msglist)\n",
    "headers = checktheconstantdimensions(c1, headers, wdaseg, msglist)\n",
    "checkvalues(c1.processedrows, headers, wdaseg, msglist)\n",
    "for msg, v in msglist:\n",
    "    warnings.warn(wdamsgstrings[msg] % v)\n",
    "    \n",
    "#[dimension.hbagset  for dimension in c1.dimensions]\n"
   ]
  },
  {
   "cell_type": "code",
   "execution_count": 10,
   "metadata": {
    "collapsed": false
   },
   "outputs": [
    {
     "data": {
      "text/plain": [
       "Counter({2: 1, 3: 1, 4: 2, 8: 1})"
      ]
     },
     "execution_count": 10,
     "metadata": {},
     "output_type": "execute_result"
    }
   ],
   "source": [
    "import collections\n",
    "collections.Counter([2,3,4,4,8])"
   ]
  },
  {
   "cell_type": "code",
   "execution_count": 36,
   "metadata": {
    "collapsed": false
   },
   "outputs": [
    {
     "data": {
      "text/plain": [
       "1"
      ]
     },
     "execution_count": 36,
     "metadata": {},
     "output_type": "execute_result"
    }
   ],
   "source": [
    "additionalheaders = s1pr[0]\n",
    "template.headermeasurementnumvaluesSet\n",
    "\n",
    "template.headermeasurementnumvaluesSet\n",
    "\n",
    "len(s1pr), len(c1pr)\n",
    "1"
   ]
  },
  {
   "cell_type": "code",
   "execution_count": 14,
   "metadata": {
    "collapsed": false
   },
   "outputs": [
    {
     "data": {
      "text/plain": [
       "{-9, -8, -7, -6, -5, -4, -3, -2, -1, 0}"
      ]
     },
     "execution_count": 14,
     "metadata": {},
     "output_type": "execute_result"
    }
   ],
   "source": []
  },
  {
   "cell_type": "code",
   "execution_count": null,
   "metadata": {
    "collapsed": true
   },
   "outputs": [],
   "source": []
  }
 ],
 "metadata": {
  "kernelspec": {
   "display_name": "Python 3",
   "language": "python",
   "name": "python3"
  },
  "language_info": {
   "codemirror_mode": {
    "name": "ipython",
    "version": 3
   },
   "file_extension": ".py",
   "mimetype": "text/x-python",
   "name": "python",
   "nbconvert_exporter": "python",
   "pygments_lexer": "ipython3",
   "version": "3.5.2"
  }
 },
 "nbformat": 4,
 "nbformat_minor": 1
}
