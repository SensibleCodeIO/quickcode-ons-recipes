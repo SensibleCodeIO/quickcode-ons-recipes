{
 "cells": [
  {
   "cell_type": "code",
   "execution_count": 1,
   "metadata": {
    "collapsed": false
   },
   "outputs": [
    {
     "name": "stdout",
     "output_type": "stream",
     "text": [
      "Loading DDexample1.xls which has size 7168 bytes\n",
      "Table names: ['beatles', 'stones']\n"
     ]
    }
   ],
   "source": [
    "# start up again with our simple example\n",
    "from databaker.framework import *\n",
    "tabs = loadxlstabs(\"DDexample1.xls\")\n",
    "tab = tabs[0]  # there is only one table\n",
    "#savepreviewhtml(tabs[0])\n"
   ]
  },
  {
   "cell_type": "code",
   "execution_count": 2,
   "metadata": {
    "collapsed": false
   },
   "outputs": [
    {
     "name": "stdout",
     "output_type": "stream",
     "text": [
      "<class 'databaker.jupybakeutils.HDim'>\n"
     ]
    },
    {
     "data": {
      "text/plain": [
       "\"TIMEUNIT='Year'\""
      ]
     },
     "execution_count": 2,
     "metadata": {},
     "output_type": "execute_result"
    }
   ],
   "source": [
    "r1 = tab.excel_ref('B3').expand(RIGHT)\n",
    "r2 = tab.excel_ref('A3').fill(DOWN)\n",
    "obs = tab.excel_ref('B4').expand(DOWN).expand(RIGHT).is_not_blank().is_not_whitespace()\n",
    "\n",
    "h1 = HDim(r1, \"Vehicles\", DIRECTLY, ABOVE) \n",
    "b4cell = tab.excel_ref('B4')._cell\n",
    "print(type(h1))\n",
    "h1.cellvalueoverride[b4cell] = \"Clouds\"\n",
    "\n",
    "dimensions = [ \n",
    "    HDim(tab.excel_ref('B1'), TIME, CLOSEST, ABOVE), \n",
    "    h1, \n",
    "    HDim(r2, \"Name\", DIRECTLY, LEFT), \n",
    "    HDimConst(\"Category\", \"Beatles\")\n",
    "]\n",
    "c1 = ConversionSegment(tab, dimensions, obs)\n",
    "c1.process()\n",
    "# make a second conversion segment??"
   ]
  },
  {
   "cell_type": "code",
   "execution_count": 3,
   "metadata": {
    "collapsed": false
   },
   "outputs": [
    {
     "name": "stdout",
     "output_type": "stream",
     "text": [
      "Conversion seg 0 error: Unmatched new values in segment {('2.0', 'John', 'Clouds', '2014')}\n",
      "Conversion seg 0 error: Unmatched extra values in wda file {('2.0', 'John', 'Cars', '2014')}\n"
     ]
    },
    {
     "data": {
      "text/plain": [
       "{0: [('NEWVALUESINSEGMENT', {('2.0', 'John', 'Clouds', '2014')}),\n",
       "  ('WDAEXTRAVALUES', {('2.0', 'John', 'Cars', '2014')})]}"
      ]
     },
     "execution_count": 3,
     "metadata": {},
     "output_type": "execute_result"
    }
   ],
   "source": [
    "CompareConversionSegments(c1, \"DDex.csv\", True)"
   ]
  },
  {
   "cell_type": "code",
   "execution_count": 4,
   "metadata": {
    "collapsed": false
   },
   "outputs": [],
   "source": [
    "#c1.processedrows[3]"
   ]
  },
  {
   "cell_type": "code",
   "execution_count": 5,
   "metadata": {
    "collapsed": false
   },
   "outputs": [
    {
     "data": {
      "text/plain": [
       "(False, 2745, 2757)"
      ]
     },
     "execution_count": 5,
     "metadata": {},
     "output_type": "execute_result"
    }
   ],
   "source": [
    "x, Lx = writetechnicalCSV(None, c1), LwritetechnicalCSV(None, c1)\n",
    "x == Lx, len(x), len(Lx)"
   ]
  },
  {
   "cell_type": "code",
   "execution_count": 7,
   "metadata": {
    "collapsed": false
   },
   "outputs": [
    {
     "data": {
      "text/plain": [
       "{}"
      ]
     },
     "execution_count": 7,
     "metadata": {},
     "output_type": "execute_result"
    }
   ],
   "source": [
    "def CompareConversionSegments(conversionsegments, wdafile):\n",
    "    if type(conversionsegments) is ConversionSegment:\n",
    "        conversionsegments = [conversionsegments]\n",
    "    \n",
    "    msglistperseg = { }\n",
    "    wdasegs = readtechnicalCSV(wdafile)\n",
    "    extracsegs = [ c  for c in wdasegs.keys()  if not 0<=c<len(conversionsegments) ]\n",
    "    if extracsegs:\n",
    "        msglistperseg[-1] = [ (\"EXTRAWDACONVERSIONSEGMENTS\", extracsegs) ]\n",
    "    for isegmentnumber, conversionsegment in enumerate(conversionsegments):\n",
    "        msglist = [ ]\n",
    "        wdaseg = wdasegs[isegmentnumber]\n",
    "        headers = extraheaderscheck(c1, wdaseg, msglist)\n",
    "        headers = checktheconstantdimensions(c1, headers, wdaseg, msglist)\n",
    "        checksegmentobsvalues(c1.processedrows, headers, wdaseg, msglist)\n",
    "        if msglist:\n",
    "            msglistperseg[isegmentnumber] = msglist\n",
    "    return msglistperseg\n",
    "\n",
    "msglistperseg = CompareConversionSegments(c1, Lx)\n",
    "for isegmentnumber, msglist in msglistperseg.items():\n",
    "    for msg, v in msglist:\n",
    "        warnings.warn(\"Conversion seg %d error: \" % (isegmentnumber, (wdamsgstrings[msg] % v)))\n"
   ]
  },
  {
   "cell_type": "code",
   "execution_count": 9,
   "metadata": {
    "collapsed": false
   },
   "outputs": [
    {
     "name": "stdout",
     "output_type": "stream",
     "text": [
      "writing 1 conversion segments into /home/goatchurch/sensiblecode/quickcode-ons-recipes/helpnotes/DDex.csv\n",
      "conversionwrite segment size 12 table 'beatles; \n"
     ]
    }
   ],
   "source": [
    "LwritetechnicalCSV(\"DDex.csv\", [c1])"
   ]
  },
  {
   "cell_type": "code",
   "execution_count": 8,
   "metadata": {
    "collapsed": false
   },
   "outputs": [
    {
     "name": "stderr",
     "output_type": "stream",
     "text": [
      "/home/goatchurch/sensiblecode/lib/python3.5/site-packages/ipykernel/__main__.py:86: UserWarning: Constant column Category value changed Beatles but was in wda file dBeatles\n"
     ]
    }
   ],
   "source": [
    "import warnings\n",
    "import collections\n",
    "\n",
    "# separated out so we can decide the severity of them before printing them out\n",
    "wdamsgstrings = { \n",
    "    \"WDAHEADERSINCONSISTENT\": \"Inconsistent extra headings headings in segment: %s\", \n",
    "    \"WDAHEADERSMISSING\": \"Extra headings in segment than in wda file: %s\", \n",
    "    \"WDAHEADERSEXTRA\": \"Extra headings in wda file not in segment: %s\", \n",
    "    \"WDACOLUMNNOTCONSTANT\": \"Constant column %s has multiple values: %s\", \n",
    "    \"WDACOLUMNCONSTCHANGED\": \"Constant column %s value changed %s but was in wda file %s\", \n",
    "    \"NEWVALUESINSEGMENT\": \"Unmatched new values in segment %s\", \n",
    "    \"WDAEXTRAVALUES\": \"Unmatched extra values in wda file %s\", \n",
    "    \"WDADUPLICATESMISMATCH\": \"Duplicates mismatche counts %s\", \n",
    "}\n",
    "\n",
    "def headersfromwdasegment(wdaseg, msglist):\n",
    "    derivedheaders = [ OBS ] + (template.SH_Create_ONS_time and [ TIMEUNIT ] or []) + (DATAMARKER and [DATAMARKER] or [])\n",
    "    headersunion = None\n",
    "    headersintersection = None\n",
    "    for wdarow in wdaseg:\n",
    "        ahset = set(k  for k in wdarow.keys()  if k not in derivedheaders)\n",
    "        if headersunion is None:\n",
    "            headersintersection = set(ahset)\n",
    "            headersunion = set(ahset)\n",
    "        else:\n",
    "            headersunion.update(ahset)\n",
    "            headersintersection.intersection_update(ahset)\n",
    "    if headersunion != headersintersection:\n",
    "        msglist.append((\"WDAHEADERSINCONSISTENT\", headersunion.difference(headersintersection)))\n",
    "    return headersintersection\n",
    "\n",
    "def extraheaderscheck(conversionsegment, wdaseg, msglist):\n",
    "    wdaheaders = headersfromwdasegment(wdaseg, msglist)\n",
    "    segmentheaders = set([c.label  for c in conversionsegment.dimensions])\n",
    "    extraheadersinsegment = segmentheaders.difference(wdaheaders)\n",
    "    extraheadersinwdaseg = wdaheaders.difference(segmentheaders)\n",
    "    if extraheadersinsegment:\n",
    "        msglist.append((\"WDAHEADERSMISSING\", extraheadersinsegment))\n",
    "    if extraheadersinwdaseg:\n",
    "        msglist.append((\"WDAHEADERSEXTRA\", extraheadersinwdaseg))\n",
    "    return wdaheaders.intersection(segmentheaders)\n",
    "\n",
    "def checktheconstantdimensions(conversionsegment, headers, wdaseg, msglist):\n",
    "    for dimension in conversionsegment.dimensions:\n",
    "        if dimension.label in headers:\n",
    "            if dimension.hbagset is None:\n",
    "                constval = dimension.cellvalueoverride.get(None)\n",
    "                wdaconst = set(row.get(dimension.label)  for row in wdaseg)\n",
    "                if len(wdaconst) != 1:\n",
    "                    msglist.append((\"WDACOLUMNNOTCONSTANT\", (dimension.label, wdaconst)))\n",
    "                elif constval not in wdaconst:\n",
    "                    msglist.append((\"WDACOLUMNCONSTCHANGED\", (dimension.label, constval, wdaconst.pop())))\n",
    "                headers.remove(dimension.label)\n",
    "    return headers\n",
    "\n",
    "def checkvalues(processedrows, headers, wdaseg, msglist):\n",
    "    oheaders = [OBS]+list(headers)\n",
    "\n",
    "    # produce counts of each element in case there are duplicates (we are not keeping the orders of the lists)\n",
    "    ccounts = collections.Counter(tuple(row.get(h)  for h in oheaders)  for row in processedrows)\n",
    "    wcounts = collections.Counter(tuple(wrow.get(h)  for h in oheaders)  for wrow in wdaseg)\n",
    "    cset = set(ccounts.keys())\n",
    "    wset = set(wcounts.keys())\n",
    "    \n",
    "    cdiffextra = cset.difference(wset)\n",
    "    sdiffextra = wset.difference(cset)\n",
    "    if cdiffextra:\n",
    "        msglist.append((\"NEWVALUESINSEGMENT\", cdiffextra))\n",
    "    if sdiffextra:\n",
    "        msglist.append((\"WDAEXTRAVALUES\", sdiffextra))\n",
    "        \n",
    "    dupmismatch = { }\n",
    "    for s in cset.intersection(wset):\n",
    "        if ccounts[s] != wcounts[s]:\n",
    "            dupmismatch[s] = (ccounts[s], wcounts[s])\n",
    "    if dupmismatch:\n",
    "        msglist.append((\"WDADUPLICATESMISMATCH\", dupmismatch))\n",
    "    \n",
    "        \n",
    "wdaseg = readtechnicalCSV(Lx)[0]\n",
    "msglist = [ ]\n",
    "headers = extraheaderscheck(c1, wdaseg, msglist)\n",
    "headers = checktheconstantdimensions(c1, headers, wdaseg, msglist)\n",
    "checkvalues(c1.processedrows, headers, wdaseg, msglist)\n",
    "for msg, v in msglist:\n",
    "    warnings.warn(wdamsgstrings[msg] % v)\n",
    "    \n",
    "#[dimension.hbagset  for dimension in c1.dimensions]\n"
   ]
  },
  {
   "cell_type": "code",
   "execution_count": 10,
   "metadata": {
    "collapsed": false
   },
   "outputs": [
    {
     "data": {
      "text/plain": [
       "Counter({2: 1, 3: 1, 4: 2, 8: 1})"
      ]
     },
     "execution_count": 10,
     "metadata": {},
     "output_type": "execute_result"
    }
   ],
   "source": [
    "import collections\n",
    "collections.Counter([2,3,4,4,8])"
   ]
  },
  {
   "cell_type": "code",
   "execution_count": 36,
   "metadata": {
    "collapsed": false
   },
   "outputs": [
    {
     "data": {
      "text/plain": [
       "1"
      ]
     },
     "execution_count": 36,
     "metadata": {},
     "output_type": "execute_result"
    }
   ],
   "source": [
    "additionalheaders = s1pr[0]\n",
    "template.headermeasurementnumvaluesSet\n",
    "\n",
    "template.headermeasurementnumvaluesSet\n",
    "\n",
    "len(s1pr), len(c1pr)\n",
    "1"
   ]
  },
  {
   "cell_type": "code",
   "execution_count": 14,
   "metadata": {
    "collapsed": false
   },
   "outputs": [
    {
     "data": {
      "text/plain": [
       "{-9, -8, -7, -6, -5, -4, -3, -2, -1, 0}"
      ]
     },
     "execution_count": 14,
     "metadata": {},
     "output_type": "execute_result"
    }
   ],
   "source": []
  },
  {
   "cell_type": "code",
   "execution_count": null,
   "metadata": {
    "collapsed": true
   },
   "outputs": [],
   "source": []
  }
 ],
 "metadata": {
  "kernelspec": {
   "display_name": "Python 3",
   "language": "python",
   "name": "python3"
  },
  "language_info": {
   "codemirror_mode": {
    "name": "ipython",
    "version": 3
   },
   "file_extension": ".py",
   "mimetype": "text/x-python",
   "name": "python",
   "nbconvert_exporter": "python",
   "pygments_lexer": "ipython3",
   "version": "3.5.2"
  }
 },
 "nbformat": 4,
 "nbformat_minor": 1
}
