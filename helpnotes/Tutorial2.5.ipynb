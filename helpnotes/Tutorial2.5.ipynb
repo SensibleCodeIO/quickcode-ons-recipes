{
 "cells": [
  {
   "cell_type": "code",
   "execution_count": 2,
   "metadata": {
    "collapsed": false
   },
   "outputs": [
    {
     "ename": "NameError",
     "evalue": "name 'dimension_names' is not defined",
     "output_type": "error",
     "traceback": [
      "\u001b[0;31m---------------------------------------------------------------------------\u001b[0m",
      "\u001b[0;31mImportError\u001b[0m                               Traceback (most recent call last)",
      "\u001b[0;32m/home/goatchurch/sensiblecode/src/databaker/databaker/constants.py\u001b[0m in \u001b[0;36m<module>\u001b[0;34m()\u001b[0m\n\u001b[1;32m      6\u001b[0m \u001b[0;32mtry\u001b[0m\u001b[0;34m:\u001b[0m\u001b[0;34m\u001b[0m\u001b[0m\n\u001b[0;32m----> 7\u001b[0;31m     \u001b[0;32mfrom\u001b[0m \u001b[0mstructure_csv_user\u001b[0m \u001b[0;32mimport\u001b[0m \u001b[0;34m*\u001b[0m\u001b[0;34m\u001b[0m\u001b[0m\n\u001b[0m\u001b[1;32m      8\u001b[0m     \u001b[0;32mimport\u001b[0m \u001b[0mstructure_csv_user\u001b[0m \u001b[0;32mas\u001b[0m \u001b[0mtemplate\u001b[0m\u001b[0;34m\u001b[0m\u001b[0m\n",
      "\u001b[0;31mImportError\u001b[0m: No module named 'structure_csv_user'",
      "\nDuring handling of the above exception, another exception occurred:\n",
      "\u001b[0;31mNameError\u001b[0m                                 Traceback (most recent call last)",
      "\u001b[0;32m<ipython-input-2-91102ef18ff8>\u001b[0m in \u001b[0;36m<module>\u001b[0;34m()\u001b[0m\n\u001b[1;32m      1\u001b[0m \u001b[0;31m# start up again with our simple example\u001b[0m\u001b[0;34m\u001b[0m\u001b[0;34m\u001b[0m\u001b[0m\n\u001b[0;32m----> 2\u001b[0;31m \u001b[0;32mfrom\u001b[0m \u001b[0mdatabaker\u001b[0m\u001b[0;34m.\u001b[0m\u001b[0mframework\u001b[0m \u001b[0;32mimport\u001b[0m \u001b[0;34m*\u001b[0m\u001b[0;34m\u001b[0m\u001b[0m\n\u001b[0m\u001b[1;32m      3\u001b[0m \u001b[0mtabs\u001b[0m \u001b[0;34m=\u001b[0m \u001b[0mloadxlstabs\u001b[0m\u001b[0;34m(\u001b[0m\u001b[0;34m\"example1.xls\"\u001b[0m\u001b[0;34m)\u001b[0m\u001b[0;34m\u001b[0m\u001b[0m\n\u001b[1;32m      4\u001b[0m \u001b[0mtab\u001b[0m \u001b[0;34m=\u001b[0m \u001b[0mtabs\u001b[0m\u001b[0;34m[\u001b[0m\u001b[0;36m0\u001b[0m\u001b[0;34m]\u001b[0m  \u001b[0;31m# there is only one table\u001b[0m\u001b[0;34m\u001b[0m\u001b[0m\n\u001b[1;32m      5\u001b[0m \u001b[0;31m#savepreviewhtml(tabs[0])\u001b[0m\u001b[0;34m\u001b[0m\u001b[0;34m\u001b[0m\u001b[0m\n",
      "\u001b[0;32m/home/goatchurch/sensiblecode/src/databaker/databaker/framework.py\u001b[0m in \u001b[0;36m<module>\u001b[0;34m()\u001b[0m\n\u001b[1;32m      2\u001b[0m \u001b[0;32mimport\u001b[0m \u001b[0mdatabaker\u001b[0m\u001b[0;34m\u001b[0m\u001b[0m\n\u001b[1;32m      3\u001b[0m \u001b[0;32mimport\u001b[0m \u001b[0mos\u001b[0m\u001b[0;34m,\u001b[0m \u001b[0mwarnings\u001b[0m\u001b[0;34m\u001b[0m\u001b[0m\n\u001b[0;32m----> 4\u001b[0;31m \u001b[0;32mimport\u001b[0m \u001b[0mdatabaker\u001b[0m\u001b[0;34m.\u001b[0m\u001b[0mconstants\u001b[0m\u001b[0;34m\u001b[0m\u001b[0m\n\u001b[0m\u001b[1;32m      5\u001b[0m \u001b[0;32mfrom\u001b[0m \u001b[0mdatabaker\u001b[0m\u001b[0;34m.\u001b[0m\u001b[0mconstants\u001b[0m \u001b[0;32mimport\u001b[0m \u001b[0;34m*\u001b[0m      \u001b[0;31m# also brings in template\u001b[0m\u001b[0;34m\u001b[0m\u001b[0m\n\u001b[1;32m      6\u001b[0m \u001b[0;32mimport\u001b[0m \u001b[0mdatabaker\u001b[0m\u001b[0;34m.\u001b[0m\u001b[0mdatabakersolo\u001b[0m \u001b[0;32mas\u001b[0m \u001b[0mds\u001b[0m   \u001b[0;31m# causes the xypath.loader to be overwritten\u001b[0m\u001b[0;34m\u001b[0m\u001b[0m\n",
      "\u001b[0;32m/home/goatchurch/sensiblecode/src/databaker/databaker/constants.py\u001b[0m in \u001b[0;36m<module>\u001b[0;34m()\u001b[0m\n\u001b[1;32m      8\u001b[0m     \u001b[0;32mimport\u001b[0m \u001b[0mstructure_csv_user\u001b[0m \u001b[0;32mas\u001b[0m \u001b[0mtemplate\u001b[0m\u001b[0;34m\u001b[0m\u001b[0m\n\u001b[1;32m      9\u001b[0m \u001b[0;32mexcept\u001b[0m \u001b[0mImportError\u001b[0m\u001b[0;34m:\u001b[0m\u001b[0;34m\u001b[0m\u001b[0m\n\u001b[0;32m---> 10\u001b[0;31m     \u001b[0;32mfrom\u001b[0m \u001b[0;34m.\u001b[0m\u001b[0mstructure_csv_default\u001b[0m \u001b[0;32mimport\u001b[0m \u001b[0;34m*\u001b[0m\u001b[0;34m\u001b[0m\u001b[0m\n\u001b[0m\u001b[1;32m     11\u001b[0m     \u001b[0;32mfrom\u001b[0m \u001b[0;34m.\u001b[0m \u001b[0;32mimport\u001b[0m \u001b[0mstructure_csv_default\u001b[0m \u001b[0;32mas\u001b[0m \u001b[0mtemplate\u001b[0m\u001b[0;34m\u001b[0m\u001b[0m\n\u001b[1;32m     12\u001b[0m \u001b[0;34m\u001b[0m\u001b[0m\n",
      "\u001b[0;32m/home/goatchurch/sensiblecode/src/databaker/databaker/structure_csv_default.py\u001b[0m in \u001b[0;36m<module>\u001b[0;34m()\u001b[0m\n\u001b[1;32m     26\u001b[0m \u001b[0;34m\u001b[0m\u001b[0m\n\u001b[1;32m     27\u001b[0m \u001b[0;31m# this will be using strings instead of numbers soon, which will remove this one dereference and make things more meaningful\u001b[0m\u001b[0;34m\u001b[0m\u001b[0;34m\u001b[0m\u001b[0m\n\u001b[0;32m---> 28\u001b[0;31m \u001b[0mheadermeasurementnumvalues\u001b[0m \u001b[0;34m=\u001b[0m \u001b[0mdict\u001b[0m\u001b[0;34m(\u001b[0m\u001b[0;34m(\u001b[0m\u001b[0mitem\u001b[0m\u001b[0;34m,\u001b[0m \u001b[0;34m-\u001b[0m\u001b[0mi\u001b[0m\u001b[0;34m)\u001b[0m  \u001b[0;32mfor\u001b[0m \u001b[0mi\u001b[0m\u001b[0;34m,\u001b[0m \u001b[0mitem\u001b[0m \u001b[0;32min\u001b[0m \u001b[0menumerate\u001b[0m\u001b[0;34m(\u001b[0m\u001b[0mreversed\u001b[0m\u001b[0;34m(\u001b[0m\u001b[0mdimension_names\u001b[0m\u001b[0;34m)\u001b[0m\u001b[0;34m)\u001b[0m\u001b[0;34m)\u001b[0m\u001b[0;34m\u001b[0m\u001b[0m\n\u001b[0m\u001b[1;32m     29\u001b[0m \u001b[0mexec\u001b[0m\u001b[0;34m(\u001b[0m\u001b[0;34m\"%s = %s\"\u001b[0m \u001b[0;34m%\u001b[0m \u001b[0;34m(\u001b[0m\u001b[0;34m\", \"\u001b[0m\u001b[0;34m.\u001b[0m\u001b[0mjoin\u001b[0m\u001b[0;34m(\u001b[0m\u001b[0mheadermeasurementnumvalues\u001b[0m\u001b[0;34m.\u001b[0m\u001b[0mkeys\u001b[0m\u001b[0;34m(\u001b[0m\u001b[0;34m)\u001b[0m\u001b[0;34m)\u001b[0m\u001b[0;34m,\u001b[0m \u001b[0;34m\", \"\u001b[0m\u001b[0;34m.\u001b[0m\u001b[0mjoin\u001b[0m\u001b[0;34m(\u001b[0m\u001b[0mmap\u001b[0m\u001b[0;34m(\u001b[0m\u001b[0mstr\u001b[0m\u001b[0;34m,\u001b[0m \u001b[0mheadermeasurementnumvalues\u001b[0m\u001b[0;34m.\u001b[0m\u001b[0mvalues\u001b[0m\u001b[0;34m(\u001b[0m\u001b[0;34m)\u001b[0m\u001b[0;34m)\u001b[0m\u001b[0;34m)\u001b[0m\u001b[0;34m)\u001b[0m\u001b[0;34m)\u001b[0m\u001b[0;34m\u001b[0m\u001b[0m\n\u001b[1;32m     30\u001b[0m \u001b[0;34m\u001b[0m\u001b[0m\n",
      "\u001b[0;31mNameError\u001b[0m: name 'dimension_names' is not defined"
     ]
    }
   ],
   "source": [
    "# start up again with our simple example\n",
    "from databaker.framework import *\n",
    "tabs = loadxlstabs(\"example1.xls\")\n",
    "tab = tabs[0]  # there is only one table\n",
    "#savepreviewhtml(tabs[0])\n"
   ]
  },
  {
   "cell_type": "code",
   "execution_count": 1,
   "metadata": {
    "collapsed": false
   },
   "outputs": [
    {
     "ename": "NameError",
     "evalue": "name 'tab' is not defined",
     "output_type": "error",
     "traceback": [
      "\u001b[0;31m---------------------------------------------------------------------------\u001b[0m",
      "\u001b[0;31mNameError\u001b[0m                                 Traceback (most recent call last)",
      "\u001b[0;32m<ipython-input-1-5394bf5a1ce0>\u001b[0m in \u001b[0;36m<module>\u001b[0;34m()\u001b[0m\n\u001b[0;32m----> 1\u001b[0;31m \u001b[0mr1\u001b[0m \u001b[0;34m=\u001b[0m \u001b[0mtab\u001b[0m\u001b[0;34m.\u001b[0m\u001b[0mexcel_ref\u001b[0m\u001b[0;34m(\u001b[0m\u001b[0;34m'B3'\u001b[0m\u001b[0;34m)\u001b[0m\u001b[0;34m.\u001b[0m\u001b[0mexpand\u001b[0m\u001b[0;34m(\u001b[0m\u001b[0mRIGHT\u001b[0m\u001b[0;34m)\u001b[0m\u001b[0;34m\u001b[0m\u001b[0m\n\u001b[0m\u001b[1;32m      2\u001b[0m \u001b[0mr2\u001b[0m \u001b[0;34m=\u001b[0m \u001b[0mtab\u001b[0m\u001b[0;34m.\u001b[0m\u001b[0mexcel_ref\u001b[0m\u001b[0;34m(\u001b[0m\u001b[0;34m'A3'\u001b[0m\u001b[0;34m)\u001b[0m\u001b[0;34m.\u001b[0m\u001b[0mfill\u001b[0m\u001b[0;34m(\u001b[0m\u001b[0mDOWN\u001b[0m\u001b[0;34m)\u001b[0m\u001b[0;34m\u001b[0m\u001b[0m\n\u001b[1;32m      3\u001b[0m \u001b[0mobs\u001b[0m \u001b[0;34m=\u001b[0m \u001b[0mtab\u001b[0m\u001b[0;34m.\u001b[0m\u001b[0mexcel_ref\u001b[0m\u001b[0;34m(\u001b[0m\u001b[0;34m'B4'\u001b[0m\u001b[0;34m)\u001b[0m\u001b[0;34m.\u001b[0m\u001b[0mexpand\u001b[0m\u001b[0;34m(\u001b[0m\u001b[0mDOWN\u001b[0m\u001b[0;34m)\u001b[0m\u001b[0;34m.\u001b[0m\u001b[0mexpand\u001b[0m\u001b[0;34m(\u001b[0m\u001b[0mRIGHT\u001b[0m\u001b[0;34m)\u001b[0m\u001b[0;34m.\u001b[0m\u001b[0mis_not_blank\u001b[0m\u001b[0;34m(\u001b[0m\u001b[0;34m)\u001b[0m\u001b[0;34m.\u001b[0m\u001b[0mis_not_whitespace\u001b[0m\u001b[0;34m(\u001b[0m\u001b[0;34m)\u001b[0m\u001b[0;34m\u001b[0m\u001b[0m\n\u001b[1;32m      4\u001b[0m dimensions = [ \n\u001b[1;32m      5\u001b[0m     \u001b[0mHDim\u001b[0m\u001b[0;34m(\u001b[0m\u001b[0mtab\u001b[0m\u001b[0;34m.\u001b[0m\u001b[0mexcel_ref\u001b[0m\u001b[0;34m(\u001b[0m\u001b[0;34m'B1'\u001b[0m\u001b[0;34m)\u001b[0m\u001b[0;34m,\u001b[0m \u001b[0mTIME\u001b[0m\u001b[0;34m,\u001b[0m \u001b[0mCLOSEST\u001b[0m\u001b[0;34m,\u001b[0m \u001b[0mABOVE\u001b[0m\u001b[0;34m)\u001b[0m\u001b[0;34m,\u001b[0m\u001b[0;34m\u001b[0m\u001b[0m\n",
      "\u001b[0;31mNameError\u001b[0m: name 'tab' is not defined"
     ]
    }
   ],
   "source": [
    "r1 = tab.excel_ref('B3').expand(RIGHT)\n",
    "r2 = tab.excel_ref('A3').fill(DOWN)\n",
    "obs = tab.excel_ref('B4').expand(DOWN).expand(RIGHT).is_not_blank().is_not_whitespace()\n",
    "dimensions = [ \n",
    "    HDim(tab.excel_ref('B1'), TIME, CLOSEST, ABOVE), \n",
    "    HDim(r1, \"Vehicles\", DIRECTLY, ABOVE), \n",
    "    HDim(r2, \"Name\", DIRECTLY, LEFT), \n",
    "    HDimConst(\"Category\", \"Beatles\")\n",
    "]\n",
    "c1 = ConversionSegment(tab, dimensions, obs)\n"
   ]
  },
  {
   "cell_type": "code",
   "execution_count": 3,
   "metadata": {
    "collapsed": false
   },
   "outputs": [],
   "source": [
    "#writetechnicalCSV(None, c1)"
   ]
  },
  {
   "cell_type": "code",
   "execution_count": 33,
   "metadata": {
    "collapsed": false
   },
   "outputs": [],
   "source": [
    "import io, six, csv\n",
    "LAST_METADATA = 0\n",
    "def Lyield_dimension_values(values, headernames):\n",
    "    for dimension in range(OBS, LAST_METADATA + 1):\n",
    "        v = values.get(dimension, \"\")\n",
    "        yield v\n",
    "        if dimension in template.SH_Repeat:         # Calls special handling - repeats\n",
    "            yield v\n",
    "        for i in range(0, template.SKIP_AFTER[dimension]):\n",
    "            yield ''\n",
    "\n",
    "    for dimension in range(1, len(headernames)):\n",
    "        name = headernames[dimension]\n",
    "        value = values[dimension]\n",
    "        topic_headers = template.get_topic_headers(name, value)\n",
    "        for col in topic_headers:\n",
    "            yield col\n",
    "\n",
    "def LDUPgenerate_header_row(headernames):\n",
    "    header_row = template.start.split(',')\n",
    "\n",
    "    # create new header row\n",
    "    for i in range(len(headernames)-1):\n",
    "        header_row.extend(template.repeat.format(num=i+1).split(','))\n",
    "\n",
    "    # overwrite dimensions/subject/name as column header (if requested)\n",
    "    if template.topic_headers_as_dims:\n",
    "        dims = []\n",
    "        for headername in headernames:\n",
    "            dims.append(headername)\n",
    "        header_row = rewrite_headers(header_row, dims)\n",
    "    return header_row\n",
    "\n",
    "def LwritetechnicalCSV(outputfile, conversionsegments):\n",
    "    if type(conversionsegments) is ConversionSegment:\n",
    "        conversionsegments = [conversionsegments]\n",
    "        \n",
    "    if outputfile is not None:\n",
    "        print(\"writing %d conversion segments into %s\" % (len(conversionsegments), os.path.abspath(outputfile)))\n",
    "        filehandle = open(outputfile, \"w\", newline='\\n')\n",
    "    else:\n",
    "        filehandle = io.StringIO()\n",
    "    csv_writer = csv.writer(filehandle)\n",
    "    row_count = 0\n",
    "        \n",
    "    for i, conversionsegment in enumerate(conversionsegments):\n",
    "        headernames = [None]+[dimension.label  for dimension in conversionsegment.dimensions  if type(dimension.label) != int ]\n",
    "        if i == 0:   # only first segment\n",
    "            header_row = LDUPgenerate_header_row(headernames)\n",
    "            csv_writer.writerow(header_row)\n",
    "            \n",
    "        if conversionsegment.processedrows is None: \n",
    "            conversionsegment.process()  \n",
    "            \n",
    "        kdim = dict((dimension.label, dimension)  for dimension in conversionsegment.dimensions)\n",
    "        timeunitmessage = \"\"\n",
    "        if template.SH_Create_ONS_time and ((template.TIMEUNIT not in kdim) and (template.TIME in kdim)):\n",
    "            timeunitmessage = conversionsegment.guesstimeunit()\n",
    "            conversionsegment.fixtimefromtimeunit()\n",
    "        elif template.TIME in kdim and template.TIMEUNIT not in kdim:\n",
    "            conversionsegment.fixtimefromtimeunit()\n",
    "\n",
    "        if outputfile is not None:\n",
    "            print(\"conversionwrite segment size %d table '%s; %s\" % (len(conversionsegment.processedrows), conversionsegment.tab.name, timeunitmessage))\n",
    "        for row in conversionsegment.processedrows:\n",
    "            values = dict((k if type(k)==int else headernames.index(k), v)  for k, v in row.items())\n",
    "            output_row = Lyield_dimension_values(values, headernames)\n",
    "            csv_writer.writerow(output_row)\n",
    "            row_count += 1\n",
    "            \n",
    "    csv_writer.writerow([\"*\"*9, row_count])\n",
    "    if outputfile is not None:\n",
    "        filehandle.close()\n",
    "    else:\n",
    "        return filehandle.getvalue()\n",
    "\n",
    "\n",
    "    \n",
    "    \n",
    "    "
   ]
  },
  {
   "cell_type": "code",
   "execution_count": 34,
   "metadata": {
    "collapsed": false
   },
   "outputs": [
    {
     "data": {
      "text/plain": [
       "(True, 2744, 2744)"
      ]
     },
     "execution_count": 34,
     "metadata": {},
     "output_type": "execute_result"
    }
   ],
   "source": [
    "x, Lx = writetechnicalCSV(None, c1), LwritetechnicalCSV(None, c1)\n",
    "x == Lx, len(x), len(Lx)"
   ]
  },
  {
   "cell_type": "code",
   "execution_count": 35,
   "metadata": {
    "collapsed": false
   },
   "outputs": [
    {
     "data": {
      "text/plain": [
       "'observation,data_marking,statistical_unit_eng,statistical_unit_cym,measure_type_eng,measure_type_cym,observation_type,empty,obs_type_value,unit_multiplier,unit_of_measure_eng,unit_of_measure_cym,confidentuality,empty1,geographic_area,empty2,empty3,time_dim_item_id,time_dim_item_label_eng,time_dim_item_label_cym,time_type,empty4,statistical_population_id,statistical_population_label_eng,statistical_population_label_cym,cdid,cdiddescrip,empty5,empty6,empty7,empty8,empty9,empty10,empty11,empty12,dim_id_1,dimension_label_eng_1,dimension_label_cym_1,dim_item_id_1,dimension_item_label_eng_1,dimension_item_label_cym_1,is_total_1,is_sub_total_1,dim_id_2,dimension_label_eng_2,dimension_label_cym_2,dim_item_id_2,dimension_item_label_eng_2,dimension_item_label_cym_2,is_total_2,is_sub_total_2,dim_id_3,dimension_label_eng_3,dimension_label_cym_3,dim_item_id_3,dimension_item_label_eng_3,dimension_item_label_cym_3,is_total_3,is_sub_total_3\\r\\n2.0,,,,,,,,,,,,,,,,,2014,2014,,Year,,,,,,,,,,,,,,,Vehicles,Vehicles,,Cars,Cars,,,,Name,Name,,John,John,,,,Category,Category,,Beatles,Beatles,,,\\r\\n2.0,,,,,,,,,,,,,,,,,2014,2014,,Year,,,,,,,,,,,,,,,Vehicles,Vehicles,,Planes,Planes,,,,Name,Name,,John,John,,,,Category,Category,,Beatles,Beatles,,,\\r\\n1.0,,,,,,,,,,,,,,,,,2014,2014,,Year,,,,,,,,,,,,,,,Vehicles,Vehicles,,Trains,Trains,,,,Name,Name,,John,John,,,,Category,Category,,Beatles,Beatles,,,\\r\\n3.0,,,,,,,,,,,,,,,,,2014,2014,,Year,,,,,,,,,,,,,,,Vehicles,Vehicles,,Cars,Cars,,,,Name,Name,,Paul,Paul,,,,Category,Category,,Beatles,Beatles,,,\\r\\n3.0,,,,,,,,,,,,,,,,,2014,2014,,Year,,,,,,,,,,,,,,,Vehicles,Vehicles,,Planes,Planes,,,,Name,Name,,Paul,Paul,,,,Category,Category,,Beatles,Beatles,,,\\r\\n2.0,,,,,,,,,,,,,,,,,2014,2014,,Year,,,,,,,,,,,,,,,Vehicles,Vehicles,,Trains,Trains,,,,Name,Name,,Paul,Paul,,,,Category,Category,,Beatles,Beatles,,,\\r\\n4.0,,,,,,,,,,,,,,,,,2014,2014,,Year,,,,,,,,,,,,,,,Vehicles,Vehicles,,Cars,Cars,,,,Name,Name,,Ringo,Ringo,,,,Category,Category,,Beatles,Beatles,,,\\r\\n1.0,,,,,,,,,,,,,,,,,2014,2014,,Year,,,,,,,,,,,,,,,Vehicles,Vehicles,,Planes,Planes,,,,Name,Name,,Ringo,Ringo,,,,Category,Category,,Beatles,Beatles,,,\\r\\n3.0,,,,,,,,,,,,,,,,,2014,2014,,Year,,,,,,,,,,,,,,,Vehicles,Vehicles,,Trains,Trains,,,,Name,Name,,Ringo,Ringo,,,,Category,Category,,Beatles,Beatles,,,\\r\\n2.0,,,,,,,,,,,,,,,,,2014,2014,,Year,,,,,,,,,,,,,,,Vehicles,Vehicles,,Cars,Cars,,,,Name,Name,,George,George,,,,Category,Category,,Beatles,Beatles,,,\\r\\n5.0,,,,,,,,,,,,,,,,,2014,2014,,Year,,,,,,,,,,,,,,,Vehicles,Vehicles,,Planes,Planes,,,,Name,Name,,George,George,,,,Category,Category,,Beatles,Beatles,,,\\r\\n5.0,,,,,,,,,,,,,,,,,2014,2014,,Year,,,,,,,,,,,,,,,Vehicles,Vehicles,,Trains,Trains,,,,Name,Name,,George,George,,,,Category,Category,,Beatles,Beatles,,,\\r\\n*********,12\\r\\n'"
      ]
     },
     "execution_count": 35,
     "metadata": {},
     "output_type": "execute_result"
    }
   ],
   "source": [
    "Lx"
   ]
  },
  {
   "cell_type": "code",
   "execution_count": 11,
   "metadata": {
    "collapsed": false
   },
   "outputs": [
    {
     "data": {
      "text/plain": [
       "'666'"
      ]
     },
     "execution_count": 11,
     "metadata": {},
     "output_type": "execute_result"
    }
   ],
   "source": [
    "six.text_type(666)"
   ]
  },
  {
   "cell_type": "code",
   "execution_count": 13,
   "metadata": {
    "collapsed": false
   },
   "outputs": [
    {
     "name": "stdout",
     "output_type": "stream",
     "text": [
      "observation,data_marking,statistical_unit_eng,statistical_unit_cym,measure_type_eng,measure_type_cym,observation_type,empty,obs_type_value,unit_multiplier,unit_of_measure_eng,unit_of_measure_cym,confidentuality,empty1,geographic_area,empty2,empty3,time_dim_item_id,time_dim_item_label_eng,time_dim_item_label_cym,time_type,empty4,statistical_population_id,statistical_population_label_eng,statistical_population_label_cym,cdid,cdiddescrip,empty5,empty6,empty7,empty8,empty9,empty10,empty11,empty12,dim_id_1,dimension_label_eng_1,dimension_label_cym_1,dim_item_id_1,dimension_item_label_eng_1,dimension_item_label_cym_1,is_total_1,is_sub_total_1,dim_id_2,dimension_label_eng_2,dimension_label_cym_2,dim_item_id_2,dimension_item_label_eng_2,dimension_item_label_cym_2,is_total_2,is_sub_total_2,dim_id_3,dimension_label_eng_3,dimension_label_cym_3,dim_item_id_3,dimension_item_label_eng_3,dimension_item_label_cym_3,is_total_3,is_sub_total_3\r\n",
      "2.0,,,,,,,,,,,,,,,,,2014,2014,,Year,,,,,,,,,,,,,,,Vehicles,Vehicles,,Cars,Cars,,,,Name,Name,,John,John,,,,Category,Category,,Beatles,Beatles,,,\r\n",
      "2.0,,,,,,,,,,,,,,,,,2014,2014,,Year,,,,,,,,,,,,,,,Vehicles,Vehicles,,Planes,Planes,,,,Name,Name,,John,John,,,,Category,Category,,Beatles,Beatles,,,\r\n",
      "1.0,,,,,,,,,,,,,,,,,2014,2014,,Year,,,,,,,,,,,,,,,Vehicles,Vehicles,,Trains,Trains,,,,Name,Name,,John,John,,,,Category,Category,,Beatles,Beatles,,,\r\n",
      "3.0,,,,,,,,,,,,,,,,,2014,2014,,Year,,,,,,,,,,,,,,,Vehicles,Vehicles,,Cars,Cars,,,,Name,Name,,Paul,Paul,,,,Category,Category,,Beatles,Beatles,,,\r\n",
      "3.0,,,,,,,,,,,,,,,,,2014,2014,,Year,,,,,,,,,,,,,,,Vehicles,Vehicles,,Planes,Planes,,,,Name,Name,,Paul,Paul,,,,Category,Category,,Beatles,Beatles,,,\r\n",
      "2.0,,,,,,,,,,,,,,,,,2014,2014,,Year,,,,,,,,,,,,,,,Vehicles,Vehicles,,Trains,Trains,,,,Name,Name,,Paul,Paul,,,,Category,Category,,Beatles,Beatles,,,\r\n",
      "4.0,,,,,,,,,,,,,,,,,2014,2014,,Year,,,,,,,,,,,,,,,Vehicles,Vehicles,,Cars,Cars,,,,Name,Name,,Ringo,Ringo,,,,Category,Category,,Beatles,Beatles,,,\r\n",
      "1.0,,,,,,,,,,,,,,,,,2014,2014,,Year,,,,,,,,,,,,,,,Vehicles,Vehicles,,Planes,Planes,,,,Name,Name,,Ringo,Ringo,,,,Category,Category,,Beatles,Beatles,,,\r\n",
      "3.0,,,,,,,,,,,,,,,,,2014,2014,,Year,,,,,,,,,,,,,,,Vehicles,Vehicles,,Trains,Trains,,,,Name,Name,,Ringo,Ringo,,,,Category,Category,,Beatles,Beatles,,,\r\n",
      "2.0,,,,,,,,,,,,,,,,,2014,2014,,Year,,,,,,,,,,,,,,,Vehicles,Vehicles,,Cars,Cars,,,,Name,Name,,George,George,,,,Category,Category,,Beatles,Beatles,,,\r\n",
      "5.0,,,,,,,,,,,,,,,,,2014,2014,,Year,,,,,,,,,,,,,,,Vehicles,Vehicles,,Planes,Planes,,,,Name,Name,,George,George,,,,Category,Category,,Beatles,Beatles,,,\r\n",
      "5.0,,,,,,,,,,,,,,,,,2014,2014,,Year,,,,,,,,,,,,,,,Vehicles,Vehicles,,Trains,Trains,,,,Name,Name,,George,George,,,,Category,Category,,Beatles,Beatles,,,\r\n",
      "*********,12\r\n",
      "\n"
     ]
    }
   ],
   "source": [
    "print(Lx)"
   ]
  },
  {
   "cell_type": "code",
   "execution_count": 63,
   "metadata": {
    "collapsed": false
   },
   "outputs": [
    {
     "name": "stdout",
     "output_type": "stream",
     "text": [
      "[999, '', '', '', '', '', '', '', '', '', '', '', '', '', '', '', '', 2001, 2001, '', '', '', '', '', '', '', '', '', '', '', '', '', '', '', '']\n"
     ]
    },
    {
     "data": {
      "text/plain": [
       "35"
      ]
     },
     "execution_count": 63,
     "metadata": {},
     "output_type": "execute_result"
    }
   ],
   "source": [
    "\n",
    "import collections\n",
    "headermeasurements = [\n",
    "    ('observation',            \"OBS\"), \n",
    "    ('data_marking',           \"DATAMARKER\"), \n",
    "    ('statistical_unit_eng',   \"STATUNIT\"),      'statistical_unit_cym', \n",
    "    ('measure_type_eng',       \"MEASURETYPE\"),   'measure_type_cym', 'observation_type', 'empty', 'obs_type_value', \n",
    "    ('unit_multiplier',        \"UNITMULTIPLIER\"),\n",
    "    ('unit_of_measure_eng',    \"UNITOFMEASURE\"), 'unit_of_measure_cym', 'confidentuality', 'empty1', \n",
    "    ('geographic_area',        \"GEOG\"),          'empty2', 'empty3', \n",
    "    ('time_dim_item_id',       \"TIME\"),               \n",
    "    ('time_dim_item_label_eng',\"TIME\"),          'time_dim_item_label_cym', \n",
    "    ('time_type',              \"TIMEUNIT\"),      'empty4', \n",
    "    ('statistical_population_id',       \"STATPOP\"),\n",
    "    ('statistical_population_label_eng',\"STATPOP\"),\n",
    "            'statistical_population_label_cym', 'cdid', 'cdiddescrip', 'empty5', 'empty6', 'empty7', 'empty8', 'empty9', 'empty10', 'empty11', 'empty12'\n",
    "]\n",
    "\n",
    "# derive the elements of the headernames above into the values below\n",
    "start = \",\".join((k[0] if isinstance(k, tuple) else k) for k in headermeasurements)\n",
    "headermeasurementnames = list(collections.OrderedDict.fromkeys(k[1]  for k in headermeasurements  if isinstance(k, tuple)))\n",
    "headermeasurementnumvalues = dict((item, -i)  for i, item in enumerate(reversed(dimension_names)))\n",
    "exec(\"%s = %s\" % (\", \".join(headermeasurementnumvalues.keys()), \", \".join(map(str, headermeasurementnumvalues.values()))))\n",
    "\n",
    "y = [ ]\n",
    "for k in headermeasurements:\n",
    "    if isinstance(k, tuple):\n",
    "        v = values.get(headermeasurementnumvalues[k[1]], '')\n",
    "        y.append(v)\n",
    "    else:\n",
    "        y.append('')\n",
    "print(y)\n",
    "len(y)\n"
   ]
  },
  {
   "cell_type": "code",
   "execution_count": 82,
   "metadata": {
    "collapsed": false
   },
   "outputs": [],
   "source": [
    "import collections\n",
    "headermeasurements = [\n",
    "    ('observation',            \"OBS\"), \n",
    "    ('data_marking',           \"DATAMARKER\"), \n",
    "    ('statistical_unit_eng',   \"STATUNIT\"),      'statistical_unit_cym', \n",
    "    ('measure_type_eng',       \"MEASURETYPE\"),   'measure_type_cym', 'observation_type', 'empty', 'obs_type_value', \n",
    "    ('unit_multiplier',        \"UNITMULTIPLIER\"),\n",
    "    ('unit_of_measure_eng',    \"UNITOFMEASURE\"), 'unit_of_measure_cym', 'confidentuality', 'empty1', \n",
    "    ('geographic_area',        \"GEOG\"),          'empty2', 'empty3', \n",
    "    ('time_dim_item_id',       \"TIME\"),               \n",
    "    ('time_dim_item_label_eng',\"TIME\"),          'time_dim_item_label_cym', \n",
    "    ('time_type',              \"TIMEUNIT\"),      'empty4', \n",
    "    ('statistical_population_id',       \"STATPOP\"),\n",
    "    ('statistical_population_label_eng',\"STATPOP\"),\n",
    "            'statistical_population_label_cym', 'cdid', 'cdiddescrip', 'empty5', 'empty6', 'empty7', 'empty8', 'empty9', 'empty10', 'empty11', 'empty12'\n",
    "]\n",
    "\n",
    "# derive the elements of the headernames above into the values below\n",
    "start = \",\".join((k[0] if isinstance(k, tuple) else k) for k in headermeasurements)\n",
    "headermeasurementnames = list(collections.OrderedDict.fromkeys(k[1]  for k in headermeasurements  if isinstance(k, tuple)))\n",
    "headermeasurementnumvalues = dict((item, -i)  for i, item in enumerate(reversed(dimension_names)))\n",
    "exec(\"%s = %s\" % (\", \".join(headermeasurementnumvalues.keys()), \", \".join(map(str, headermeasurementnumvalues.values()))))\n",
    "\n",
    "\n",
    "# used in the old code\n",
    "DSKIP_AFTER = {OBS: 0,            # 1..2  MANDATORY, must be here, must be called OBS\n",
    "              DATAMARKER: 0,     # 2..3\n",
    "              STATUNIT: 1,       # 3..5\n",
    "              MEASURETYPE: 4,    # 5..10\n",
    "              UNITMULTIPLIER: 0, # 10..11\n",
    "              UNITOFMEASURE: 3,  # 11..15\n",
    "              GEOG: 2,           # 15..18/19\n",
    "              TIME: 1,           # 18/19..21\n",
    "              TIMEUNIT: 1,       # 21..23/24\n",
    "              STATPOP:11}        # 23/24..36/37\n",
    "\n",
    "\n",
    "headermeasurementnames = list(collections.OrderedDict.fromkeys(k[1]  for k in headermeasurements  if isinstance(k, tuple)))\n",
    "\n"
   ]
  },
  {
   "cell_type": "code",
   "execution_count": 83,
   "metadata": {
    "collapsed": false
   },
   "outputs": [
    {
     "data": {
      "text/plain": [
       "({-9: 0, -8: 0, -7: 1, -6: 4, -5: 0, -4: 3, -3: 2, -2: 1, -1: 1, 0: 11},\n",
       " {-9: 0, -8: 0, -7: 1, -6: 4, -5: 0, -4: 3, -3: 2, -2: 1, -1: 1, 0: 11})"
      ]
     },
     "execution_count": 83,
     "metadata": {},
     "output_type": "execute_result"
    }
   ],
   "source": [
    "\n"
   ]
  },
  {
   "cell_type": "code",
   "execution_count": null,
   "metadata": {
    "collapsed": true
   },
   "outputs": [],
   "source": []
  }
 ],
 "metadata": {
  "kernelspec": {
   "display_name": "Python 3",
   "language": "python",
   "name": "python3"
  }
 },
 "nbformat": 4,
 "nbformat_minor": 1
}
