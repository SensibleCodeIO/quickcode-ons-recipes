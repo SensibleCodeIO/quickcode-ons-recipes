{
 "cells": [
  {
   "cell_type": "code",
   "execution_count": 9,
   "metadata": {
    "collapsed": false
   },
   "outputs": [
    {
     "name": "stdout",
     "output_type": "stream",
     "text": [
      "Loading example1.xls which has size 7168 bytes\n",
      "Table names: ['beatles', 'stones']\n"
     ]
    }
   ],
   "source": [
    "# start up again with our simple example\n",
    "from databaker.framework import *\n",
    "tabs = loadxlstabs(\"example1.xls\")\n",
    "tab = tabs[0]  # there is only one table\n",
    "#savepreviewhtml(tabs[0])\n"
   ]
  },
  {
   "cell_type": "code",
   "execution_count": 2,
   "metadata": {
    "collapsed": false
   },
   "outputs": [],
   "source": [
    "r1 = tab.excel_ref('B3').expand(RIGHT)\n",
    "r2 = tab.excel_ref('A3').fill(DOWN)\n",
    "obs = tab.excel_ref('B4').expand(DOWN).expand(RIGHT).is_not_blank().is_not_whitespace()\n",
    "dimensions = [ \n",
    "    HDim(tab.excel_ref('B1'), TIME, CLOSEST, ABOVE), \n",
    "    HDim(r1, \"Vehicles\", DIRECTLY, ABOVE), \n",
    "    HDim(r2, \"Name\", DIRECTLY, LEFT), \n",
    "    HDimConst(\"Category\", \"Beatles\")\n",
    "]\n",
    "c1 = ConversionSegment(tab, dimensions, obs)\n"
   ]
  },
  {
   "cell_type": "code",
   "execution_count": 3,
   "metadata": {
    "collapsed": false
   },
   "outputs": [],
   "source": [
    "#writetechnicalCSV(None, c1)"
   ]
  },
  {
   "cell_type": "code",
   "execution_count": 12,
   "metadata": {
    "collapsed": false
   },
   "outputs": [],
   "source": [
    "import io, six, csv\n",
    "def Lyield_dimension_values(values, headernames):\n",
    "    for k in template.headermeasurements:\n",
    "        if isinstance(k, tuple):\n",
    "            yield values.get(template.headermeasurementnumvalues[k[1]], '')\n",
    "        else:\n",
    "            yield ''\n",
    "\n",
    "    for dimension in range(1, len(headernames)):\n",
    "        name = headernames[dimension]\n",
    "        value = values[dimension]\n",
    "        topic_headers = template.get_topic_headers(name, value)\n",
    "        for col in topic_headers:\n",
    "            yield col\n",
    "\n",
    "def Lrewrite_headers(row,dims):\n",
    "    for i in range(0,len(row)):\n",
    "        if i >= len(template.start.split(',')):\n",
    "            which_cell_in_spread = (i - len(template.start.split(','))) % len(template.value_spread)\n",
    "            which_dim = (i - len(template.start.split(','))) // len(template.value_spread)\n",
    "            which_dim = int(which_dim)\n",
    "            if value_spread[which_cell_in_spread] == 'value':\n",
    "                row[i] = dims[which_dim]\n",
    "    return row\n",
    "            \n",
    "            \n",
    "def LDUPgenerate_header_row(headernames):\n",
    "    header_row = [(k[0] if isinstance(k, tuple) else k)  for k in template.headermeasurements]\n",
    "\n",
    "    # create new header row\n",
    "    for i in range(len(headernames)-1):\n",
    "        header_row.extend(template.repeat.format(num=i+1).split(','))\n",
    "\n",
    "    # overwrite dimensions/subject/name as column header (if requested)\n",
    "    if template.topic_headers_as_dims:\n",
    "        dims = []\n",
    "        for headername in headernames:\n",
    "            dims.append(headername)\n",
    "        header_row = Lrewrite_headers(header_row, dims)\n",
    "    return header_row\n",
    "\n",
    "\n",
    "def LwritetechnicalCSV(outputfile, conversionsegments):\n",
    "    if type(conversionsegments) is ConversionSegment:\n",
    "        conversionsegments = [conversionsegments]\n",
    "        \n",
    "    if outputfile is not None:\n",
    "        print(\"writing %d conversion segments into %s\" % (len(conversionsegments), os.path.abspath(outputfile)))\n",
    "        filehandle = open(outputfile, \"w\", newline='\\n')\n",
    "    else:\n",
    "        filehandle = io.StringIO()\n",
    "    csv_writer = csv.writer(filehandle)\n",
    "    row_count = 0\n",
    "        \n",
    "    for i, conversionsegment in enumerate(conversionsegments):\n",
    "        headernames = [None]+[dimension.label  for dimension in conversionsegment.dimensions  if type(dimension.label) != int ]\n",
    "        if i == 0:   # only first segment\n",
    "            header_row = LDUPgenerate_header_row(headernames)\n",
    "            csv_writer.writerow(header_row)\n",
    "            \n",
    "        if conversionsegment.processedrows is None: \n",
    "            conversionsegment.process()  \n",
    "            \n",
    "        kdim = dict((dimension.label, dimension)  for dimension in conversionsegment.dimensions)\n",
    "        timeunitmessage = \"\"\n",
    "        if template.SH_Create_ONS_time and ((template.TIMEUNIT not in kdim) and (template.TIME in kdim)):\n",
    "            timeunitmessage = conversionsegment.guesstimeunit()\n",
    "            conversionsegment.fixtimefromtimeunit()\n",
    "        elif template.TIME in kdim and template.TIMEUNIT not in kdim:\n",
    "            conversionsegment.fixtimefromtimeunit()\n",
    "\n",
    "        if outputfile is not None:\n",
    "            print(\"conversionwrite segment size %d table '%s; %s\" % (len(conversionsegment.processedrows), conversionsegment.tab.name, timeunitmessage))\n",
    "        for row in conversionsegment.processedrows:\n",
    "            values = dict((k if type(k)==int else headernames.index(k), v)  for k, v in row.items())\n",
    "            output_row = Lyield_dimension_values(values, headernames)\n",
    "            csv_writer.writerow(output_row)\n",
    "            row_count += 1\n",
    "            \n",
    "    csv_writer.writerow([\"*\"*9, row_count])\n",
    "    if outputfile is not None:\n",
    "        filehandle.close()\n",
    "    else:\n",
    "        return filehandle.getvalue()\n",
    "\n",
    "\n",
    "    \n",
    "    \n",
    "    "
   ]
  },
  {
   "cell_type": "code",
   "execution_count": 13,
   "metadata": {
    "collapsed": false
   },
   "outputs": [
    {
     "data": {
      "text/plain": [
       "(True, 2744, 2744)"
      ]
     },
     "execution_count": 13,
     "metadata": {},
     "output_type": "execute_result"
    }
   ],
   "source": [
    "x, Lx = writetechnicalCSV(None, c1), LwritetechnicalCSV(None, c1)\n",
    "x == Lx, len(x), len(Lx)"
   ]
  },
  {
   "cell_type": "code",
   "execution_count": 8,
   "metadata": {
    "collapsed": false
   },
   "outputs": [
    {
     "data": {
      "text/plain": [
       "'observation,data_marking,statistical_unit_eng,statistical_unit_cym,measure_type_eng,measure_type_cym,observation_type,empty,obs_type_value,unit_multiplier,unit_of_measure_eng,unit_of_measure_cym,confidentuality,empty1,geographic_area,empty2,empty3,time_dim_item_id,time_dim_item_label_eng,time_dim_item_label_cym,time_type,empty4,statistical_population_id,statistical_population_label_eng,statistical_population_label_cym,cdid,cdiddescrip,empty5,empty6,empty7,empty8,empty9,empty10,empty11,empty12,dim_id_1,dimension_label_eng_1,dimension_label_cym_1,dim_item_id_1,dimension_item_label_eng_1,dimension_item_label_cym_1,is_total_1,is_sub_total_1,dim_id_2,dimension_label_eng_2,dimension_label_cym_2,dim_item_id_2,dimension_item_label_eng_2,dimension_item_label_cym_2,is_total_2,is_sub_total_2,dim_id_3,dimension_label_eng_3,dimension_label_cym_3,dim_item_id_3,dimension_item_label_eng_3,dimension_item_label_cym_3,is_total_3,is_sub_total_3\\r\\n2.0,,,,,,,,,,,,,,,,,2014,2014,,Year,,,,,,,,,,,,,,,Vehicles,Vehicles,,Cars,Cars,,,,Name,Name,,John,John,,,,Category,Category,,Beatles,Beatles,,,\\r\\n2.0,,,,,,,,,,,,,,,,,2014,2014,,Year,,,,,,,,,,,,,,,Vehicles,Vehicles,,Planes,Planes,,,,Name,Name,,John,John,,,,Category,Category,,Beatles,Beatles,,,\\r\\n1.0,,,,,,,,,,,,,,,,,2014,2014,,Year,,,,,,,,,,,,,,,Vehicles,Vehicles,,Trains,Trains,,,,Name,Name,,John,John,,,,Category,Category,,Beatles,Beatles,,,\\r\\n3.0,,,,,,,,,,,,,,,,,2014,2014,,Year,,,,,,,,,,,,,,,Vehicles,Vehicles,,Cars,Cars,,,,Name,Name,,Paul,Paul,,,,Category,Category,,Beatles,Beatles,,,\\r\\n3.0,,,,,,,,,,,,,,,,,2014,2014,,Year,,,,,,,,,,,,,,,Vehicles,Vehicles,,Planes,Planes,,,,Name,Name,,Paul,Paul,,,,Category,Category,,Beatles,Beatles,,,\\r\\n2.0,,,,,,,,,,,,,,,,,2014,2014,,Year,,,,,,,,,,,,,,,Vehicles,Vehicles,,Trains,Trains,,,,Name,Name,,Paul,Paul,,,,Category,Category,,Beatles,Beatles,,,\\r\\n4.0,,,,,,,,,,,,,,,,,2014,2014,,Year,,,,,,,,,,,,,,,Vehicles,Vehicles,,Cars,Cars,,,,Name,Name,,Ringo,Ringo,,,,Category,Category,,Beatles,Beatles,,,\\r\\n1.0,,,,,,,,,,,,,,,,,2014,2014,,Year,,,,,,,,,,,,,,,Vehicles,Vehicles,,Planes,Planes,,,,Name,Name,,Ringo,Ringo,,,,Category,Category,,Beatles,Beatles,,,\\r\\n3.0,,,,,,,,,,,,,,,,,2014,2014,,Year,,,,,,,,,,,,,,,Vehicles,Vehicles,,Trains,Trains,,,,Name,Name,,Ringo,Ringo,,,,Category,Category,,Beatles,Beatles,,,\\r\\n2.0,,,,,,,,,,,,,,,,,2014,2014,,Year,,,,,,,,,,,,,,,Vehicles,Vehicles,,Cars,Cars,,,,Name,Name,,George,George,,,,Category,Category,,Beatles,Beatles,,,\\r\\n5.0,,,,,,,,,,,,,,,,,2014,2014,,Year,,,,,,,,,,,,,,,Vehicles,Vehicles,,Planes,Planes,,,,Name,Name,,George,George,,,,Category,Category,,Beatles,Beatles,,,\\r\\n5.0,,,,,,,,,,,,,,,,,2014,2014,,Year,,,,,,,,,,,,,,,Vehicles,Vehicles,,Trains,Trains,,,,Name,Name,,George,George,,,,Category,Category,,Beatles,Beatles,,,\\r\\n*********,12\\r\\n'"
      ]
     },
     "execution_count": 8,
     "metadata": {},
     "output_type": "execute_result"
    }
   ],
   "source": [
    "Lx"
   ]
  },
  {
   "cell_type": "code",
   "execution_count": 11,
   "metadata": {
    "collapsed": false
   },
   "outputs": [
    {
     "data": {
      "text/plain": [
       "'666'"
      ]
     },
     "execution_count": 11,
     "metadata": {},
     "output_type": "execute_result"
    }
   ],
   "source": [
    "six.text_type(666)"
   ]
  },
  {
   "cell_type": "code",
   "execution_count": 13,
   "metadata": {
    "collapsed": false
   },
   "outputs": [
    {
     "name": "stdout",
     "output_type": "stream",
     "text": [
      "observation,data_marking,statistical_unit_eng,statistical_unit_cym,measure_type_eng,measure_type_cym,observation_type,empty,obs_type_value,unit_multiplier,unit_of_measure_eng,unit_of_measure_cym,confidentuality,empty1,geographic_area,empty2,empty3,time_dim_item_id,time_dim_item_label_eng,time_dim_item_label_cym,time_type,empty4,statistical_population_id,statistical_population_label_eng,statistical_population_label_cym,cdid,cdiddescrip,empty5,empty6,empty7,empty8,empty9,empty10,empty11,empty12,dim_id_1,dimension_label_eng_1,dimension_label_cym_1,dim_item_id_1,dimension_item_label_eng_1,dimension_item_label_cym_1,is_total_1,is_sub_total_1,dim_id_2,dimension_label_eng_2,dimension_label_cym_2,dim_item_id_2,dimension_item_label_eng_2,dimension_item_label_cym_2,is_total_2,is_sub_total_2,dim_id_3,dimension_label_eng_3,dimension_label_cym_3,dim_item_id_3,dimension_item_label_eng_3,dimension_item_label_cym_3,is_total_3,is_sub_total_3\r\n",
      "2.0,,,,,,,,,,,,,,,,,2014,2014,,Year,,,,,,,,,,,,,,,Vehicles,Vehicles,,Cars,Cars,,,,Name,Name,,John,John,,,,Category,Category,,Beatles,Beatles,,,\r\n",
      "2.0,,,,,,,,,,,,,,,,,2014,2014,,Year,,,,,,,,,,,,,,,Vehicles,Vehicles,,Planes,Planes,,,,Name,Name,,John,John,,,,Category,Category,,Beatles,Beatles,,,\r\n",
      "1.0,,,,,,,,,,,,,,,,,2014,2014,,Year,,,,,,,,,,,,,,,Vehicles,Vehicles,,Trains,Trains,,,,Name,Name,,John,John,,,,Category,Category,,Beatles,Beatles,,,\r\n",
      "3.0,,,,,,,,,,,,,,,,,2014,2014,,Year,,,,,,,,,,,,,,,Vehicles,Vehicles,,Cars,Cars,,,,Name,Name,,Paul,Paul,,,,Category,Category,,Beatles,Beatles,,,\r\n",
      "3.0,,,,,,,,,,,,,,,,,2014,2014,,Year,,,,,,,,,,,,,,,Vehicles,Vehicles,,Planes,Planes,,,,Name,Name,,Paul,Paul,,,,Category,Category,,Beatles,Beatles,,,\r\n",
      "2.0,,,,,,,,,,,,,,,,,2014,2014,,Year,,,,,,,,,,,,,,,Vehicles,Vehicles,,Trains,Trains,,,,Name,Name,,Paul,Paul,,,,Category,Category,,Beatles,Beatles,,,\r\n",
      "4.0,,,,,,,,,,,,,,,,,2014,2014,,Year,,,,,,,,,,,,,,,Vehicles,Vehicles,,Cars,Cars,,,,Name,Name,,Ringo,Ringo,,,,Category,Category,,Beatles,Beatles,,,\r\n",
      "1.0,,,,,,,,,,,,,,,,,2014,2014,,Year,,,,,,,,,,,,,,,Vehicles,Vehicles,,Planes,Planes,,,,Name,Name,,Ringo,Ringo,,,,Category,Category,,Beatles,Beatles,,,\r\n",
      "3.0,,,,,,,,,,,,,,,,,2014,2014,,Year,,,,,,,,,,,,,,,Vehicles,Vehicles,,Trains,Trains,,,,Name,Name,,Ringo,Ringo,,,,Category,Category,,Beatles,Beatles,,,\r\n",
      "2.0,,,,,,,,,,,,,,,,,2014,2014,,Year,,,,,,,,,,,,,,,Vehicles,Vehicles,,Cars,Cars,,,,Name,Name,,George,George,,,,Category,Category,,Beatles,Beatles,,,\r\n",
      "5.0,,,,,,,,,,,,,,,,,2014,2014,,Year,,,,,,,,,,,,,,,Vehicles,Vehicles,,Planes,Planes,,,,Name,Name,,George,George,,,,Category,Category,,Beatles,Beatles,,,\r\n",
      "5.0,,,,,,,,,,,,,,,,,2014,2014,,Year,,,,,,,,,,,,,,,Vehicles,Vehicles,,Trains,Trains,,,,Name,Name,,George,George,,,,Category,Category,,Beatles,Beatles,,,\r\n",
      "*********,12\r\n",
      "\n"
     ]
    }
   ],
   "source": [
    "print(Lx)"
   ]
  },
  {
   "cell_type": "code",
   "execution_count": 63,
   "metadata": {
    "collapsed": false
   },
   "outputs": [
    {
     "name": "stdout",
     "output_type": "stream",
     "text": [
      "[999, '', '', '', '', '', '', '', '', '', '', '', '', '', '', '', '', 2001, 2001, '', '', '', '', '', '', '', '', '', '', '', '', '', '', '', '']\n"
     ]
    },
    {
     "data": {
      "text/plain": [
       "35"
      ]
     },
     "execution_count": 63,
     "metadata": {},
     "output_type": "execute_result"
    }
   ],
   "source": [
    "\n",
    "import collections\n",
    "headermeasurements = [\n",
    "    ('observation',            \"OBS\"), \n",
    "    ('data_marking',           \"DATAMARKER\"), \n",
    "    ('statistical_unit_eng',   \"STATUNIT\"),      'statistical_unit_cym', \n",
    "    ('measure_type_eng',       \"MEASURETYPE\"),   'measure_type_cym', 'observation_type', 'empty', 'obs_type_value', \n",
    "    ('unit_multiplier',        \"UNITMULTIPLIER\"),\n",
    "    ('unit_of_measure_eng',    \"UNITOFMEASURE\"), 'unit_of_measure_cym', 'confidentuality', 'empty1', \n",
    "    ('geographic_area',        \"GEOG\"),          'empty2', 'empty3', \n",
    "    ('time_dim_item_id',       \"TIME\"),               \n",
    "    ('time_dim_item_label_eng',\"TIME\"),          'time_dim_item_label_cym', \n",
    "    ('time_type',              \"TIMEUNIT\"),      'empty4', \n",
    "    ('statistical_population_id',       \"STATPOP\"),\n",
    "    ('statistical_population_label_eng',\"STATPOP\"),\n",
    "            'statistical_population_label_cym', 'cdid', 'cdiddescrip', 'empty5', 'empty6', 'empty7', 'empty8', 'empty9', 'empty10', 'empty11', 'empty12'\n",
    "]\n",
    "\n",
    "# derive the elements of the headernames above into the values below\n",
    "start = \",\".join((k[0] if isinstance(k, tuple) else k) for k in headermeasurements)\n",
    "headermeasurementnames = list(collections.OrderedDict.fromkeys(k[1]  for k in headermeasurements  if isinstance(k, tuple)))\n",
    "headermeasurementnumvalues = dict((item, -i)  for i, item in enumerate(reversed(dimension_names)))\n",
    "exec(\"%s = %s\" % (\", \".join(headermeasurementnumvalues.keys()), \", \".join(map(str, headermeasurementnumvalues.values()))))\n",
    "\n",
    "y = [ ]\n",
    "for k in headermeasurements:\n",
    "    if isinstance(k, tuple):\n",
    "        v = values.get(headermeasurementnumvalues[k[1]], '')\n",
    "        y.append(v)\n",
    "    else:\n",
    "        y.append('')\n",
    "print(y)\n",
    "len(y)\n"
   ]
  },
  {
   "cell_type": "code",
   "execution_count": 82,
   "metadata": {
    "collapsed": false
   },
   "outputs": [],
   "source": [
    "import collections\n",
    "headermeasurements = [\n",
    "    ('observation',            \"OBS\"), \n",
    "    ('data_marking',           \"DATAMARKER\"), \n",
    "    ('statistical_unit_eng',   \"STATUNIT\"),      'statistical_unit_cym', \n",
    "    ('measure_type_eng',       \"MEASURETYPE\"),   'measure_type_cym', 'observation_type', 'empty', 'obs_type_value', \n",
    "    ('unit_multiplier',        \"UNITMULTIPLIER\"),\n",
    "    ('unit_of_measure_eng',    \"UNITOFMEASURE\"), 'unit_of_measure_cym', 'confidentuality', 'empty1', \n",
    "    ('geographic_area',        \"GEOG\"),          'empty2', 'empty3', \n",
    "    ('time_dim_item_id',       \"TIME\"),               \n",
    "    ('time_dim_item_label_eng',\"TIME\"),          'time_dim_item_label_cym', \n",
    "    ('time_type',              \"TIMEUNIT\"),      'empty4', \n",
    "    ('statistical_population_id',       \"STATPOP\"),\n",
    "    ('statistical_population_label_eng',\"STATPOP\"),\n",
    "            'statistical_population_label_cym', 'cdid', 'cdiddescrip', 'empty5', 'empty6', 'empty7', 'empty8', 'empty9', 'empty10', 'empty11', 'empty12'\n",
    "]\n",
    "\n",
    "# derive the elements of the headernames above into the values below\n",
    "start = \",\".join((k[0] if isinstance(k, tuple) else k) for k in headermeasurements)\n",
    "headermeasurementnames = list(collections.OrderedDict.fromkeys(k[1]  for k in headermeasurements  if isinstance(k, tuple)))\n",
    "headermeasurementnumvalues = dict((item, -i)  for i, item in enumerate(reversed(dimension_names)))\n",
    "exec(\"%s = %s\" % (\", \".join(headermeasurementnumvalues.keys()), \", \".join(map(str, headermeasurementnumvalues.values()))))\n",
    "\n",
    "\n",
    "# used in the old code\n",
    "DSKIP_AFTER = {OBS: 0,            # 1..2  MANDATORY, must be here, must be called OBS\n",
    "              DATAMARKER: 0,     # 2..3\n",
    "              STATUNIT: 1,       # 3..5\n",
    "              MEASURETYPE: 4,    # 5..10\n",
    "              UNITMULTIPLIER: 0, # 10..11\n",
    "              UNITOFMEASURE: 3,  # 11..15\n",
    "              GEOG: 2,           # 15..18/19\n",
    "              TIME: 1,           # 18/19..21\n",
    "              TIMEUNIT: 1,       # 21..23/24\n",
    "              STATPOP:11}        # 23/24..36/37\n",
    "\n",
    "\n",
    "headermeasurementnames = list(collections.OrderedDict.fromkeys(k[1]  for k in headermeasurements  if isinstance(k, tuple)))\n",
    "\n"
   ]
  },
  {
   "cell_type": "code",
   "execution_count": 83,
   "metadata": {
    "collapsed": false
   },
   "outputs": [
    {
     "data": {
      "text/plain": [
       "({-9: 0, -8: 0, -7: 1, -6: 4, -5: 0, -4: 3, -3: 2, -2: 1, -1: 1, 0: 11},\n",
       " {-9: 0, -8: 0, -7: 1, -6: 4, -5: 0, -4: 3, -3: 2, -2: 1, -1: 1, 0: 11})"
      ]
     },
     "execution_count": 83,
     "metadata": {},
     "output_type": "execute_result"
    }
   ],
   "source": [
    "\n"
   ]
  },
  {
   "cell_type": "code",
   "execution_count": null,
   "metadata": {
    "collapsed": true
   },
   "outputs": [],
   "source": []
  }
 ],
 "metadata": {
  "kernelspec": {
   "display_name": "Python 3",
   "language": "python",
   "name": "python3"
  },
  "language_info": {
   "codemirror_mode": {
    "name": "ipython",
    "version": 3
   },
   "file_extension": ".py",
   "mimetype": "text/x-python",
   "name": "python",
   "nbconvert_exporter": "python",
   "pygments_lexer": "ipython3",
   "version": "3.5.2"
  }
 },
 "nbformat": 4,
 "nbformat_minor": 1
}
