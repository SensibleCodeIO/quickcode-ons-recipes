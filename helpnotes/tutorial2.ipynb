{
 "cells": [
  {
   "cell_type": "code",
   "execution_count": 10,
   "metadata": {
    "collapsed": false
   },
   "outputs": [
    {
     "name": "stdout",
     "output_type": "stream",
     "text": [
      "Loading example1.xls which has size 7168 bytes\n",
      "Table names: ['beatles', 'stones']\n"
     ]
    },
    {
     "data": {
      "text/html": [
       "<div id=\"injblock1005\">#injblock1005\n",
       "<style>\n",
       "table.ex, table.exkey { border: thin black solid }\n",
       "table.ex td, table.ex tr { border: none }\n",
       "td.xb { font-weight: bold }\n",
       "td.xn { color: green }\n",
       "td.xd { color: purple }\n",
       "table { border-collapse: collapse }\n",
       "td.xc0 { background-color: Aqua }\n",
       "td.xc1 { background-color: LightGreen }\n",
       "td.xc2 { background-color: PaleTurquoise }\n",
       "td.xc3 { background-color: LightBlue }\n",
       "td.xc4 { background-color: SkyBlue }\n",
       "td.xc5 { background-color: Plum }\n",
       "td.xc6 { background-color: Gold }\n",
       "td.xc7 { background-color: Lime }\n",
       "td.xc8 { background-color: Coral }\n",
       "td.xc9 { background-color: BurlyWood }\n",
       "td.xc10 { background-color: CornflowerBlue }\n",
       "td.xc-2 { background-color: MistyRose }\n",
       "td.xc-9 { background-color: Lavender }\n",
       "td.xc-8 { background-color: Violet }\n",
       "td.xc-7 { background-color: LightGray }\n",
       "td.xc-6 { background-color: SeaGreen }\n",
       "td.xc-5 { background-color: DeepSkyBlue }\n",
       "td.xc-4 { background-color: Blue }\n",
       "td.xc-3 { background-color: LightGray }\n",
       "td.xc-1 { background-color: Tan }\n",
       "table.ex td:hover { border: thin blue solid }\n",
       "table.ex td.exc-9:hover { border: thin red solid }\n",
       "table.ex td.selected { background-color: red; border: thin blue dotted }\n",
       "</style>\n",
       "\n",
       "\n",
       "Table: <b>beatles</b> <table class=\"exkey\">\n",
       "<tr></tr></table>\n",
       "\n",
       "<table class=\"ex\">\n",
       "<tr><td class=\"\" title=\"0 0\">Date</td><td class=\"xn\" title=\"1 0\">2014.0</td><td class=\"\" title=\"2 0\"></td><td class=\"\" title=\"3 0\"></td></tr>\n",
       "<tr><td class=\"\" title=\"0 1\"></td><td class=\"\" title=\"1 1\"></td><td class=\"\" title=\"2 1\"></td><td class=\"\" title=\"3 1\"></td></tr>\n",
       "<tr><td class=\"\" title=\"0 2\"></td><td class=\"\" title=\"1 2\">Cars</td><td class=\"\" title=\"2 2\">Planes</td><td class=\"\" title=\"3 2\">Trains</td></tr>\n",
       "<tr><td class=\"\" title=\"0 3\">John</td><td class=\"xn\" title=\"1 3\">2.0</td><td class=\"xn\" title=\"2 3\">2.0</td><td class=\"xn\" title=\"3 3\">1.0</td></tr>\n",
       "<tr><td class=\"\" title=\"0 4\">Paul</td><td class=\"xn\" title=\"1 4\">3.0</td><td class=\"xn\" title=\"2 4\">3.0</td><td class=\"xn\" title=\"3 4\">2.0</td></tr>\n",
       "<tr><td class=\"\" title=\"0 5\">Ringo</td><td class=\"xn\" title=\"1 5\">4.0</td><td class=\"xn\" title=\"2 5\">1.0</td><td class=\"xn\" title=\"3 5\">3.0</td></tr>\n",
       "<tr><td class=\"\" title=\"0 6\">George</td><td class=\"xn\" title=\"1 6\">2.0</td><td class=\"xn\" title=\"2 6\">5.0</td><td class=\"xn\" title=\"3 6\">5.0</td></tr>\n",
       "</table>\n",
       "\n",
       "</div>\n"
      ],
      "text/plain": [
       "<IPython.core.display.HTML object>"
      ]
     },
     "metadata": {},
     "output_type": "display_data"
    }
   ],
   "source": [
    "# start up again with our simple example\n",
    "from databaker.framework import *\n",
    "tabs = loadxlstabs(\"example1.xls\")\n",
    "tab = tabs[0]  # there is only one table\n",
    "savepreviewhtml(tabs[0])\n"
   ]
  },
  {
   "cell_type": "code",
   "execution_count": null,
   "metadata": {
    "collapsed": false
   },
   "outputs": [],
   "source": []
  },
  {
   "cell_type": "code",
   "execution_count": 11,
   "metadata": {
    "collapsed": false
   },
   "outputs": [
    {
     "data": {
      "text/html": [
       "<div id=\"injblock1006\">#injblock1006\n",
       "<style>\n",
       "table.ex, table.exkey { border: thin black solid }\n",
       "table.ex td, table.ex tr { border: none }\n",
       "td.xb { font-weight: bold }\n",
       "td.xn { color: green }\n",
       "td.xd { color: purple }\n",
       "table { border-collapse: collapse }\n",
       "td.xc0 { background-color: Aqua }\n",
       "td.xc1 { background-color: LightGreen }\n",
       "td.xc2 { background-color: PaleTurquoise }\n",
       "td.xc3 { background-color: LightBlue }\n",
       "td.xc4 { background-color: SkyBlue }\n",
       "td.xc5 { background-color: Plum }\n",
       "td.xc6 { background-color: Gold }\n",
       "td.xc7 { background-color: Lime }\n",
       "td.xc8 { background-color: Coral }\n",
       "td.xc9 { background-color: BurlyWood }\n",
       "td.xc10 { background-color: CornflowerBlue }\n",
       "td.xc-2 { background-color: MistyRose }\n",
       "td.xc-9 { background-color: Lavender }\n",
       "td.xc-8 { background-color: Violet }\n",
       "td.xc-7 { background-color: LightGray }\n",
       "td.xc-6 { background-color: SeaGreen }\n",
       "td.xc-5 { background-color: DeepSkyBlue }\n",
       "td.xc-4 { background-color: Blue }\n",
       "td.xc-3 { background-color: LightGray }\n",
       "td.xc-1 { background-color: Tan }\n",
       "table.ex td:hover { border: thin blue solid }\n",
       "table.ex td.exc-9:hover { border: thin red solid }\n",
       "table.ex td.selected { background-color: red; border: thin blue dotted }\n",
       "</style>\n",
       "\n",
       "\n",
       "Table: <b>beatles</b> <table class=\"exkey\">\n",
       "<tr><td class=\"xc0\">item 0</td></tr></table>\n",
       "\n",
       "<table class=\"ex\">\n",
       "<tr><td class=\"\" title=\"0 0\">Date</td><td class=\"xc0 xn\" title=\"1 0\">2014.0</td><td class=\"\" title=\"2 0\"></td><td class=\"\" title=\"3 0\"></td></tr>\n",
       "<tr><td class=\"\" title=\"0 1\"></td><td class=\"\" title=\"1 1\"></td><td class=\"\" title=\"2 1\"></td><td class=\"\" title=\"3 1\"></td></tr>\n",
       "<tr><td class=\"\" title=\"0 2\"></td><td class=\"\" title=\"1 2\">Cars</td><td class=\"\" title=\"2 2\">Planes</td><td class=\"\" title=\"3 2\">Trains</td></tr>\n",
       "<tr><td class=\"\" title=\"0 3\">John</td><td class=\"xn\" title=\"1 3\">2.0</td><td class=\"xn\" title=\"2 3\">2.0</td><td class=\"xn\" title=\"3 3\">1.0</td></tr>\n",
       "<tr><td class=\"\" title=\"0 4\">Paul</td><td class=\"xn\" title=\"1 4\">3.0</td><td class=\"xn\" title=\"2 4\">3.0</td><td class=\"xn\" title=\"3 4\">2.0</td></tr>\n",
       "<tr><td class=\"\" title=\"0 5\">Ringo</td><td class=\"xn\" title=\"1 5\">4.0</td><td class=\"xn\" title=\"2 5\">1.0</td><td class=\"xn\" title=\"3 5\">3.0</td></tr>\n",
       "<tr><td class=\"\" title=\"0 6\">George</td><td class=\"xn\" title=\"1 6\">2.0</td><td class=\"xn\" title=\"2 6\">5.0</td><td class=\"xn\" title=\"3 6\">5.0</td></tr>\n",
       "</table>\n",
       "\n",
       "</div>\n"
      ],
      "text/plain": [
       "<IPython.core.display.HTML object>"
      ]
     },
     "metadata": {},
     "output_type": "display_data"
    }
   ],
   "source": [
    "# We can select bags of of cells from this tab and plot them using savepreviewhtml(), like so:\n",
    "savepreviewhtml(tab.excel_ref('B1'))"
   ]
  },
  {
   "cell_type": "code",
   "execution_count": 12,
   "metadata": {
    "collapsed": false
   },
   "outputs": [
    {
     "data": {
      "text/html": [
       "<div id=\"injblock1007\">#injblock1007\n",
       "<style>\n",
       "table.ex, table.exkey { border: thin black solid }\n",
       "table.ex td, table.ex tr { border: none }\n",
       "td.xb { font-weight: bold }\n",
       "td.xn { color: green }\n",
       "td.xd { color: purple }\n",
       "table { border-collapse: collapse }\n",
       "td.xc0 { background-color: Aqua }\n",
       "td.xc1 { background-color: LightGreen }\n",
       "td.xc2 { background-color: PaleTurquoise }\n",
       "td.xc3 { background-color: LightBlue }\n",
       "td.xc4 { background-color: SkyBlue }\n",
       "td.xc5 { background-color: Plum }\n",
       "td.xc6 { background-color: Gold }\n",
       "td.xc7 { background-color: Lime }\n",
       "td.xc8 { background-color: Coral }\n",
       "td.xc9 { background-color: BurlyWood }\n",
       "td.xc10 { background-color: CornflowerBlue }\n",
       "td.xc-2 { background-color: MistyRose }\n",
       "td.xc-9 { background-color: Lavender }\n",
       "td.xc-8 { background-color: Violet }\n",
       "td.xc-7 { background-color: LightGray }\n",
       "td.xc-6 { background-color: SeaGreen }\n",
       "td.xc-5 { background-color: DeepSkyBlue }\n",
       "td.xc-4 { background-color: Blue }\n",
       "td.xc-3 { background-color: LightGray }\n",
       "td.xc-1 { background-color: Tan }\n",
       "table.ex td:hover { border: thin blue solid }\n",
       "table.ex td.exc-9:hover { border: thin red solid }\n",
       "table.ex td.selected { background-color: red; border: thin blue dotted }\n",
       "</style>\n",
       "\n",
       "\n",
       "Table: <b>beatles</b> <table class=\"exkey\">\n",
       "<tr><td class=\"xc0\">item 0</td></tr></table>\n",
       "\n",
       "<table class=\"ex\">\n",
       "<tr><td class=\"\" title=\"0 0\">Date</td><td class=\"xn\" title=\"1 0\">2014.0</td><td class=\"\" title=\"2 0\"></td><td class=\"\" title=\"3 0\"></td></tr>\n",
       "<tr><td class=\"\" title=\"0 1\"></td><td class=\"\" title=\"1 1\"></td><td class=\"\" title=\"2 1\"></td><td class=\"\" title=\"3 1\"></td></tr>\n",
       "<tr><td class=\"\" title=\"0 2\"></td><td class=\"\" title=\"1 2\">Cars</td><td class=\"\" title=\"2 2\">Planes</td><td class=\"\" title=\"3 2\">Trains</td></tr>\n",
       "<tr><td class=\"\" title=\"0 3\">John</td><td class=\"xc0 xn\" title=\"1 3\">2.0</td><td class=\"xc0 xn\" title=\"2 3\">2.0</td><td class=\"xc0 xn\" title=\"3 3\">1.0</td></tr>\n",
       "<tr><td class=\"\" title=\"0 4\">Paul</td><td class=\"xc0 xn\" title=\"1 4\">3.0</td><td class=\"xc0 xn\" title=\"2 4\">3.0</td><td class=\"xc0 xn\" title=\"3 4\">2.0</td></tr>\n",
       "<tr><td class=\"\" title=\"0 5\">Ringo</td><td class=\"xc0 xn\" title=\"1 5\">4.0</td><td class=\"xc0 xn\" title=\"2 5\">1.0</td><td class=\"xc0 xn\" title=\"3 5\">3.0</td></tr>\n",
       "<tr><td class=\"\" title=\"0 6\">George</td><td class=\"xc0 xn\" title=\"1 6\">2.0</td><td class=\"xc0 xn\" title=\"2 6\">5.0</td><td class=\"xc0 xn\" title=\"3 6\">5.0</td></tr>\n",
       "</table>\n",
       "\n",
       "</div>\n"
      ],
      "text/plain": [
       "<IPython.core.display.HTML object>"
      ]
     },
     "metadata": {},
     "output_type": "display_data"
    }
   ],
   "source": [
    "# It's important to select the observations as one of the sets\n",
    "obs = tab.excel_ref('B4').expand(DOWN).expand(RIGHT).is_not_blank().is_not_whitespace()\n",
    "savepreviewhtml(obs)"
   ]
  },
  {
   "cell_type": "code",
   "execution_count": 13,
   "metadata": {
    "collapsed": false
   },
   "outputs": [
    {
     "data": {
      "text/plain": [
       "{<C4 2.0>, <B7 2.0>, <B5 3.0>, <D6 3.0>, <C7 5.0>, <C6 1.0>, <B4 2.0>, <D7 5.0>, <D4 1.0>, <C5 3.0>, <B6 4.0>, <D5 2.0>}"
      ]
     },
     "execution_count": 13,
     "metadata": {},
     "output_type": "execute_result"
    }
   ],
   "source": [
    "# You can also print the bag of unordered cells in one of these sets\n",
    "# There are 12 here\n",
    "obs\n"
   ]
  },
  {
   "cell_type": "code",
   "execution_count": 14,
   "metadata": {
    "collapsed": false
   },
   "outputs": [
    {
     "data": {
      "text/html": [
       "<div id=\"injblock1008\">#injblock1008\n",
       "<style>\n",
       "table.ex, table.exkey { border: thin black solid }\n",
       "table.ex td, table.ex tr { border: none }\n",
       "td.xb { font-weight: bold }\n",
       "td.xn { color: green }\n",
       "td.xd { color: purple }\n",
       "table { border-collapse: collapse }\n",
       "td.xc0 { background-color: Aqua }\n",
       "td.xc1 { background-color: LightGreen }\n",
       "td.xc2 { background-color: PaleTurquoise }\n",
       "td.xc3 { background-color: LightBlue }\n",
       "td.xc4 { background-color: SkyBlue }\n",
       "td.xc5 { background-color: Plum }\n",
       "td.xc6 { background-color: Gold }\n",
       "td.xc7 { background-color: Lime }\n",
       "td.xc8 { background-color: Coral }\n",
       "td.xc9 { background-color: BurlyWood }\n",
       "td.xc10 { background-color: CornflowerBlue }\n",
       "td.xc-2 { background-color: MistyRose }\n",
       "td.xc-9 { background-color: Lavender }\n",
       "td.xc-8 { background-color: Violet }\n",
       "td.xc-7 { background-color: LightGray }\n",
       "td.xc-6 { background-color: SeaGreen }\n",
       "td.xc-5 { background-color: DeepSkyBlue }\n",
       "td.xc-4 { background-color: Blue }\n",
       "td.xc-3 { background-color: LightGray }\n",
       "td.xc-1 { background-color: Tan }\n",
       "table.ex td:hover { border: thin blue solid }\n",
       "table.ex td.exc-9:hover { border: thin red solid }\n",
       "table.ex td.selected { background-color: red; border: thin blue dotted }\n",
       "</style>\n",
       "\n",
       "\n",
       "Table: <b>beatles</b> <table class=\"exkey\">\n",
       "<tr><td class=\"xc0\">item 0</td><td class=\"xc1\">item 1</td></tr></table>\n",
       "\n",
       "<table class=\"ex\">\n",
       "<tr><td class=\"\" title=\"0 0\">Date</td><td class=\"xn\" title=\"1 0\">2014.0</td><td class=\"\" title=\"2 0\"></td><td class=\"\" title=\"3 0\"></td></tr>\n",
       "<tr><td class=\"\" title=\"0 1\"></td><td class=\"\" title=\"1 1\"></td><td class=\"\" title=\"2 1\"></td><td class=\"\" title=\"3 1\"></td></tr>\n",
       "<tr><td class=\"\" title=\"0 2\"></td><td class=\"xc0\" title=\"1 2\">Cars</td><td class=\"xc0\" title=\"2 2\">Planes</td><td class=\"xc0\" title=\"3 2\">Trains</td></tr>\n",
       "<tr><td class=\"xc1\" title=\"0 3\">John</td><td class=\"xn\" title=\"1 3\">2.0</td><td class=\"xn\" title=\"2 3\">2.0</td><td class=\"xn\" title=\"3 3\">1.0</td></tr>\n",
       "<tr><td class=\"xc1\" title=\"0 4\">Paul</td><td class=\"xn\" title=\"1 4\">3.0</td><td class=\"xn\" title=\"2 4\">3.0</td><td class=\"xn\" title=\"3 4\">2.0</td></tr>\n",
       "<tr><td class=\"xc1\" title=\"0 5\">Ringo</td><td class=\"xn\" title=\"1 5\">4.0</td><td class=\"xn\" title=\"2 5\">1.0</td><td class=\"xn\" title=\"3 5\">3.0</td></tr>\n",
       "<tr><td class=\"xc1\" title=\"0 6\">George</td><td class=\"xn\" title=\"1 6\">2.0</td><td class=\"xn\" title=\"2 6\">5.0</td><td class=\"xn\" title=\"3 6\">5.0</td></tr>\n",
       "</table>\n",
       "\n",
       "</div>\n"
      ],
      "text/plain": [
       "<IPython.core.display.HTML object>"
      ]
     },
     "metadata": {},
     "output_type": "display_data"
    },
    {
     "name": "stdout",
     "output_type": "stream",
     "text": [
      "r1 is {<B3 'Cars'>, <D3 'Trains'>, <C3 'Planes'>}\n",
      "r2 is {<A6 'Ringo'>, <A7 'George'>, <A5 'Paul'>, <A4 'John'>}\n"
     ]
    }
   ],
   "source": [
    "# preview also works on a list of bags\n",
    "r1 = tab.excel_ref('B3').expand(RIGHT)\n",
    "r2 = tab.excel_ref('A3').fill(DOWN)\n",
    "savepreviewhtml([r1, r2])\n",
    "print(\"r1 is\", r1)\n",
    "print(\"r2 is\", r2)"
   ]
  },
  {
   "cell_type": "code",
   "execution_count": 15,
   "metadata": {
    "collapsed": false
   },
   "outputs": [
    {
     "name": "stdout",
     "output_type": "stream",
     "text": [
      "Obs {<B4 2.0>} maps to (<B3 'Cars'>, 'Cars')\n",
      "Obs {<C4 2.0>} maps to (<C3 'Planes'>, 'Planes')\n",
      "Obs {<D4 1.0>} maps to (<D3 'Trains'>, 'Trains')\n",
      "Obs {<B5 3.0>} maps to (<B3 'Cars'>, 'Cars')\n",
      "Obs {<C5 3.0>} maps to (<C3 'Planes'>, 'Planes')\n",
      "Obs {<D5 2.0>} maps to (<D3 'Trains'>, 'Trains')\n",
      "Obs {<B6 4.0>} maps to (<B3 'Cars'>, 'Cars')\n",
      "Obs {<C6 1.0>} maps to (<C3 'Planes'>, 'Planes')\n",
      "Obs {<D6 3.0>} maps to (<D3 'Trains'>, 'Trains')\n",
      "Obs {<B7 2.0>} maps to (<B3 'Cars'>, 'Cars')\n",
      "Obs {<C7 5.0>} maps to (<C3 'Planes'>, 'Planes')\n",
      "Obs {<D7 5.0>} maps to (<D3 'Trains'>, 'Trains')\n"
     ]
    }
   ],
   "source": [
    "# A dimension is an HDim object that shows how an observation is connected \n",
    "# to a heading set, like this:\n",
    "h1 = HDim(r1, \"Vehicles\", DIRECTLY, ABOVE)\n",
    "\n",
    "# You can look each one up, like this:\n",
    "for ob in obs:\n",
    "    print(\"Obs\", ob, \"maps to\", h1.cellvalobs(ob))"
   ]
  },
  {
   "cell_type": "code",
   "execution_count": 16,
   "metadata": {
    "collapsed": false
   },
   "outputs": [
    {
     "name": "stdout",
     "output_type": "stream",
     "text": [
      "Obs {<B4 2.0>} maps to (<B3 'Cars'>, 'Horses')\n",
      "Obs {<C4 2.0>} maps to (<C3 'Planes'>, 'Planes')\n",
      "Obs {<D4 1.0>} maps to (<D3 'Trains'>, 'Trains')\n",
      "Obs {<B5 3.0>} maps to (<B3 'Cars'>, 'Horses')\n",
      "Obs {<C5 3.0>} maps to (<C3 'Planes'>, 'Planes')\n",
      "Obs {<D5 2.0>} maps to (<D3 'Trains'>, 'Trains')\n",
      "Obs {<B6 4.0>} maps to (<B3 'Cars'>, 'Horses')\n",
      "Obs {<C6 1.0>} maps to (<C3 'Planes'>, 'Planes')\n",
      "Obs {<D6 3.0>} maps to (<D3 'Trains'>, 'Trains')\n",
      "Obs {<B7 2.0>} maps to (<B3 'Cars'>, 'Horses')\n",
      "Obs {<C7 5.0>} maps to (<C3 'Planes'>, 'Planes')\n",
      "Obs {<D7 5.0>} maps to (<D3 'Trains'>, 'Trains')\n"
     ]
    }
   ],
   "source": [
    "# Notice how h1.cellvalobs() gives both the header cell and its value\n",
    "# This is because we can override the value with cellvalueoverride lookup dict\n",
    "\n",
    "# For example, we can map its string value to something else, like so\n",
    "h1.cellvalueoverride[\"Cars\"] = \"Horses\"\n",
    "for ob in obs:\n",
    "    print(\"Obs\", ob, \"maps to\", h1.cellvalobs(ob))"
   ]
  },
  {
   "cell_type": "code",
   "execution_count": 17,
   "metadata": {
    "collapsed": false
   },
   "outputs": [
    {
     "name": "stdout",
     "output_type": "stream",
     "text": [
      "Obs {<B4 2.0>} maps to (<B3 'Cars'>, 'Horses')\n",
      "Obs {<C4 2.0>} maps to (<C3 'Planes'>, 'Submarines')\n",
      "Obs {<D4 1.0>} maps to (<D3 'Trains'>, 'Trains')\n",
      "Obs {<B5 3.0>} maps to (<B3 'Cars'>, 'Horses')\n",
      "Obs {<C5 3.0>} maps to (<C3 'Planes'>, 'Submarines')\n",
      "Obs {<D5 2.0>} maps to (<D3 'Trains'>, 'Trains')\n",
      "Obs {<B6 4.0>} maps to (<B3 'Cars'>, 'Horses')\n",
      "Obs {<C6 1.0>} maps to (<C3 'Planes'>, 'Submarines')\n",
      "Obs {<D6 3.0>} maps to (<D3 'Trains'>, 'Trains')\n",
      "Obs {<B7 2.0>} maps to (<B3 'Cars'>, 'Horses')\n",
      "Obs {<C7 5.0>} maps to (<C3 'Planes'>, 'Submarines')\n",
      "Obs {<D7 5.0>} maps to (<D3 'Trains'>, 'Trains')\n"
     ]
    }
   ],
   "source": [
    "# Alternatively, you can override the reference to a single cell to a value \n",
    "# rather than applying the mapping to its value, like so:\n",
    "c3cell = tab.excel_ref('C3')._cell\n",
    "h1.cellvalueoverride[c3cell] = \"Submarines\"\n",
    "for ob in obs:\n",
    "    print(\"Obs\", ob, \"maps to\", h1.cellvalobs(ob))"
   ]
  },
  {
   "cell_type": "code",
   "execution_count": 18,
   "metadata": {
    "collapsed": false
   },
   "outputs": [
    {
     "name": "stdout",
     "output_type": "stream",
     "text": [
      "Obs {<B4 2.0>} maps to (None, 'Clouds')\n",
      "Obs {<C4 2.0>} maps to (<C3 'Planes'>, 'Submarines')\n",
      "Obs {<D4 1.0>} maps to (<D3 'Trains'>, 'Trains')\n",
      "Obs {<B5 3.0>} maps to (<B3 'Cars'>, 'Horses')\n",
      "Obs {<C5 3.0>} maps to (<C3 'Planes'>, 'Submarines')\n",
      "Obs {<D5 2.0>} maps to (<D3 'Trains'>, 'Trains')\n",
      "Obs {<B6 4.0>} maps to (<B3 'Cars'>, 'Horses')\n",
      "Obs {<C6 1.0>} maps to (<C3 'Planes'>, 'Submarines')\n",
      "Obs {<D6 3.0>} maps to (<D3 'Trains'>, 'Trains')\n",
      "Obs {<B7 2.0>} maps to (<B3 'Cars'>, 'Horses')\n",
      "Obs {<C7 5.0>} maps to (<C3 'Planes'>, 'Submarines')\n",
      "Obs {<D7 5.0>} maps to (<D3 'Trains'>, 'Trains')\n"
     ]
    }
   ],
   "source": [
    "# Finally, you can override the header value for a single element\n",
    "# to the value you want.  This takes top priority\n",
    "b4cell = tab.excel_ref('B4')._cell\n",
    "h1.cellvalueoverride[b4cell] = \"Clouds\"\n",
    "for ob in obs:\n",
    "    print(\"Obs\", ob, \"maps to\", h1.cellvalobs(ob))"
   ]
  },
  {
   "cell_type": "code",
   "execution_count": 19,
   "metadata": {
    "collapsed": false
   },
   "outputs": [
    {
     "name": "stdout",
     "output_type": "stream",
     "text": [
      "Obs {<B1 2014.0>} maps to (None, None)\n"
     ]
    }
   ],
   "source": [
    "# Notice that in that last case referencing the obs cell\n",
    "# that no heading cell was found.  \n",
    "\n",
    "# We can use this feature to manage default no-lookup values, \n",
    "# for example, take this cell here that doesn't have a valid lookup \n",
    "# under the DIRECTLY, ABOVE to the r1-set rule\n",
    "ob = tab.excel_ref('B1')\n",
    "print(\"Obs\", ob, \"maps to\", h1.cellvalobs(ob))"
   ]
  },
  {
   "cell_type": "code",
   "execution_count": 20,
   "metadata": {
    "collapsed": false
   },
   "outputs": [
    {
     "name": "stdout",
     "output_type": "stream",
     "text": [
      "Obs {<B1 2014.0>} maps to (None, 'Who knows?')\n"
     ]
    }
   ],
   "source": [
    "# But we can set the override to map None to a default value\n",
    "h1.cellvalueoverride[None] = \"Who knows?\"\n",
    "print(\"Obs\", ob, \"maps to\", h1.cellvalobs(ob))"
   ]
  },
  {
   "cell_type": "code",
   "execution_count": 21,
   "metadata": {
    "collapsed": false
   },
   "outputs": [
    {
     "name": "stdout",
     "output_type": "stream",
     "text": [
      "Obs {<B1 2014.0>} maps to (None, 'Beatles')\n"
     ]
    }
   ],
   "source": [
    "# This leads us onto a new feature, of a constant value dimension over the \n",
    "# whole obs set by referring to a None header set\n",
    "h3 = HDim(None, \"Category\", cellvalueoverride={None:\"Beatles\"})\n",
    "print(\"Obs\", ob, \"maps to\", h3.cellvalobs(ob))"
   ]
  },
  {
   "cell_type": "code",
   "execution_count": 22,
   "metadata": {
    "collapsed": false
   },
   "outputs": [
    {
     "name": "stdout",
     "output_type": "stream",
     "text": [
      "Obs {<B4 2.0>} maps to (None, 'Beatles')\n",
      "Obs {<C4 2.0>} maps to (None, 'Beatles')\n",
      "Obs {<D4 1.0>} maps to (None, 'Beatles')\n",
      "Obs {<B5 3.0>} maps to (None, 'Beatles')\n",
      "Obs {<C5 3.0>} maps to (None, 'Beatles')\n",
      "Obs {<D5 2.0>} maps to (None, 'Beatles')\n",
      "Obs {<B6 4.0>} maps to (None, 'Beatles')\n",
      "Obs {<C6 1.0>} maps to (None, 'Beatles')\n",
      "Obs {<D6 3.0>} maps to (None, 'Beatles')\n",
      "Obs {<B7 2.0>} maps to (None, 'Beatles')\n",
      "Obs {<C7 5.0>} maps to (None, 'Beatles')\n",
      "Obs {<D7 5.0>} maps to (None, 'Beatles')\n"
     ]
    }
   ],
   "source": [
    "# Notice that you can set the cellvalueoverride dict in the constructor if you don't \n",
    "# mind having very long statements.  \n",
    "\n",
    "# But in this special case of a constant dimension we have a helper function which \n",
    "# does exactly the same thing\n",
    "h3 = HDim(None, \"Category\", cellvalueoverride={None:\"Beatles\"})\n",
    "h3 = HDimConst(\"Category\", \"Beatles\")\n",
    "for ob in obs:\n",
    "    print(\"Obs\", ob, \"maps to\", h3.cellvalobs(ob))"
   ]
  },
  {
   "cell_type": "code",
   "execution_count": 23,
   "metadata": {
    "collapsed": false
   },
   "outputs": [
    {
     "data": {
      "text/html": [
       "<div id=\"injblock1009\">#injblock1009\n",
       "<style>\n",
       "table.ex, table.exkey { border: thin black solid }\n",
       "table.ex td, table.ex tr { border: none }\n",
       "td.xb { font-weight: bold }\n",
       "td.xn { color: green }\n",
       "td.xd { color: purple }\n",
       "table { border-collapse: collapse }\n",
       "td.xc0 { background-color: Aqua }\n",
       "td.xc1 { background-color: LightGreen }\n",
       "td.xc2 { background-color: PaleTurquoise }\n",
       "td.xc3 { background-color: LightBlue }\n",
       "td.xc4 { background-color: SkyBlue }\n",
       "td.xc5 { background-color: Plum }\n",
       "td.xc6 { background-color: Gold }\n",
       "td.xc7 { background-color: Lime }\n",
       "td.xc8 { background-color: Coral }\n",
       "td.xc9 { background-color: BurlyWood }\n",
       "td.xc10 { background-color: CornflowerBlue }\n",
       "td.xc-2 { background-color: MistyRose }\n",
       "td.xc-9 { background-color: Lavender }\n",
       "td.xc-8 { background-color: Violet }\n",
       "td.xc-7 { background-color: LightGray }\n",
       "td.xc-6 { background-color: SeaGreen }\n",
       "td.xc-5 { background-color: DeepSkyBlue }\n",
       "td.xc-4 { background-color: Blue }\n",
       "td.xc-3 { background-color: LightGray }\n",
       "td.xc-1 { background-color: Tan }\n",
       "table.ex td:hover { border: thin blue solid }\n",
       "table.ex td.exc-9:hover { border: thin red solid }\n",
       "table.ex td.selected { background-color: red; border: thin blue dotted }\n",
       "</style>\n",
       "\n",
       "\n",
       "Table: <b>beatles</b> <table class=\"exkey\">\n",
       "<tr><td class=\"xc-9\">OBS</td><td class=\"xc0\">TIME</td><td class=\"xc1\">Vehicles</td><td class=\"xc2\">Name</td></tr></table>\n",
       "\n",
       "<table class=\"ex\">\n",
       "<tr><td class=\"\" title=\"0 0\">Date</td><td class=\"xc0 xn\" title=\"1 0\">2014.0</td><td class=\"\" title=\"2 0\"></td><td class=\"\" title=\"3 0\"></td></tr>\n",
       "<tr><td class=\"\" title=\"0 1\"></td><td class=\"\" title=\"1 1\"></td><td class=\"\" title=\"2 1\"></td><td class=\"\" title=\"3 1\"></td></tr>\n",
       "<tr><td class=\"\" title=\"0 2\"></td><td class=\"xc1\" title=\"1 2\">Cars</td><td class=\"xc1\" title=\"2 2\">Planes</td><td class=\"xc1\" title=\"3 2\">Trains</td></tr>\n",
       "<tr><td class=\"xc2\" title=\"0 3\">John</td><td class=\"xc-9 xn\" title=\"1 3\">2.0</td><td class=\"xc-9 xn\" title=\"2 3\">2.0</td><td class=\"xc-9 xn\" title=\"3 3\">1.0</td></tr>\n",
       "<tr><td class=\"xc2\" title=\"0 4\">Paul</td><td class=\"xc-9 xn\" title=\"1 4\">3.0</td><td class=\"xc-9 xn\" title=\"2 4\">3.0</td><td class=\"xc-9 xn\" title=\"3 4\">2.0</td></tr>\n",
       "<tr><td class=\"xc2\" title=\"0 5\">Ringo</td><td class=\"xc-9 xn\" title=\"1 5\">4.0</td><td class=\"xc-9 xn\" title=\"2 5\">1.0</td><td class=\"xc-9 xn\" title=\"3 5\">3.0</td></tr>\n",
       "<tr><td class=\"xc2\" title=\"0 6\">George</td><td class=\"xc-9 xn\" title=\"1 6\">2.0</td><td class=\"xc-9 xn\" title=\"2 6\">5.0</td><td class=\"xc-9 xn\" title=\"3 6\">5.0</td></tr>\n",
       "</table>\n",
       "\n",
       "</div>\n",
       "\n",
       "<script>\n",
       "var jslookup = {\"2 3\":[1,0,2,2,0,3],\"1 6\":[1,0,1,2,0,6],\"1 4\":[1,0,1,2,0,4],\"3 5\":[1,0,3,2,0,5],\"2 6\":[1,0,2,2,0,6],\"2 5\":[1,0,2,2,0,5],\"1 3\":[1,0,1,2,0,3],\"3 6\":[1,0,3,2,0,6],\"3 3\":[1,0,3,2,0,3],\"2 4\":[1,0,2,2,0,4],\"1 5\":[1,0,1,2,0,5],\"3 4\":[1,0,3,2,0,4]}; \n",
       "var jdividNUM = \"injblock1009\"; \n",
       "var Dclickedcell = null; \n",
       "function clickedcell() \n",
       "{ \n",
       "    Dclickedcell = this; \n",
       "    console.log(\"jjjj\", this); \n",
       "    var rgc = new RegExp('(^|\\b)' + \"selected\".split(' ').join('|') + '(\\b|$)', 'gi'); \n",
       "    Array.prototype.forEach.call(document.querySelectorAll(\"div#\"+jdividNUM+\" table.ex td.selected\"), function(el, i) { \n",
       "        if (el.classList)  el.classList.remove(\"selected\");\n",
       "        else  el.className = el.className.replace(rgc, ' ');\n",
       "    }); \n",
       "    if (this.classList)  this.classList.add(\"selected\");\n",
       "    else this.className += ' ' + \"selected\";\n",
       "\n",
       "    var dimpairs = jslookup[this.title]; \n",
       "    if (dimpairs !== undefined) {\n",
       "        for (var i = 1; i < dimpairs.length; i += 2) {\n",
       "            var row = document.querySelectorAll(\"div#\"+jdividNUM+\" table.ex tr\")[dimpairs[i]]; \n",
       "            var el = row.querySelectorAll(\"td\")[dimpairs[i-1]]; \n",
       "            if (el.classList)  el.classList.add(\"selected\");\n",
       "            else el.className += ' ' + \"selected\";\n",
       "        }\n",
       "    }\n",
       "}\n",
       "Array.prototype.forEach.call(document.querySelectorAll(\"div#\"+jdividNUM+\" table.ex td\"), function(item, i) { item.onclick=clickedcell; }); \n",
       "</script>\n"
      ],
      "text/plain": [
       "<IPython.core.display.HTML object>"
      ]
     },
     "metadata": {},
     "output_type": "display_data"
    }
   ],
   "source": [
    "# Let's put these all together into one list of dimensions and roll them into \n",
    "# nice big ConversionSegment, which we can preview\n",
    "dimensions = [ \n",
    "    HDim(tab.excel_ref('B1'), TIME, CLOSEST, ABOVE), \n",
    "    HDim(r1, \"Vehicles\", DIRECTLY, ABOVE), \n",
    "    HDim(r2, \"Name\", DIRECTLY, LEFT), \n",
    "    HDimConst(\"Category\", \"Beatles\")\n",
    "]\n",
    "c1 = ConversionSegment(tab, dimensions, obs)\n",
    "savepreviewhtml(c1)\n"
   ]
  },
  {
   "cell_type": "code",
   "execution_count": 24,
   "metadata": {
    "collapsed": false
   },
   "outputs": [
    {
     "name": "stdout",
     "output_type": "stream",
     "text": [
      "{'Name': 'John', 'Vehicles': 'Cars', 'Category': 'Beatles', -2: 2014.0, -9: 2.0}\n",
      "{'Name': 'John', 'Vehicles': 'Planes', 'Category': 'Beatles', -2: 2014.0, -9: 2.0}\n",
      "{'Name': 'John', 'Vehicles': 'Trains', 'Category': 'Beatles', -2: 2014.0, -9: 1.0}\n",
      "{'Name': 'Paul', 'Vehicles': 'Cars', 'Category': 'Beatles', -2: 2014.0, -9: 3.0}\n",
      "{'Name': 'Paul', 'Vehicles': 'Planes', 'Category': 'Beatles', -2: 2014.0, -9: 3.0}\n",
      "{'Name': 'Paul', 'Vehicles': 'Trains', 'Category': 'Beatles', -2: 2014.0, -9: 2.0}\n",
      "{'Name': 'Ringo', 'Vehicles': 'Cars', 'Category': 'Beatles', -2: 2014.0, -9: 4.0}\n",
      "{'Name': 'Ringo', 'Vehicles': 'Planes', 'Category': 'Beatles', -2: 2014.0, -9: 1.0}\n",
      "{'Name': 'Ringo', 'Vehicles': 'Trains', 'Category': 'Beatles', -2: 2014.0, -9: 3.0}\n",
      "{'Name': 'George', 'Vehicles': 'Cars', 'Category': 'Beatles', -2: 2014.0, -9: 2.0}\n",
      "{'Name': 'George', 'Vehicles': 'Planes', 'Category': 'Beatles', -2: 2014.0, -9: 5.0}\n",
      "{'Name': 'George', 'Vehicles': 'Trains', 'Category': 'Beatles', -2: 2014.0, -9: 5.0}\n"
     ]
    }
   ],
   "source": [
    "# Try clicking on the OBS cells above to see how the cells connect to the headings\n",
    "\n",
    "# Sometimes it's useful to see the raw values as they are looked up\n",
    "for ob in c1.segment:\n",
    "    print(c1.lookupobs(ob))"
   ]
  },
  {
   "cell_type": "code",
   "execution_count": 16,
   "metadata": {
    "collapsed": false
   },
   "outputs": [
    {
     "name": "stdout",
     "output_type": "stream",
     "text": [
      "-1 TIMEUNIT\n",
      "-2 TIME\n",
      "-3 GEOG\n",
      "-4 UNITOFMEASURE\n",
      "-5 UNITMULTIPLIER\n",
      "-6 MEASURETYPE\n",
      "-7 STATUNIT\n",
      "-8 DATAMARKER\n",
      "-9 OBS\n",
      "-10 STATPOP\n"
     ]
    }
   ],
   "source": [
    "# The negative key values are from the ONS base template set.  The lookup values can be listed here:\n",
    "for i in range(1, len(template.dimension_names)+1):\n",
    "    print(-i, template.dimension_names[len(databaker.constants.template.dimension_names)-1+(-i)])\n"
   ]
  },
  {
   "cell_type": "code",
   "execution_count": 17,
   "metadata": {
    "collapsed": false
   },
   "outputs": [
    {
     "data": {
      "text/html": [
       "<div>\n",
       "<table border=\"1\" class=\"dataframe\">\n",
       "  <thead>\n",
       "    <tr style=\"text-align: right;\">\n",
       "      <th></th>\n",
       "      <th>Vehicles</th>\n",
       "      <th>Name</th>\n",
       "      <th>Category</th>\n",
       "      <th>-9</th>\n",
       "      <th>-1</th>\n",
       "      <th>-2</th>\n",
       "    </tr>\n",
       "  </thead>\n",
       "  <tbody>\n",
       "    <tr>\n",
       "      <th>0</th>\n",
       "      <td>Cars</td>\n",
       "      <td>John</td>\n",
       "      <td>Beatles</td>\n",
       "      <td>2.0</td>\n",
       "      <td>Year</td>\n",
       "      <td>2014.0</td>\n",
       "    </tr>\n",
       "    <tr>\n",
       "      <th>1</th>\n",
       "      <td>Planes</td>\n",
       "      <td>John</td>\n",
       "      <td>Beatles</td>\n",
       "      <td>2.0</td>\n",
       "      <td>Year</td>\n",
       "      <td>2014.0</td>\n",
       "    </tr>\n",
       "    <tr>\n",
       "      <th>2</th>\n",
       "      <td>Trains</td>\n",
       "      <td>John</td>\n",
       "      <td>Beatles</td>\n",
       "      <td>1.0</td>\n",
       "      <td>Year</td>\n",
       "      <td>2014.0</td>\n",
       "    </tr>\n",
       "    <tr>\n",
       "      <th>3</th>\n",
       "      <td>Cars</td>\n",
       "      <td>Paul</td>\n",
       "      <td>Beatles</td>\n",
       "      <td>3.0</td>\n",
       "      <td>Year</td>\n",
       "      <td>2014.0</td>\n",
       "    </tr>\n",
       "    <tr>\n",
       "      <th>4</th>\n",
       "      <td>Planes</td>\n",
       "      <td>Paul</td>\n",
       "      <td>Beatles</td>\n",
       "      <td>3.0</td>\n",
       "      <td>Year</td>\n",
       "      <td>2014.0</td>\n",
       "    </tr>\n",
       "    <tr>\n",
       "      <th>5</th>\n",
       "      <td>Trains</td>\n",
       "      <td>Paul</td>\n",
       "      <td>Beatles</td>\n",
       "      <td>2.0</td>\n",
       "      <td>Year</td>\n",
       "      <td>2014.0</td>\n",
       "    </tr>\n",
       "    <tr>\n",
       "      <th>6</th>\n",
       "      <td>Cars</td>\n",
       "      <td>Ringo</td>\n",
       "      <td>Beatles</td>\n",
       "      <td>4.0</td>\n",
       "      <td>Year</td>\n",
       "      <td>2014.0</td>\n",
       "    </tr>\n",
       "    <tr>\n",
       "      <th>7</th>\n",
       "      <td>Planes</td>\n",
       "      <td>Ringo</td>\n",
       "      <td>Beatles</td>\n",
       "      <td>1.0</td>\n",
       "      <td>Year</td>\n",
       "      <td>2014.0</td>\n",
       "    </tr>\n",
       "    <tr>\n",
       "      <th>8</th>\n",
       "      <td>Trains</td>\n",
       "      <td>Ringo</td>\n",
       "      <td>Beatles</td>\n",
       "      <td>3.0</td>\n",
       "      <td>Year</td>\n",
       "      <td>2014.0</td>\n",
       "    </tr>\n",
       "    <tr>\n",
       "      <th>9</th>\n",
       "      <td>Cars</td>\n",
       "      <td>George</td>\n",
       "      <td>Beatles</td>\n",
       "      <td>2.0</td>\n",
       "      <td>Year</td>\n",
       "      <td>2014.0</td>\n",
       "    </tr>\n",
       "    <tr>\n",
       "      <th>10</th>\n",
       "      <td>Planes</td>\n",
       "      <td>George</td>\n",
       "      <td>Beatles</td>\n",
       "      <td>5.0</td>\n",
       "      <td>Year</td>\n",
       "      <td>2014.0</td>\n",
       "    </tr>\n",
       "    <tr>\n",
       "      <th>11</th>\n",
       "      <td>Trains</td>\n",
       "      <td>George</td>\n",
       "      <td>Beatles</td>\n",
       "      <td>5.0</td>\n",
       "      <td>Year</td>\n",
       "      <td>2014.0</td>\n",
       "    </tr>\n",
       "  </tbody>\n",
       "</table>\n",
       "</div>"
      ],
      "text/plain": [
       "   Vehicles    Name Category   -9    -1      -2\n",
       "0      Cars    John  Beatles  2.0  Year  2014.0\n",
       "1    Planes    John  Beatles  2.0  Year  2014.0\n",
       "2    Trains    John  Beatles  1.0  Year  2014.0\n",
       "3      Cars    Paul  Beatles  3.0  Year  2014.0\n",
       "4    Planes    Paul  Beatles  3.0  Year  2014.0\n",
       "5    Trains    Paul  Beatles  2.0  Year  2014.0\n",
       "6      Cars   Ringo  Beatles  4.0  Year  2014.0\n",
       "7    Planes   Ringo  Beatles  1.0  Year  2014.0\n",
       "8    Trains   Ringo  Beatles  3.0  Year  2014.0\n",
       "9      Cars  George  Beatles  2.0  Year  2014.0\n",
       "10   Planes  George  Beatles  5.0  Year  2014.0\n",
       "11   Trains  George  Beatles  5.0  Year  2014.0"
      ]
     },
     "execution_count": 17,
     "metadata": {},
     "output_type": "execute_result"
    }
   ],
   "source": [
    "# If you want to use pandas on this ConversionSegment, we have a handy function that does it\n",
    "# (Pandas is very hard to learn, but very powerful indeed.  If you are going to be doing things \n",
    "# with data as part of your work for more than a year, it will pay back oodles if you \n",
    "# invest the time to master it.)\n",
    "df = topandas(c1)\n",
    "df"
   ]
  },
  {
   "cell_type": "code",
   "execution_count": 18,
   "metadata": {
    "collapsed": false
   },
   "outputs": [
    {
     "name": "stdout",
     "output_type": "stream",
     "text": [
      "observation,data_marking,statistical_unit_eng,statistical_unit_cym,measure_type_eng,measure_type_cym,observation_type,empty,obs_type_value,unit_multiplier,unit_of_measure_eng,unit_of_measure_cym,confidentuality,empty1,geographic_area,empty2,empty3,time_dim_item_id,time_dim_item_label_eng,time_dim_item_label_cym,time_type,empty4,statistical_population_id,statistical_population_label_eng,statistical_population_label_cym,cdid,cdiddescrip,empty5,empty6,empty7,empty8,empty9,empty10,empty11,empty12,dim_id_1,dimension_label_eng_1,dimension_label_cym_1,dim_item_id_1,dimension_item_label_eng_1,dimension_item_label_cym_1,is_total_1,is_sub_total_1,dim_id_2,dimension_label_eng_2,dimension_label_cym_2,dim_item_id_2,dimension_item_label_eng_2,dimension_item_label_cym_2,is_total_2,is_sub_total_2,dim_id_3,dimension_label_eng_3,dimension_label_cym_3,dim_item_id_3,dimension_item_label_eng_3,dimension_item_label_cym_3,is_total_3,is_sub_total_3\r\n",
      "2.0,,,,,,,,,,,,,,,,,2014.0,2014.0,,Year,,,,,,,,,,,,,,,Vehicles,Vehicles,,Cars,Cars,,,,Name,Name,,John,John,,,,Category,Category,,Beatles,Beatles,,,\r\n",
      "2.0,,,,,,,,,,,,,,,,,2014.0,2014.0,,Year,,,,,,,,,,,,,,,Vehicles,Vehicles,,Planes,Planes,,,,Name,Name,,John,John,,,,Category,Category,,Beatles,Beatles,,,\r\n",
      "1.0,,,,,,,,,,,,,,,,,2014.0,2014.0,,Year,,,,,,,,,,,,,,,Vehicles,Vehicles,,Trains,Trains,,,,Name,Name,,John,John,,,,Category,Category,,Beatles,Beatles,,,\r\n",
      "3.0,,,,,,,,,,,,,,,,,2014.0,2014.0,,Year,,,,,,,,,,,,,,,Vehicles,Vehicles,,Cars,Cars,,,,Name,Name,,Paul,Paul,,,,Category,Category,,Beatles,Beatles,,,\r\n",
      "3.0,,,,,,,,,,,,,,,,,2014.0,2014.0,,Year,,,,,,,,,,,,,,,Vehicles,Vehicles,,Planes,Planes,,,,Name,Name,,Paul,Paul,,,,Category,Category,,Beatles,Beatles,,,\r\n",
      "2.0,,,,,,,,,,,,,,,,,2014.0,2014.0,,Year,,,,,,,,,,,,,,,Vehicles,Vehicles,,Trains,Trains,,,,Name,Name,,Paul,Paul,,,,Category,Category,,Beatles,Beatles,,,\r\n",
      "4.0,,,,,,,,,,,,,,,,,2014.0,2014.0,,Year,,,,,,,,,,,,,,,Vehicles,Vehicles,,Cars,Cars,,,,Name,Name,,Ringo,Ringo,,,,Category,Category,,Beatles,Beatles,,,\r\n",
      "1.0,,,,,,,,,,,,,,,,,2014.0,2014.0,,Year,,,,,,,,,,,,,,,Vehicles,Vehicles,,Planes,Planes,,,,Name,Name,,Ringo,Ringo,,,,Category,Category,,Beatles,Beatles,,,\r\n",
      "3.0,,,,,,,,,,,,,,,,,2014.0,2014.0,,Year,,,,,,,,,,,,,,,Vehicles,Vehicles,,Trains,Trains,,,,Name,Name,,Ringo,Ringo,,,,Category,Category,,Beatles,Beatles,,,\r\n",
      "2.0,,,,,,,,,,,,,,,,,2014.0,2014.0,,Year,,,,,,,,,,,,,,,Vehicles,Vehicles,,Cars,Cars,,,,Name,Name,,George,George,,,,Category,Category,,Beatles,Beatles,,,\r\n",
      "5.0,,,,,,,,,,,,,,,,,2014.0,2014.0,,Year,,,,,,,,,,,,,,,Vehicles,Vehicles,,Planes,Planes,,,,Name,Name,,George,George,,,,Category,Category,,Beatles,Beatles,,,\r\n",
      "5.0,,,,,,,,,,,,,,,,,2014.0,2014.0,,Year,,,,,,,,,,,,,,,Vehicles,Vehicles,,Trains,Trains,,,,Name,Name,,George,George,,,,Category,Category,,Beatles,Beatles,,,\r\n",
      "*********,12\r\n",
      "\n"
     ]
    }
   ],
   "source": [
    "# Once we are done with the lookups, we can generate the technicalCSV for the WDA system\n",
    "writetechnicalCSV(None, c1)"
   ]
  },
  {
   "cell_type": "code",
   "execution_count": 19,
   "metadata": {
    "collapsed": false
   },
   "outputs": [
    {
     "name": "stdout",
     "output_type": "stream",
     "text": [
      "writing 1 conversion segments into /home/goatchurch/sensiblecode/quickcode-ons-recipes/helpnotes/example.csv\n",
      "conversionwrite segment size 12 table beatles\n"
     ]
    }
   ],
   "source": [
    "# Normally we write this output to a file.  \n",
    "# This is particularly true if you have a list of conversion segements in place of c1, \n",
    "# instead of just one\n",
    "writetechnicalCSV(\"example.csv\", c1)"
   ]
  },
  {
   "cell_type": "code",
   "execution_count": 20,
   "metadata": {
    "collapsed": false
   },
   "outputs": [
    {
     "name": "stdout",
     "output_type": "stream",
     "text": [
      "tablepart 'beatles' written #injblock1006\n",
      "javascript calculated\n"
     ]
    },
    {
     "data": {
      "text/html": [
       "Written to file <a href=\"file:///home/goatchurch/sensiblecode/quickcode-ons-recipes/helpnotes/preview.html\" title=\"It would work if this linked to something like: http://localhost:8888/files/ILCH/preview.html\" >/home/goatchurch/sensiblecode/quickcode-ons-recipes/helpnotes/preview.html</a>"
      ],
      "text/plain": [
       "<IPython.core.display.HTML object>"
      ]
     },
     "metadata": {},
     "output_type": "display_data"
    }
   ],
   "source": [
    "# You can save preview tables to a file as well, but it can only be of a single segment\n",
    "# The #injblockXXXX thing is shown at the top of the file to help you make sure you are seeing\n",
    "# the right preview, and not some earlier version.  \n",
    "# (We'd like to make the link work, but it's difficult.  Also it would be nice if the page \n",
    "# you had automatically reloaded itself if it was already open, in order to cut down on the RSI)\n",
    "savepreviewhtml(c1, \"preview.html\")"
   ]
  },
  {
   "cell_type": "code",
   "execution_count": 22,
   "metadata": {
    "collapsed": false
   },
   "outputs": [
    {
     "data": {
      "text/html": [
       "<div>\n",
       "<table border=\"1\" class=\"dataframe\">\n",
       "  <thead>\n",
       "    <tr style=\"text-align: right;\">\n",
       "      <th></th>\n",
       "      <th>Vehicles</th>\n",
       "      <th>Name</th>\n",
       "      <th>Category</th>\n",
       "      <th>-9</th>\n",
       "      <th>-1</th>\n",
       "      <th>-2</th>\n",
       "    </tr>\n",
       "  </thead>\n",
       "  <tbody>\n",
       "    <tr>\n",
       "      <th>0</th>\n",
       "      <td>Planes</td>\n",
       "      <td>Ringo</td>\n",
       "      <td>Beatles</td>\n",
       "      <td>1.0</td>\n",
       "      <td>Year</td>\n",
       "      <td>2014.0</td>\n",
       "    </tr>\n",
       "    <tr>\n",
       "      <th>1</th>\n",
       "      <td>Trains</td>\n",
       "      <td>John</td>\n",
       "      <td>Beatles</td>\n",
       "      <td>1.0</td>\n",
       "      <td>Year</td>\n",
       "      <td>2014.0</td>\n",
       "    </tr>\n",
       "    <tr>\n",
       "      <th>2</th>\n",
       "      <td>Cars</td>\n",
       "      <td>John</td>\n",
       "      <td>Beatles</td>\n",
       "      <td>2.0</td>\n",
       "      <td>Year</td>\n",
       "      <td>2014.0</td>\n",
       "    </tr>\n",
       "    <tr>\n",
       "      <th>3</th>\n",
       "      <td>Trains</td>\n",
       "      <td>Paul</td>\n",
       "      <td>Beatles</td>\n",
       "      <td>2.0</td>\n",
       "      <td>Year</td>\n",
       "      <td>2014.0</td>\n",
       "    </tr>\n",
       "    <tr>\n",
       "      <th>4</th>\n",
       "      <td>Planes</td>\n",
       "      <td>John</td>\n",
       "      <td>Beatles</td>\n",
       "      <td>2.0</td>\n",
       "      <td>Year</td>\n",
       "      <td>2014.0</td>\n",
       "    </tr>\n",
       "    <tr>\n",
       "      <th>5</th>\n",
       "      <td>Cars</td>\n",
       "      <td>George</td>\n",
       "      <td>Beatles</td>\n",
       "      <td>2.0</td>\n",
       "      <td>Year</td>\n",
       "      <td>2014.0</td>\n",
       "    </tr>\n",
       "    <tr>\n",
       "      <th>6</th>\n",
       "      <td>Trains</td>\n",
       "      <td>Ringo</td>\n",
       "      <td>Beatles</td>\n",
       "      <td>3.0</td>\n",
       "      <td>Year</td>\n",
       "      <td>2014.0</td>\n",
       "    </tr>\n",
       "    <tr>\n",
       "      <th>7</th>\n",
       "      <td>Planes</td>\n",
       "      <td>Paul</td>\n",
       "      <td>Beatles</td>\n",
       "      <td>3.0</td>\n",
       "      <td>Year</td>\n",
       "      <td>2014.0</td>\n",
       "    </tr>\n",
       "    <tr>\n",
       "      <th>8</th>\n",
       "      <td>Cars</td>\n",
       "      <td>Paul</td>\n",
       "      <td>Beatles</td>\n",
       "      <td>3.0</td>\n",
       "      <td>Year</td>\n",
       "      <td>2014.0</td>\n",
       "    </tr>\n",
       "    <tr>\n",
       "      <th>9</th>\n",
       "      <td>Cars</td>\n",
       "      <td>Ringo</td>\n",
       "      <td>Beatles</td>\n",
       "      <td>4.0</td>\n",
       "      <td>Year</td>\n",
       "      <td>2014.0</td>\n",
       "    </tr>\n",
       "    <tr>\n",
       "      <th>10</th>\n",
       "      <td>Planes</td>\n",
       "      <td>George</td>\n",
       "      <td>Beatles</td>\n",
       "      <td>5.0</td>\n",
       "      <td>Year</td>\n",
       "      <td>2014.0</td>\n",
       "    </tr>\n",
       "    <tr>\n",
       "      <th>11</th>\n",
       "      <td>Trains</td>\n",
       "      <td>George</td>\n",
       "      <td>Beatles</td>\n",
       "      <td>5.0</td>\n",
       "      <td>Year</td>\n",
       "      <td>2014.0</td>\n",
       "    </tr>\n",
       "  </tbody>\n",
       "</table>\n",
       "</div>"
      ],
      "text/plain": [
       "   Vehicles    Name Category   -9    -1      -2\n",
       "0    Planes   Ringo  Beatles  1.0  Year  2014.0\n",
       "1    Trains    John  Beatles  1.0  Year  2014.0\n",
       "2      Cars    John  Beatles  2.0  Year  2014.0\n",
       "3    Trains    Paul  Beatles  2.0  Year  2014.0\n",
       "4    Planes    John  Beatles  2.0  Year  2014.0\n",
       "5      Cars  George  Beatles  2.0  Year  2014.0\n",
       "6    Trains   Ringo  Beatles  3.0  Year  2014.0\n",
       "7    Planes    Paul  Beatles  3.0  Year  2014.0\n",
       "8      Cars    Paul  Beatles  3.0  Year  2014.0\n",
       "9      Cars   Ringo  Beatles  4.0  Year  2014.0\n",
       "10   Planes  George  Beatles  5.0  Year  2014.0\n",
       "11   Trains  George  Beatles  5.0  Year  2014.0"
      ]
     },
     "execution_count": 22,
     "metadata": {},
     "output_type": "execute_result"
    }
   ],
   "source": [
    "# In summary, we have the capability of codelookups and nolookups with the cellvalueoverride dict\n",
    "# We can look at individual observations and filter them.  \n",
    "# You can also use a list instead of a bag when you make a conversion set, \n",
    "# and then sort that list\n",
    "\n",
    "obslist = list(obs.unordered_cells)  # list(segment) otherwise gives bags of one element\n",
    "obslist.sort(key=lambda cell: (cell.value))\n",
    "c2 = ConversionSegment(tab, dimensions, obslist)\n",
    "topandas(c2)\n"
   ]
  },
  {
   "cell_type": "code",
   "execution_count": null,
   "metadata": {
    "collapsed": true
   },
   "outputs": [],
   "source": [
    "# It's also obvious to see how to make load in multiple spreadsheets\n",
    "# as well as output multiple files, by making multiple calls to\n",
    "#    loadxlstabs(inputfilename)\n",
    "#    writetechnicalCSV(outputfilename, [selected list of segments])\n",
    "# with all the HDim, HDimConst and ConversionSegment creation stuff \n",
    "# in between.  \n",
    "\n",
    "# But it's going to take some working out of conventions and habits \n",
    "# in order to avoid getting into a mess.  \n",
    "\n",
    "# The main part of the design is to make it easy to preview what's going \n",
    "# on at every step of the way, which means you'll want to load everything \n",
    "# in at the start, and save everything out at the end.\n",
    "\n",
    "# Unfortunately this is very memory intensive and might not work on the \n",
    "# largest sets of files.  However, a working system that is close to \n",
    "# that as possible is desirable, to avoid producing \"efficient pipelines\" \n",
    "# of data processing that are going to be a right pain to debug when you \n",
    "# come back to it.  "
   ]
  }
 ],
 "metadata": {
  "kernelspec": {
   "display_name": "Python 3",
   "language": "python",
   "name": "python3"
  },
  "language_info": {
   "codemirror_mode": {
    "name": "ipython",
    "version": 3
   },
   "file_extension": ".py",
   "mimetype": "text/x-python",
   "name": "python",
   "nbconvert_exporter": "python",
   "pygments_lexer": "ipython3",
   "version": "3.5.2"
  }
 },
 "nbformat": 4,
 "nbformat_minor": 1
}
