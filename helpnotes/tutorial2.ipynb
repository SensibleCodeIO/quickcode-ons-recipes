{
 "cells": [
  {
   "cell_type": "code",
   "execution_count": 1,
   "metadata": {
    "collapsed": false
   },
   "outputs": [
    {
     "name": "stdout",
     "output_type": "stream",
     "text": [
      "Loading example1.xls which has size 6144 bytes\n",
      "Table names: beatles\n"
     ]
    },
    {
     "data": {
      "text/html": [
       "<div id=\"injblock1001\">#injblock1001\n",
       "<style>\n",
       "table.ex, table.exkey { border: thin black solid }\n",
       "table.ex td, table.ex tr { border: none }\n",
       "td.exbold { font-weight: bold }\n",
       "td.exnumber { color: green }\n",
       "td.exdate { color: purple }\n",
       "table { border-collapse: collapse }\n",
       "td.exc0 { background-color: Aqua }\n",
       "td.exc1 { background-color: LightGreen }\n",
       "td.exc2 { background-color: PaleTurquoise }\n",
       "td.exc3 { background-color: LightBlue }\n",
       "td.exc4 { background-color: SkyBlue }\n",
       "td.exc5 { background-color: Plum }\n",
       "td.exc6 { background-color: Gold }\n",
       "td.exc7 { background-color: Lime }\n",
       "td.exc8 { background-color: Coral }\n",
       "td.exc9 { background-color: BurlyWood }\n",
       "td.exc10 { background-color: CornflowerBlue }\n",
       "td.exc-2 { background-color: MistyRose }\n",
       "td.exc-9 { background-color: Lavender }\n",
       "td.exc-8 { background-color: Violet }\n",
       "td.exc-7 { background-color: LightGray }\n",
       "td.exc-6 { background-color: SeaGreen }\n",
       "td.exc-5 { background-color: DeepSkyBlue }\n",
       "td.exc-4 { background-color: Blue }\n",
       "td.exc-3 { background-color: LightGray }\n",
       "td.exc-1 { background-color: Tan }\n",
       "table.ex td:hover { border: thin blue solid }\n",
       "table.ex td.exc-9:hover { border: thin red solid }\n",
       "table.ex td.selected { background-color: red; border: thin blue dotted }\n",
       "</style>\n",
       "\n",
       "\n",
       "Table: <b>beatles</b> <table class=\"exkey\">\n",
       "<tr></tr></table>\n",
       "\n",
       "<table class=\"ex\">\n",
       "<tr><td class=\"\" title=\"0 0\">Date</td><td class=\"exdate exnumber\" title=\"1 0\">2014.0</td><td class=\"\" title=\"2 0\"></td><td class=\"\" title=\"3 0\"></td></tr>\n",
       "<tr><td class=\"\" title=\"0 1\"></td><td class=\"\" title=\"1 1\"></td><td class=\"\" title=\"2 1\"></td><td class=\"\" title=\"3 1\"></td></tr>\n",
       "<tr><td class=\"\" title=\"0 2\"></td><td class=\"\" title=\"1 2\">Cars</td><td class=\"\" title=\"2 2\">Planes</td><td class=\"\" title=\"3 2\">Trains</td></tr>\n",
       "<tr><td class=\"\" title=\"0 3\">John</td><td class=\"exnumber\" title=\"1 3\">2.0</td><td class=\"exnumber\" title=\"2 3\">2.0</td><td class=\"exnumber\" title=\"3 3\">1.0</td></tr>\n",
       "<tr><td class=\"\" title=\"0 4\">Paul</td><td class=\"exnumber\" title=\"1 4\">3.0</td><td class=\"exnumber\" title=\"2 4\">3.0</td><td class=\"exnumber\" title=\"3 4\">2.0</td></tr>\n",
       "<tr><td class=\"\" title=\"0 5\">Ringo</td><td class=\"exnumber\" title=\"1 5\">4.0</td><td class=\"exnumber\" title=\"2 5\">1.0</td><td class=\"exnumber\" title=\"3 5\">3.0</td></tr>\n",
       "<tr><td class=\"\" title=\"0 6\">George</td><td class=\"exnumber\" title=\"1 6\">2.0</td><td class=\"exnumber\" title=\"2 6\">5.0</td><td class=\"exnumber\" title=\"3 6\">5.0</td></tr>\n",
       "</table>\n",
       "\n",
       "</div>\n"
      ],
      "text/plain": [
       "<IPython.core.display.HTML object>"
      ]
     },
     "metadata": {},
     "output_type": "display_data"
    }
   ],
   "source": [
    "# start up again with our simple example\n",
    "from databaker.framework import *\n",
    "tabs = loadxlstabs(\"example1.xls\")\n",
    "tab = tabs[0]  # there is only one table\n",
    "savepreviewhtml(tabs[0])\n"
   ]
  },
  {
   "cell_type": "code",
   "execution_count": 3,
   "metadata": {
    "collapsed": false
   },
   "outputs": [
    {
     "data": {
      "text/html": [
       "<div id=\"injblock1003\">#injblock1003\n",
       "<style>\n",
       "table.ex, table.exkey { border: thin black solid }\n",
       "table.ex td, table.ex tr { border: none }\n",
       "td.exbold { font-weight: bold }\n",
       "td.exnumber { color: green }\n",
       "td.exdate { color: purple }\n",
       "table { border-collapse: collapse }\n",
       "td.exc0 { background-color: Aqua }\n",
       "td.exc1 { background-color: LightGreen }\n",
       "td.exc2 { background-color: PaleTurquoise }\n",
       "td.exc3 { background-color: LightBlue }\n",
       "td.exc4 { background-color: SkyBlue }\n",
       "td.exc5 { background-color: Plum }\n",
       "td.exc6 { background-color: Gold }\n",
       "td.exc7 { background-color: Lime }\n",
       "td.exc8 { background-color: Coral }\n",
       "td.exc9 { background-color: BurlyWood }\n",
       "td.exc10 { background-color: CornflowerBlue }\n",
       "td.exc-2 { background-color: MistyRose }\n",
       "td.exc-9 { background-color: Lavender }\n",
       "td.exc-8 { background-color: Violet }\n",
       "td.exc-7 { background-color: LightGray }\n",
       "td.exc-6 { background-color: SeaGreen }\n",
       "td.exc-5 { background-color: DeepSkyBlue }\n",
       "td.exc-4 { background-color: Blue }\n",
       "td.exc-3 { background-color: LightGray }\n",
       "td.exc-1 { background-color: Tan }\n",
       "table.ex td:hover { border: thin blue solid }\n",
       "table.ex td.exc-9:hover { border: thin red solid }\n",
       "table.ex td.selected { background-color: red; border: thin blue dotted }\n",
       "</style>\n",
       "\n",
       "\n",
       "Table: <b>beatles</b> <table class=\"exkey\">\n",
       "<tr><td class=\"exc0\">item 0</td></tr></table>\n",
       "\n",
       "<table class=\"ex\">\n",
       "<tr><td class=\"\" title=\"0 0\">Date</td><td class=\"exc0 exdate exnumber\" title=\"1 0\">2014.0</td><td class=\"\" title=\"2 0\"></td><td class=\"\" title=\"3 0\"></td></tr>\n",
       "<tr><td class=\"\" title=\"0 1\"></td><td class=\"\" title=\"1 1\"></td><td class=\"\" title=\"2 1\"></td><td class=\"\" title=\"3 1\"></td></tr>\n",
       "<tr><td class=\"\" title=\"0 2\"></td><td class=\"\" title=\"1 2\">Cars</td><td class=\"\" title=\"2 2\">Planes</td><td class=\"\" title=\"3 2\">Trains</td></tr>\n",
       "<tr><td class=\"\" title=\"0 3\">John</td><td class=\"exnumber\" title=\"1 3\">2.0</td><td class=\"exnumber\" title=\"2 3\">2.0</td><td class=\"exnumber\" title=\"3 3\">1.0</td></tr>\n",
       "<tr><td class=\"\" title=\"0 4\">Paul</td><td class=\"exnumber\" title=\"1 4\">3.0</td><td class=\"exnumber\" title=\"2 4\">3.0</td><td class=\"exnumber\" title=\"3 4\">2.0</td></tr>\n",
       "<tr><td class=\"\" title=\"0 5\">Ringo</td><td class=\"exnumber\" title=\"1 5\">4.0</td><td class=\"exnumber\" title=\"2 5\">1.0</td><td class=\"exnumber\" title=\"3 5\">3.0</td></tr>\n",
       "<tr><td class=\"\" title=\"0 6\">George</td><td class=\"exnumber\" title=\"1 6\">2.0</td><td class=\"exnumber\" title=\"2 6\">5.0</td><td class=\"exnumber\" title=\"3 6\">5.0</td></tr>\n",
       "</table>\n",
       "\n",
       "</div>\n"
      ],
      "text/plain": [
       "<IPython.core.display.HTML object>"
      ]
     },
     "metadata": {},
     "output_type": "display_data"
    }
   ],
   "source": [
    "# We can select bags of of cells from this tab and plot them using savepreviewhtml(), like so:\n",
    "savepreviewhtml(tab.excel_ref('B1'))"
   ]
  },
  {
   "cell_type": "code",
   "execution_count": 4,
   "metadata": {
    "collapsed": false
   },
   "outputs": [
    {
     "data": {
      "text/html": [
       "<div id=\"injblock1004\">#injblock1004\n",
       "<style>\n",
       "table.ex, table.exkey { border: thin black solid }\n",
       "table.ex td, table.ex tr { border: none }\n",
       "td.exbold { font-weight: bold }\n",
       "td.exnumber { color: green }\n",
       "td.exdate { color: purple }\n",
       "table { border-collapse: collapse }\n",
       "td.exc0 { background-color: Aqua }\n",
       "td.exc1 { background-color: LightGreen }\n",
       "td.exc2 { background-color: PaleTurquoise }\n",
       "td.exc3 { background-color: LightBlue }\n",
       "td.exc4 { background-color: SkyBlue }\n",
       "td.exc5 { background-color: Plum }\n",
       "td.exc6 { background-color: Gold }\n",
       "td.exc7 { background-color: Lime }\n",
       "td.exc8 { background-color: Coral }\n",
       "td.exc9 { background-color: BurlyWood }\n",
       "td.exc10 { background-color: CornflowerBlue }\n",
       "td.exc-2 { background-color: MistyRose }\n",
       "td.exc-9 { background-color: Lavender }\n",
       "td.exc-8 { background-color: Violet }\n",
       "td.exc-7 { background-color: LightGray }\n",
       "td.exc-6 { background-color: SeaGreen }\n",
       "td.exc-5 { background-color: DeepSkyBlue }\n",
       "td.exc-4 { background-color: Blue }\n",
       "td.exc-3 { background-color: LightGray }\n",
       "td.exc-1 { background-color: Tan }\n",
       "table.ex td:hover { border: thin blue solid }\n",
       "table.ex td.exc-9:hover { border: thin red solid }\n",
       "table.ex td.selected { background-color: red; border: thin blue dotted }\n",
       "</style>\n",
       "\n",
       "\n",
       "Table: <b>beatles</b> <table class=\"exkey\">\n",
       "<tr><td class=\"exc0\">item 0</td></tr></table>\n",
       "\n",
       "<table class=\"ex\">\n",
       "<tr><td class=\"\" title=\"0 0\">Date</td><td class=\"exdate exnumber\" title=\"1 0\">2014.0</td><td class=\"\" title=\"2 0\"></td><td class=\"\" title=\"3 0\"></td></tr>\n",
       "<tr><td class=\"\" title=\"0 1\"></td><td class=\"\" title=\"1 1\"></td><td class=\"\" title=\"2 1\"></td><td class=\"\" title=\"3 1\"></td></tr>\n",
       "<tr><td class=\"\" title=\"0 2\"></td><td class=\"\" title=\"1 2\">Cars</td><td class=\"\" title=\"2 2\">Planes</td><td class=\"\" title=\"3 2\">Trains</td></tr>\n",
       "<tr><td class=\"\" title=\"0 3\">John</td><td class=\"exc0 exnumber\" title=\"1 3\">2.0</td><td class=\"exc0 exnumber\" title=\"2 3\">2.0</td><td class=\"exc0 exnumber\" title=\"3 3\">1.0</td></tr>\n",
       "<tr><td class=\"\" title=\"0 4\">Paul</td><td class=\"exc0 exnumber\" title=\"1 4\">3.0</td><td class=\"exc0 exnumber\" title=\"2 4\">3.0</td><td class=\"exc0 exnumber\" title=\"3 4\">2.0</td></tr>\n",
       "<tr><td class=\"\" title=\"0 5\">Ringo</td><td class=\"exc0 exnumber\" title=\"1 5\">4.0</td><td class=\"exc0 exnumber\" title=\"2 5\">1.0</td><td class=\"exc0 exnumber\" title=\"3 5\">3.0</td></tr>\n",
       "<tr><td class=\"\" title=\"0 6\">George</td><td class=\"exc0 exnumber\" title=\"1 6\">2.0</td><td class=\"exc0 exnumber\" title=\"2 6\">5.0</td><td class=\"exc0 exnumber\" title=\"3 6\">5.0</td></tr>\n",
       "</table>\n",
       "\n",
       "</div>\n"
      ],
      "text/plain": [
       "<IPython.core.display.HTML object>"
      ]
     },
     "metadata": {},
     "output_type": "display_data"
    }
   ],
   "source": [
    "# It's important to select the observations\n",
    "obs = tab.excel_ref('B4').expand(DOWN).expand(RIGHT).is_not_blank().is_not_whitespace()\n",
    "savepreviewhtml(obs)"
   ]
  },
  {
   "cell_type": "code",
   "execution_count": null,
   "metadata": {
    "collapsed": true
   },
   "outputs": [],
   "source": [
    "# WORK IN PROGRESS"
   ]
  },
  {
   "cell_type": "code",
   "execution_count": 3,
   "metadata": {
    "collapsed": false
   },
   "outputs": [],
   "source": [
    "# recipe area\n",
    "conversionsegments = [ ]\n",
    "for tab in tabs:\n",
    "    obs = tab.excel_ref('B4').expand(DOWN).expand(RIGHT).is_not_blank().is_not_whitespace()\n",
    "    dimensions = [ \n",
    "        HDim(tab.excel_ref('B1'), TIME, CLOSEST, ABOVE), \n",
    "        HDim(tab.excel_ref('B3').expand(RIGHT), \"Vehicles\", DIRECTLY, ABOVE, cellvalueoverride={\"Cars\":\"Car\"}), \n",
    "        HDim(tab.excel_ref('A3').fill(DOWN), \"Name\", DIRECTLY, LEFT), \n",
    "        HDim(None, \"All\", cellvalueoverride={None:\"thing\"})\n",
    "    ]\n",
    "    \n",
    "    conversionsegment = ConversionSegment(tab, dimensions, obs)\n",
    "    conversionsegments.append(conversionsegment)\n",
    "    "
   ]
  },
  {
   "cell_type": "code",
   "execution_count": 4,
   "metadata": {
    "collapsed": false
   },
   "outputs": [
    {
     "data": {
      "text/plain": [
       "{<B3 'Cars'>, <C3 'Planes'>, <D3 'Trains'>}"
      ]
     },
     "execution_count": 4,
     "metadata": {},
     "output_type": "execute_result"
    }
   ],
   "source": [
    "conversionsegment = conversionsegments[0]\n",
    "\n",
    "hdim = conversionsegment.dimensions[1]\n",
    "hdim.hbagset\n"
   ]
  },
  {
   "cell_type": "code",
   "execution_count": 5,
   "metadata": {
    "collapsed": false
   },
   "outputs": [
    {
     "name": "stdout",
     "output_type": "stream",
     "text": [
      "{'Name': 'John', 'All': 'thing', -9: 2.0, -1: 'Year', -2: 2014.0, 'Vehicles': 'Car'}\n",
      "{'Name': 'John', 'All': 'thing', -9: 2.0, -1: 'Year', -2: 2014.0, 'Vehicles': 'Planes'}\n",
      "{'Name': 'John', 'All': 'thing', -9: 1.0, -1: 'Year', -2: 2014.0, 'Vehicles': 'Trains'}\n",
      "{'Name': 'Paul', 'All': 'thing', -9: 3.0, -1: 'Year', -2: 2014.0, 'Vehicles': 'Car'}\n",
      "{'Name': 'Paul', 'All': 'thing', -9: 3.0, -1: 'Year', -2: 2014.0, 'Vehicles': 'Planes'}\n",
      "{'Name': 'Paul', 'All': 'thing', -9: 2.0, -1: 'Year', -2: 2014.0, 'Vehicles': 'Trains'}\n",
      "{'Name': 'Ringo', 'All': 'thing', -9: 4.0, -1: 'Year', -2: 2014.0, 'Vehicles': 'Car'}\n",
      "{'Name': 'Ringo', 'All': 'thing', -9: 1.0, -1: 'Year', -2: 2014.0, 'Vehicles': 'Planes'}\n",
      "{'Name': 'Ringo', 'All': 'thing', -9: 3.0, -1: 'Year', -2: 2014.0, 'Vehicles': 'Trains'}\n",
      "{'Name': 'George', 'All': 'thing', -9: 2.0, -1: 'Year', -2: 2014.0, 'Vehicles': 'Car'}\n",
      "{'Name': 'George', 'All': 'thing', -9: 5.0, -1: 'Year', -2: 2014.0, 'Vehicles': 'Planes'}\n",
      "{'Name': 'George', 'All': 'thing', -9: 5.0, -1: 'Year', -2: 2014.0, 'Vehicles': 'Trains'}\n"
     ]
    }
   ],
   "source": [
    "for ob in list(conversionsegment.segment):\n",
    "    print(conversionsegment.lookupobs(ob))"
   ]
  },
  {
   "cell_type": "code",
   "execution_count": 6,
   "metadata": {
    "collapsed": false
   },
   "outputs": [
    {
     "name": "stdout",
     "output_type": "stream",
     "text": [
      "tablepart 'beatles' written #injblock1001\n",
      "javascript calculated\n",
      "Written to file 'preview.html'\n"
     ]
    },
    {
     "data": {
      "text/html": [
       "<div id=\"injblock1002\">#injblock1002\n",
       "<style>\n",
       "table.ex, table.exkey { border: thin black solid }\n",
       "table.ex td, table.ex tr { border: none }\n",
       "td.exbold { font-weight: bold }\n",
       "td.exnumber { color: green }\n",
       "td.exdate { color: purple }\n",
       "table { border-collapse: collapse }\n",
       "td.exc0 { background-color: Aqua }\n",
       "td.exc1 { background-color: LightGreen }\n",
       "td.exc2 { background-color: PaleTurquoise }\n",
       "td.exc3 { background-color: LightBlue }\n",
       "td.exc4 { background-color: SkyBlue }\n",
       "td.exc5 { background-color: Plum }\n",
       "td.exc6 { background-color: Gold }\n",
       "td.exc7 { background-color: Lime }\n",
       "td.exc8 { background-color: Coral }\n",
       "td.exc9 { background-color: BurlyWood }\n",
       "td.exc10 { background-color: CornflowerBlue }\n",
       "td.exc-2 { background-color: MistyRose }\n",
       "td.exc-9 { background-color: Lavender }\n",
       "td.exc-8 { background-color: Violet }\n",
       "td.exc-7 { background-color: LightGray }\n",
       "td.exc-6 { background-color: SeaGreen }\n",
       "td.exc-5 { background-color: DeepSkyBlue }\n",
       "td.exc-4 { background-color: Blue }\n",
       "td.exc-3 { background-color: LightGray }\n",
       "td.exc-1 { background-color: Tan }\n",
       "table.ex td:hover { border: thin blue solid }\n",
       "table.ex td.exc-9:hover { border: thin red solid }\n",
       "table.ex td.selected { background-color: red; border: thin blue dotted }\n",
       "</style>\n",
       "\n",
       "\n",
       "Table: <b>beatles</b> <table class=\"exkey\">\n",
       "<tr><td class=\"exc-9\">OBS</td><td class=\"exc0\">TIME</td><td class=\"exc1\">Vehicles</td><td class=\"exc2\">Name</td></tr></table>\n",
       "\n",
       "<table class=\"ex\">\n",
       "<tr><td class=\"\" title=\"0 0\">Date</td><td class=\"exc0 exdate exnumber\" title=\"1 0\">2014.0</td><td class=\"\" title=\"2 0\"></td><td class=\"\" title=\"3 0\"></td></tr>\n",
       "<tr><td class=\"\" title=\"0 1\"></td><td class=\"\" title=\"1 1\"></td><td class=\"\" title=\"2 1\"></td><td class=\"\" title=\"3 1\"></td></tr>\n",
       "<tr><td class=\"\" title=\"0 2\"></td><td class=\"exc1\" title=\"1 2\">Cars</td><td class=\"exc1\" title=\"2 2\">Planes</td><td class=\"exc1\" title=\"3 2\">Trains</td></tr>\n",
       "<tr><td class=\"exc2\" title=\"0 3\">John</td><td class=\"exc-9 exnumber\" title=\"1 3\">2.0</td><td class=\"exc-9 exnumber\" title=\"2 3\">2.0</td><td class=\"exc-9 exnumber\" title=\"3 3\">1.0</td></tr>\n",
       "<tr><td class=\"exc2\" title=\"0 4\">Paul</td><td class=\"exc-9 exnumber\" title=\"1 4\">3.0</td><td class=\"exc-9 exnumber\" title=\"2 4\">3.0</td><td class=\"exc-9 exnumber\" title=\"3 4\">2.0</td></tr>\n",
       "<tr><td class=\"exc2\" title=\"0 5\">Ringo</td><td class=\"exc-9 exnumber\" title=\"1 5\">4.0</td><td class=\"exc-9 exnumber\" title=\"2 5\">1.0</td><td class=\"exc-9 exnumber\" title=\"3 5\">3.0</td></tr>\n",
       "<tr><td class=\"exc2\" title=\"0 6\">George</td><td class=\"exc-9 exnumber\" title=\"1 6\">2.0</td><td class=\"exc-9 exnumber\" title=\"2 6\">5.0</td><td class=\"exc-9 exnumber\" title=\"3 6\">5.0</td></tr>\n",
       "</table>\n",
       "\n",
       "</div>\n",
       "\n",
       "<script>\n",
       "var jslookup = {\"3 5\":[1,0,3,2,0,5],\"2 4\":[1,0,2,2,0,4],\"2 6\":[1,0,2,2,0,6],\"1 5\":[1,0,1,2,0,5],\"1 3\":[1,0,1,2,0,3],\"3 4\":[1,0,3,2,0,4],\"2 5\":[1,0,2,2,0,5],\"2 3\":[1,0,2,2,0,3],\"3 6\":[1,0,3,2,0,6],\"1 6\":[1,0,1,2,0,6],\"3 3\":[1,0,3,2,0,3],\"1 4\":[1,0,1,2,0,4]}; \n",
       "var jdividNUM = \"injblock1002\"; \n",
       "var Dclickedcell = null; \n",
       "function clickedcell() \n",
       "{ \n",
       "    Dclickedcell = this; \n",
       "    console.log(\"jjjj\", this); \n",
       "    var rgc = new RegExp('(^|\\b)' + \"selected\".split(' ').join('|') + '(\\b|$)', 'gi'); \n",
       "    Array.prototype.forEach.call(document.querySelectorAll(\"div#\"+jdividNUM+\" table.ex td.selected\"), function(el, i) { \n",
       "        if (el.classList)  el.classList.remove(\"selected\");\n",
       "        else  el.className = el.className.replace(rgc, ' ');\n",
       "    }); \n",
       "    if (this.classList)  this.classList.add(\"selected\");\n",
       "    else this.className += ' ' + \"selected\";\n",
       "\n",
       "    var dimpairs = jslookup[this.title]; \n",
       "    if (dimpairs !== undefined) {\n",
       "        for (var i = 1; i < dimpairs.length; i += 2) {\n",
       "            var row = document.querySelectorAll(\"div#\"+jdividNUM+\" table.ex tr\")[dimpairs[i]]; \n",
       "            var el = row.querySelectorAll(\"td\")[dimpairs[i-1]]; \n",
       "            if (el.classList)  el.classList.add(\"selected\");\n",
       "            else el.className += ' ' + \"selected\";\n",
       "        }\n",
       "    }\n",
       "}\n",
       "Array.prototype.forEach.call(document.querySelectorAll(\"div#\"+jdividNUM+\" table.ex td\"), function(item, i) { item.onclick=clickedcell; }); \n",
       "</script>\n"
      ],
      "text/plain": [
       "<IPython.core.display.HTML object>"
      ]
     },
     "metadata": {},
     "output_type": "display_data"
    }
   ],
   "source": [
    "# this is the preview system\n",
    "conversionsegment = conversionsegments[0]\n",
    "savepreviewhtml(conversionsegment, previewfile)\n",
    "savepreviewhtml(conversionsegment)\n"
   ]
  },
  {
   "cell_type": "code",
   "execution_count": 7,
   "metadata": {
    "collapsed": false
   },
   "outputs": [
    {
     "name": "stdout",
     "output_type": "stream",
     "text": [
      "writing 1 conversion segments into example1.csv\n",
      "conversionwrite segment size 12\n"
     ]
    }
   ],
   "source": [
    "writetechnicalCSV(outputfile, conversionsegments)\n"
   ]
  },
  {
   "cell_type": "code",
   "execution_count": 7,
   "metadata": {
    "collapsed": false
   },
   "outputs": [
    {
     "data": {
      "text/html": [
       "<div>\n",
       "<table border=\"1\" class=\"dataframe\">\n",
       "  <thead>\n",
       "    <tr style=\"text-align: right;\">\n",
       "      <th></th>\n",
       "      <th>Name</th>\n",
       "      <th>All</th>\n",
       "      <th>-9</th>\n",
       "      <th>-1</th>\n",
       "      <th>-2</th>\n",
       "      <th>Vehicles</th>\n",
       "    </tr>\n",
       "  </thead>\n",
       "  <tbody>\n",
       "    <tr>\n",
       "      <th>0</th>\n",
       "      <td>John</td>\n",
       "      <td>thing</td>\n",
       "      <td>2.0</td>\n",
       "      <td>Year</td>\n",
       "      <td>2014.0</td>\n",
       "      <td>Car</td>\n",
       "    </tr>\n",
       "    <tr>\n",
       "      <th>1</th>\n",
       "      <td>John</td>\n",
       "      <td>thing</td>\n",
       "      <td>2.0</td>\n",
       "      <td>Year</td>\n",
       "      <td>2014.0</td>\n",
       "      <td>Planes</td>\n",
       "    </tr>\n",
       "    <tr>\n",
       "      <th>2</th>\n",
       "      <td>John</td>\n",
       "      <td>thing</td>\n",
       "      <td>1.0</td>\n",
       "      <td>Year</td>\n",
       "      <td>2014.0</td>\n",
       "      <td>Trains</td>\n",
       "    </tr>\n",
       "    <tr>\n",
       "      <th>3</th>\n",
       "      <td>Paul</td>\n",
       "      <td>thing</td>\n",
       "      <td>3.0</td>\n",
       "      <td>Year</td>\n",
       "      <td>2014.0</td>\n",
       "      <td>Car</td>\n",
       "    </tr>\n",
       "    <tr>\n",
       "      <th>4</th>\n",
       "      <td>Paul</td>\n",
       "      <td>thing</td>\n",
       "      <td>3.0</td>\n",
       "      <td>Year</td>\n",
       "      <td>2014.0</td>\n",
       "      <td>Planes</td>\n",
       "    </tr>\n",
       "    <tr>\n",
       "      <th>5</th>\n",
       "      <td>Paul</td>\n",
       "      <td>thing</td>\n",
       "      <td>2.0</td>\n",
       "      <td>Year</td>\n",
       "      <td>2014.0</td>\n",
       "      <td>Trains</td>\n",
       "    </tr>\n",
       "    <tr>\n",
       "      <th>6</th>\n",
       "      <td>Ringo</td>\n",
       "      <td>thing</td>\n",
       "      <td>4.0</td>\n",
       "      <td>Year</td>\n",
       "      <td>2014.0</td>\n",
       "      <td>Car</td>\n",
       "    </tr>\n",
       "    <tr>\n",
       "      <th>7</th>\n",
       "      <td>Ringo</td>\n",
       "      <td>thing</td>\n",
       "      <td>1.0</td>\n",
       "      <td>Year</td>\n",
       "      <td>2014.0</td>\n",
       "      <td>Planes</td>\n",
       "    </tr>\n",
       "    <tr>\n",
       "      <th>8</th>\n",
       "      <td>Ringo</td>\n",
       "      <td>thing</td>\n",
       "      <td>3.0</td>\n",
       "      <td>Year</td>\n",
       "      <td>2014.0</td>\n",
       "      <td>Trains</td>\n",
       "    </tr>\n",
       "    <tr>\n",
       "      <th>9</th>\n",
       "      <td>George</td>\n",
       "      <td>thing</td>\n",
       "      <td>2.0</td>\n",
       "      <td>Year</td>\n",
       "      <td>2014.0</td>\n",
       "      <td>Car</td>\n",
       "    </tr>\n",
       "    <tr>\n",
       "      <th>10</th>\n",
       "      <td>George</td>\n",
       "      <td>thing</td>\n",
       "      <td>5.0</td>\n",
       "      <td>Year</td>\n",
       "      <td>2014.0</td>\n",
       "      <td>Planes</td>\n",
       "    </tr>\n",
       "    <tr>\n",
       "      <th>11</th>\n",
       "      <td>George</td>\n",
       "      <td>thing</td>\n",
       "      <td>5.0</td>\n",
       "      <td>Year</td>\n",
       "      <td>2014.0</td>\n",
       "      <td>Trains</td>\n",
       "    </tr>\n",
       "  </tbody>\n",
       "</table>\n",
       "</div>"
      ],
      "text/plain": [
       "      Name    All   -9    -1      -2 Vehicles\n",
       "0     John  thing  2.0  Year  2014.0      Car\n",
       "1     John  thing  2.0  Year  2014.0   Planes\n",
       "2     John  thing  1.0  Year  2014.0   Trains\n",
       "3     Paul  thing  3.0  Year  2014.0      Car\n",
       "4     Paul  thing  3.0  Year  2014.0   Planes\n",
       "5     Paul  thing  2.0  Year  2014.0   Trains\n",
       "6    Ringo  thing  4.0  Year  2014.0      Car\n",
       "7    Ringo  thing  1.0  Year  2014.0   Planes\n",
       "8    Ringo  thing  3.0  Year  2014.0   Trains\n",
       "9   George  thing  2.0  Year  2014.0      Car\n",
       "10  George  thing  5.0  Year  2014.0   Planes\n",
       "11  George  thing  5.0  Year  2014.0   Trains"
      ]
     },
     "execution_count": 7,
     "metadata": {},
     "output_type": "execute_result"
    }
   ],
   "source": [
    "topandas(conversionsegment)\n"
   ]
  },
  {
   "cell_type": "code",
   "execution_count": 8,
   "metadata": {
    "collapsed": false
   },
   "outputs": [
    {
     "name": "stdout",
     "output_type": "stream",
     "text": [
      "observation,data_marking,statistical_unit_eng,statistical_unit_cym,measure_type_eng,measure_type_cym,observation_type,empty,obs_type_value,unit_multiplier,unit_of_measure_eng,unit_of_measure_cym,confidentuality,empty1,geographic_area,empty2,empty3,time_dim_item_id,time_dim_item_label_eng,time_dim_item_label_cym,time_type,empty4,statistical_population_id,statistical_population_label_eng,statistical_population_label_cym,cdid,cdiddescrip,empty5,empty6,empty7,empty8,empty9,empty10,empty11,empty12,dim_id_1,dimension_label_eng_1,dimension_label_cym_1,dim_item_id_1,dimension_item_label_eng_1,dimension_item_label_cym_1,is_total_1,is_sub_total_1,dim_id_2,dimension_label_eng_2,dimension_label_cym_2,dim_item_id_2,dimension_item_label_eng_2,dimension_item_label_cym_2,is_total_2,is_sub_total_2,dim_id_3,dimension_label_eng_3,dimension_label_cym_3,dim_item_id_3,dimension_item_label_eng_3,dimension_item_label_cym_3,is_total_3,is_sub_total_3\r\n",
      "2.0,,,,,,,,,,,,,,,,,2014.0,2014.0,,Year,,,,,,,,,,,,,,,Vehicles,Vehicles,,Car,Car,,,,Name,Name,,John,John,,,,All,All,,thing,thing,,,\r\n",
      "2.0,,,,,,,,,,,,,,,,,2014.0,2014.0,,Year,,,,,,,,,,,,,,,Vehicles,Vehicles,,Planes,Planes,,,,Name,Name,,John,John,,,,All,All,,thing,thing,,,\r\n",
      "1.0,,,,,,,,,,,,,,,,,2014.0,2014.0,,Year,,,,,,,,,,,,,,,Vehicles,Vehicles,,Trains,Trains,,,,Name,Name,,John,John,,,,All,All,,thing,thing,,,\r\n",
      "3.0,,,,,,,,,,,,,,,,,2014.0,2014.0,,Year,,,,,,,,,,,,,,,Vehicles,Vehicles,,Car,Car,,,,Name,Name,,Paul,Paul,,,,All,All,,thing,thing,,,\r\n",
      "3.0,,,,,,,,,,,,,,,,,2014.0,2014.0,,Year,,,,,,,,,,,,,,,Vehicles,Vehicles,,Planes,Planes,,,,Name,Name,,Paul,Paul,,,,All,All,,thing,thing,,,\r\n",
      "2.0,,,,,,,,,,,,,,,,,2014.0,2014.0,,Year,,,,,,,,,,,,,,,Vehicles,Vehicles,,Trains,Trains,,,,Name,Name,,Paul,Paul,,,,All,All,,thing,thing,,,\r\n",
      "4.0,,,,,,,,,,,,,,,,,2014.0,2014.0,,Year,,,,,,,,,,,,,,,Vehicles,Vehicles,,Car,Car,,,,Name,Name,,Ringo,Ringo,,,,All,All,,thing,thing,,,\r\n",
      "1.0,,,,,,,,,,,,,,,,,2014.0,2014.0,,Year,,,,,,,,,,,,,,,Vehicles,Vehicles,,Planes,Planes,,,,Name,Name,,Ringo,Ringo,,,,All,All,,thing,thing,,,\r\n",
      "3.0,,,,,,,,,,,,,,,,,2014.0,2014.0,,Year,,,,,,,,,,,,,,,Vehicles,Vehicles,,Trains,Trains,,,,Name,Name,,Ringo,Ringo,,,,All,All,,thing,thing,,,\r\n",
      "2.0,,,,,,,,,,,,,,,,,2014.0,2014.0,,Year,,,,,,,,,,,,,,,Vehicles,Vehicles,,Car,Car,,,,Name,Name,,George,George,,,,All,All,,thing,thing,,,\r\n",
      "5.0,,,,,,,,,,,,,,,,,2014.0,2014.0,,Year,,,,,,,,,,,,,,,Vehicles,Vehicles,,Planes,Planes,,,,Name,Name,,George,George,,,,All,All,,thing,thing,,,\r\n",
      "5.0,,,,,,,,,,,,,,,,,2014.0,2014.0,,Year,,,,,,,,,,,,,,,Vehicles,Vehicles,,Trains,Trains,,,,Name,Name,,George,George,,,,All,All,,thing,thing,,,\r\n",
      "*********,12\r\n",
      "\n"
     ]
    }
   ],
   "source": [
    "writetechnicalCSV(None, conversionsegments)\n"
   ]
  }
 ],
 "metadata": {
  "kernelspec": {
   "display_name": "Python 3",
   "language": "python",
   "name": "python3"
  },
  "language_info": {
   "codemirror_mode": {
    "name": "ipython",
    "version": 3
   },
   "file_extension": ".py",
   "mimetype": "text/x-python",
   "name": "python",
   "nbconvert_exporter": "python",
   "pygments_lexer": "ipython3",
   "version": "3.5.2"
  }
 },
 "nbformat": 4,
 "nbformat_minor": 1
}
