{
 "cells": [
  {
   "cell_type": "code",
   "execution_count": 1,
   "metadata": {
    "collapsed": true
   },
   "outputs": [],
   "source": [
    "from databaker.framework import *"
   ]
  },
  {
   "cell_type": "code",
   "execution_count": 9,
   "metadata": {
    "collapsed": false
   },
   "outputs": [
    {
     "name": "stdout",
     "output_type": "stream",
     "text": [
      "Loading referencetablesjune210815_tcm77-413962.xls which has size 193536 bytes\n",
      "Table names: Index, Table 1, Table 2, Table 3, Table 4, Table 5\n"
     ]
    }
   ],
   "source": [
    "inputfile = \"referencetablesjune210815_tcm77-413962.xls\"\n",
    "outputfile = \"reftarea.csv\"\n",
    "previewfile = \"preview.html\"\n",
    "\n",
    "#bake --preview OTTArea.py %Excel_Sheet%\n",
    "#bake --preview OTTPurpose.py %Excel_Sheet%\n",
    "#bake --preview OTTEarnings.py %Excel_Sheet%\n",
    "tabs = loadxlstabs(inputfile, \"*\")\n",
    "\n",
    "dtabs = dict((tab.name, tab)  for tab in tabs)"
   ]
  },
  {
   "cell_type": "code",
   "execution_count": 28,
   "metadata": {
    "collapsed": false
   },
   "outputs": [
    {
     "name": "stdout",
     "output_type": "stream",
     "text": [
      "tablepart 'Table 2' written #injblock1019\n",
      "javascript calculated\n"
     ]
    },
    {
     "data": {
      "text/html": [
       "Written to file <a href=\"file:///home/goatchurch/sensiblecode/quickcode-ons-recipes/OTT/preview.html\" title=\"It would work if this linked to something like: http://localhost:8888/files/ILCH/preview.html\" >/home/goatchurch/sensiblecode/quickcode-ons-recipes/OTT/preview.html</a>"
      ],
      "text/plain": [
       "<IPython.core.display.HTML object>"
      ]
     },
     "metadata": {},
     "output_type": "display_data"
    }
   ],
   "source": [
    "import re\n",
    "\n",
    "def monthdim(monthset):\n",
    "    mcvo = dict((m._cell, re.match(\"([A-Za-z]*)\", m.value).group(1))  for m in monthset)\n",
    "    return HDim(monthset, \"Month\", DIRECTLY, LEFT, cellvalueoverride=mcvo)\n",
    "    \n",
    "def tabarea(tab):\n",
    "    anchor = tab.excel_ref(\"A6\")\n",
    "    req_cols = anchor.fill(RIGHT).is_not_blank()\n",
    "    req_rows = anchor.fill(DOWN) - tab.filter(contains_string(\"Latest three months\")).expand(DOWN)\n",
    "    obs = req_rows.waffle(req_cols).is_not_blank()\n",
    "    dimensions = [ \n",
    "        HDim(tab.excel_ref(\"B1\"), \"Type\", CLOSEST, ABOVE), \n",
    "        #req_cols.dimension(\"SA / NSA\", DIRECTLY, ABOVE)\n",
    "        HDim(tab.excel_ref(\"3:5\").is_not_blank().children(), \"Area\", DIRECTLY, ABOVE), \n",
    "        HDim(req_rows.is_not_blank(), \"Year\", CLOSEST, ABOVE), \n",
    "        monthdim(anchor.shift(RIGHT).fill(DOWN))\n",
    "    ]\n",
    "    obs = obs - tab.excel_ref('E1').fill(DOWN)\n",
    "    return ConversionSegment(tab, dimensions, obs)\n",
    "\n",
    "def tabearnings(tab):\n",
    "    assert tab.name == \"Table 5\"\n",
    "    anchor = tab.excel_ref(\"A7\")\n",
    "    req_cols = anchor.fill(RIGHT).is_not_blank()\n",
    "    req_rows = anchor.fill(DOWN) - tab.filter(contains_string(\"Latest three months\")).expand(DOWN)\n",
    "    obs = req_rows.waffle(req_cols).is_not_blank()\n",
    "    dimensions = [ \n",
    "        HDim(tab.excel_ref(\"B1\"), \"Type\", CLOSEST, ABOVE),  \n",
    "        HDim(req_cols, \"SA / NSA\", DIRECTLY, ABOVE), \n",
    "        HDim(tab.excel_ref(\"A5\").expand(RIGHT).parent(), \"Area\", CLOSEST, LEFT),\n",
    "        HDim(req_rows.is_not_blank(), \"Year\", CLOSEST, ABOVE), \n",
    "        monthdim(anchor.shift(RIGHT).fill(DOWN))\n",
    "    ]\n",
    "    obs = obs - tab.excel_ref('J1').expand(DOWN).expand(RIGHT)    \n",
    "    return ConversionSegment(tab, dimensions, obs)\n",
    " \n",
    "def tabpurpose(tab):\n",
    "    anchor = tab.excel_ref(\"A6\")\n",
    "    req_cols = anchor.fill(RIGHT).is_not_blank()\n",
    "    req_rows = anchor.fill(DOWN) - tab.filter(contains_string(\"Latest three months\")).expand(DOWN)\n",
    "    obs = req_rows.waffle(req_cols).is_not_blank()\n",
    "    dimensions = [\n",
    "        HDim(tab.excel_ref(\"B1\"), \"Type\", CLOSEST, ABOVE), \n",
    "        # req_cols.dimension(\"SA / NSA\", DIRECTLY, ABOVE)\n",
    "        HDim(tab.excel_ref(\"3:4\").is_not_blank().children(), \"Purpose\", DIRECTLY, ABOVE), \n",
    "        HDim(req_rows.is_not_blank(), \"Year\", CLOSEST, ABOVE), \n",
    "        monthdim(anchor.shift(RIGHT).fill(DOWN))\n",
    "    ]\n",
    "    obs = obs - tab.excel_ref('E1').fill(DOWN) \n",
    "    return ConversionSegment(tab, dimensions, obs)\n",
    "    \n",
    "#cs1 = tabarea(dtabs[\"Table 1\"])\n",
    "cs1 = tabpurpose(dtabs[\"Table 2\"])\n",
    "savepreviewhtml(cs1, previewfile)        \n",
    "df = topandas(cs1)\n",
    "conversionsegments = [ tabarea(dtabs[\"Table 1\"]), tabarea(dtabs[\"Table 3\"]), tabearnings(dtabs[\"Table 5\"]), \n",
    "                       tabpurpose(dtabs[\"Table 2\"]), tabpurpose(dtabs[\"Table 4\"]) ]\n"
   ]
  },
  {
   "cell_type": "code",
   "execution_count": 29,
   "metadata": {
    "collapsed": false
   },
   "outputs": [
    {
     "name": "stdout",
     "output_type": "stream",
     "text": [
      "writing 5 conversion segments into /home/goatchurch/sensiblecode/quickcode-ons-recipes/OTT/reftarea.csv\n",
      "conversionwrite segment size 294 table Table 1\n",
      "conversionwrite segment size 294 table Table 3\n",
      "conversionwrite segment size 168 table Table 5\n",
      "conversionwrite segment size 210 table Table 2\n",
      "conversionwrite segment size 210 table Table 4\n"
     ]
    }
   ],
   "source": [
    "writetechnicalCSV(outputfile, conversionsegments)"
   ]
  },
  {
   "cell_type": "code",
   "execution_count": null,
   "metadata": {
    "collapsed": true
   },
   "outputs": [],
   "source": []
  }
 ],
 "metadata": {
  "kernelspec": {
   "display_name": "Python 3",
   "language": "python",
   "name": "python3"
  },
  "language_info": {
   "codemirror_mode": {
    "name": "ipython",
    "version": 3
   },
   "file_extension": ".py",
   "mimetype": "text/x-python",
   "name": "python",
   "nbconvert_exporter": "python",
   "pygments_lexer": "ipython3",
   "version": "3.5.2"
  }
 },
 "nbformat": 4,
 "nbformat_minor": 1
}
