{
 "cells": [
  {
   "cell_type": "code",
   "execution_count": 1,
   "metadata": {
    "collapsed": true
   },
   "outputs": [],
   "source": [
    "# messy imports to be tidied up later\n",
    "import os\n",
    "import xlutils, xypath\n",
    "import databaker\n",
    "import databaker.constants\n",
    "from databaker.constants import *\n",
    "import databaker.databakersolo as ds\n",
    "from databaker.jupybakeutils import savepreviewhtml, savepreviewhtmlBAGS, writetechnicalCSV, procrows, TechnicalCSV, yield_dimension_values\n",
    "Dcelllookup = ds.overrides.Dcelllookup\n",
    "batchcelllookup = ds.overrides.batchcelllookup\n"
   ]
  },
  {
   "cell_type": "code",
   "execution_count": 2,
   "metadata": {
    "collapsed": false
   },
   "outputs": [],
   "source": [
    "# input-output\n",
    "inputfile = \"rftberd2014datasets_tcm77-424594.xls\"\n",
    "outputfile = \"%s.csv\" % os.path.splitext(inputfile)[0]\n",
    "previewfile = \"preview.html\"\n"
   ]
  },
  {
   "cell_type": "code",
   "execution_count": 3,
   "metadata": {
    "collapsed": false
   },
   "outputs": [
    {
     "name": "stdout",
     "output_type": "stream",
     "text": [
      "Loading rftberd2014datasets_tcm77-424594.xls which has size 2217984 bytes\n",
      "Table names: Main Menu, 1, 2, 3, 4, 5, 6, 7, 8, 9, 10, 11, 12, 13, 14, 15, 16, 17, 18, 19, Map 1, Map 2, 20, 21, 22, 23, 24, 25, 26, 27, 28, PGs\n"
     ]
    }
   ],
   "source": [
    "print(\"Loading %s which has size %d bytes\" % (inputfile, os.path.getsize(inputfile)))\n",
    "tableset = xypath.loader.table_set(inputfile, extension='xls')\n",
    "tabs = list(xypath.loader.get_sheets(tableset, \"*\"))\n",
    "print(\"Table names: %s\" % \", \".join([tab.name  for tab in tabs]))\n"
   ]
  },
  {
   "cell_type": "code",
   "execution_count": 4,
   "metadata": {
    "collapsed": false
   },
   "outputs": [
    {
     "name": "stdout",
     "output_type": "stream",
     "text": [
      "opening file preview.html\n",
      "table 'PGs' written\n"
     ]
    }
   ],
   "source": [
    "# Normal place for your recipe work\n",
    "conversionsegments = [ ]\n",
    "\n",
    "for tab in tabs:\n",
    "    obs = tab.excel_ref('C1').expand(DOWN)#.is_not_blank().is_not_whitespace()\n",
    "    dimensions = [ \n",
    "        (tab.excel_ref('B1').expand(DOWN), \"Cat1\", DIRECTLY, LEFT), \n",
    "        (tab.name, \"Name\", None, None)\n",
    "    ]\n",
    "    conversionsegments.append((tab, dimensions, obs))\n",
    "\n",
    "savepreviewhtmlBAGS(tab.filter(contains_string(\"a\")), previewfile)\n"
   ]
  },
  {
   "cell_type": "code",
   "execution_count": 22,
   "metadata": {
    "collapsed": false
   },
   "outputs": [
    {
     "name": "stdout",
     "output_type": "stream",
     "text": [
      "opening file preview.html\n",
      "table written\n",
      "javascript calculated\n"
     ]
    }
   ],
   "source": [
    "    \n",
    "# this is the preview system\n",
    "conversionsegment = conversionsegments[-1]\n",
    "savepreviewhtml(conversionsegment, batchcelllookup, previewfile)\n"
   ]
  },
  {
   "cell_type": "code",
   "execution_count": null,
   "metadata": {
    "collapsed": true
   },
   "outputs": [],
   "source": [
    "print(\"converting and writing %d conversion segments into %s\" % (len(conversionsegments), outputfile))\n",
    "convertedrows = [ ]\n",
    "for conversionsegment in conversionsegments:\n",
    "    print(\"conversion segment size %d\" % len(conversionsegment[2]))\n",
    "    rows = procrows(conversionsegment, batchcelllookup)\n",
    "    convertedrows.append(rows)\n",
    "    \n",
    "# Should detect errors and throw up preview with cells marked\n",
    "# (though actually the errors manifest further upstream, normally)\n",
    "    \n",
    "# here we can do further sorting and postprocessing and allocating to different files \n",
    "\n",
    "writetechnicalCSV(outputfile, conversionsegments, convertedrows)\n",
    "\n"
   ]
  }
 ],
 "metadata": {
  "kernelspec": {
   "display_name": "Python 3",
   "language": "python",
   "name": "python3"
  },
  "language_info": {
   "codemirror_mode": {
    "name": "ipython",
    "version": 3
   },
   "file_extension": ".py",
   "mimetype": "text/x-python",
   "name": "python",
   "nbconvert_exporter": "python",
   "pygments_lexer": "ipython3",
   "version": "3.5.2"
  }
 },
 "nbformat": 4,
 "nbformat_minor": 1
}
