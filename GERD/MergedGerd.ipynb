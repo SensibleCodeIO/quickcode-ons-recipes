{
 "cells": [
  {
   "cell_type": "code",
   "execution_count": 1,
   "metadata": {
    "collapsed": true
   },
   "outputs": [],
   "source": [
    "# 14:25 begin \n",
    "import os, re\n",
    "import xlutils\n",
    "import databaker\n",
    "import databaker.constants\n",
    "from databaker.constants import *\n",
    "import xypath\n",
    "import databaker.databakersolo as ds\n",
    "from databaker.jupybakeutils import savepreviewhtml, savepreviewhtmlBAGS, writetechnicalCSV, procrows, TechnicalCSV, yield_dimension_values\n",
    "Dcelllookup = ds.overrides.Dcelllookup\n",
    "batchcelllookup = ds.overrides.batchcelllookup\n"
   ]
  },
  {
   "cell_type": "code",
   "execution_count": 2,
   "metadata": {
    "collapsed": false
   },
   "outputs": [],
   "source": [
    "inputfile = \"rftberd2014datasets_tcm77-424594.xls\"\n",
    "outputfile = \"%s.csv\" % os.path.splitext(inputfile)[0]\n",
    "previewfile = \"preview.html\"\n"
   ]
  },
  {
   "cell_type": "code",
   "execution_count": 3,
   "metadata": {
    "collapsed": false
   },
   "outputs": [
    {
     "name": "stdout",
     "output_type": "stream",
     "text": [
      "Loading rftberd2014datasets_tcm77-424594.xls which has size 2217984 bytes\n",
      "Table names ['Main Menu', '1', '2', '3', '4', '5', '6', '7', '8', '9', '10', '11', '12', '13', '14', '15', '16', '17', '18', '19', 'Map 1', 'Map 2', '20', '21', '22', '23', '24', '25', '26', '27', '28', 'PGs']\n"
     ]
    }
   ],
   "source": [
    "print(\"Loading %s which has size %d bytes\" % (inputfile, os.path.getsize(inputfile)))\n",
    "tableset = xypath.loader.table_set(inputfile, extension='xls')\n",
    "tabs = list(xypath.loader.get_sheets(tableset, \"*\"))\n",
    "print(\"Table names\", [tab.name  for tab in tabs])\n"
   ]
  },
  {
   "cell_type": "code",
   "execution_count": 4,
   "metadata": {
    "collapsed": false
   },
   "outputs": [],
   "source": [
    "title = tabs[0].excel_ref('B3').value\n",
    "mtitle = re.match('Research and Development in UK Businesses, (\\d\\d\\d\\d) - Datasets', title)\n",
    "assert mtitle, (\"NoMatch\", title)\n",
    "year = mtitle.group(1)\n"
   ]
  },
  {
   "cell_type": "code",
   "execution_count": 5,
   "metadata": {
    "collapsed": false
   },
   "outputs": [
    {
     "name": "stdout",
     "output_type": "stream",
     "text": [
      "opening file preview.html\n",
      "table '11' written\n"
     ]
    },
    {
     "data": {
      "text/plain": [
       "{<B6 ''>}"
      ]
     },
     "execution_count": 5,
     "metadata": {},
     "output_type": "execute_result"
    }
   ],
   "source": [
    "tab = tabs[11]\n",
    "savepreviewhtmlBAGS([tab.filter(contains_string('TOTAL')), tab.filter(contains_string('Pulp'))], previewfile)\n",
    "tab.filter(contains_string('TOTAL')).shift(UP).assert_one()\n"
   ]
  },
  {
   "cell_type": "code",
   "execution_count": 13,
   "metadata": {
    "collapsed": false
   },
   "outputs": [
    {
     "ename": "AssertionError",
     "evalue": "Observation out of range",
     "output_type": "error",
     "traceback": [
      "\u001b[0;31m---------------------------------------------------------------------------\u001b[0m",
      "\u001b[0;31mAssertionError\u001b[0m                            Traceback (most recent call last)",
      "\u001b[0;32m<ipython-input-13-73acb435e9ae>\u001b[0m in \u001b[0;36m<module>\u001b[0;34m()\u001b[0m\n\u001b[1;32m     24\u001b[0m         \u001b[0mconversionsegments\u001b[0m\u001b[0;34m.\u001b[0m\u001b[0mappend\u001b[0m\u001b[0;34m(\u001b[0m\u001b[0;34m(\u001b[0m\u001b[0mtab\u001b[0m\u001b[0;34m,\u001b[0m \u001b[0mdimensions\u001b[0m\u001b[0;34m,\u001b[0m \u001b[0mobs\u001b[0m\u001b[0;34m)\u001b[0m\u001b[0;34m)\u001b[0m\u001b[0;34m\u001b[0m\u001b[0m\n\u001b[1;32m     25\u001b[0m \u001b[0;34m\u001b[0m\u001b[0m\n\u001b[0;32m---> 26\u001b[0;31m         \u001b[0;32massert\u001b[0m \u001b[0mmin\u001b[0m\u001b[0;34m(\u001b[0m\u001b[0mob\u001b[0m\u001b[0;34m.\u001b[0m\u001b[0mvalue\u001b[0m  \u001b[0;32mfor\u001b[0m \u001b[0mob\u001b[0m \u001b[0;32min\u001b[0m \u001b[0mobs\u001b[0m\u001b[0;34m)\u001b[0m \u001b[0;34m>\u001b[0m \u001b[0;36m10\u001b[0m\u001b[0;34m,\u001b[0m \u001b[0;34m\"Observation out of range\"\u001b[0m\u001b[0;34m\u001b[0m\u001b[0m\n\u001b[0m\u001b[1;32m     27\u001b[0m \u001b[0msavepreviewhtml\u001b[0m\u001b[0;34m(\u001b[0m\u001b[0mconversionsegments\u001b[0m\u001b[0;34m[\u001b[0m\u001b[0;34m-\u001b[0m\u001b[0;36m1\u001b[0m\u001b[0;34m]\u001b[0m\u001b[0;34m,\u001b[0m \u001b[0mbatchcelllookup\u001b[0m\u001b[0;34m,\u001b[0m \u001b[0mpreviewfile\u001b[0m\u001b[0;34m)\u001b[0m\u001b[0;34m\u001b[0m\u001b[0m\n",
      "\u001b[0;31mAssertionError\u001b[0m: Observation out of range"
     ]
    }
   ],
   "source": [
    "conversionsegments = [ ]\n",
    "\n",
    "for tab in tabs:\n",
    "    tab_names = {\n",
    "                '10':'Current and capital expenditure on R&D',\n",
    "                '11':'Current expenditure on R&D',\n",
    "                '12':'Extramural expenditure by R&D by UK Business',\n",
    "                '13':'Sources of Funds for R&D in UK Business',\n",
    "                '14':'Employment in R&D for UK Business',\n",
    "                '16':'Civil and defence R&D expenditure in UK business',\n",
    "                '24':'R&D Expenditure in UK business (UK or overseas ownership)',\n",
    "                }\n",
    "    if tab.name in tab_names:\n",
    "        anchor = min(tab.filter(contains_string('TOTAL')), key=lambda c: (c.y, c.x)).shift((0,-2)) # tab.excel_ref('B5')\n",
    "        obs = anchor.fill(RIGHT).fill(DOWN).is_not_blank().is_not_whitespace()     \n",
    "        top = anchor.shift((0,-2)).fill(RIGHT).glue(lambda cell: cell.extrude(0,1))\n",
    "        \n",
    "        dimensions = [ (anchor.fill(DOWN).is_not_blank().is_not_whitespace(), 'Industry', DIRECTLY, LEFT),\n",
    "                       (top, tab_names[tab.name], DIRECTLY, ABOVE)\n",
    "                     ]\n",
    "\n",
    "        obs = obs - tab.filter(contains_string('Source: Office for National Statistics')).expand(LEFT).expand(DOWN)\n",
    "        obs = obs.is_number()\n",
    "        conversionsegments.append((tab, dimensions, obs))\n",
    "        \n",
    "        assert min(ob.value  for ob in obs) > 10, \"Observation out of range\"\n",
    "savepreviewhtml(conversionsegments[-1], batchcelllookup, previewfile)\n"
   ]
  },
  {
   "cell_type": "code",
   "execution_count": 14,
   "metadata": {
    "collapsed": false
   },
   "outputs": [
    {
     "name": "stdout",
     "output_type": "stream",
     "text": [
      "opening file preview.html\n",
      "table '10' written\n",
      "javascript calculated\n"
     ]
    }
   ],
   "source": [
    "savepreviewhtml(conversionsegments[-1], batchcelllookup, previewfile)\n"
   ]
  },
  {
   "cell_type": "code",
   "execution_count": 24,
   "metadata": {
    "collapsed": false
   },
   "outputs": [
    {
     "name": "stdout",
     "output_type": "stream",
     "text": [
      "opening file preview.html\n",
      "table '14' written\n",
      "javascript calculated\n"
     ]
    }
   ],
   "source": [
    "    \n",
    "# this is the preview system\n",
    "conversionsegment = conversionsegments[4]\n",
    "savepreviewhtml(conversionsegment, batchcelllookup, previewfile)\n",
    "\n"
   ]
  },
  {
   "cell_type": "code",
   "execution_count": 28,
   "metadata": {
    "collapsed": false
   },
   "outputs": [
    {
     "name": "stdout",
     "output_type": "stream",
     "text": [
      "11\n"
     ]
    }
   ],
   "source": [
    "try:\n",
    "    assert False, 11\n",
    "except AssertionError as e:\n",
    "    print(e)\n",
    "    pass"
   ]
  },
  {
   "cell_type": "code",
   "execution_count": null,
   "metadata": {
    "collapsed": true
   },
   "outputs": [],
   "source": [
    "print(\"converting and writing %d conversion segments into %s\" % (len(conversionsegments), outputfile))\n",
    "convertedrows = [ ]\n",
    "for conversionsegment in conversionsegments:\n",
    "    print(\"conversion segment size %d\" % len(conversionsegment[2]))\n",
    "    rows = procrows(conversionsegment, batchcelllookup)\n",
    "    convertedrows.append(rows)\n",
    "\n",
    "# here we can do further sorting and substitution   \n",
    "\n",
    "print(\"Finally writing the file\", outputfile)\n",
    "writetechnicalCSV(outputfile, conversionsegments, convertedrows)\n",
    "\n"
   ]
  }
 ],
 "metadata": {
  "kernelspec": {
   "display_name": "Python 3",
   "language": "python",
   "name": "python3"
  },
  "language_info": {
   "codemirror_mode": {
    "name": "ipython",
    "version": 3
   },
   "file_extension": ".py",
   "mimetype": "text/x-python",
   "name": "python",
   "nbconvert_exporter": "python",
   "pygments_lexer": "ipython3",
   "version": "3.5.2"
  }
 },
 "nbformat": 4,
 "nbformat_minor": 1
}
