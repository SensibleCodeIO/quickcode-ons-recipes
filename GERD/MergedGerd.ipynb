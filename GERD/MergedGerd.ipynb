{
 "cells": [
  {
   "cell_type": "code",
   "execution_count": 1,
   "metadata": {
    "collapsed": false
   },
   "outputs": [],
   "source": [
    "from databaker.framework import *\n",
    "import os, re"
   ]
  },
  {
   "cell_type": "code",
   "execution_count": 2,
   "metadata": {
    "collapsed": false
   },
   "outputs": [
    {
     "name": "stdout",
     "output_type": "stream",
     "text": [
      "Loading rftberd2014datasets_tcm77-424594.xls which has size 2217984 bytes\n",
      "Table names: Main Menu, 1, 2, 3, 4, 5, 6, 7, 8, 9, 10, 11, 12, 13, 14, 15, 16, 17, 18, 19, Map 1, Map 2, 20, 21, 22, 23, 24, 25, 26, 27, 28, PGs\n"
     ]
    }
   ],
   "source": [
    "inputfile = \"rftberd2014datasets_tcm77-424594.xls\"\n",
    "outputfile = \"%s.csv\" % os.path.splitext(inputfile)[0]\n",
    "previewfile = \"preview.html\"\n",
    "\n",
    "tabs = loadxlstabs(inputfile)"
   ]
  },
  {
   "cell_type": "code",
   "execution_count": 3,
   "metadata": {
    "collapsed": false
   },
   "outputs": [],
   "source": [
    "title = tabs[0].excel_ref('B3').value\n",
    "mtitle = re.match('Research and Development in UK Businesses, (\\d\\d\\d\\d) - Datasets', title)\n",
    "assert mtitle, (\"NoMatch\", title)\n",
    "year = mtitle.group(1)\n"
   ]
  },
  {
   "cell_type": "code",
   "execution_count": 4,
   "metadata": {
    "collapsed": false
   },
   "outputs": [
    {
     "name": "stdout",
     "output_type": "stream",
     "text": [
      "tablepart '11' written #injblock1001\n",
      "Written to file 'preview.html'\n"
     ]
    }
   ],
   "source": [
    "tab = tabs[11]\n",
    "tab.filter(contains_string('TOTAL')).shift(UP).assert_one()\n",
    "savepreviewhtml([tab.filter(contains_string('TOTAL')), tab.filter(contains_string('Pulp'))], previewfile)\n"
   ]
  },
  {
   "cell_type": "code",
   "execution_count": 5,
   "metadata": {
    "collapsed": false
   },
   "outputs": [
    {
     "name": "stdout",
     "output_type": "stream",
     "text": [
      "tablepart '24' written #injblock1002\n",
      "javascript calculated\n",
      "Written to file 'preview.html'\n"
     ]
    }
   ],
   "source": [
    "conversionsegments = [ ]\n",
    "\n",
    "for tab in tabs:\n",
    "    tab_names = {\n",
    "                '10':'Current and capital expenditure on R&D',\n",
    "                '11':'Current expenditure on R&D',\n",
    "                '12':'Extramural expenditure by R&D by UK Business',\n",
    "                '13':'Sources of Funds for R&D in UK Business',\n",
    "                '14':'Employment in R&D for UK Business',\n",
    "                '16':'Civil and defence R&D expenditure in UK business',\n",
    "                '24':'R&D Expenditure in UK business (UK or overseas ownership)',\n",
    "                }\n",
    "    if tab.name in tab_names:\n",
    "        anchor = min(tab.filter(contains_string('TOTAL')), key=lambda c: (c.y, c.x)).shift((0,-2)) # tab.excel_ref('B5')\n",
    "        obs = anchor.fill(RIGHT).fill(DOWN).is_not_blank().is_not_whitespace()     \n",
    "        top = anchor.shift((0,-2)).fill(RIGHT).glue(lambda cell: cell.extrude(0,1))\n",
    "        \n",
    "        dimensions = [ HDim(anchor.fill(DOWN).is_not_blank().is_not_whitespace(), 'Industry', DIRECTLY, LEFT),\n",
    "                       HDim(top, tab_names[tab.name], DIRECTLY, ABOVE)\n",
    "                     ]\n",
    "\n",
    "        obs = obs - tab.filter(contains_string('Source: Office for National Statistics')).expand(LEFT).expand(DOWN)\n",
    "        obs = obs.is_number()\n",
    "        conversionsegments.append(ConversionSegment(tab, dimensions, obs))\n",
    "        \n",
    "        #assert min(ob.value  for ob in obs) > 10, \"Observation out of range\"\n",
    "savepreviewhtml(conversionsegments[-1], previewfile)\n"
   ]
  },
  {
   "cell_type": "code",
   "execution_count": 6,
   "metadata": {
    "collapsed": false
   },
   "outputs": [
    {
     "name": "stdout",
     "output_type": "stream",
     "text": [
      "tablepart '24' written #injblock1003\n",
      "javascript calculated\n",
      "Written to file 'preview.html'\n"
     ]
    }
   ],
   "source": [
    "savepreviewhtml(conversionsegments[-1], previewfile)\n"
   ]
  },
  {
   "cell_type": "code",
   "execution_count": 7,
   "metadata": {
    "collapsed": false
   },
   "outputs": [
    {
     "name": "stdout",
     "output_type": "stream",
     "text": [
      "tablepart '14' written #injblock1004\n",
      "javascript calculated\n",
      "Written to file 'preview.html'\n"
     ]
    }
   ],
   "source": [
    "    \n",
    "# this is the preview system\n",
    "conversionsegment = conversionsegments[4]\n",
    "savepreviewhtml(conversionsegment, previewfile)\n",
    "\n"
   ]
  },
  {
   "cell_type": "code",
   "execution_count": 8,
   "metadata": {
    "collapsed": false
   },
   "outputs": [
    {
     "name": "stdout",
     "output_type": "stream",
     "text": [
      "writing 7 conversion segments into rftberd2014datasets_tcm77-424594.csv\n",
      "conversionwrite segment size 165 table 10\n",
      "conversionwrite segment size 126 table 11\n",
      "conversionwrite segment size 89 table 12\n",
      "conversionwrite segment size 147 table 13\n",
      "conversionwrite segment size 90 table 14\n",
      "conversionwrite segment size 71 table 16\n",
      "conversionwrite segment size 98 table 24\n"
     ]
    }
   ],
   "source": [
    "writetechnicalCSV(outputfile, conversionsegments)\n"
   ]
  },
  {
   "cell_type": "code",
   "execution_count": null,
   "metadata": {
    "collapsed": true
   },
   "outputs": [],
   "source": []
  }
 ],
 "metadata": {
  "kernelspec": {
   "display_name": "Python 3",
   "language": "python",
   "name": "python3"
  },
  "language_info": {
   "codemirror_mode": {
    "name": "ipython",
    "version": 3
   },
   "file_extension": ".py",
   "mimetype": "text/x-python",
   "name": "python",
   "nbconvert_exporter": "python",
   "pygments_lexer": "ipython3",
   "version": "3.5.2"
  }
 },
 "nbformat": 4,
 "nbformat_minor": 1
}
