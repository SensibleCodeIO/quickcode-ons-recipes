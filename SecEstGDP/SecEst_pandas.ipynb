{
 "cells": [
  {
   "cell_type": "code",
   "execution_count": 1,
   "metadata": {
    "collapsed": false
   },
   "outputs": [
    {
     "name": "stdout",
     "output_type": "stream",
     "text": [
      "Loading gdpq3m2reftables_tcm77-425649.xls which has size 2115072 bytes\n",
      "Table names: ['A1 AGGREGATES']\n"
     ]
    }
   ],
   "source": [
    "from databaker.framework import *\n",
    "inputfile = \"gdpq3m2reftables_tcm77-425649.xls\"\n",
    "previewfile = \"preview.html\"\n",
    "\n",
    "tab = loadxlstabs(inputfile, \"A1 AGGREGATES\")[0]\n"
   ]
  },
  {
   "cell_type": "code",
   "execution_count": 2,
   "metadata": {
    "collapsed": false
   },
   "outputs": [
    {
     "data": {
      "text/plain": [
       "1"
      ]
     },
     "execution_count": 2,
     "metadata": {},
     "output_type": "execute_result"
    }
   ],
   "source": [
    "1\n",
    "# get dates column, and dates column headings\n",
    "# separate those upper columns, and codes\n",
    "# get the dates into different pandas periods cases\n",
    "# relate the percentage change one from other"
   ]
  },
  {
   "cell_type": "code",
   "execution_count": 3,
   "metadata": {
    "collapsed": false
   },
   "outputs": [],
   "source": [
    "# use these to extract the list of entries (header names) and compare them\n",
    "# will result in quick/useful plot-up of the error\n",
    "\n",
    "def valueslist(bag):\n",
    "    return [cell.value  for cell in sorted(bag.unordered_cells, key=lambda cell: (cell.y, cell.x))]\n",
    "\n",
    "def checkvalues(bag, vlist):\n",
    "    scells = sorted(bag.unordered_cells, key=lambda cell: (cell.y, cell.x))\n",
    "    assert len(scells) == len(vlist), \"checkvalues list length doesn't match\"\n",
    "    for cell, v in zip(scells, vlist):\n",
    "        assert cell.value == v, (\"checkvalues mismatch\", (cell.x, cell.y), cell.value, v)\n",
    "\n",
    "# need a rectangle creation thing that selects the blanks in between \n",
    "# a row or columns of cells, which is a more robust thing to compare against\n"
   ]
  },
  {
   "cell_type": "code",
   "execution_count": 4,
   "metadata": {
    "collapsed": false
   },
   "outputs": [
    {
     "name": "stdout",
     "output_type": "stream",
     "text": [
      "tablepart 'A1 AGGREGATES' written #injblock1001\n",
      "javascript calculated\n"
     ]
    },
    {
     "data": {
      "text/html": [
       "Written to file <a href=\"file:///home/goatchurch/sensiblecode/quickcode-ons-recipes/SecEstGDP/preview.html\" title=\"It would work if this linked to something like: http://localhost:8888/files/ILCH/preview.html\" >/home/goatchurch/sensiblecode/quickcode-ons-recipes/SecEstGDP/preview.html</a>"
      ],
      "text/plain": [
       "<IPython.core.display.HTML object>"
      ]
     },
     "metadata": {},
     "output_type": "display_data"
    }
   ],
   "source": [
    "conversionsegments = [ ]\n",
    "\n",
    "columnA = tab.excel_ref('A2').expand(DOWN).is_not_blank()\n",
    "datescolumn = columnA.is_date()\n",
    "datessubsecs = columnA - datescolumn\n",
    "\n",
    "headeranchor = tab.filter(\"YBEU\")\n",
    "obspane = headeranchor.expand(RIGHT).expand(DOWN).is_not_blank()\n",
    "obs = datescolumn.expand(RIGHT) & obspane\n",
    "obsletterheadings = obspane - obs\n",
    "wordheadings = headeranchor.shift(UP).expand(RIGHT).is_not_blank()\n",
    "wordsectionheadings = wordheadings.shift(UP).is_not_blank()\n",
    "\n",
    "# NB these are the validifacation testing checks, copied in here by printing valueslist(wordheadings) first\n",
    "checkvalues(wordheadings, ['Gross domestic product at market prices', 'Gross value added at basic prices', \n",
    "                           'Gross domestic product at market prices', 'Gross value added at basic prices', \n",
    "                           'Market sector gross value added', 'Gross domestic expenditure', \n",
    "                           'Gross domestic product at market prices', 'Gross value added at basic prices'])\n",
    "\n",
    "checkvalues(wordsectionheadings, ['Value indices at current prices', 'Chained  volume indices', 'Implied deflators 2'])\n",
    "\n",
    "# we need to insert in the blank cells, which we then overrride!\n",
    "h1c2 = wordsectionheadings.by_index(2)\n",
    "h1c3 = wordsectionheadings.by_index(3)\n",
    "wordsectionheadingsP = wordsectionheadings | h1c2.shift(LEFT) | h1c3.shift(LEFT)\n",
    "h1 = HDim(wordsectionheadingsP, \"headingshortword\", CLOSEST, LEFT)\n",
    "h1.cellvalueoverride[h1c2.shift(LEFT)._cell] = h1c2.value\n",
    "h1.cellvalueoverride[h1c3.shift(LEFT)._cell] = h1c3.value\n",
    "\n",
    "dimensions = [ \n",
    "    HDim(datescolumn, TIME, DIRECTLY, LEFT),\n",
    "    HDim(datessubsecs, \"datesubsection\", CLOSEST, UP), \n",
    "    HDim(obsletterheadings, \"headingletter\", DIRECTLY, UP), \n",
    "    HDim(wordheadings, \"headingword\", DIRECTLY, UP),\n",
    "    h1 \n",
    "]\n",
    "\n",
    "#savepreviewhtml([datescolumn, datessubsecs, obsletterheadings, obs, wordheadings, wordsectionheadings], previewfile)\n",
    "c1 = ConversionSegment(tab, dimensions, obs.is_number())\n",
    "savepreviewhtml(c1, previewfile)\n",
    "        \n",
    "        \n",
    "# https://sensiblecodeio.github.io/quickcode-ons-docs/lang/function_reference.html"
   ]
  },
  {
   "cell_type": "code",
   "execution_count": 5,
   "metadata": {
    "collapsed": false
   },
   "outputs": [],
   "source": [
    "df = topandas(c1)\n"
   ]
  },
  {
   "cell_type": "code",
   "execution_count": 6,
   "metadata": {
    "collapsed": false
   },
   "outputs": [
    {
     "data": {
      "text/plain": [
       "[<matplotlib.lines.Line2D at 0x7f91cb6dd320>]"
      ]
     },
     "execution_count": 6,
     "metadata": {},
     "output_type": "execute_result"
    },
    {
     "data": {
      "image/png": "[encoded data removed]",
      "text/plain": [
       "<matplotlib.figure.Figure at 0x7f91cf2e5b38>"
      ]
     },
     "metadata": {},
     "output_type": "display_data"
    }
   ],
   "source": [
    "%matplotlib inline\n",
    "from matplotlib import pyplot as plt\n",
    "\n",
    "\n",
    "ybeuY = df[(df.headingletter == \"YBEU\") & (df.TIMEUNIT == \"Year\")]\n",
    "ybeuQ = df[(df.headingletter == \"YBEU\") & (df.TIMEUNIT == \"Quarter\")]\n",
    "len(ybeuY), len(ybeuQ)\n",
    "plt.plot(ybeuY.TIME, ybeuY.OBS)\n",
    "plt.plot(ybeuQ.TIME, ybeuQ.OBS)\n",
    "\n",
    "#df.groupby([df['Source'],pd.TimeGrouper(freq='Min')])\n"
   ]
  },
  {
   "cell_type": "code",
   "execution_count": 8,
   "metadata": {
    "collapsed": false
   },
   "outputs": [
    {
     "data": {
      "text/plain": [
       "[<matplotlib.lines.Line2D at 0x7f91cb5910f0>]"
      ]
     },
     "execution_count": 8,
     "metadata": {},
     "output_type": "execute_result"
    },
    {
     "data": {
      "image/png": "[encoded data removed]",
      "text/plain": [
       "<matplotlib.figure.Figure at 0x7f91cb667438>"
      ]
     },
     "metadata": {},
     "output_type": "display_data"
    }
   ],
   "source": [
    "# work out the series of aggregations to get the two to match\n",
    "ybeuQ = ybeuQ.copy()\n",
    "\n",
    "# set the year for each quarter\n",
    "ybeuQ[\"YEAR\"] = ybeuQ.apply(lambda row: pd.to_datetime(str(row.TIME.year)), axis=1)\n",
    "\n",
    "# group by these years and average them\n",
    "ybeuQY = ybeuQ.groupby(ybeuQ.YEAR)[\"YEAR\", \"OBS\"].mean()\n",
    "\n",
    "# matches perfectly\n",
    "plt.plot(ybeuY.TIME, ybeuY.OBS)\n",
    "plt.plot(ybeuQY.index, ybeuQY.OBS)\n"
   ]
  },
  {
   "cell_type": "code",
   "execution_count": 114,
   "metadata": {
    "collapsed": false
   },
   "outputs": [
    {
     "data": {
      "text/plain": [
       "(0       53.1\n",
       " 8       55.7\n",
       " 16      58.1\n",
       " 24      61.7\n",
       " 32      64.1\n",
       " 40      67.3\n",
       " 48      71.5\n",
       " 56      75.4\n",
       " 64      79.9\n",
       " 72      84.5\n",
       " 80      89.1\n",
       " 88      91.3\n",
       " 96      89.2\n",
       " 104     93.4\n",
       " 112     97.3\n",
       " 120    100.0\n",
       " 128    104.2\n",
       " 136    109.1\n",
       " Name: OBS, dtype: float64, YEAR\n",
       " 1997-01-01     53.050000\n",
       " 1998-01-01     55.750000\n",
       " 1999-01-01     58.100000\n",
       " 2000-01-01     61.700000\n",
       " 2001-01-01     64.075000\n",
       " 2002-01-01     67.325000\n",
       " 2003-01-01     71.475000\n",
       " 2004-01-01     75.375000\n",
       " 2005-01-01     79.900000\n",
       " 2006-01-01     84.475000\n",
       " 2007-01-01     89.150000\n",
       " 2008-01-01     91.250000\n",
       " 2009-01-01     89.200000\n",
       " 2010-01-01     93.400000\n",
       " 2011-01-01     97.250000\n",
       " 2012-01-01    100.000000\n",
       " 2013-01-01    104.200000\n",
       " 2014-01-01    109.100000\n",
       " 2015-01-01    112.466667\n",
       " Name: OBS, dtype: float64)"
      ]
     },
     "execution_count": 114,
     "metadata": {},
     "output_type": "execute_result"
    }
   ],
   "source": [
    "# this date stuff is not necessarily perfect, but it's best for now.  I should also \n",
    "# learn more about how to do stacked pandas indexes, which is designed for this\n",
    "# Finally, some understanding of this GDP stats would be useful\n",
    "\n",
    "# Next trick is to prove the values of the \"Percentage change, latest year on previous year\" segments of data\n",
    "\n",
    "# then see if this can be extended cleanly to the other tables to find reduncancies in the data\n",
    "\n",
    "# also need a summary preview of the excel tables inline where we trim out the repeat sections and can just \n",
    "# see the structure of headings, etc\n",
    "\n",
    "# Then \n"
   ]
  },
  {
   "cell_type": "code",
   "execution_count": 8,
   "metadata": {
    "collapsed": false
   },
   "outputs": [
    {
     "data": {
      "text/plain": [
       "(0, 1)"
      ]
     },
     "execution_count": 8,
     "metadata": {},
     "output_type": "execute_result"
    }
   ],
   "source": [
    "\"\"\"\n",
    "bake --preview recipe.py gdpq3m2reftables_tcm77-425649.xls \"A1 AGGREGATES\" None Y\n",
    "bake --preview recipe.py gdpq3m2reftables_tcm77-425649.xls \"A1 AGGREGATES\" None Q\n",
    "bake --preview recipe.py gdpq3m2reftables_tcm77-425649.xls \"A2 AGGREGATES\" None Y\n",
    "bake --preview recipe.py gdpq3m2reftables_tcm77-425649.xls \"A2 AGGREGATES\" None Q\n",
    "bake --preview recipe.py gdpq3m2reftables_tcm77-425649.xls \"B1 CVM OUTPUT\" \"B2 CVM OUTPUT\" Y\n",
    "bake --preview recipe.py gdpq3m2reftables_tcm77-425649.xls \"B1 CVM OUTPUT\" \"B2 CVM OUTPUT\" Q\n",
    "bake --preview recipe.py gdpq3m2reftables_tcm77-425649.xls \"C1 EXPENDITURE\" \"C2 EXPENDITURE\" Y\n",
    "bake --preview recipe.py gdpq3m2reftables_tcm77-425649.xls \"C1 EXPENDITURE\" \"C2 EXPENDITURE\" Q\n",
    "bake --preview recipe.py gdpq3m2reftables_tcm77-425649.xls \"D INCOME\" None Y\n",
    "bake --preview recipe.py gdpq3m2reftables_tcm77-425649.xls \"D INCOME\" None Q\n",
    "bake --preview recipe.py gdpq3m2reftables_tcm77-425649.xls \"H1 TRADE\" \"H2 TRADE\" Y\n",
    "bake --preview recipe.py gdpq3m2reftables_tcm77-425649.xls \"H1 TRADE\" \"H2 TRADE\" Q\n",
    "bake --preview recipe.py gdpq3m2reftables_tcm77-425649.xls \"L GVAbp\" None Y\n",
    "bake --preview recipe.py gdpq3m2reftables_tcm77-425649.xls \"L GVAbp\" None Q\n",
    "\"\"\"\n",
    "DOWN"
   ]
  },
  {
   "cell_type": "code",
   "execution_count": null,
   "metadata": {
    "collapsed": true
   },
   "outputs": [],
   "source": []
  }
 ],
 "metadata": {
  "kernelspec": {
   "display_name": "Python 3",
   "language": "python",
   "name": "python3"
  },
  "language_info": {
   "codemirror_mode": {
    "name": "ipython",
    "version": 3
   },
   "file_extension": ".py",
   "mimetype": "text/x-python",
   "name": "python",
   "nbconvert_exporter": "python",
   "pygments_lexer": "ipython3",
   "version": "3.5.2"
  }
 },
 "nbformat": 4,
 "nbformat_minor": 0
}
