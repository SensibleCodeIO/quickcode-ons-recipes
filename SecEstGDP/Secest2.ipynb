{
 "cells": [
  {
   "cell_type": "code",
   "execution_count": 1,
   "metadata": {
    "collapsed": true
   },
   "outputs": [],
   "source": [
    "import xlutils\n",
    "import databaker\n",
    "import databaker.constants\n",
    "from databaker.constants import *\n",
    "import xypath\n",
    "import databaker.databakersolo as ds\n",
    "Dcelllookup = ds.overrides.Dcelllookup\n",
    "batchcelllookup = ds.overrides.batchcelllookup\n"
   ]
  },
  {
   "cell_type": "code",
   "execution_count": 2,
   "metadata": {
    "collapsed": false
   },
   "outputs": [
    {
     "name": "stdout",
     "output_type": "stream",
     "text": [
      "Table names ['Content', 'Index', 'A1 AGGREGATES', 'A2 AGGREGATES', 'B1 CVM OUTPUT', 'B2 CVM OUTPUT', 'C1 EXPENDITURE', 'C2 EXPENDITURE', 'D INCOME', 'H1 TRADE', 'H2 TRADE', 'L GVAbp', 'M Alignment adjustments', 'N Financial Year Variables', 'O Selected imp def', 'P GDP per head']\n"
     ]
    }
   ],
   "source": [
    "tableset = xypath.loader.table_set(\"gdpq3m2reftables_tcm77-425649.xls\", extension='xls')\n",
    "tabs = list(xypath.loader.get_sheets(tableset, \"*\"))\n",
    "print(\"Table names\", [tab.name  for tab in tabs])\n"
   ]
  },
  {
   "cell_type": "code",
   "execution_count": 29,
   "metadata": {
    "collapsed": false
   },
   "outputs": [
    {
     "name": "stdout",
     "output_type": "stream",
     "text": [
      "opening file preview.html\n",
      "table written\n",
      "javascript calculated\n"
     ]
    }
   ],
   "source": [
    "conversionsegments = [ ]\n",
    "\n",
    "for tab in tabs:\n",
    "    if tab.name in [\"A1 AGGREGATES\"]:\n",
    "        anchor = tab.excel_ref('A2').expand(DOWN).is_not_blank().is_not_whitespace().by_index(1)\n",
    "        obs = anchor.fill(RIGHT).expand(DOWN).is_not_blank().is_not_whitespace()\n",
    "        obs = obs - tab.excel_ref('B2').expand(DOWN).is_not_blank().is_not_whitespace().expand(RIGHT).expand(LEFT).expand(DOWN)        \n",
    "        \n",
    "        cdid_horizontal = anchor.shift(UP).fill(RIGHT).is_not_blank().is_not_whitespace()       \n",
    "        cdid_vertical = anchor.expand(DOWN).is_blank()\n",
    "        cdid = cdid_horizontal.waffle(cdid_vertical).is_not_blank().is_not_whitespace() | cdid_horizontal\n",
    "        obs = obs - cdid\n",
    "        obs = obs - obs.filter(contains_string('-'))\n",
    "\n",
    "        dimensions = [ \n",
    "            (anchor.expand(DOWN).is_not_blank().is_not_whitespace().is_not_bold(), TIME, DIRECTLY, LEFT), \n",
    "            (anchor.expand(DOWN).is_not_blank().is_not_whitespace().is_bold(), 'Output', CLOSEST, ABOVE), \n",
    "            (tab.excel_ref('A3').expand(RIGHT).is_not_blank().is_not_whitespace(), \"Cat1\", DIRECTLY, ABOVE), \n",
    "            (tab.excel_ref('A2').expand(RIGHT).is_not_blank().is_not_whitespace().parent(), \"Cat2\", CLOSEST, LEFTRIGHT), \n",
    "            (cdid, 'CDID', DIRECTLY, ABOVE)\n",
    "        ]\n",
    "        \n",
    "        #OBS <--- list of cells  (blue)\n",
    "        #TIME <--- list of cells    (yellow)\n",
    "        #Output <--- list of cells  (green)\n",
    "        #Cat1 <-- list of cells (light blue)\n",
    "        #Cat2 <-- list of cells (blue)\n",
    "        #CDID <-- list of cells        \n",
    "        conversionsegments.append((tab, dimensions, obs))\n",
    "\n",
    "# this is the preview system\n",
    "conversionsegment = conversionsegments[-1]\n",
    "from databaker.jupybakeutils import savehtml\n",
    "savehtml(conversionsegment, batchcelllookup, \"preview.html\")\n",
    "        "
   ]
  },
  {
   "cell_type": "code",
   "execution_count": 5,
   "metadata": {
    "collapsed": false
   },
   "outputs": [
    {
     "name": "stdout",
     "output_type": "stream",
     "text": [
      "opening file preview.html\n",
      "table written\n",
      "javascript calculated\n"
     ]
    }
   ],
   "source": [
    "\n",
    "conversionsegments = [ ]\n",
    "\n",
    "for tab in tabs:\n",
    "    if tab.name in [\"A1 AGGREGATES\", \"A2 AGGREGATES\"]:\n",
    "        anchor = tab.excel_ref('A2').expand(DOWN).is_not_blank().is_not_whitespace().by_index(1)\n",
    "        obs = anchor.fill(RIGHT).expand(DOWN).is_not_blank().is_not_whitespace()\n",
    "\n",
    "        cdid_horizontal = anchor.shift(UP).fill(RIGHT).is_not_blank().is_not_whitespace()       \n",
    "        cdid_vertical = anchor.expand(DOWN).is_blank()\n",
    "        cdid = cdid_horizontal.waffle(cdid_vertical).is_not_blank().is_not_whitespace() | cdid_horizontal        \n",
    "        \n",
    "        dimensions = [ \n",
    "            (tab.excel_ref('A2').expand(RIGHT).is_not_blank().is_not_whitespace().parent(), \"Expenditure\", CLOSEST, LEFTRIGHT), \n",
    "            (tab.excel_ref('A3').expand(RIGHT).is_not_blank().is_not_whitespace(), \"Exp1\", DIRECTLY, ABOVE), \n",
    "            # constant type (None, MEASURETYPE, 'Number') # \n",
    "\n",
    "            (anchor.expand(DOWN).is_not_blank().is_not_whitespace().is_not_bold(), TIME, DIRECTLY, LEFT), \n",
    "            (anchor.expand(DOWN).is_not_blank().is_not_whitespace().is_bold(), 'Output', CLOSEST, ABOVE), \n",
    "            (cdid, 'CDID', DIRECTLY, ABOVE)\n",
    "        ]\n",
    "#        obs = obs - tab.excel_ref('B2').expand(DOWN).is_not_blank().is_not_whitespace().expand(RIGHT).expand(LEFT).expand(DOWN)        \n",
    "#        obs = obs - cdid\n",
    "        \n",
    "#        obs = obs.is_not_blank().is_not_whitespace()\n",
    "\n",
    "        conversionsegments.append((tab, [], obs))\n",
    "        \n",
    "#bake --preview recipe.py gdpq3m2reftables_tcm77-425649.xls \"A1 AGGREGATES\" None Y\n",
    "#bake --preview recipe.py gdpq3m2reftables_tcm77-425649.xls \"A1 AGGREGATES\" None Q\n",
    "        \n",
    "conversionsegment = conversionsegments[-1]\n",
    "\n",
    "from databaker.jupybakeutils import savehtml\n",
    "savehtml(conversionsegment, batchcelllookup, \"preview.html\")\n",
    "\n",
    "        \n",
    "        "
   ]
  },
  {
   "cell_type": "code",
   "execution_count": null,
   "metadata": {
    "collapsed": false
   },
   "outputs": [],
   "source": [
    "\n",
    "\n",
    "# preview the cells in this batch\n",
    "from databaker.jupybakeutils import dsubsets, tabletohtml, sidewindowhtmldisplay, inlinehtmldisplay, incrementdividNUM, inlinehtmljsactive\n",
    "\n",
    "conversionsegment = conversionsegments[-1]\n",
    "\n",
    "tab, dimensions, segment = conversionsegment\n",
    "htmtable = tabletohtml(tab, dsubsets(dimensions, segment))\n",
    "incrementdividNUM()\n",
    "inlinehtmldisplay(htmtable, hide=False)\n",
    "inlinehtmljsactive(conversionsegment, batchcelllookup)\n",
    "\n",
    "\n"
   ]
  },
  {
   "cell_type": "code",
   "execution_count": 30,
   "metadata": {
    "collapsed": false
   },
   "outputs": [
    {
     "data": {
      "text/plain": [
       "(2024,\n",
       " {'Cat2': 'Value indices at current prices',\n",
       "  'Output': 'Percentage change, latest quarter on corresponding quarter of previous year',\n",
       "  'Cat1': 'Gross domestic product at market prices',\n",
       "  'CDID': 'IHYO',\n",
       "  -9: 1.5,\n",
       "  -2: '2008 Q3'})"
      ]
     },
     "execution_count": 30,
     "metadata": {},
     "output_type": "execute_result"
    }
   ],
   "source": [
    "\n",
    "# this currently does the lookups!\n",
    "allvalues = [ ]\n",
    "\n",
    "def procbatch(dimvalue, dimlabel):\n",
    "    return [ c.value if c is not None else \"\" for c in dimvalue ]  # \"2010²\"\n",
    "\n",
    "for tab, dimensions, segment in conversionsegments:\n",
    "    obslist = list(segment.unordered_cells)  # list(segment) otherwise gives bags of one element\n",
    "    dimvalues = [ procbatch(batchcelllookup(tab, obslist, dimension), dimension[1])  for dimension in dimensions ]\n",
    "    dtuples = zip(*([procbatch(obslist, OBS)]+dimvalues))\n",
    "    keys = [OBS] + [ dimension[1]  for dimension in dimensions ]  # the labels\n",
    "    dvalues = [ dict(zip(keys, dtup))  for dtup in dtuples  if not isinstance(dtup[0], str) ]\n",
    "    allvalues.extend(dvalues)\n",
    "    \n",
    "# In theory we can now call the template export to big CSV, like before at this point\n",
    "# But now we should seek to plot the stats ourselves as a sanity check that the data is good\n",
    "        \n",
    "\n",
    "len(allvalues), allvalues[-1]\n",
    "#conversionsegments[9][1]\n"
   ]
  },
  {
   "cell_type": "code",
   "execution_count": 34,
   "metadata": {
    "collapsed": false
   },
   "outputs": [
    {
     "data": {
      "text/plain": [
       "[{'Cat2': 'Value indices at current prices',\n",
       "  'Output': 'Seasonally adjusted',\n",
       "  'Cat1': 'Gross value added at basic prices',\n",
       "  'CDID': 'YBEX',\n",
       "  -9: 52.8,\n",
       "  -2: '1997 Q1'},\n",
       " {'Cat2': 'Implied deflators 2',\n",
       "  'Output': 'Seasonally adjusted',\n",
       "  'Cat1': 'Gross domestic expenditure',\n",
       "  'CDID': 'YBFV',\n",
       "  -9: 71.2,\n",
       "  -2: '1997 Q1'},\n",
       " {'Cat2': 'Chained  volume indices',\n",
       "  'Output': 'Seasonally adjusted',\n",
       "  'Cat1': 'Market sector gross value added',\n",
       "  'CDID': 'L48H',\n",
       "  -9: 74.2,\n",
       "  -2: '1997 Q1'},\n",
       " {'Cat2': 'Implied deflators 2',\n",
       "  'Output': 'Seasonally adjusted',\n",
       "  'Cat1': 'Gross domestic product at market prices',\n",
       "  'CDID': 'YBGB',\n",
       "  -9: 71.0,\n",
       "  -2: '1997 Q1'},\n",
       " {'Cat2': 'Value indices at current prices',\n",
       "  'Output': 'Seasonally adjusted',\n",
       "  'Cat1': 'Gross domestic product at market prices',\n",
       "  'CDID': 'YBEU',\n",
       "  -9: 52.2,\n",
       "  -2: '1997 Q1'},\n",
       " {'Cat2': 'Chained  volume indices',\n",
       "  'Output': 'Seasonally adjusted',\n",
       "  'Cat1': 'Gross value added at basic prices',\n",
       "  'CDID': 'CGCE',\n",
       "  -9: 73.8,\n",
       "  -2: '1997 Q1'},\n",
       " {'Cat2': 'Implied deflators 2',\n",
       "  'Output': 'Seasonally adjusted',\n",
       "  'Cat1': 'Gross value added at basic prices',\n",
       "  'CDID': 'CGBV',\n",
       "  -9: 71.6,\n",
       "  -2: '1997 Q1'},\n",
       " {'Cat2': 'Chained  volume indices',\n",
       "  'Output': 'Seasonally adjusted',\n",
       "  'Cat1': 'Gross domestic product at market prices',\n",
       "  'CDID': 'YBEZ',\n",
       "  -9: 73.6,\n",
       "  -2: '1997 Q1'},\n",
       " {'Cat2': 'Chained  volume indices',\n",
       "  'Output': 'Seasonally adjusted',\n",
       "  'Cat1': 'Gross domestic product at market prices',\n",
       "  'CDID': 'YBEZ',\n",
       "  -9: 74.5,\n",
       "  -2: '1997 Q2'},\n",
       " {'Cat2': 'Implied deflators 2',\n",
       "  'Output': 'Percentage change, latest quarter on previous quarter',\n",
       "  'Cat1': 'Gross domestic product at market prices',\n",
       "  'CDID': 'IHYT',\n",
       "  -9: -0.2,\n",
       "  -2: '1997 Q2'}]"
      ]
     },
     "execution_count": 34,
     "metadata": {},
     "output_type": "execute_result"
    }
   ],
   "source": [
    "allvalues.sort(key=lambda X: str(X[-2]))\n",
    "allvalues[:10]"
   ]
  },
  {
   "cell_type": "code",
   "execution_count": null,
   "metadata": {
    "collapsed": true
   },
   "outputs": [],
   "source": [
    "\n",
    "\n",
    "# alternatively, using pivot table (made by Peter)\n",
    "import pandas as pd\n",
    "df = ( \n",
    "    pd.DataFrame.from_records(mallvalues)\n",
    "    .rename(columns={-6:\"MEASURETYPE\", -2:\"TIME\", -9:\"OBS\"})\n",
    "    .assign(TIME=lambda df:df.TIME.astype(int))\n",
    "    #.assign(TIME2=lambda df:df.TIME.astype(int)*2)\n",
    ")\n",
    "\n",
    "pdf = df.pivot_table(\"OBS\", [\"TIME\"], [\"Mergers\", \"MEASURETYPE\", \"Area\"])\n",
    "# [\"Area Analysis of Acquisitions Abroad by UK Companies\"].xs(\"Number\", level=\"MEASURETYPE\", axis=1).plot()\n",
    "acqtypes = pdf.columns.get_level_values(0).unique()\n",
    "valtypes = pdf.columns.get_level_values(1).unique()\n",
    "\n",
    "acqtype = acqtypes[0]\n",
    "valtype = valtypes[0]\n",
    "pdf[acqtype][valtype].plot(legend=False, title=acqtype)\n"
   ]
  }
 ],
 "metadata": {
  "kernelspec": {
   "display_name": "Python 3",
   "language": "python",
   "name": "python3"
  },
  "language_info": {
   "codemirror_mode": {
    "name": "ipython",
    "version": 3
   },
   "file_extension": ".py",
   "mimetype": "text/x-python",
   "name": "python",
   "nbconvert_exporter": "python",
   "pygments_lexer": "ipython3",
   "version": "3.5.2"
  }
 },
 "nbformat": 4,
 "nbformat_minor": 1
}
