{
 "cells": [
  {
   "cell_type": "code",
   "execution_count": 10,
   "metadata": {
    "collapsed": true
   },
   "outputs": [],
   "source": [
    "import os\n",
    "import xlutils\n",
    "import databaker\n",
    "import databaker.constants\n",
    "from databaker.constants import *\n",
    "import xypath\n",
    "import databaker.databakersolo as ds\n",
    "from databaker.jupybakeutils import savepreviewhtml, writetechnicalCSV, procrows, TechnicalCSV, yield_dimension_values\n",
    "Dcelllookup = ds.overrides.Dcelllookup\n",
    "batchcelllookup = ds.overrides.batchcelllookup\n"
   ]
  },
  {
   "cell_type": "code",
   "execution_count": 4,
   "metadata": {
    "collapsed": false
   },
   "outputs": [],
   "source": [
    "inputfile = \"gdpq3m2reftables_tcm77-425649.xls\"\n",
    "outputfile = \"%s.csv\" % os.path.splitext(inputfile)[0]\n",
    "previewfile = \"preview.html\"\n"
   ]
  },
  {
   "cell_type": "code",
   "execution_count": 5,
   "metadata": {
    "collapsed": false
   },
   "outputs": [
    {
     "name": "stdout",
     "output_type": "stream",
     "text": [
      "Loading gdpq3m2reftables_tcm77-425649.xls which has size 2115072 bytes\n",
      "Table names ['Content', 'Index', 'A1 AGGREGATES', 'A2 AGGREGATES', 'B1 CVM OUTPUT', 'B2 CVM OUTPUT', 'C1 EXPENDITURE', 'C2 EXPENDITURE', 'D INCOME', 'H1 TRADE', 'H2 TRADE', 'L GVAbp', 'M Alignment adjustments', 'N Financial Year Variables', 'O Selected imp def', 'P GDP per head']\n"
     ]
    }
   ],
   "source": [
    "print(\"Loading %s which has size %d bytes\" % (inputfile, os.path.getsize(inputfile)))\n",
    "tableset = xypath.loader.table_set(inputfile, extension='xls')\n",
    "tabs = list(xypath.loader.get_sheets(tableset, \"*\"))\n",
    "print(\"Table names\", [tab.name  for tab in tabs])\n"
   ]
  },
  {
   "cell_type": "code",
   "execution_count": 7,
   "metadata": {
    "collapsed": false
   },
   "outputs": [
    {
     "name": "stdout",
     "output_type": "stream",
     "text": [
      "opening file preview.html\n",
      "table written\n"
     ]
    }
   ],
   "source": [
    "conversionsegments = [ ]\n",
    "\n",
    "for tab in tabs:\n",
    "    \n",
    "    if tab.name != \"B1 CVM OUTPUT\": \n",
    "        continue\n",
    "    \n",
    "    skipcount = 2 if tab.name in ['B1 CVM OUTPUT', 'B2 CVM OUTPUT'] else 1\n",
    "    anchor = tab.excel_ref('A2').expand(DOWN).is_not_blank().is_not_whitespace().by_index(skipcount)\n",
    "    obs = anchor.fill(RIGHT).expand(DOWN).is_not_blank().is_not_whitespace()\n",
    "    obs = obs - tab.excel_ref('B2').expand(DOWN).is_not_blank().is_not_whitespace().expand(RIGHT).expand(LEFT).expand(DOWN)        \n",
    "        \n",
    "    if tab.name in [\"A1 AGGREGATES\", \"A2 AGGREGATES\"]:\n",
    "        anchor = tab.excel_ref('A2').expand(DOWN).is_not_blank().is_not_whitespace().by_index(1)\n",
    "        obs = anchor.fill(RIGHT).expand(DOWN).is_not_blank().is_not_whitespace()\n",
    "        obs = obs - tab.excel_ref('B2').expand(DOWN).is_not_blank().is_not_whitespace().expand(RIGHT).expand(LEFT).expand(DOWN)        \n",
    "        \n",
    "        dimensions = [ \n",
    "            (tab.excel_ref('A3').expand(RIGHT).is_not_blank().is_not_whitespace(), \"Cat1\", DIRECTLY, ABOVE), \n",
    "            (tab.excel_ref('A2').expand(RIGHT).is_not_blank().is_not_whitespace().parent(), \"Cat2\", CLOSEST, LEFTRIGHT), \n",
    "        ]\n",
    "    elif tab.name in ['B1 CVM OUTPUT', 'B2 CVM OUTPUT']:\n",
    "        top = tab.excel_ref('A2').expand(RIGHT).is_not_blank().is_not_whitespace()# .parent()\n",
    "        dimensions = [ \n",
    "            (top, \"Category\", CLOSEST, LEFT), \n",
    "            (tab.excel_ref('A3').expand(RIGHT).is_not_blank().is_not_whitespace(), \"Cat2\", DIRECTLY, ABOVE), \n",
    "        ]\n",
    "    else:\n",
    "        continue\n",
    "\n",
    "    # further dimensions common to all pages\n",
    "    dimensions.append((anchor.expand(DOWN).is_not_blank().is_not_whitespace().is_not_bold(), TIME, DIRECTLY, LEFT))\n",
    "\n",
    "    mtype = { 'A1 AGGREGATES':'Number', 'A2 AGGREGATES':'Value', 'B1 CVM OUTPUT':'Number', 'B2 CVM OUTPUT':'Number', 'C1 EXPENDITURE':'Value', 'C2 EXPENDITURE':'Value',  \n",
    "               'D INCOME':'Value', 'L GVAbp':'Number', 'M Alignment adjustments':'Value', 'N Financial Year Variables':'Value', 'O Selected imp def':'Number', \n",
    "               'P GDP per head':'Number', 'H1 TRADE':'Value' ,'H2 TRADE':'Value'}   \n",
    "    dimensions.append((mtype[tab.name], MEASURETYPE, None, None))\n",
    "\n",
    "    if tab.name == 'C1 EXPENDITURE':\n",
    "        dimensions.append(('£ million', UNITOFMEASURE, None, None))\n",
    "    if tab.name == 'C2 EXPENDITURE':\n",
    "        dimensions.append(('Reference year 2012, £ million', UNITOFMEASURE, None, None))\n",
    "\n",
    "    cdid_horizontal = anchor.shift(UP).fill(RIGHT).is_not_blank().is_not_whitespace()       \n",
    "    cdid_vertical = anchor.expand(DOWN).is_blank()\n",
    "    cdid = cdid_horizontal.waffle(cdid_vertical).is_not_blank().is_not_whitespace() | cdid_horizontal\n",
    "    obs = obs - cdid\n",
    "    obs = obs - obs.filter(contains_string('-'))\n",
    "    dimensions.append((cdid, 'CDID', DIRECTLY, ABOVE))\n",
    "    dimensions.append((anchor.expand(DOWN).is_not_blank().is_not_whitespace().is_bold(), 'Output', CLOSEST, ABOVE))    \n",
    "\n",
    "    conversionsegments.append((tab, dimensions, obs))\n",
    "    \n",
    "# this is the preview system\n",
    "conversionsegment = conversionsegments[-1]\n",
    "savepreviewhtml(conversionsegment, None and batchcelllookup, previewfile)\n"
   ]
  },
  {
   "cell_type": "code",
   "execution_count": 11,
   "metadata": {
    "collapsed": false
   },
   "outputs": [
    {
     "name": "stdout",
     "output_type": "stream",
     "text": [
      "converting and writing 1 conversion segments into gdpq3m2reftables_tcm77-425649.csv\n",
      "conversion segment size 3533\n"
     ]
    }
   ],
   "source": [
    "print(\"converting and writing %d conversion segments into %s\" % (len(conversionsegments), outputfile))\n",
    "convertedrows = [ ]\n",
    "for conversionsegment in conversionsegments:\n",
    "    print(\"conversion segment size %d\" % len(conversionsegment[2]))\n",
    "    rows = procrows(conversionsegment, batchcelllookup)\n",
    "    convertedrows.append(rows)\n",
    "\n",
    "# here we can do further sorting and substitution    \n",
    "csvout = TechnicalCSV(outputfile, False)\n",
    "for rows, conversionsegment in zip(convertedrows, conversionsegments):\n",
    "    headernames = [None]+[dimension[1]  for dimension in conversionsegment[1]  if type(dimension[1]) != int ]\n",
    "    for row in rows:\n",
    "        values = dict((k if type(k)==int else headernames.index(k), v)  for k, v in row.items())\n",
    "        output_row = yield_dimension_values(values, headernames)\n",
    "        csvout.output(output_row)\n",
    "csvout.footer()\n",
    "\n"
   ]
  },
  {
   "cell_type": "code",
   "execution_count": null,
   "metadata": {
    "collapsed": true
   },
   "outputs": [],
   "source": []
  },
  {
   "cell_type": "code",
   "execution_count": null,
   "metadata": {
    "collapsed": true
   },
   "outputs": [],
   "source": []
  },
  {
   "cell_type": "code",
   "execution_count": null,
   "metadata": {
    "collapsed": true
   },
   "outputs": [],
   "source": []
  },
  {
   "cell_type": "code",
   "execution_count": null,
   "metadata": {
    "collapsed": true
   },
   "outputs": [],
   "source": []
  },
  {
   "cell_type": "code",
   "execution_count": null,
   "metadata": {
    "collapsed": true
   },
   "outputs": [],
   "source": [
    "\n",
    "\n",
    "# alternatively, using pivot table (made by Peter)\n",
    "import pandas as pd\n",
    "df = ( \n",
    "    pd.DataFrame.from_records(mallvalues)\n",
    "    .rename(columns={-6:\"MEASURETYPE\", -2:\"TIME\", -9:\"OBS\"})\n",
    "    .assign(TIME=lambda df:df.TIME.astype(int))\n",
    "    #.assign(TIME2=lambda df:df.TIME.astype(int)*2)\n",
    ")\n",
    "\n",
    "pdf = df.pivot_table(\"OBS\", [\"TIME\"], [\"Mergers\", \"MEASURETYPE\", \"Area\"])\n",
    "# [\"Area Analysis of Acquisitions Abroad by UK Companies\"].xs(\"Number\", level=\"MEASURETYPE\", axis=1).plot()\n",
    "acqtypes = pdf.columns.get_level_values(0).unique()\n",
    "valtypes = pdf.columns.get_level_values(1).unique()\n",
    "\n",
    "acqtype = acqtypes[0]\n",
    "valtype = valtypes[0]\n",
    "pdf[acqtype][valtype].plot(legend=False, title=acqtype)\n"
   ]
  }
 ],
 "metadata": {
  "kernelspec": {
   "display_name": "Python 3",
   "language": "python",
   "name": "python3"
  },
  "language_info": {
   "codemirror_mode": {
    "name": "ipython",
    "version": 3
   },
   "file_extension": ".py",
   "mimetype": "text/x-python",
   "name": "python",
   "nbconvert_exporter": "python",
   "pygments_lexer": "ipython3",
   "version": "3.5.2"
  }
 },
 "nbformat": 4,
 "nbformat_minor": 1
}
