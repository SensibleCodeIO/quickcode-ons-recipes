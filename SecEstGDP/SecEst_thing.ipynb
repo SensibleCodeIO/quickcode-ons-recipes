{
 "cells": [
  {
   "cell_type": "code",
   "execution_count": 1,
   "metadata": {
    "collapsed": false
   },
   "outputs": [],
   "source": [
    "import xlutils\n",
    "import databaker\n",
    "import databaker.constants\n",
    "from databaker.constants import *\n",
    "import xypath\n",
    "import databaker.databakersolo as ds\n",
    "Dcelllookup = ds.overrides.Dcelllookup\n",
    "batchcelllookup = ds.overrides.batchcelllookup\n"
   ]
  },
  {
   "cell_type": "code",
   "execution_count": 2,
   "metadata": {
    "collapsed": false
   },
   "outputs": [
    {
     "name": "stdout",
     "output_type": "stream",
     "text": [
      "Table names ['Content', 'Index', 'A1 AGGREGATES', 'A2 AGGREGATES', 'B1 CVM OUTPUT', 'B2 CVM OUTPUT', 'C1 EXPENDITURE', 'C2 EXPENDITURE', 'D INCOME', 'H1 TRADE', 'H2 TRADE', 'L GVAbp', 'M Alignment adjustments', 'N Financial Year Variables', 'O Selected imp def', 'P GDP per head']\n"
     ]
    }
   ],
   "source": [
    "tableset = xypath.loader.table_set(\"gdpq3m2reftables_tcm77-425649.xls\", extension='xls')\n",
    "tabs = list(xypath.loader.get_sheets(tableset, \"*\"))\n",
    "print(\"Table names\", [tab.name  for tab in tabs])\n"
   ]
  },
  {
   "cell_type": "code",
   "execution_count": 3,
   "metadata": {
    "collapsed": false
   },
   "outputs": [],
   "source": [
    "skipcount = {\n",
    "            'A1 AGGREGATES':1, 'A2 AGGREGATES':1, 'B1 CVM OUTPUT':2, 'B2 CVM OUTPUT':2, 'C1 EXPENDITURE':1, 'C2 EXPENDITURE':1,  \n",
    "            'D INCOME':1, 'L GVAbp':1, 'M Alignment adjustments':1, 'N Financial Year Variables':1, 'O Selected imp def':1, \n",
    "            'P GDP per head':1, 'H1 TRADE':1 ,'H2 TRADE':1}\n",
    "\n",
    "# Use a dictionary to specifiy the non-percentage measuretype.\n",
    "mtype = {\n",
    "            'A1 AGGREGATES':'Number', 'A2 AGGREGATES':'Value', 'B1 CVM OUTPUT':'Number', 'B2 CVM OUTPUT':'Number', 'C1 EXPENDITURE':'Value', 'C2 EXPENDITURE':'Value',  \n",
    "            'D INCOME':'Value', 'L GVAbp':'Number', 'M Alignment adjustments':'Value', 'N Financial Year Variables':'Value', 'O Selected imp def':'Number', \n",
    "            'P GDP per head':'Number', 'H1 TRADE':'Value' ,'H2 TRADE':'Value'}    \n",
    "\n",
    "\n",
    "conversionsegments = [ ]\n",
    "for tab in tabs:\n",
    "    if tab.name == \"A1 AGGREGATES\":\n",
    "        anchor = tab.excel_ref('A2').expand(DOWN).is_not_blank().is_not_whitespace().by_index(skipcount[tab.name])\n",
    "        obs = anchor.fill(RIGHT).expand(DOWN).is_not_blank().is_not_whitespace()\n",
    "        dimensions = [ \n",
    "            (tab.excel_ref('A2').expand(RIGHT).is_not_blank().is_not_whitespace().parent(), \"Expenditure\", CLOSEST, LEFTRIGHT), \n",
    "            (tab.excel_ref('A3').expand(RIGHT).is_not_blank().is_not_whitespace(), \"Exp1\", DIRECTLY, ABOVE), \n",
    "        ]\n",
    "        #obs = obs - (tab.excel_ref('F1').fill(DOWN) | tab.excel_ref('J1').fill(DOWN))\n",
    "        #obs = tab.excel_ref('F1') | tab.excel_ref('J1')\n",
    "        #obs = obs.waffle(anchor.fill(DOWN).is_not_bold().is_not_blank().is_not_whitespace())\n",
    "        conversionsegments.append((tab, dimensions, obs))\n",
    "        \n",
    "# preview the cells in this batch\n",
    "from databaker.jupybakeutils import dsubsets, tabletohtml, sidewindowhtmldisplay, inlinehtmldisplay\n",
    "tab, dimensions, segment = conversionsegments[-1]\n",
    "htmtable = tabletohtml(tab, dsubsets(dimensions, segment))\n",
    "\n",
    "        \n",
    "        "
   ]
  },
  {
   "cell_type": "code",
   "execution_count": 4,
   "metadata": {
    "collapsed": false
   },
   "outputs": [
    {
     "ename": "TypeError",
     "evalue": "sidewindowhtmldisplay() takes 0 positional arguments but 1 was given",
     "output_type": "error",
     "traceback": [
      "\u001b[0;31m---------------------------------------------------------------------------\u001b[0m",
      "\u001b[0;31mTypeError\u001b[0m                                 Traceback (most recent call last)",
      "\u001b[0;32m<ipython-input-4-431c1aa0f24a>\u001b[0m in \u001b[0;36m<module>\u001b[0;34m()\u001b[0m\n\u001b[1;32m      1\u001b[0m \u001b[0;31m#inlinehtmldisplay(htmtable)\u001b[0m\u001b[0;34m\u001b[0m\u001b[0;34m\u001b[0m\u001b[0m\n\u001b[0;32m----> 2\u001b[0;31m \u001b[0msidewindowhtmldisplay\u001b[0m\u001b[0;34m(\u001b[0m\u001b[0;34m\"bingo\"\u001b[0m\u001b[0;34m)\u001b[0m\u001b[0;34m\u001b[0m\u001b[0m\n\u001b[0m",
      "\u001b[0;31mTypeError\u001b[0m: sidewindowhtmldisplay() takes 0 positional arguments but 1 was given"
     ]
    }
   ],
   "source": [
    "#inlinehtmldisplay(htmtable)\n",
    "sidewindowhtmldisplay(\"bingo\")\n"
   ]
  },
  {
   "cell_type": "code",
   "execution_count": 8,
   "metadata": {
    "collapsed": false
   },
   "outputs": [
    {
     "data": {
      "text/plain": [
       "(0, 1)"
      ]
     },
     "execution_count": 8,
     "metadata": {},
     "output_type": "execute_result"
    }
   ],
   "source": [
    "\"\"\"\n",
    "bake --preview recipe.py gdpq3m2reftables_tcm77-425649.xls \"A1 AGGREGATES\" None Y\n",
    "bake --preview recipe.py gdpq3m2reftables_tcm77-425649.xls \"A1 AGGREGATES\" None Q\n",
    "bake --preview recipe.py gdpq3m2reftables_tcm77-425649.xls \"A2 AGGREGATES\" None Y\n",
    "bake --preview recipe.py gdpq3m2reftables_tcm77-425649.xls \"A2 AGGREGATES\" None Q\n",
    "bake --preview recipe.py gdpq3m2reftables_tcm77-425649.xls \"B1 CVM OUTPUT\" \"B2 CVM OUTPUT\" Y\n",
    "bake --preview recipe.py gdpq3m2reftables_tcm77-425649.xls \"B1 CVM OUTPUT\" \"B2 CVM OUTPUT\" Q\n",
    "bake --preview recipe.py gdpq3m2reftables_tcm77-425649.xls \"C1 EXPENDITURE\" \"C2 EXPENDITURE\" Y\n",
    "bake --preview recipe.py gdpq3m2reftables_tcm77-425649.xls \"C1 EXPENDITURE\" \"C2 EXPENDITURE\" Q\n",
    "bake --preview recipe.py gdpq3m2reftables_tcm77-425649.xls \"D INCOME\" None Y\n",
    "bake --preview recipe.py gdpq3m2reftables_tcm77-425649.xls \"D INCOME\" None Q\n",
    "bake --preview recipe.py gdpq3m2reftables_tcm77-425649.xls \"H1 TRADE\" \"H2 TRADE\" Y\n",
    "bake --preview recipe.py gdpq3m2reftables_tcm77-425649.xls \"H1 TRADE\" \"H2 TRADE\" Q\n",
    "bake --preview recipe.py gdpq3m2reftables_tcm77-425649.xls \"L GVAbp\" None Y\n",
    "bake --preview recipe.py gdpq3m2reftables_tcm77-425649.xls \"L GVAbp\" None Q\n",
    "\"\"\"\n",
    "DOWN"
   ]
  },
  {
   "cell_type": "code",
   "execution_count": null,
   "metadata": {
    "collapsed": false
   },
   "outputs": [],
   "source": [
    "\n",
    "# this does the dereferencing into the list of dicts\n",
    "tab, dimensions, segment = conversionsegments[-1]\n",
    "obslist = list(segment.unordered_cells)  # list(segment) otherwise gives bags of one element\n",
    "dimvalues = [ batchcelllookup(tab, obslist, dimension)  for dimension in dimensions ]\n",
    "dtuples = zip(*([obslist]+dimvalues))\n",
    "keys = [OBS] + [ dimension[1]  for dimension in dimensions ]\n",
    "dvalues = [ dict(zip(keys, dtup))  for dtup in dtuples ]\n",
    "dvalues[:5]\n"
   ]
  },
  {
   "cell_type": "code",
   "execution_count": null,
   "metadata": {
    "collapsed": true
   },
   "outputs": [],
   "source": [
    "allvalues = [ ]\n",
    "for tab, dimensions, segment in conversionsegments:\n",
    "    print(tab.name, [d[1]  for d in dimensions])\n",
    "    for ob in segment:\n",
    "        v = { OBS:ob.value }\n",
    "        for header_bag, name, strict, direction in dimensions:\n",
    "            try:\n",
    "                v[name] = ds.overrides.Dcelllookup(header_bag, direction, strict, None, ob).value\n",
    "            except xypath.NoLookupError:\n",
    "                v[name] = None\n",
    "                #print(\"no lookup\", header_bag, ob)"
   ]
  },
  {
   "cell_type": "code",
   "execution_count": null,
   "metadata": {
    "collapsed": true
   },
   "outputs": [],
   "source": [
    "tab, dimensions, segment = conversionsegments[-1]\n",
    "\n",
    "\n",
    "# convert the segments and handle the messy cases, eg 2010^2 and missing values\n",
    "allvalues = [ ]\n",
    "for tab, dimensions, segment in conversionsegments:\n",
    "    labels = [ OBS ]\n",
    "    vlist = [ [ ob.value if ob else None  for ob in segment ] ]\n",
    "    for dimension in dimensions\n",
    "    for ob in segment:\n",
    "        v = { OBS:ob.value }\n",
    "\n",
    "    k = batchcelllookup(tab, segment[:50], dimensions[0])\n",
    "    print(tab.name, [d[1]  for d in dimensions])\n",
    "    for ob in segment:\n",
    "        v = { OBS:ob.value }\n",
    "        for header_bag, name, strict, direction in dimensions:\n",
    "            try:\n",
    "                v[name] = Dcelllookup(header_bag, direction, strict, None, ob).value\n",
    "            except xypath.NoLookupError:\n",
    "                v[name] = None\n",
    "                #print(\"no lookup\", header_bag, ob)\n",
    "        if isinstance(v[TIME], str):\n",
    "            v[TIME] = int(v[TIME][:4])\n",
    "        if isinstance(v[OBS], str):\n",
    "            continue\n",
    "        allvalues.append(v)\n"
   ]
  },
  {
   "cell_type": "code",
   "execution_count": 3,
   "metadata": {
    "collapsed": false
   },
   "outputs": [],
   "source": [
    "from IPython.display import display\n",
    "from IPython.core.display import HTML\n",
    "\n",
    "# blocked in Chrome??\n",
    "# How to get javasccript executing in it\n",
    "#display(HTML('<script>var jj = window.open(\"http://www.w3schools.com\");</script>'))\n"
   ]
  },
  {
   "cell_type": "code",
   "execution_count": 4,
   "metadata": {
    "collapsed": false
   },
   "outputs": [],
   "source": [
    "from IPython.display import display\n",
    "from IPython.core.display import HTML\n",
    "\n",
    "def sidewindowhtmldisplay(htm):\n",
    "    sJavascript = '''\n",
    "<b>Spawning \"sidewin\" window</b> \n",
    "<script type=\"text/Javascript\">\n",
    "var Dcheck = \"something\"; \n",
    "var sidewin = \"sssomething\"; \n",
    "sidewin = window.open(\"\", \"abc123\", \"toolbar=no,location=no,,status=no,menubar=no,scrollbars=yes,resizable=yes,width=780,height=200,top=200,left=200\"); \n",
    "// use backtick for multi-line string\n",
    "var sHtml = `\n",
    "%s\n",
    "`;\n",
    "if (sidewin)\n",
    "    sidewin.document.body.innerHTML = \"<h1>Hello</h1> \" + sHtml;\n",
    "else\n",
    "    alert(\"sidewindow didn't work\"); \n",
    "</script>\n",
    "'''\n",
    "    display(HTML(sJavascript % htm))\n",
    "\n",
    "#sidewindowhtmldisplay(htmtable)\n"
   ]
  },
  {
   "cell_type": "code",
   "execution_count": 14,
   "metadata": {
    "collapsed": false
   },
   "outputs": [
    {
     "data": {
      "text/plain": [
       "1"
      ]
     },
     "execution_count": 14,
     "metadata": {},
     "output_type": "execute_result"
    }
   ],
   "source": [
    "sidewin\n"
   ]
  },
  {
   "cell_type": "code",
   "execution_count": null,
   "metadata": {
    "collapsed": true
   },
   "outputs": [],
   "source": []
  }
 ],
 "metadata": {
  "kernelspec": {
   "display_name": "Python 3",
   "language": "python",
   "name": "python3"
  },
  "language_info": {
   "codemirror_mode": {
    "name": "ipython",
    "version": 3
   },
   "file_extension": ".py",
   "mimetype": "text/x-python",
   "name": "python",
   "nbconvert_exporter": "python",
   "pygments_lexer": "ipython3",
   "version": "3.5.2"
  }
 },
 "nbformat": 4,
 "nbformat_minor": 0
}
