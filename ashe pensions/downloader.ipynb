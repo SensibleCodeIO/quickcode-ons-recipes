{
 "cells": [
  {
   "cell_type": "code",
   "execution_count": 1,
   "metadata": {
    "collapsed": true
   },
   "outputs": [],
   "source": [
    "iurl = \"https://www.ons.gov.uk/employmentandlabourmarket/peopleinwork/workplacepensions/datasets/annualsurveyofhoursandearningspensiontablespensiontypebyagegroupandbygrossweeklyearningsbandsp1\"\n",
    "\n",
    "# This is the front page for table7\n",
    "import urllib.request\n",
    "req = urllib.request.Request(iurl, headers={'User-Agent' : \"Magic Browser\"}) \n",
    "ipage = urllib.request.urlopen(req).read()\n"
   ]
  },
  {
   "cell_type": "code",
   "execution_count": 3,
   "metadata": {
    "collapsed": false
   },
   "outputs": [
    {
     "data": {
      "text/plain": [
       "['https://www.ons.gov.uk/file?uri=/employmentandlabourmarket/peopleinwork/workplacepensions/datasets/annualsurveyofhoursandearningspensiontablespensiontypebyagegroupandbygrossweeklyearningsbandsp1/2015/2015provisionaltablep1.zip',\n",
       " 'https://www.ons.gov.uk/file?uri=/employmentandlabourmarket/peopleinwork/workplacepensions/datasets/annualsurveyofhoursandearningspensiontablespensiontypebyagegroupandbygrossweeklyearningsbandsp1/2014/2014revisedtablep1.zip',\n",
       " 'https://www.ons.gov.uk/file?uri=/employmentandlabourmarket/peopleinwork/workplacepensions/datasets/annualsurveyofhoursandearningspensiontablespensiontypebyagegroupandbygrossweeklyearningsbandsp1/2013revised/2013-revised-table-p1.zip',\n",
       " 'https://www.ons.gov.uk/file?uri=/employmentandlabourmarket/peopleinwork/workplacepensions/datasets/annualsurveyofhoursandearningspensiontablespensiontypebyagegroupandbygrossweeklyearningsbandsp1/2012revised/2012-revised-table-p1.zip',\n",
       " 'https://www.ons.gov.uk/file?uri=/employmentandlabourmarket/peopleinwork/workplacepensions/datasets/annualsurveyofhoursandearningspensiontablespensiontypebyagegroupandbygrossweeklyearningsbandsp1/2011revisedsoc2010/2011-revised-table-p1--soc-2010-.zip',\n",
       " 'https://www.ons.gov.uk/file?uri=/employmentandlabourmarket/peopleinwork/workplacepensions/datasets/annualsurveyofhoursandearningspensiontablespensiontypebyagegroupandbygrossweeklyearningsbandsp1/2011provisionalsoc2000/2011-provisional-table-p1.zip',\n",
       " 'https://www.ons.gov.uk/file?uri=/employmentandlabourmarket/peopleinwork/workplacepensions/datasets/annualsurveyofhoursandearningspensiontablespensiontypebyagegroupandbygrossweeklyearningsbandsp1/2010revised/2010-revised-table-p1.zip',\n",
       " 'https://www.ons.gov.uk/file?uri=/employmentandlabourmarket/peopleinwork/workplacepensions/datasets/annualsurveyofhoursandearningspensiontablespensiontypebyagegroupandbygrossweeklyearningsbandsp1/2009/2009-table-p1.zip',\n",
       " 'https://www.ons.gov.uk/file?uri=/employmentandlabourmarket/peopleinwork/workplacepensions/datasets/annualsurveyofhoursandearningspensiontablespensiontypebyagegroupandbygrossweeklyearningsbandsp1/2008/2008-table-p1.zip',\n",
       " 'https://www.ons.gov.uk/file?uri=/employmentandlabourmarket/peopleinwork/workplacepensions/datasets/annualsurveyofhoursandearningspensiontablespensiontypebyagegroupandbygrossweeklyearningsbandsp1/2007/2007-table-p1.zip',\n",
       " 'https://www.ons.gov.uk/file?uri=/employmentandlabourmarket/peopleinwork/workplacepensions/datasets/annualsurveyofhoursandearningspensiontablespensiontypebyagegroupandbygrossweeklyearningsbandsp1/2006/2006-table-p1.zip',\n",
       " 'https://www.ons.gov.uk/file?uri=/employmentandlabourmarket/peopleinwork/workplacepensions/datasets/annualsurveyofhoursandearningspensiontablespensiontypebyagegroupandbygrossweeklyearningsbandsp1/2005/2005-table-p1.zip',\n",
       " 'https://www.ons.gov.uk/file?uri=/employmentandlabourmarket/peopleinwork/workplacepensions/datasets/annualsurveyofhoursandearningspensiontablespensiontypebyagegroupandbygrossweeklyearningsbandsp1/2004/2004-table-p1.zip',\n",
       " 'https://www.ons.gov.uk/file?uri=/employmentandlabourmarket/peopleinwork/workplacepensions/datasets/annualsurveyofhoursandearningspensiontablespensiontypebyagegroupandbygrossweeklyearningsbandsp1/2003/2003-table-p1.zip',\n",
       " 'https://www.ons.gov.uk/file?uri=/employmentandlabourmarket/peopleinwork/workplacepensions/datasets/annualsurveyofhoursandearningspensiontablespensiontypebyagegroupandbygrossweeklyearningsbandsp1/2002/2002-table-p1.zip',\n",
       " 'https://www.ons.gov.uk/file?uri=/employmentandlabourmarket/peopleinwork/workplacepensions/datasets/annualsurveyofhoursandearningspensiontablespensiontypebyagegroupandbygrossweeklyearningsbandsp1/2001/2001-table-p1.zip',\n",
       " 'https://www.ons.gov.uk/file?uri=/employmentandlabourmarket/peopleinwork/workplacepensions/datasets/annualsurveyofhoursandearningspensiontablespensiontypebyagegroupandbygrossweeklyearningsbandsp1/2000/2000-table-p1.zip',\n",
       " 'https://www.ons.gov.uk/file?uri=/employmentandlabourmarket/peopleinwork/workplacepensions/datasets/annualsurveyofhoursandearningspensiontablespensiontypebyagegroupandbygrossweeklyearningsbandsp1/1999/1999-table-p1.zip',\n",
       " 'https://www.ons.gov.uk/file?uri=/employmentandlabourmarket/peopleinwork/workplacepensions/datasets/annualsurveyofhoursandearningspensiontablespensiontypebyagegroupandbygrossweeklyearningsbandsp1/1998/1998-table-p1.zip',\n",
       " 'https://www.ons.gov.uk/file?uri=/employmentandlabourmarket/peopleinwork/workplacepensions/datasets/annualsurveyofhoursandearningspensiontablespensiontypebyagegroupandbygrossweeklyearningsbandsp1/1997/1997-table-p1.zip']"
      ]
     },
     "execution_count": 3,
     "metadata": {},
     "output_type": "execute_result"
    }
   ],
   "source": [
    "import re, urllib.parse, os\n",
    "\n",
    "# find all the links to the zip files on this index page\n",
    "zyears = [urllib.parse.urljoin(iurl, z)  for z in re.findall('<a href=\"([^\"]*?\\.zip)\"', str(ipage))]\n",
    "\n",
    "dirname = \"tablep1zips\"\n",
    "if not os.path.exists(dirname):\n",
    "    os.mkdir(dirname)\n",
    "\n",
    "    \n",
    "zyears    \n"
   ]
  },
  {
   "cell_type": "code",
   "execution_count": 4,
   "metadata": {
    "collapsed": false
   },
   "outputs": [
    {
     "name": "stdout",
     "output_type": "stream",
     "text": [
      "2015-2015provisionaltablep1.zip 44560 bytes\n",
      "2014-2014revisedtablep1.zip 44302 bytes\n",
      "2013revised-2013-revised-table-p1.zip 37509 bytes\n",
      "2012revised-2012-revised-table-p1.zip 52024 bytes\n",
      "2011revisedsoc2010-2011-revised-table-p1--soc-2010-.zip 44402 bytes\n",
      "2011provisionalsoc2000-2011-provisional-table-p1.zip 44218 bytes\n",
      "2010revised-2010-revised-table-p1.zip 45425 bytes\n",
      "2009-2009-table-p1.zip 38750 bytes\n",
      "2008-2008-table-p1.zip 38852 bytes\n",
      "2007-2007-table-p1.zip 39108 bytes\n",
      "2006-2006-table-p1.zip 38989 bytes\n",
      "2005-2005-table-p1.zip 38913 bytes\n",
      "2004-2004-table-p1.zip 39364 bytes\n",
      "2003-2003-table-p1.zip 39177 bytes\n",
      "2002-2002-table-p1.zip 39227 bytes\n",
      "2001-2001-table-p1.zip 33113 bytes\n",
      "2000-2000-table-p1.zip 37464 bytes\n",
      "1999-1999-table-p1.zip 37651 bytes\n",
      "1998-1998-table-p1.zip 38091 bytes\n",
      "1997-1997-table-p1.zip 38005 bytes\n"
     ]
    }
   ],
   "source": [
    "# copy and download each of these zip files\n",
    "for zurl in zyears:\n",
    "    zfilename = \"-\".join(zurl.split(\"/\")[-2:])\n",
    "    zurl = zurl.replace(\" \", \"%20\")   # spaces in the url get escaped in the browser\n",
    "    req = urllib.request.Request(zurl, headers={'User-Agent' : \"Magic Browser\"}) \n",
    "    zcon = urllib.request.urlopen(req)\n",
    "    #zcon.headers.items()\n",
    "    fout = open(os.path.join(dirname, zfilename), \"wb\")\n",
    "    zbytes = zcon.read()\n",
    "    fout.write(zbytes)\n",
    "    fout.close()\n",
    "    print(zfilename, len(zbytes), \"bytes\")\n"
   ]
  },
  {
   "cell_type": "code",
   "execution_count": null,
   "metadata": {
    "collapsed": true
   },
   "outputs": [],
   "source": []
  }
 ],
 "metadata": {
  "kernelspec": {
   "display_name": "Python 3",
   "language": "python",
   "name": "python3"
  },
  "language_info": {
   "codemirror_mode": {
    "name": "ipython",
    "version": 3
   },
   "file_extension": ".py",
   "mimetype": "text/x-python",
   "name": "python",
   "nbconvert_exporter": "python",
   "pygments_lexer": "ipython3",
   "version": "3.5.2"
  }
 },
 "nbformat": 4,
 "nbformat_minor": 1
}
