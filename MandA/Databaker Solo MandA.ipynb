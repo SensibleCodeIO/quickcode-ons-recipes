{
 "cells": [
  {
   "cell_type": "code",
   "execution_count": 2,
   "metadata": {
    "collapsed": false
   },
   "outputs": [],
   "source": [
    "import databaker\n",
    "import databaker.constants\n",
    "import xlutils\n",
    "import xypath\n",
    "\n"
   ]
  },
  {
   "cell_type": "code",
   "execution_count": 3,
   "metadata": {
    "collapsed": false
   },
   "outputs": [],
   "source": [
    "# The following is a block of code copied directly from an actual recipe without any changes\n",
    "\n",
    "from databaker.constants import *\n",
    "\n",
    "def per_file(tabs):    \n",
    "    return PARAMS(0)\n",
    "\n",
    "def per_tab(tab):           \n",
    "     \n",
    "    my_dict = {\"6A_Top\": 'CBAQ', \"6A_Bottom\": 'HCL3', \"6D_Top\": 'CBAS', \"6D_Bottom\":'HCL5',\n",
    "               \"7A_Top\": 'CBAU', \"7A_Bottom\": 'HCK7', \"7D_Top\": 'CBAW', \"7D_Bottom\":'HCK9',\n",
    "    }\n",
    "\n",
    "    anchor = tab.filter(contains_string (my_dict[PARAMS(1)]))\n",
    "    obs = anchor.shift(DOWN).expand(RIGHT).expand(DOWN).is_not_blank()\n",
    "\n",
    "    # Getting all the junk out of the file\n",
    "    unwanted = tab.excel_ref('AA1').expand(DOWN).expand(RIGHT)     \n",
    "    unwanted = unwanted | anchor.expand(DOWN).filter(contains_string ('Area Analysis')).expand(RIGHT).expand(DOWN)\n",
    "    unwanted = unwanted | tab.filter(contains_string ('indicates earliest revision')).expand(RIGHT).expand(DOWN)\n",
    "    unwanted = unwanted | anchor.expand(DOWN).filter(contains_string ('Number')).shift(UP).expand(RIGHT).expand(DOWN)\n",
    "    obs = obs - unwanted    \n",
    "    \n",
    "    # Dimension etc\n",
    "    anchor.shift(0, -2).expand(RIGHT).is_not_blank().dimension(\"Area\", CLOSEST, LEFT)\n",
    "    anchor.shift(0, -1).expand(RIGHT).is_not_blank().dimension(MEASURETYPE, DIRECTLY, ABOVE)\n",
    "    anchor.shift(-1, 0).expand(DOWN).is_not_blank().dimension(TIME, DIRECTLY, LEFT)        \n",
    "    \n",
    "    cat = tab.filter(contains_string (PARAMS(1)[0:2])).shift(RIGHT)\n",
    "    cat.dimension(\"Mergers\", CLOSEST, ABOVE)\n",
    "\n",
    "    tab.dimension(\"Companies\", \"TempValue\")\n",
    "    \n",
    "    yield obs\n",
    "\n"
   ]
  },
  {
   "cell_type": "code",
   "execution_count": 4,
   "metadata": {
    "collapsed": true
   },
   "outputs": [],
   "source": [
    "# this is a set of parameters copied from a command in the batch file\n",
    "sys.argv = [\"Mergers_6_7_recipe.py\", \"--preview\", \"rftmatables_tcm77-415727.xls\", \"Table 6\", \"6A_Top\"]\n"
   ]
  },
  {
   "cell_type": "code",
   "execution_count": 5,
   "metadata": {
    "collapsed": false
   },
   "outputs": [],
   "source": [
    "import databaker.databakersolo as ds\n",
    "Opt = ds.Options()\n",
    "ds.Globrecipeper_file = per_file\n",
    "ds.Globrecipeper_tab = per_tab\n",
    "databaker.utils.showtime_enabled = Opt.timing\n",
    "databaker.constants.constant_params = Opt.params\n"
   ]
  },
  {
   "cell_type": "code",
   "execution_count": 6,
   "metadata": {
    "collapsed": false
   },
   "outputs": [],
   "source": [
    "# The following loop works (if there are multiple files), but here there is almost always only one, \n",
    "# so we are going to unroll it and inline the big DBSper_fileFUNC() function\n",
    "#for fn in Opt.xls_files:\n",
    "#    ds.DBSper_fileFUNC(fn, Opt)\n",
    "spreadsheet = Opt.xls_files[0]\n"
   ]
  },
  {
   "cell_type": "code",
   "execution_count": 7,
   "metadata": {
    "collapsed": false
   },
   "outputs": [
    {
     "name": "stdout",
     "output_type": "stream",
     "text": [
      "The list table names is ['Table 6']\n"
     ]
    },
    {
     "data": {
      "text/plain": [
       "xypath.xypath.Table"
      ]
     },
     "execution_count": 7,
     "metadata": {},
     "output_type": "execute_result"
    }
   ],
   "source": [
    "# Load in the table set and apply the given recipe.per_file() filter\n",
    "tableset = xypath.loader.table_set(spreadsheet, extension='xls')\n",
    "tabsfilter = per_file(tableset)   # function from the recipe\n",
    "tabs = list(xypath.loader.get_sheets(tableset, tabsfilter))   \n",
    "print(\"The list table names is\", [ tab.name  for tab in tabs ])\n",
    "\n",
    "# This concludes the business of the per_file() recipe function\n",
    "type(tabs[0])"
   ]
  },
  {
   "cell_type": "code",
   "execution_count": 8,
   "metadata": {
    "collapsed": false
   },
   "outputs": [
    {
     "name": "stdout",
     "output_type": "stream",
     "text": [
      "got header Area: 6.116s,  6.116s total\n",
      "got header MEASURETYPE: 0.000s,  6.116s total\n",
      "got header TIME: 0.001s,  6.117s total\n",
      "got header Mergers: 0.003s,  6.119s total\n",
      "got header Companies: 0.000s,  6.119s total\n"
     ]
    }
   ],
   "source": [
    "# Now we unroll the blocks of \"yields\" of segments given in the recipe.per_tab() function\n",
    "\n",
    "conversionsegments = [ ]   # [ (tab, {int:dimension}, [obs]) ]\n",
    "for tab in tabs:\n",
    "    segmentgenerator = per_tab(tab)   # function from recipe\n",
    "    if isinstance(segmentgenerator, xypath.xypath.Bag):\n",
    "        segmentgenerator = [segmentgenerator]    # backward compatibility for return cases\n",
    "\n",
    "    for segment in segmentgenerator:  # must be yielded so we can copy out tab.headers which are set between the function calls\n",
    "        assert tab.headernames == [None]+[tab.headers[i].Dlabel  for i in range(1, max(tab.headers.keys())+1)]  # prove we can recreate the data\n",
    "        conversionsegments.append((tab, tab.headers, segment))\n",
    "        tab.headers, tab.max_header, tab.headernames = {}, 0, [None]  # reset the hidden list of dimensions/headers back to empty before the next block\n",
    "\n",
    "# This concludes all the business of the per_tab() recipe function\n"
   ]
  },
  {
   "cell_type": "code",
   "execution_count": 9,
   "metadata": {
    "collapsed": false
   },
   "outputs": [
    {
     "name": "stdout",
     "output_type": "stream",
     "text": [
      "'rftmatables_tcm77-415727.xls':'Table 6' has 2176 cells of which 100 have been selected\n",
      "    Dim:-6 'MEASURETYPE' has 10 headercells and is looked up in the (0, -1) direction strict=True\n",
      "    Dim:-2 'TIME' has 46 headercells and is looked up in the (-1, 0) direction strict=True\n",
      "    Dim:1 'Area' has 5 headercells and is looked up in the (-1, 0) direction strict=False\n",
      "    Dim:2 'Mergers' has 1 headercells and is looked up in the (0, -1) direction strict=False\n",
      "    Dim:3 'Companies' has 2176 headercells and is looked up in the None direction strict=None\n"
     ]
    }
   ],
   "source": [
    "# Provide a quick summary of the conversions that have been scheduled\n",
    "for conversionsegment in conversionsegments:\n",
    "    tab, headers, segment = conversionsegment\n",
    "    print(\"'%s':'%s' has %d cells of which %d have been selected\" % (spreadsheet, tab.name, len(tab), len(segment)))\n",
    "    for i, header in sorted(headers.items()):\n",
    "        label = header.Dlabel\n",
    "        if isinstance(label, int) and label < 0:\n",
    "            label = databaker.constants.template.dimension_names[len(databaker.constants.template.dimension_names)-1+label]\n",
    "        print(\"    Dim:%d '%s' has %d headercells and is looked up in the %s direction strict=%s\" % (i, label, len(header.bag), str(header.direction), header.strict))\n",
    "\n"
   ]
  },
  {
   "cell_type": "code",
   "execution_count": 10,
   "metadata": {
    "collapsed": false
   },
   "outputs": [
    {
     "name": "stdout",
     "output_type": "stream",
     "text": [
      "Saving preview file 'preview-rftmatables_tcm77-415727-Mergers_6_7_recipe-Table 6,6A_Top.xls'\n"
     ]
    }
   ],
   "source": [
    "# This code block produces the preview spreadsheet if required.  \n",
    "# We could intervene and plot the values of headers in an array to show how they are lining up\n",
    "if Opt.preview:\n",
    "    writer = xlutils.copy.copy(tableset.workbook)\n",
    "    previewfilename = ds.filenames(spreadsheet, Opt)['preview']\n",
    "    writer.save(previewfilename)\n",
    "    for tab, headers, segment in conversionsegments:\n",
    "        tableset = xypath.loader.table_set(previewfilename, extension='xls')   # load and save between each one\n",
    "        writer = xlutils.copy.copy(tableset.workbook)\n",
    "        ds.make_preview(writer, tab.index, headers, segment)\n",
    "    print(\"Saving preview file '%s'\" % previewfilename)\n",
    "    writer.save(previewfilename)\n"
   ]
  },
  {
   "cell_type": "code",
   "execution_count": 11,
   "metadata": {
    "collapsed": false
   },
   "outputs": [
    {
     "name": "stderr",
     "output_type": "stream",
     "text": [
      "/home/goatchurch/sensiblecode/src/databaker/databaker/utils.py:47: UserWarning: Couldn't identify date '2010²'\n",
      "  warnings.warn(\"Couldn't identify date {!r}\".format(date))\n"
     ]
    },
    {
     "data": {
      "text/plain": [
       "100"
      ]
     },
     "execution_count": 11,
     "metadata": {},
     "output_type": "execute_result"
    }
   ],
   "source": [
    "# We now do the conversions from the observations to the headers (This is the slow part)\n",
    "batchrows = [ ]\n",
    "for tab, headers, segment in conversionsegments:\n",
    "    headernames = [None]+[headers[i].Dlabel  for i in range(1, max(headers)+1)]  # recreate value used in output conversion\n",
    "    for ob_num, ob in enumerate(segment):\n",
    "        values = ds.extract_dimension_values_for_ob(headers, ob, Opt.no_lookup_error)\n",
    "        batchrows.append((values, headernames))\n",
    "len(batchrows)"
   ]
  },
  {
   "cell_type": "code",
   "execution_count": 12,
   "metadata": {
    "collapsed": false
   },
   "outputs": [
    {
     "name": "stdout",
     "output_type": "stream",
     "text": [
      "Outputting file 'data-rftmatables_tcm77-415727-Mergers_6_7_recipe-Table 6,6A_Top.csv' with 100 lines\n"
     ]
    }
   ],
   "source": [
    "# This is the final stage for outputting the bloated csv file\n",
    "csv_file = ds.filenames(spreadsheet, Opt)['csv']\n",
    "csv = ds.TechnicalCSV(csv_file, Opt.no_lookup_error)\n",
    "\n",
    "# write the headers put out in the file\n",
    "tab, headers, segment = conversionsegments[0]\n",
    "headernames = [None]+[headers[i].Dlabel  for i in range(1, max(headers)+1)]  # recreate value used in output conversion\n",
    "headerrow = csv.generate_header_row(headers, headernames)\n",
    "csv.csv_writer.writerow(headerrow)  # note that only first batch of headernames is used\n",
    "\n",
    "print(\"Outputting file '%s' with %d lines\" % (csv_file, len(batchrows)))\n",
    "#print(\"The headerrow is:\", headerrow)\n",
    "\n",
    "# this spits out the actual rows\n",
    "for values, headernames in batchrows:\n",
    "    output_row = ds.yield_dimension_values(values, headernames)\n",
    "    csv.output(output_row)\n",
    "csv.footer()   # this closes the file\n",
    "\n",
    "# And we're done"
   ]
  },
  {
   "cell_type": "code",
   "execution_count": 24,
   "metadata": {
    "collapsed": false,
    "scrolled": true
   },
   "outputs": [
    {
     "data": {
      "text/html": [
       "<style>\n",
       "table.ex td, table.ex tr { border: none }\n",
       "td.exbold { font-weight: bold }\n",
       "td.exnumber { color: green }\n",
       "td.exdate { color: purple }\n",
       "td.exc0 { background-color: LightYellow }\n",
       "td.exc1 { background-color: LightGreen }\n",
       "td.exc2 { background-color: PaleTurquoise }\n",
       "td.exc3 { background-color: LightBlue }\n",
       "td.exc4 { background-color: SkyBlue }\n",
       "td.exc5 { background-color: Plum }\n",
       "td.exc6 { background-color: Gold }\n",
       "td.exc7 { background-color: Lime }\n",
       "td.exc8 { background-color: Coral }\n",
       "td.exc9 { background-color: BurlyWood }\n",
       "td.exc10 { background-color: CornflowerBlue }\n",
       "td.exc-2 { background-color: MistyRose }\n",
       "td.exc-9 { background-color: Lavender }\n",
       "td.exc-8 { background-color: Violet }\n",
       "td.exc-7 { background-color: LightGray }\n",
       "td.exc-6 { background-color: SeaGreen }\n",
       "td.exc-5 { background-color: DeepSkyBlue }\n",
       "td.exc-4 { background-color: Blue }\n",
       "td.exc-3 { background-color: LightGray }\n",
       "td.exc-1 { background-color: Tan }\n",
       "</style>\n",
       "\n"
      ],
      "text/plain": [
       "<IPython.core.display.HTML object>"
      ]
     },
     "metadata": {},
     "output_type": "display_data"
    },
    {
     "data": {
      "text/html": [
       "<table class=\"ex\">\n",
       "<tr><td class=\"exc-9\">OBS</td><td class=\"exc1\">Area</td><td class=\"exc-6\">MEASURETYPE</td><td class=\"exc2\">Mergers</td><td class=\"exc-2\">TIME</td></tr></table>\n"
      ],
      "text/plain": [
       "<IPython.core.display.HTML object>"
      ]
     },
     "metadata": {},
     "output_type": "display_data"
    },
    {
     "data": {
      "text/html": [
       "<table class=\"ex\">\n",
       "<tr><td class=\"\"></td><td class=\"exbold\">6A</td><td class=\"exc2 exbold\">Area Analysis of Acquisitions Abroad by UK Companies</td><td class=\"\"></td><td class=\"\"></td><td class=\"\"></td><td class=\"\"></td><td class=\"\"></td><td class=\"\"></td><td class=\"\"></td><td class=\"\"></td><td class=\"\"></td><td class=\"\"></td><td class=\"\"></td><td class=\"\"></td><td class=\"\"></td><td class=\"\"></td><td class=\"\"></td><td class=\"\"></td><td class=\"\"></td><td class=\"\"></td><td class=\"\"></td><td class=\"\"></td><td class=\"\"></td><td class=\"\"></td><td class=\"\"></td><td class=\"\"></td><td class=\"\"></td><td class=\"exbold\"></td><td class=\"\"></td><td class=\"\"></td><td class=\"\"></td></tr>\n",
       "<tr><td class=\"\"></td><td class=\"\">£ million</td><td class=\"\"></td><td class=\"\"></td><td class=\"\"></td><td class=\"\"></td><td class=\"\"></td><td class=\"\"></td><td class=\"\"></td><td class=\"\"></td><td class=\"\"></td><td class=\"\"></td><td class=\"\"></td><td class=\"\"></td><td class=\"\"></td><td class=\"\"></td><td class=\"\"></td><td class=\"\"></td><td class=\"\"></td><td class=\"\"></td><td class=\"\"></td><td class=\"\"></td><td class=\"\"></td><td class=\"\"></td><td class=\"\"></td><td class=\"\"></td><td class=\"\"></td><td class=\"\"></td><td class=\"exbold\"></td><td class=\"\"></td><td class=\"\"></td><td class=\"\"></td></tr>\n",
       "<tr><td class=\"\"></td><td class=\"\"></td><td class=\"exc1\">World Total</td><td class=\"\"></td><td class=\"\"></td><td class=\"\"></td><td class=\"\"></td><td class=\"exc1\">EU1</td><td class=\"\"></td><td class=\"\"></td><td class=\"\"></td><td class=\"\"></td><td class=\"exc1\">Other Europe</td><td class=\"\"></td><td class=\"\"></td><td class=\"\"></td><td class=\"\"></td><td class=\"exc1\">Europe Total</td><td class=\"\"></td><td class=\"\"></td><td class=\"\"></td><td class=\"\"></td><td class=\"exc1\">USA</td><td class=\"\"></td><td class=\"\"></td><td class=\"\"></td><td class=\"\"></td><td class=\"\"></td><td class=\"\"></td><td class=\"\"></td><td class=\"\"></td><td class=\"\"></td></tr>\n",
       "<tr><td class=\"\"></td><td class=\"\"></td><td class=\"exc-6\">Number</td><td class=\"\"></td><td class=\"exc-6\">Value</td><td class=\"\"></td><td class=\"\"></td><td class=\"exc-6\">Number</td><td class=\"\"></td><td class=\"exc-6\">Value</td><td class=\"\"></td><td class=\"\"></td><td class=\"exc-6\">Number</td><td class=\"\"></td><td class=\"exc-6\">Value</td><td class=\"\"></td><td class=\"\"></td><td class=\"exc-6\">Number</td><td class=\"\"></td><td class=\"exc-6\">Value</td><td class=\"\"></td><td class=\"\"></td><td class=\"exc-6\">Number</td><td class=\"\"></td><td class=\"exc-6\">Value</td><td class=\"\"></td><td class=\"\"></td><td class=\"\"></td><td class=\"\"></td><td class=\"\"></td><td class=\"\"></td><td class=\"\"></td></tr>\n",
       "<tr><td class=\"\"></td><td class=\"\"></td><td class=\"\">    CBAQ</td><td class=\"\"></td><td class=\"\">    CBBI</td><td class=\"\"></td><td class=\"\"></td><td class=\"\">    CBAY</td><td class=\"\"></td><td class=\"\">    CBAZ</td><td class=\"\"></td><td class=\"\"></td><td class=\"\">    HCK3</td><td class=\"\"></td><td class=\"\">    HCK4</td><td class=\"\"></td><td class=\"\"></td><td class=\"\">    HCJ3</td><td class=\"\"></td><td class=\"\">    HCJ4</td><td class=\"\"></td><td class=\"\"></td><td class=\"\">    CBBA</td><td class=\"\"></td><td class=\"\">    CBBB</td><td class=\"\"></td><td class=\"\"></td><td class=\"\"></td><td class=\"\"></td><td class=\"\"></td><td class=\"\"></td><td class=\"\"></td></tr>\n",
       "<tr><td class=\"\"></td><td class=\"exc-2 exdate exnumber\">2005.0</td><td class=\"exc-9 exnumber\">365.0</td><td class=\"\"></td><td class=\"exc-9 exnumber\">32732.0</td><td class=\"\"></td><td class=\"\"></td><td class=\"exc-9 exnumber\">157.0</td><td class=\"\"></td><td class=\"exc-9 exdate exnumber\">5056.0</td><td class=\"\"></td><td class=\"\"></td><td class=\"exc-9 exnumber\">18.0</td><td class=\"\"></td><td class=\"exc-9 exdate exnumber\">1766.0</td><td class=\"\"></td><td class=\"\"></td><td class=\"exc-9 exnumber\">175.0</td><td class=\"\"></td><td class=\"exc-9 exdate exnumber\">6822.0</td><td class=\"\"></td><td class=\"\"></td><td class=\"exc-9 exnumber\">112.0</td><td class=\"\"></td><td class=\"exc-9 exnumber\">15683.0</td><td class=\"\"></td><td class=\"\"></td><td class=\"\"></td><td class=\"\"></td><td class=\"\"></td><td class=\"\"></td><td class=\"\"></td></tr>\n",
       "<tr><td class=\"\"></td><td class=\"exc-2 exdate exnumber\">2006.0</td><td class=\"exc-9 exnumber\">405.0</td><td class=\"\"></td><td class=\"exc-9 exnumber\">37412.0</td><td class=\"\"></td><td class=\"\"></td><td class=\"exc-9 exnumber\">131.0</td><td class=\"\"></td><td class=\"exc-9 exnumber\">12966.0</td><td class=\"\"></td><td class=\"\"></td><td class=\"exc-9 exnumber\">39.0</td><td class=\"\"></td><td class=\"exc-9 exdate exnumber\">5962.0</td><td class=\"\"></td><td class=\"\"></td><td class=\"exc-9 exnumber\">170.0</td><td class=\"\"></td><td class=\"exc-9 exnumber\">18928.0</td><td class=\"\"></td><td class=\"\"></td><td class=\"exc-9 exnumber\">138.0</td><td class=\"\"></td><td class=\"exc-9 exdate exnumber\">7348.0</td><td class=\"\"></td><td class=\"\"></td><td class=\"\"></td><td class=\"\"></td><td class=\"\"></td><td class=\"\"></td><td class=\"\"></td></tr>\n",
       "<tr><td class=\"\"></td><td class=\"exc-2 exdate exnumber\">2007.0</td><td class=\"exc-9 exnumber\">441.0</td><td class=\"\"></td><td class=\"exc-9 exnumber\">57814.0</td><td class=\"\"></td><td class=\"\"></td><td class=\"exc-9 exnumber\">170.0</td><td class=\"\"></td><td class=\"exc-9 exdate exnumber\">7397.0</td><td class=\"\"></td><td class=\"\"></td><td class=\"exc-9 exnumber\">29.0</td><td class=\"\"></td><td class=\"exc-9 exdate exnumber\">1062.0</td><td class=\"\"></td><td class=\"\"></td><td class=\"exc-9 exnumber\">199.0</td><td class=\"\"></td><td class=\"exc-9 exdate exnumber\">8459.0</td><td class=\"\"></td><td class=\"\"></td><td class=\"exc-9 exnumber\">115.0</td><td class=\"\"></td><td class=\"exc-9 exnumber\">21676.0</td><td class=\"\"></td><td class=\"\"></td><td class=\"\"></td><td class=\"\"></td><td class=\"\"></td><td class=\"\"></td><td class=\"\"></td></tr>\n",
       "<tr><td class=\"\"></td><td class=\"exc-2 exdate exnumber\">2008.0</td><td class=\"exc-9 exnumber\">298.0</td><td class=\"\"></td><td class=\"exc-9 exnumber\">29670.0</td><td class=\"\"></td><td class=\"\"></td><td class=\"exc-9 exnumber\">102.0</td><td class=\"\"></td><td class=\"exc-9 exnumber\">13613.0</td><td class=\"\"></td><td class=\"\"></td><td class=\"exc-9 exnumber\">29.0</td><td class=\"\"></td><td class=\"exc-9 exdate exnumber\">1720.0</td><td class=\"\"></td><td class=\"\"></td><td class=\"exc-9 exnumber\">131.0</td><td class=\"\"></td><td class=\"exc-9 exnumber\">15333.0</td><td class=\"\"></td><td class=\"\"></td><td class=\"exc-9 exnumber\">88.0</td><td class=\"\"></td><td class=\"exc-9 exdate exnumber\">7244.0</td><td class=\"\"></td><td class=\"\"></td><td class=\"\"></td><td class=\"\"> </td><td class=\"\"></td><td class=\"\"></td><td class=\"\"></td></tr>\n",
       "<tr><td class=\"\"></td><td class=\"exc-2 exdate exnumber\">2009.0</td><td class=\"exc-9 exnumber\">118.0</td><td class=\"\"></td><td class=\"exc-9 exnumber\">10148.0</td><td class=\"\"></td><td class=\"\"></td><td class=\"exc-9 exnumber\">36.0</td><td class=\"\"></td><td class=\"exc-9 exdate exnumber\">1800.0</td><td class=\"\"></td><td class=\"\"></td><td class=\"exc-9 exnumber\">8.0</td><td class=\"\"></td><td class=\"exc-9 exnumber\">169.0</td><td class=\"\"></td><td class=\"\"></td><td class=\"exc-9 exnumber\">44.0</td><td class=\"\"></td><td class=\"exc-9 exdate exnumber\">1969.0</td><td class=\"\"></td><td class=\"\"></td><td class=\"exc-9 exnumber\">34.0</td><td class=\"\"></td><td class=\"exc-9 exdate exnumber\">3250.0</td><td class=\"\"></td><td class=\"\"></td><td class=\"\"></td><td class=\"\"></td><td class=\"\"></td><td class=\"\"></td><td class=\"\"></td></tr>\n",
       "<tr><td class=\"\"></td><td class=\"exc-2\">2010²</td><td class=\"exc-9 exnumber\">199.0</td><td class=\"\"></td><td class=\"exc-9 exnumber\">12414.0</td><td class=\"\"></td><td class=\"\"></td><td class=\"exc-9 exnumber\">66.0</td><td class=\"\"></td><td class=\"exc-9 exdate exnumber\">2979.0</td><td class=\"\"></td><td class=\"\"></td><td class=\"exc-9 exnumber\">18.0</td><td class=\"\"></td><td class=\"exc-9 exnumber\">471.0</td><td class=\"\"></td><td class=\"\"></td><td class=\"exc-9 exnumber\">84.0</td><td class=\"\"></td><td class=\"exc-9 exdate exnumber\">3450.0</td><td class=\"\"></td><td class=\"\"></td><td class=\"exc-9 exnumber\">53.0</td><td class=\"\"></td><td class=\"exc-9 exdate exnumber\">6223.0</td><td class=\"\"></td><td class=\"\"></td><td class=\"\"></td><td class=\"\"></td><td class=\"\"></td><td class=\"\"></td><td class=\"\"></td></tr>\n",
       "<tr><td class=\"\"></td><td class=\"exc-2 exdate exnumber\">2011.0</td><td class=\"exc-9 exnumber\">286.0</td><td class=\"\"></td><td class=\"exc-9 exnumber\">50234.0</td><td class=\"\"></td><td class=\"\"></td><td class=\"exc-9 exnumber\">75.0</td><td class=\"\"></td><td class=\"exc-9 exnumber\">20666.0</td><td class=\"\"></td><td class=\"\"></td><td class=\"exc-9 exnumber\">29.0</td><td class=\"\"></td><td class=\"exc-9 exdate exnumber\">2760.0</td><td class=\"\"></td><td class=\"\"></td><td class=\"exc-9 exnumber\">104.0</td><td class=\"\"></td><td class=\"exc-9 exnumber\">23426.0</td><td class=\"\"></td><td class=\"\"></td><td class=\"exc-9 exnumber\">83.0</td><td class=\"\"></td><td class=\"exc-9 exdate exnumber\">9342.0</td><td class=\"\"></td><td class=\"\"></td><td class=\"\"></td><td class=\"\"></td><td class=\"\"></td><td class=\"\"></td><td class=\"\"></td></tr>\n",
       "<tr><td class=\"\"></td><td class=\"exc-2 exdate exnumber\">2012.0</td><td class=\"exc-9 exnumber\">122.0</td><td class=\"\"></td><td class=\"exc-9 exnumber\">17933.0</td><td class=\"\"></td><td class=\"\"></td><td class=\"exc-9 exnumber\">34.0</td><td class=\"\"></td><td class=\"exc-9 exdate exnumber\">7932.0</td><td class=\"\"></td><td class=\"\"></td><td class=\"exc-9 exnumber\">12.0</td><td class=\"\"></td><td class=\"exc-9 exnumber\">842.0</td><td class=\"\"></td><td class=\"\"></td><td class=\"exc-9 exnumber\">46.0</td><td class=\"\"></td><td class=\"exc-9 exdate exnumber\">8774.0</td><td class=\"\"></td><td class=\"\"></td><td class=\"exc-9 exnumber\">41.0</td><td class=\"\"></td><td class=\"exc-9 exdate exnumber\">5384.0</td><td class=\"\"></td><td class=\"\"></td><td class=\"\"></td><td class=\"\"></td><td class=\"\"></td><td class=\"\"></td><td class=\"\"></td></tr>\n",
       "<tr><td class=\"\"></td><td class=\"exc-2 exdate exnumber\">2013.0</td><td class=\"exc-9 exnumber\">58.0</td><td class=\"\"></td><td class=\"exc-9\">..</td><td class=\"\"></td><td class=\"\"></td><td class=\"exc-9 exnumber\">16.0</td><td class=\"\"></td><td class=\"exc-9 exdate exnumber\">6216.0</td><td class=\"\"></td><td class=\"\"></td><td class=\"exc-9 exnumber\">7.0</td><td class=\"\"></td><td class=\"exc-9 exnumber\">376.0</td><td class=\"\"></td><td class=\"\"></td><td class=\"exc-9 exnumber\">23.0</td><td class=\"\"></td><td class=\"exc-9 exdate exnumber\">6592.0</td><td class=\"\"></td><td class=\"\"></td><td class=\"exc-9 exnumber\">8.0</td><td class=\"\"></td><td class=\"exc-9 exnumber\">600.0</td><td class=\"\"></td><td class=\"\"></td><td class=\"\"></td><td class=\"\"></td><td class=\"\"></td><td class=\"\"></td><td class=\"\"></td></tr>\n",
       "<tr><td class=\"\"></td><td class=\"exc-2 exdate exnumber\">2014.0</td><td class=\"exc-9 exnumber\">113.0</td><td class=\"\"></td><td class=\"exc-9 exnumber\">20647.0</td><td class=\"\"></td><td class=\"\"></td><td class=\"exc-9 exnumber\">33.0</td><td class=\"\"></td><td class=\"exc-9 exnumber\">11404.0</td><td class=\"\"></td><td class=\"\"></td><td class=\"exc-9 exnumber\">15.0</td><td class=\"\"></td><td class=\"exc-9 exdate exnumber\">2279.0</td><td class=\"\"></td><td class=\"\"></td><td class=\"exc-9 exnumber\">48.0</td><td class=\"\"></td><td class=\"exc-9 exnumber\">13683.0</td><td class=\"\"></td><td class=\"\"></td><td class=\"exc-9 exnumber\">27.0</td><td class=\"\"></td><td class=\"exc-9 exdate exnumber\">4987.0</td><td class=\"\"></td><td class=\"\"></td><td class=\"\"></td><td class=\"\"></td><td class=\"\"></td><td class=\"\"></td><td class=\"\"></td></tr>\n",
       "<tr><td class=\"\"></td><td class=\"\"></td><td class=\"\"></td><td class=\"\"></td><td class=\"\"></td><td class=\"\"></td><td class=\"\"></td><td class=\"\"></td><td class=\"\"></td><td class=\"\"></td><td class=\"\"></td><td class=\"\"></td><td class=\"\"></td><td class=\"\"></td><td class=\"\"></td><td class=\"\"></td><td class=\"\"></td><td class=\"\"></td><td class=\"\"></td><td class=\"\"></td><td class=\"\"></td><td class=\"\"></td><td class=\"\"></td><td class=\"\"></td><td class=\"\"></td><td class=\"\"></td><td class=\"\"></td><td class=\"\"></td><td class=\"\"></td><td class=\"\"></td><td class=\"\"></td><td class=\"\"></td></tr>\n",
       "<tr><td class=\"\"></td><td class=\"\"></td><td class=\"\">Other Americas</td><td class=\"\"></td><td class=\"\"></td><td class=\"\"></td><td class=\"\"></td><td class=\"\">Americas Total</td><td class=\"\"></td><td class=\"\"></td><td class=\"\"></td><td class=\"\"></td><td class=\"\">Asia</td><td class=\"\"></td><td class=\"\"></td><td class=\"\"></td><td class=\"\"></td><td class=\"\">Australasia & Oceania</td><td class=\"\"></td><td class=\"\"></td><td class=\"\"></td><td class=\"\"></td><td class=\"\">Africa</td><td class=\"\"></td><td class=\"\"></td><td class=\"\"></td><td class=\"\"></td><td class=\"\"></td><td class=\"\"></td><td class=\"\"></td><td class=\"\"></td><td class=\"\"></td></tr>\n",
       "<tr><td class=\"\"></td><td class=\"\"></td><td class=\"\">Number</td><td class=\"\"></td><td class=\"\">Value</td><td class=\"\"></td><td class=\"\"></td><td class=\"\">Number</td><td class=\"\"></td><td class=\"\">Value</td><td class=\"\"></td><td class=\"\"></td><td class=\"\">Number</td><td class=\"\"></td><td class=\"\">Value</td><td class=\"\"></td><td class=\"\"></td><td class=\"\">Number</td><td class=\"\"></td><td class=\"\">Value</td><td class=\"\"></td><td class=\"\"></td><td class=\"\">Number</td><td class=\"\"></td><td class=\"\">Value</td><td class=\"\"></td><td class=\"\"></td><td class=\"\"></td><td class=\"\"> </td><td class=\"\"></td><td class=\"\"></td><td class=\"\"></td></tr>\n",
       "<tr><td class=\"\"></td><td class=\"\"></td><td class=\"\">    HCL3</td><td class=\"\"></td><td class=\"\">    HCL4</td><td class=\"\"></td><td class=\"\"></td><td class=\"\">    HCM3</td><td class=\"\"></td><td class=\"\">    HCM4</td><td class=\"\"></td><td class=\"\"></td><td class=\"\">    HCN3</td><td class=\"\"></td><td class=\"\">    HCN4</td><td class=\"\"></td><td class=\"\"></td><td class=\"\">    HCO3</td><td class=\"\"></td><td class=\"\">    HCO4</td><td class=\"\"></td><td class=\"\"></td><td class=\"\">    HCP3</td><td class=\"\"></td><td class=\"\">    HCP4</td><td class=\"\"></td><td class=\"\"></td><td class=\"\"></td><td class=\"\"></td><td class=\"\"></td><td class=\"\"></td><td class=\"\"></td></tr>\n",
       "<tr><td class=\"\"></td><td class=\"exc-2 exdate exnumber\">2005.0</td><td class=\"exnumber\">28.0</td><td class=\"\"></td><td class=\"exdate exnumber\">3957.0</td><td class=\"\"></td><td class=\"\"></td><td class=\"exnumber\">140.0</td><td class=\"\"></td><td class=\"exnumber\">19640.0</td><td class=\"\"></td><td class=\"\"></td><td class=\"exnumber\">26.0</td><td class=\"\"></td><td class=\"exdate exnumber\">2893.0</td><td class=\"\"></td><td class=\"\"></td><td class=\"exnumber\">14.0</td><td class=\"\"></td><td class=\"exnumber\">738.0</td><td class=\"\"></td><td class=\"\"></td><td class=\"exnumber\">8.0</td><td class=\"\"></td><td class=\"exdate exnumber\">2639.0</td><td class=\"\"></td><td class=\"\"></td><td class=\"\"></td><td class=\"\"></td><td class=\"\"> </td><td class=\"\"></td><td class=\"\"></td></tr>\n",
       "<tr><td class=\"\"></td><td class=\"exc-2 exdate exnumber\">2006.0</td><td class=\"exnumber\">25.0</td><td class=\"\"></td><td class=\"\">..</td><td class=\"\"></td><td class=\"\"></td><td class=\"exnumber\">163.0</td><td class=\"\"></td><td class=\"\">..</td><td class=\"\"></td><td class=\"\"></td><td class=\"exnumber\">37.0</td><td class=\"\"></td><td class=\"exdate exnumber\">1643.0</td><td class=\"\"></td><td class=\"\"></td><td class=\"exnumber\">14.0</td><td class=\"\"></td><td class=\"exnumber\">692.0</td><td class=\"\"></td><td class=\"\"></td><td class=\"exnumber\">21.0</td><td class=\"\"></td><td class=\"\">..</td><td class=\"\"></td><td class=\"\"></td><td class=\"\"></td><td class=\"\"></td><td class=\"\"></td><td class=\"\"></td><td class=\"\"></td></tr>\n",
       "<tr><td class=\"\"></td><td class=\"exc-2 exdate exnumber\">2007.0</td><td class=\"exnumber\">38.0</td><td class=\"\"></td><td class=\"exnumber\">25040.0</td><td class=\"\"></td><td class=\"\"></td><td class=\"exnumber\">153.0</td><td class=\"\"></td><td class=\"exnumber\">46716.0</td><td class=\"\"></td><td class=\"\"></td><td class=\"exnumber\">35.0</td><td class=\"\"></td><td class=\"exnumber\">422.0</td><td class=\"\"></td><td class=\"\"></td><td class=\"exnumber\">28.0</td><td class=\"\"></td><td class=\"exdate exnumber\">1306.0</td><td class=\"\"></td><td class=\"\"></td><td class=\"exnumber\">26.0</td><td class=\"\"></td><td class=\"exnumber\">911.0</td><td class=\"\"></td><td class=\"\"></td><td class=\"\"></td><td class=\"\"></td><td class=\"\"></td><td class=\"\"></td><td class=\"\"></td></tr>\n",
       "<tr><td class=\"\"></td><td class=\"exc-2 exdate exnumber\">2008.0</td><td class=\"exnumber\">17.0</td><td class=\"\"></td><td class=\"exnumber\">394.0</td><td class=\"\"></td><td class=\"\"></td><td class=\"exnumber\">105.0</td><td class=\"\"></td><td class=\"exdate exnumber\">7638.0</td><td class=\"\"></td><td class=\"\"></td><td class=\"exnumber\">29.0</td><td class=\"\"></td><td class=\"exnumber\">809.0</td><td class=\"\"></td><td class=\"\"></td><td class=\"exnumber\">22.0</td><td class=\"\"></td><td class=\"exdate exnumber\">5224.0</td><td class=\"\"></td><td class=\"\"></td><td class=\"exnumber\">11.0</td><td class=\"\"></td><td class=\"exnumber\">666.0</td><td class=\"\"></td><td class=\"\"></td><td class=\"\"></td><td class=\"\"></td><td class=\"\"></td><td class=\"\"></td><td class=\"\"></td></tr>\n",
       "<tr><td class=\"\"></td><td class=\"exc-2 exdate exnumber\">2009.0</td><td class=\"exnumber\">7.0</td><td class=\"\"></td><td class=\"exdate exnumber\">1746.0</td><td class=\"\"></td><td class=\"\"></td><td class=\"exnumber\">41.0</td><td class=\"\"></td><td class=\"exdate exnumber\">4996.0</td><td class=\"\"></td><td class=\"\"></td><td class=\"exnumber\">14.0</td><td class=\"\"></td><td class=\"exnumber\">964.0</td><td class=\"\"></td><td class=\"\"></td><td class=\"exnumber\">13.0</td><td class=\"\"></td><td class=\"exnumber\">609.0</td><td class=\"\"></td><td class=\"\"></td><td class=\"exnumber\">6.0</td><td class=\"\"></td><td class=\"exdate exnumber\">1610.0</td><td class=\"\"></td><td class=\"\"></td><td class=\"\"></td><td class=\"\"></td><td class=\"\"></td><td class=\"\"></td><td class=\"\"></td></tr>\n",
       "<tr><td class=\"\"></td><td class=\"exc-2\">2010²</td><td class=\"exnumber\">20.0</td><td class=\"\"></td><td class=\"exnumber\">918.0</td><td class=\"\"></td><td class=\"\"></td><td class=\"exnumber\">73.0</td><td class=\"\"></td><td class=\"exdate exnumber\">7141.0</td><td class=\"\"></td><td class=\"\"></td><td class=\"exnumber\">16.0</td><td class=\"\"></td><td class=\"exnumber\">630.0</td><td class=\"\"></td><td class=\"\"></td><td class=\"exnumber\">19.0</td><td class=\"\"></td><td class=\"exnumber\">667.0</td><td class=\"\"></td><td class=\"\"></td><td class=\"exnumber\">7.0</td><td class=\"\"></td><td class=\"exnumber\">526.0</td><td class=\"\"></td><td class=\"\"></td><td class=\"\"></td><td class=\"\"></td><td class=\"\"></td><td class=\"\"></td><td class=\"\"></td></tr>\n",
       "<tr><td class=\"\"></td><td class=\"exc-2 exdate exnumber\">2011.0</td><td class=\"exnumber\">30.0</td><td class=\"\"></td><td class=\"exdate exnumber\">2410.0</td><td class=\"\"></td><td class=\"\"></td><td class=\"exnumber\">113.0</td><td class=\"\"></td><td class=\"exnumber\">11752.0</td><td class=\"\"></td><td class=\"\"></td><td class=\"exnumber\">33.0</td><td class=\"\"></td><td class=\"exdate exnumber\">6807.0</td><td class=\"\"></td><td class=\"\"></td><td class=\"exnumber\">16.0</td><td class=\"\"></td><td class=\"exdate exnumber\">7666.0</td><td class=\"\"></td><td class=\"\"></td><td class=\"exnumber\">19.0</td><td class=\"\"></td><td class=\"exnumber\">583.0</td><td class=\"\"></td><td class=\"\"></td><td class=\"\"></td><td class=\"\"></td><td class=\"\"></td><td class=\"\"></td><td class=\"\"></td></tr>\n",
       "<tr><td class=\"\"></td><td class=\"exc-2 exdate exnumber\">2012.0</td><td class=\"exnumber\">18.0</td><td class=\"\"></td><td class=\"exdate exnumber\">2640.0</td><td class=\"\"></td><td class=\"\"></td><td class=\"exnumber\">59.0</td><td class=\"\"></td><td class=\"exdate exnumber\">8024.0</td><td class=\"\"></td><td class=\"\"></td><td class=\"exnumber\">7.0</td><td class=\"\"></td><td class=\"exnumber\">458.0</td><td class=\"\"></td><td class=\"\"></td><td class=\"exnumber\">5.0</td><td class=\"\"></td><td class=\"\">..</td><td class=\"\"></td><td class=\"\"></td><td class=\"exnumber\">5.0</td><td class=\"\"></td><td class=\"\">..</td><td class=\"\"></td><td class=\"\"></td><td class=\"\"></td><td class=\"\"></td><td class=\"\"></td><td class=\"\"></td><td class=\"\"></td></tr>\n",
       "<tr><td class=\"\"></td><td class=\"exc-2 exdate exnumber\">2013.0</td><td class=\"exnumber\">13.0</td><td class=\"\"></td><td class=\"exnumber\">323.0</td><td class=\"\"></td><td class=\"\"></td><td class=\"exnumber\">21.0</td><td class=\"\"></td><td class=\"exnumber\">923.0</td><td class=\"\"></td><td class=\"\"></td><td class=\"\">..</td><td class=\"\"></td><td class=\"\">..</td><td class=\"\"></td><td class=\"\"></td><td class=\"\">..</td><td class=\"\"></td><td class=\"\">..</td><td class=\"\"></td><td class=\"\"></td><td class=\"\">..</td><td class=\"\"></td><td class=\"\">..</td><td class=\"\"></td><td class=\"\"></td><td class=\"\"></td><td class=\"\"></td><td class=\"\"></td><td class=\"\"></td><td class=\"\"></td></tr>\n",
       "<tr><td class=\"\"></td><td class=\"exc-2 exdate exnumber\">2014.0</td><td class=\"exnumber\">17.0</td><td class=\"\"></td><td class=\"exdate exnumber\">1135.0</td><td class=\"\"></td><td class=\"\"></td><td class=\"exnumber\">44.0</td><td class=\"\"></td><td class=\"exdate exnumber\">6122.0</td><td class=\"\"></td><td class=\"\"></td><td class=\"exnumber\">12.0</td><td class=\"\"></td><td class=\"exnumber\">637.0</td><td class=\"\"></td><td class=\"\"></td><td class=\"\">..</td><td class=\"\"></td><td class=\"\">..</td><td class=\"\"></td><td class=\"\"></td><td class=\"\">..</td><td class=\"\"></td><td class=\"\">..</td><td class=\"\"></td><td class=\"\"></td><td class=\"\"></td><td class=\"\"></td><td class=\"\"></td><td class=\"\"></td><td class=\"\"></td></tr>\n",
       "<tr><td class=\"\"></td><td class=\"\"></td><td class=\"\"></td><td class=\"\"></td><td class=\"\"></td><td class=\"\"></td><td class=\"\"></td><td class=\"\"></td><td class=\"\"></td><td class=\"\"></td><td class=\"\"></td><td class=\"\"></td><td class=\"\"></td><td class=\"\"></td><td class=\"\"></td><td class=\"\"></td><td class=\"\"></td><td class=\"\"></td><td class=\"\"></td><td class=\"\"></td><td class=\"\"></td><td class=\"\"></td><td class=\"\"></td><td class=\"\"></td><td class=\"\"></td><td class=\"\"></td><td class=\"\"></td><td class=\"\"></td><td class=\"\"></td><td class=\"\"></td><td class=\"\"></td><td class=\"\"></td></tr>\n",
       "<tr><td class=\"\"></td><td class=\"\"></td><td class=\"\"></td><td class=\"\"></td><td class=\"\"></td><td class=\"\"></td><td class=\"\"></td><td class=\"\"></td><td class=\"\"></td><td class=\"\"></td><td class=\"\"></td><td class=\"\"></td><td class=\"\"></td><td class=\"\"></td><td class=\"\"></td><td class=\"\"></td><td class=\"\"></td><td class=\"\"></td><td class=\"\"></td><td class=\"\"></td><td class=\"\"></td><td class=\"\"></td><td class=\"\"></td><td class=\"\"></td><td class=\"\"></td><td class=\"\"></td><td class=\"\"></td><td class=\"\"></td><td class=\"\"></td><td class=\"\"></td><td class=\"\"></td><td class=\"\"></td></tr>\n",
       "<tr><td class=\"\"></td><td class=\"exc-2 exbold\">6D</td><td class=\"exbold\">Area Analysis of Disposals Abroad by UK Companies</td><td class=\"\"></td><td class=\"\"></td><td class=\"\"></td><td class=\"\"></td><td class=\"\"></td><td class=\"\"></td><td class=\"\"></td><td class=\"\"></td><td class=\"\"></td><td class=\"\"></td><td class=\"\"></td><td class=\"\"></td><td class=\"\"></td><td class=\"\"></td><td class=\"\"></td><td class=\"\"></td><td class=\"\"></td><td class=\"\"></td><td class=\"\"></td><td class=\"\"></td><td class=\"\"></td><td class=\"\"></td><td class=\"\"></td><td class=\"\"></td><td class=\"\"></td><td class=\"\"></td><td class=\"\"></td><td class=\"\"></td><td class=\"\"></td></tr>\n",
       "<tr><td class=\"\"></td><td class=\"exc-2\">£ million</td><td class=\"\"></td><td class=\"\"></td><td class=\"\"></td><td class=\"\"></td><td class=\"\"></td><td class=\"\"></td><td class=\"\"></td><td class=\"\"></td><td class=\"\"></td><td class=\"\"></td><td class=\"\"></td><td class=\"\"></td><td class=\"\"></td><td class=\"\"></td><td class=\"\"></td><td class=\"\"></td><td class=\"\"></td><td class=\"\"></td><td class=\"\"></td><td class=\"\"></td><td class=\"\"></td><td class=\"\"></td><td class=\"\"></td><td class=\"\"></td><td class=\"\"></td><td class=\"\"></td><td class=\"\"></td><td class=\"\"></td><td class=\"\"></td><td class=\"\"></td></tr>\n",
       "<tr><td class=\"\"></td><td class=\"\"></td><td class=\"\">World Total</td><td class=\"\"></td><td class=\"\"></td><td class=\"\"></td><td class=\"\"></td><td class=\"\">EU1</td><td class=\"\"></td><td class=\"\"></td><td class=\"\"></td><td class=\"\"></td><td class=\"\">Other Europe</td><td class=\"\"></td><td class=\"\"></td><td class=\"\"></td><td class=\"\"></td><td class=\"\">Europe Total</td><td class=\"\"></td><td class=\"\"></td><td class=\"\"></td><td class=\"\"></td><td class=\"\">USA</td><td class=\"\"></td><td class=\"\"></td><td class=\"\"></td><td class=\"\"></td><td class=\"\"></td><td class=\"\"> </td><td class=\"\"></td><td class=\"\"></td><td class=\"\"></td></tr>\n",
       "<tr><td class=\"\"></td><td class=\"\"></td><td class=\"\">Number</td><td class=\"\"></td><td class=\"\">Value</td><td class=\"\"></td><td class=\"\"></td><td class=\"\">Number</td><td class=\"\"></td><td class=\"\">Value</td><td class=\"\"></td><td class=\"\"></td><td class=\"\">Number</td><td class=\"\"></td><td class=\"\">Value</td><td class=\"\"></td><td class=\"\"></td><td class=\"\">Number</td><td class=\"\"></td><td class=\"\">Value</td><td class=\"\"></td><td class=\"\"></td><td class=\"\">Number</td><td class=\"\"></td><td class=\"\">Value</td><td class=\"\"></td><td class=\"\"></td><td class=\"\"></td><td class=\"\"></td><td class=\"\"></td><td class=\"\"></td><td class=\"\"></td></tr>\n",
       "<tr><td class=\"\"></td><td class=\"\"></td><td class=\"\">    CBAS</td><td class=\"\"></td><td class=\"\">    CBBT</td><td class=\"\"></td><td class=\"\"></td><td class=\"\">    CBBJ</td><td class=\"\"></td><td class=\"\">    CBBK</td><td class=\"\"></td><td class=\"\"></td><td class=\"\">    HCK5</td><td class=\"\"></td><td class=\"\">    HCK6</td><td class=\"\"></td><td class=\"\"></td><td class=\"\">    HCJ5</td><td class=\"\"></td><td class=\"\">    HCJ6</td><td class=\"\"></td><td class=\"\"></td><td class=\"\">    CBBL</td><td class=\"\"></td><td class=\"\">    CBBM</td><td class=\"\"></td><td class=\"\"></td><td class=\"\"></td><td class=\"\"></td><td class=\"\"> </td><td class=\"\"></td><td class=\"\"></td></tr>\n",
       "<tr><td class=\"\"></td><td class=\"exc-2 exdate exnumber\">2005.0</td><td class=\"exnumber\">110.0</td><td class=\"\"></td><td class=\"exnumber\">12668.0</td><td class=\"\"></td><td class=\"\"></td><td class=\"exnumber\">47.0</td><td class=\"\"></td><td class=\"exdate exnumber\">2059.0</td><td class=\"\"></td><td class=\"\"></td><td class=\"exnumber\">11.0</td><td class=\"\"></td><td class=\"exnumber\">109.0</td><td class=\"\"></td><td class=\"\"></td><td class=\"exnumber\">58.0</td><td class=\"\"></td><td class=\"exdate exnumber\">2168.0</td><td class=\"\"></td><td class=\"\"></td><td class=\"exnumber\">24.0</td><td class=\"\"></td><td class=\"exdate exnumber\">7033.0</td><td class=\"\"></td><td class=\"\"></td><td class=\"\"></td><td class=\"\"> </td><td class=\"\"></td><td class=\"\"></td><td class=\"\"> </td></tr>\n",
       "<tr><td class=\"\"></td><td class=\"exc-2 exdate exnumber\">2006.0</td><td class=\"exnumber\">89.0</td><td class=\"\"></td><td class=\"exnumber\">21214.0</td><td class=\"\"></td><td class=\"\"></td><td class=\"exnumber\">33.0</td><td class=\"\"></td><td class=\"exdate exnumber\">3198.0</td><td class=\"\"></td><td class=\"\"></td><td class=\"exnumber\">7.0</td><td class=\"\"></td><td class=\"exdate exnumber\">2019.0</td><td class=\"\"></td><td class=\"\"></td><td class=\"exnumber\">40.0</td><td class=\"\"></td><td class=\"exdate exnumber\">5217.0</td><td class=\"\"></td><td class=\"\"></td><td class=\"exnumber\">25.0</td><td class=\"\"></td><td class=\"exdate exnumber\">7273.0</td><td class=\"\"></td><td class=\"\"></td><td class=\"\"></td><td class=\"\"></td><td class=\"\"></td><td class=\"\"></td><td class=\"\"></td></tr>\n",
       "<tr><td class=\"\"></td><td class=\"exc-2 exdate exnumber\">2007.0</td><td class=\"exnumber\">104.0</td><td class=\"\"></td><td class=\"exnumber\">10221.0</td><td class=\"\"></td><td class=\"\"></td><td class=\"exnumber\">44.0</td><td class=\"\"></td><td class=\"exdate exnumber\">3583.0</td><td class=\"\"></td><td class=\"\"></td><td class=\"exnumber\">6.0</td><td class=\"\"></td><td class=\"exdate exnumber\">1032.0</td><td class=\"\"></td><td class=\"\"></td><td class=\"exnumber\">50.0</td><td class=\"\"></td><td class=\"exdate exnumber\">4615.0</td><td class=\"\"></td><td class=\"\"></td><td class=\"exnumber\">28.0</td><td class=\"\"></td><td class=\"exdate exnumber\">4654.0</td><td class=\"\"></td><td class=\"\"></td><td class=\"\"></td><td class=\"\"></td><td class=\"\"></td><td class=\"\"></td><td class=\"\"></td></tr>\n",
       "<tr><td class=\"\"></td><td class=\"exc-2 exdate exnumber\">2008.0</td><td class=\"exnumber\">71.0</td><td class=\"\"></td><td class=\"exnumber\">12062.0</td><td class=\"\"></td><td class=\"\"></td><td class=\"exnumber\">30.0</td><td class=\"\"></td><td class=\"exdate exnumber\">3598.0</td><td class=\"\"></td><td class=\"\"></td><td class=\"exnumber\">2.0</td><td class=\"\"></td><td class=\"\">..</td><td class=\"\"></td><td class=\"\"></td><td class=\"exnumber\">32.0</td><td class=\"\"></td><td class=\"\">..</td><td class=\"\"></td><td class=\"\"></td><td class=\"exnumber\">22.0</td><td class=\"\"></td><td class=\"exdate exnumber\">6197.0</td><td class=\"\"></td><td class=\"\"></td><td class=\"\"></td><td class=\"\"></td><td class=\"\"></td><td class=\"\"></td><td class=\"\"></td></tr>\n",
       "<tr><td class=\"\"></td><td class=\"exc-2 exdate exnumber\">2009.0</td><td class=\"exnumber\">37.0</td><td class=\"\"></td><td class=\"exdate exnumber\">5101.0</td><td class=\"\"></td><td class=\"\"></td><td class=\"exnumber\">15.0</td><td class=\"\"></td><td class=\"exdate exnumber\">2134.0</td><td class=\"\"></td><td class=\"\"></td><td class=\"exnumber\">3.0</td><td class=\"\"></td><td class=\"exnumber\">64.0</td><td class=\"\"></td><td class=\"\"></td><td class=\"exnumber\">18.0</td><td class=\"\"></td><td class=\"exdate exnumber\">2198.0</td><td class=\"\"></td><td class=\"\"></td><td class=\"exnumber\">7.0</td><td class=\"\"></td><td class=\"exdate exnumber\">1277.0</td><td class=\"\"></td><td class=\"\"></td><td class=\"\"></td><td class=\"\"></td><td class=\"\"></td><td class=\"\"></td><td class=\"\"></td></tr>\n",
       "<tr><td class=\"\"></td><td class=\"exc-2\">2010²</td><td class=\"exnumber\">73.0</td><td class=\"\"></td><td class=\"exnumber\">11411.0</td><td class=\"\"></td><td class=\"\"></td><td class=\"exnumber\">27.0</td><td class=\"\"></td><td class=\"exdate exnumber\">1529.0</td><td class=\"\"></td><td class=\"\"></td><td class=\"exnumber\">5.0</td><td class=\"\"></td><td class=\"exnumber\">263.0</td><td class=\"\"></td><td class=\"\"></td><td class=\"exnumber\">32.0</td><td class=\"\"></td><td class=\"exdate exnumber\">1792.0</td><td class=\"\"></td><td class=\"\"></td><td class=\"exnumber\">15.0</td><td class=\"\"></td><td class=\"exdate exnumber\">7465.0</td><td class=\"\"></td><td class=\"\"></td><td class=\"\"></td><td class=\"\"></td><td class=\"\"></td><td class=\"\"></td><td class=\"\"></td></tr>\n",
       "<tr><td class=\"\"></td><td class=\"exc-2 exdate exnumber\">2011.0</td><td class=\"exnumber\">80.0</td><td class=\"\"></td><td class=\"exnumber\">14111.0</td><td class=\"\"></td><td class=\"\"></td><td class=\"exnumber\">32.0</td><td class=\"\"></td><td class=\"exdate exnumber\">4857.0</td><td class=\"\"></td><td class=\"\"></td><td class=\"exnumber\">4.0</td><td class=\"\"></td><td class=\"exnumber\">57.0</td><td class=\"\"></td><td class=\"\"></td><td class=\"exnumber\">36.0</td><td class=\"\"></td><td class=\"exdate exnumber\">4914.0</td><td class=\"\"></td><td class=\"\"></td><td class=\"exnumber\">18.0</td><td class=\"\"></td><td class=\"exdate exnumber\">4715.0</td><td class=\"\"></td><td class=\"\"></td><td class=\"\"></td><td class=\"\"></td><td class=\"\"></td><td class=\"\"></td><td class=\"\"></td></tr>\n",
       "<tr><td class=\"\"></td><td class=\"exc-2 exdate exnumber\">2012.0</td><td class=\"exnumber\">40.0</td><td class=\"\"></td><td class=\"\">..</td><td class=\"\"></td><td class=\"\"></td><td class=\"\">..</td><td class=\"\"></td><td class=\"\">..</td><td class=\"\"></td><td class=\"\"></td><td class=\"\">..</td><td class=\"\"></td><td class=\"\">..</td><td class=\"\"></td><td class=\"\"></td><td class=\"exnumber\">17.0</td><td class=\"\"></td><td class=\"exdate exnumber\">2764.0</td><td class=\"\"></td><td class=\"\"></td><td class=\"exnumber\">7.0</td><td class=\"\"></td><td class=\"exdate exnumber\">1038.0</td><td class=\"\"></td><td class=\"\"></td><td class=\"\"></td><td class=\"\"></td><td class=\"\"></td><td class=\"\"></td><td class=\"\"></td></tr>\n",
       "<tr><td class=\"\"></td><td class=\"exc-2 exdate exnumber\">2013.0</td><td class=\"\">..</td><td class=\"\"></td><td class=\"\">..</td><td class=\"\"></td><td class=\"\"></td><td class=\"exnumber\">12.0</td><td class=\"\"></td><td class=\"exdate exnumber\">1589.0</td><td class=\"\"></td><td class=\"\"></td><td class=\"exnumber\">3.0</td><td class=\"\"></td><td class=\"exnumber\">128.0</td><td class=\"\"></td><td class=\"\"></td><td class=\"exnumber\">15.0</td><td class=\"\"></td><td class=\"exdate exnumber\">1717.0</td><td class=\"\"></td><td class=\"\"></td><td class=\"exnumber\">9.0</td><td class=\"\"></td><td class=\"exdate exnumber\">3691.0</td><td class=\"\"></td><td class=\"\"></td><td class=\"\"></td><td class=\"\"></td><td class=\"\"></td><td class=\"\"></td><td class=\"\"></td></tr>\n",
       "<tr><td class=\"\"></td><td class=\"exc-2 exdate exnumber\">2014.0</td><td class=\"exnumber\">36.0</td><td class=\"\"></td><td class=\"exdate exnumber\">5288.0</td><td class=\"\"></td><td class=\"\"></td><td class=\"\">..</td><td class=\"\"></td><td class=\"\">..</td><td class=\"\"></td><td class=\"\"></td><td class=\"\">..</td><td class=\"\"></td><td class=\"\">..</td><td class=\"\"></td><td class=\"\"></td><td class=\"exnumber\">18.0</td><td class=\"\"></td><td class=\"exdate exnumber\">2887.0</td><td class=\"\"></td><td class=\"\"></td><td class=\"\">..</td><td class=\"\"></td><td class=\"\">..</td><td class=\"\"></td><td class=\"\"></td><td class=\"\"></td><td class=\"\"></td><td class=\"\"></td><td class=\"\"></td><td class=\"\"></td></tr>\n",
       "<tr><td class=\"\"></td><td class=\"\"></td><td class=\"\"></td><td class=\"\"></td><td class=\"\"></td><td class=\"\"></td><td class=\"\"></td><td class=\"\"></td><td class=\"\"></td><td class=\"\"></td><td class=\"\"></td><td class=\"\"></td><td class=\"\"></td><td class=\"\"></td><td class=\"\"></td><td class=\"\"></td><td class=\"\"></td><td class=\"\"></td><td class=\"\"></td><td class=\"\"></td><td class=\"\"></td><td class=\"\"></td><td class=\"\"></td><td class=\"\"></td><td class=\"\"></td><td class=\"\"></td><td class=\"\"></td><td class=\"\"></td><td class=\"\"></td><td class=\"\"></td><td class=\"\"></td><td class=\"\"></td></tr>\n",
       "<tr><td class=\"\"></td><td class=\"\"></td><td class=\"\">Other Americas</td><td class=\"\"></td><td class=\"\"></td><td class=\"\"></td><td class=\"\"></td><td class=\"\">Americas Total</td><td class=\"\"></td><td class=\"\"></td><td class=\"\"></td><td class=\"\"></td><td class=\"\">Asia</td><td class=\"\"></td><td class=\"\"></td><td class=\"\"></td><td class=\"\"></td><td class=\"\">Australasia & Oceania</td><td class=\"\"></td><td class=\"\"></td><td class=\"\"></td><td class=\"\"></td><td class=\"\">Africa</td><td class=\"\"></td><td class=\"\"></td><td class=\"\"></td><td class=\"\"></td><td class=\"\"></td><td class=\"\"></td><td class=\"\"></td><td class=\"\"></td><td class=\"\"></td></tr>\n",
       "<tr><td class=\"\"></td><td class=\"\"></td><td class=\"\">Number</td><td class=\"\"></td><td class=\"\">Value</td><td class=\"\"></td><td class=\"\"></td><td class=\"\">Number</td><td class=\"\"></td><td class=\"\">Value</td><td class=\"\"></td><td class=\"\"></td><td class=\"\">Number</td><td class=\"\"></td><td class=\"\">Value</td><td class=\"\"></td><td class=\"\"></td><td class=\"\">Number</td><td class=\"\"></td><td class=\"\">Value</td><td class=\"\"></td><td class=\"\"></td><td class=\"\">Number</td><td class=\"\"></td><td class=\"\">Value</td><td class=\"\"></td><td class=\"\"></td><td class=\"\"></td><td class=\"\"></td><td class=\"\"></td><td class=\"\"></td><td class=\"\"></td></tr>\n",
       "<tr><td class=\"\"></td><td class=\"\"></td><td class=\"\">    HCL5</td><td class=\"\"></td><td class=\"\">    HCL6</td><td class=\"\"></td><td class=\"\"></td><td class=\"\">    HCM5</td><td class=\"\"></td><td class=\"\">    HCM6</td><td class=\"\"></td><td class=\"\"></td><td class=\"\">    HCN5</td><td class=\"\"></td><td class=\"\">    HCN6</td><td class=\"\"></td><td class=\"\"></td><td class=\"\">    HCO5</td><td class=\"\"></td><td class=\"\">    HCO6</td><td class=\"\"></td><td class=\"\"></td><td class=\"\">    HCP5</td><td class=\"\"></td><td class=\"\">    HCP6</td><td class=\"\"></td><td class=\"\"></td><td class=\"\"></td><td class=\"\"></td><td class=\"\"></td><td class=\"\"></td><td class=\"\"></td></tr>\n",
       "<tr><td class=\"\"></td><td class=\"exc-2 exdate exnumber\">2005.0</td><td class=\"exnumber\">2.0</td><td class=\"\"></td><td class=\"\">..</td><td class=\"\"></td><td class=\"\"></td><td class=\"exnumber\">26.0</td><td class=\"\"></td><td class=\"\">..</td><td class=\"\"></td><td class=\"\"></td><td class=\"exnumber\">12.0</td><td class=\"\"></td><td class=\"exnumber\">760.0</td><td class=\"\"></td><td class=\"\"></td><td class=\"exnumber\">5.0</td><td class=\"\"></td><td class=\"\">..</td><td class=\"\"></td><td class=\"\"></td><td class=\"exnumber\">9.0</td><td class=\"\"></td><td class=\"exnumber\">460.0</td><td class=\"\"></td><td class=\"\"></td><td class=\"\"></td><td class=\"\"></td><td class=\"\"></td><td class=\"\"></td><td class=\"\"></td></tr>\n",
       "<tr><td class=\"\"></td><td class=\"exc-2 exdate exnumber\">2006.0</td><td class=\"exnumber\">10.0</td><td class=\"\"></td><td class=\"\">..</td><td class=\"\"></td><td class=\"\"></td><td class=\"exnumber\">35.0</td><td class=\"\"></td><td class=\"\">..</td><td class=\"\"></td><td class=\"\"></td><td class=\"exnumber\">9.0</td><td class=\"\"></td><td class=\"exdate exnumber\">8085.0</td><td class=\"\"></td><td class=\"\"></td><td class=\"exnumber\">4.0</td><td class=\"\"></td><td class=\"exnumber\">14.0</td><td class=\"\"></td><td class=\"\"></td><td class=\"exnumber\">1.0</td><td class=\"\"></td><td class=\"\">..</td><td class=\"\"></td><td class=\"\"></td><td class=\"\"></td><td class=\"\"></td><td class=\"\"></td><td class=\"\"></td><td class=\"\"></td></tr>\n",
       "<tr><td class=\"\"></td><td class=\"exc-2 exdate exnumber\">2007.0</td><td class=\"exnumber\">10.0</td><td class=\"\"></td><td class=\"exnumber\">195.0</td><td class=\"\"></td><td class=\"\"></td><td class=\"exnumber\">38.0</td><td class=\"\"></td><td class=\"exdate exnumber\">4849.0</td><td class=\"\"></td><td class=\"\"></td><td class=\"exnumber\">8.0</td><td class=\"\"></td><td class=\"exnumber\">195.0</td><td class=\"\"></td><td class=\"\"></td><td class=\"exnumber\">3.0</td><td class=\"\"></td><td class=\"exnumber\">533.0</td><td class=\"\"></td><td class=\"\"></td><td class=\"exnumber\">5.0</td><td class=\"\"></td><td class=\"exnumber\">29.0</td><td class=\"\"></td><td class=\"\"></td><td class=\"\"></td><td class=\"\"></td><td class=\"\"></td><td class=\"\"></td><td class=\"\"></td></tr>\n",
       "<tr><td class=\"\"></td><td class=\"exc-2 exdate exnumber\">2008.0</td><td class=\"exnumber\">6.0</td><td class=\"\"></td><td class=\"exdate exnumber\">1033.0</td><td class=\"\"></td><td class=\"\"></td><td class=\"exnumber\">28.0</td><td class=\"\"></td><td class=\"exdate exnumber\">7230.0</td><td class=\"\"></td><td class=\"\"></td><td class=\"exnumber\">7.0</td><td class=\"\"></td><td class=\"exnumber\">388.0</td><td class=\"\"></td><td class=\"\"></td><td class=\"exnumber\">2.0</td><td class=\"\"></td><td class=\"exnumber\">234.0</td><td class=\"\"></td><td class=\"\"></td><td class=\"exnumber\">2.0</td><td class=\"\"></td><td class=\"\">..</td><td class=\"\"></td><td class=\"\"></td><td class=\"\"></td><td class=\"\"></td><td class=\"\"></td><td class=\"\"></td><td class=\"\"></td></tr>\n",
       "<tr><td class=\"\"></td><td class=\"exc-2 exdate exnumber\">2009.0</td><td class=\"exnumber\">2.0</td><td class=\"\"></td><td class=\"exnumber\">536.0</td><td class=\"\"></td><td class=\"\"></td><td class=\"exnumber\">9.0</td><td class=\"\"></td><td class=\"exdate exnumber\">1813.0</td><td class=\"\"></td><td class=\"\"></td><td class=\"exnumber\">3.0</td><td class=\"\"></td><td class=\"\">..</td><td class=\"\"></td><td class=\"\"></td><td class=\"exnumber\">3.0</td><td class=\"\"></td><td class=\"exdate exnumber\">1002.0</td><td class=\"\"></td><td class=\"\"></td><td class=\"exnumber\">4.0</td><td class=\"\"></td><td class=\"\">..</td><td class=\"\"></td><td class=\"\"></td><td class=\"\"></td><td class=\"\"></td><td class=\"\"></td><td class=\"\"></td><td class=\"\"></td></tr>\n",
       "<tr><td class=\"\"></td><td class=\"exc-2\">2010²</td><td class=\"exnumber\">4.0</td><td class=\"\"></td><td class=\"exnumber\">897.0</td><td class=\"\"></td><td class=\"\"></td><td class=\"exnumber\">19.0</td><td class=\"\"></td><td class=\"exdate exnumber\">8362.0</td><td class=\"\"></td><td class=\"\"></td><td class=\"exnumber\">11.0</td><td class=\"\"></td><td class=\"exnumber\">117.0</td><td class=\"\"></td><td class=\"\"></td><td class=\"exnumber\">5.0</td><td class=\"\"></td><td class=\"exnumber\">609.0</td><td class=\"\"></td><td class=\"\"></td><td class=\"exnumber\">6.0</td><td class=\"\"></td><td class=\"exnumber\">531.0</td><td class=\"\"></td><td class=\"\"></td><td class=\"\"></td><td class=\"\"></td><td class=\"\"></td><td class=\"\"></td><td class=\"\"></td></tr>\n",
       "<tr><td class=\"\"></td><td class=\"exc-2 exdate exnumber\">2011.0</td><td class=\"exnumber\">9.0</td><td class=\"\"></td><td class=\"exdate exnumber\">1559.0</td><td class=\"\"></td><td class=\"\"></td><td class=\"exnumber\">27.0</td><td class=\"\"></td><td class=\"exdate exnumber\">6274.0</td><td class=\"\"></td><td class=\"\"></td><td class=\"exnumber\">10.0</td><td class=\"\"></td><td class=\"\">..</td><td class=\"\"></td><td class=\"\"></td><td class=\"exnumber\">5.0</td><td class=\"\"></td><td class=\"\">..</td><td class=\"\"></td><td class=\"\"></td><td class=\"exnumber\">2.0</td><td class=\"\"></td><td class=\"\">..</td><td class=\"\"></td><td class=\"\"></td><td class=\"\"></td><td class=\"\"></td><td class=\"\"></td><td class=\"\"></td><td class=\"\"></td></tr>\n",
       "<tr><td class=\"\"></td><td class=\"exc-2 exdate exnumber\">2012.0</td><td class=\"exnumber\">6.0</td><td class=\"\"></td><td class=\"exdate exnumber\">2189.0</td><td class=\"\"></td><td class=\"\"></td><td class=\"exnumber\">13.0</td><td class=\"\"></td><td class=\"exdate exnumber\">3227.0</td><td class=\"\"></td><td class=\"\"></td><td class=\"exnumber\">2.0</td><td class=\"\"></td><td class=\"exdate exnumber\">1220.0</td><td class=\"\"></td><td class=\"\"></td><td class=\"exnumber\">3.0</td><td class=\"\"></td><td class=\"\">..</td><td class=\"\"></td><td class=\"\"></td><td class=\"exnumber\">6.0</td><td class=\"\"></td><td class=\"exnumber\">46.0</td><td class=\"\"></td><td class=\"\"></td><td class=\"\"></td><td class=\"\"></td><td class=\"\"></td><td class=\"\"></td><td class=\"\"></td></tr>\n",
       "<tr><td class=\"\"></td><td class=\"exc-2 exdate exnumber\">2013.0</td><td class=\"\">–</td><td class=\"\"></td><td class=\"\">–</td><td class=\"\"></td><td class=\"\"></td><td class=\"exnumber\">9.0</td><td class=\"\"></td><td class=\"exdate exnumber\">3691.0</td><td class=\"\"></td><td class=\"\"></td><td class=\"\">..</td><td class=\"\"></td><td class=\"\">..</td><td class=\"\"></td><td class=\"\"></td><td class=\"exnumber\">4.0</td><td class=\"\"></td><td class=\"\">..</td><td class=\"\"></td><td class=\"\"></td><td class=\"\">..</td><td class=\"\"></td><td class=\"\">..</td><td class=\"\"></td><td class=\"\"></td><td class=\"\"></td><td class=\"\"></td><td class=\"\"></td><td class=\"\"></td><td class=\"\"></td></tr>\n",
       "<tr><td class=\"\"></td><td class=\"exc-2 exdate exnumber\">2014.0</td><td class=\"\">..</td><td class=\"\"></td><td class=\"\">..</td><td class=\"\"></td><td class=\"\"></td><td class=\"exnumber\">14.0</td><td class=\"\"></td><td class=\"exdate exnumber\">2228.0</td><td class=\"\"></td><td class=\"\"></td><td class=\"\">..</td><td class=\"\"></td><td class=\"\">..</td><td class=\"\"></td><td class=\"\"></td><td class=\"\">..</td><td class=\"\"></td><td class=\"\">..</td><td class=\"\"></td><td class=\"\"></td><td class=\"\">..</td><td class=\"\"></td><td class=\"\">..</td><td class=\"\"></td><td class=\"\"></td><td class=\"\"></td><td class=\"\"></td><td class=\"\"></td><td class=\"\"></td><td class=\"\"></td></tr>\n",
       "<tr><td class=\"\"></td><td class=\"\"></td><td class=\"\"></td><td class=\"\"></td><td class=\"\"></td><td class=\"\"></td><td class=\"\"></td><td class=\"\"></td><td class=\"\"></td><td class=\"\"></td><td class=\"\"></td><td class=\"\"></td><td class=\"\"></td><td class=\"\"></td><td class=\"\"></td><td class=\"\"></td><td class=\"\"></td><td class=\"\"></td><td class=\"\"></td><td class=\"\"></td><td class=\"\"></td><td class=\"\"></td><td class=\"\"></td><td class=\"\"></td><td class=\"\"></td><td class=\"\"></td><td class=\"\"></td><td class=\"\"></td><td class=\"\"></td><td class=\"\"></td><td class=\"\"></td><td class=\"\"></td></tr>\n",
       "<tr><td class=\"\"></td><td class=\"\"></td><td class=\"\"></td><td class=\"\"></td><td class=\"\"></td><td class=\"\"></td><td class=\"\"></td><td class=\"\"></td><td class=\"\"></td><td class=\"\"></td><td class=\"\"></td><td class=\"\"></td><td class=\"\"></td><td class=\"\"></td><td class=\"\"></td><td class=\"\"></td><td class=\"\"></td><td class=\"\"></td><td class=\"\"></td><td class=\"\"></td><td class=\"\"></td><td class=\"\"></td><td class=\"\"></td><td class=\"\"></td><td class=\"\"></td><td class=\"\"></td><td class=\"\"></td><td class=\"\"></td><td class=\"\"></td><td class=\"\"></td><td class=\"\"></td><td class=\"\"></td></tr>\n",
       "<tr><td class=\"\"></td><td class=\"exc-2\">† indicates earliest revision, if any</td><td class=\"\"></td><td class=\"\"></td><td class=\"\"></td><td class=\"\"></td><td class=\"\"></td><td class=\"\"></td><td class=\"\"></td><td class=\"\"></td><td class=\"\"></td><td class=\"\"></td><td class=\"\"></td><td class=\"\"></td><td class=\"\"></td><td class=\"\"></td><td class=\"\"></td><td class=\"\">1 From 1 January 2007, figures for the European Union</td><td class=\"\"></td><td class=\"\"></td><td class=\"\"></td><td class=\"\"></td><td class=\"\"></td><td class=\"\"></td><td class=\"\"></td><td class=\"\"></td><td class=\"\"></td><td class=\"\"></td><td class=\"\"></td><td class=\"\"></td><td class=\"\"></td><td class=\"\"></td></tr>\n",
       "<tr><td class=\"\"></td><td class=\"exc-2\">– indicates data is zero or less than £0.5m</td><td class=\"\"></td><td class=\"\"></td><td class=\"\"></td><td class=\"\"></td><td class=\"\"></td><td class=\"\"></td><td class=\"\"></td><td class=\"\"></td><td class=\"\"></td><td class=\"\"></td><td class=\"\"></td><td class=\"\"></td><td class=\"\"></td><td class=\"\"></td><td class=\"\"></td><td class=\"\">include Bulgaria and Romania. </td><td class=\"\"></td><td class=\"\"></td><td class=\"\"></td><td class=\"\"></td><td class=\"\"></td><td class=\"\"></td><td class=\"\"></td><td class=\"\"></td><td class=\"\"></td><td class=\"\"></td><td class=\"\"></td><td class=\"\"></td><td class=\"\"></td><td class=\"\"></td></tr>\n",
       "<tr><td class=\"\"></td><td class=\"exc-2\">Disclosive data indicated by ..</td><td class=\"\"></td><td class=\"\"></td><td class=\"\"></td><td class=\"\"></td><td class=\"\"></td><td class=\"\"></td><td class=\"\"></td><td class=\"\"></td><td class=\"\"></td><td class=\"\"></td><td class=\"\"></td><td class=\"\"></td><td class=\"\"></td><td class=\"\"></td><td class=\"\"></td><td class=\"\">2 The deal identification threshold has been increased at Q1 </td><td class=\"\"></td><td class=\"\"></td><td class=\"\"></td><td class=\"\"></td><td class=\"\"></td><td class=\"\"></td><td class=\"\"></td><td class=\"\"></td><td class=\"\"></td><td class=\"\"></td><td class=\"\"></td><td class=\"\"></td><td class=\"\"></td><td class=\"\"></td></tr>\n",
       "<tr><td class=\"\"></td><td class=\"\"></td><td class=\"\"></td><td class=\"\"></td><td class=\"\"></td><td class=\"\"></td><td class=\"\"></td><td class=\"\"></td><td class=\"\"></td><td class=\"\"></td><td class=\"\"></td><td class=\"\"></td><td class=\"\"></td><td class=\"\"></td><td class=\"\"></td><td class=\"\"></td><td class=\"\"></td><td class=\"\">2010 from £0.1m to £1.0m and as a consequence there may</td><td class=\"\"></td><td class=\"\"></td><td class=\"\"></td><td class=\"\"></td><td class=\"\"></td><td class=\"\"></td><td class=\"\"></td><td class=\"\"></td><td class=\"\"></td><td class=\"\"></td><td class=\"\"></td><td class=\"\"></td><td class=\"\"></td><td class=\"\"></td></tr>\n",
       "<tr><td class=\"\"></td><td class=\"\"></td><td class=\"\"></td><td class=\"\"></td><td class=\"\"></td><td class=\"\"></td><td class=\"\"></td><td class=\"\"></td><td class=\"\"></td><td class=\"\"></td><td class=\"\"></td><td class=\"\"></td><td class=\"\"></td><td class=\"\"></td><td class=\"\"></td><td class=\"\"></td><td class=\"\"></td><td class=\"\">be a discontinuity in the number and value of transactions </td><td class=\"\"></td><td class=\"\"></td><td class=\"\"></td><td class=\"\"></td><td class=\"\"></td><td class=\"\"></td><td class=\"\"></td><td class=\"\"></td><td class=\"\"></td><td class=\"\"></td><td class=\"\"></td><td class=\"\"></td><td class=\"\"></td><td class=\"\"></td></tr>\n",
       "<tr><td class=\"\"></td><td class=\"exc-2\">Source: Mergers and Acquisitions Surveys, Office for National Statistics</td><td class=\"\"></td><td class=\"\"></td><td class=\"\"></td><td class=\"\"></td><td class=\"\"></td><td class=\"\"></td><td class=\"\"></td><td class=\"\"></td><td class=\"\"></td><td class=\"\"></td><td class=\"\"></td><td class=\"\"></td><td class=\"\"></td><td class=\"\"></td><td class=\"\"></td><td class=\"\">reported.</td><td class=\"\"></td><td class=\"\"></td><td class=\"\"></td><td class=\"\"></td><td class=\"\"></td><td class=\"\"></td><td class=\"\"></td><td class=\"\"></td><td class=\"\"></td><td class=\"\"></td><td class=\"\"></td><td class=\"\"></td><td class=\"\"></td><td class=\"\"></td></tr>\n",
       "</table>\n"
      ],
      "text/plain": [
       "<IPython.core.display.HTML object>"
      ]
     },
     "metadata": {},
     "output_type": "display_data"
    }
   ],
   "source": [
    "import databaker.jupybakeutils\n",
    "tab, headers, segment = conversionsegments[0]\n",
    "databaker.jupybakeutils.displaytable(tab, databaker.jupybakeutils.tsubsets(headers, segment))\n"
   ]
  },
  {
   "cell_type": "code",
   "execution_count": null,
   "metadata": {
    "collapsed": false
   },
   "outputs": [],
   "source": [
    "\n"
   ]
  },
  {
   "cell_type": "code",
   "execution_count": 68,
   "metadata": {
    "collapsed": false
   },
   "outputs": [
    {
     "data": {
      "text/plain": [
       "{'Mergers': 'Area Analysis of Acquisitions Abroad by UK Companies',\n",
       " -6: 'Number',\n",
       " 'Area': 'World Total',\n",
       " -2: 2005.0,\n",
       " -9: 365.0}"
      ]
     },
     "execution_count": 68,
     "metadata": {},
     "output_type": "execute_result"
    }
   ],
   "source": [
    "%matplotlib inline\n",
    "\n",
    "my_dict = {\"6A_Top\": 'CBAQ', \"6A_Bottom\": 'HCL3', \"6D_Top\": 'CBAS', \"6D_Bottom\":'HCL5',\n",
    "           \"7A_Top\": 'CBAU', \"7A_Bottom\": 'HCK7', \"7D_Top\": 'CBAW', \"7D_Bottom\":'HCK9',\n",
    "}\n",
    "\"\"\"\n",
    "bake --preview Mergers_6_7_recipe.py rftmatables_tcm77-415727.xls \"Table 6\" \"6A_Top\"\n",
    "bake --preview Mergers_6_7_recipe.py rftmatables_tcm77-415727.xls \"Table 6\" \"6A_Bottom\"\n",
    "bake --preview Mergers_6_7_recipe.py rftmatables_tcm77-415727.xls \"Table 6\" \"6D_Top\"\n",
    "bake --preview Mergers_6_7_recipe.py rftmatables_tcm77-415727.xls \"Table 6\" \"6D_Bottom\"\n",
    "bake --preview Mergers_6_7_recipe.py rftmatables_tcm77-415727.xls \"Table 7\" \"7A_Top\"\n",
    "bake --preview Mergers_6_7_recipe.py rftmatables_tcm77-415727.xls \"Table 7\" \"7A_Bottom\"\n",
    "bake --preview Mergers_6_7_recipe.py rftmatables_tcm77-415727.xls \"Table 7\" \"7D_Top\"\n",
    "bake --preview Mergers_6_7_recipe.py rftmatables_tcm77-415727.xls \"Table 7\" \"7D_Bottom\"\n",
    "\"\"\"\n",
    "\n",
    "anchor = tab.filter(contains_string(\"CBAQ\"))\n",
    "obs = anchor.shift(DOWN).expand(RIGHT).expand(DOWN).is_not_blank()\n",
    "\n",
    "# Getting all the junk out of the file\n",
    "unwanted = tab.excel_ref('AA1').expand(DOWN).expand(RIGHT)     \n",
    "unwanted = unwanted | anchor.expand(DOWN).filter(contains_string ('Area Analysis')).expand(RIGHT).expand(DOWN)\n",
    "unwanted = unwanted | tab.filter(contains_string ('indicates earliest revision')).expand(RIGHT).expand(DOWN)\n",
    "unwanted = unwanted | anchor.expand(DOWN).filter(contains_string ('Number')).shift(UP).expand(RIGHT).expand(DOWN)\n",
    "obs = obs - unwanted    \n",
    "\n",
    "\n",
    "\n",
    "dimensions = [\n",
    "    (anchor.shift(0, -2).expand(RIGHT).is_not_blank(), \"Area\", CLOSEST, LEFT), \n",
    "    (anchor.shift(0, -1).expand(RIGHT).is_not_blank(), MEASURETYPE, DIRECTLY, ABOVE), \n",
    "    (anchor.shift(-1, 0).expand(DOWN).is_not_blank(), TIME, DIRECTLY, LEFT),\n",
    "    (tab.filter(contains_string (\"6A\")).shift(RIGHT), \"Mergers\", CLOSEST, ABOVE)\n",
    "]\n",
    "\n",
    "values = [ ]\n",
    "for ob in obs:\n",
    "    v = { OBS:ob.value }\n",
    "    for header_bag, name, strict, direction in dimensions:\n",
    "        v[name] = ds.overrides.Dcelllookup(header_bag, direction, strict, None, ob).value\n",
    "    if isinstance(v[TIME], str):\n",
    "        v[TIME] = int(v[TIME][:4])\n",
    "    if isinstance(v[OBS], str):\n",
    "        continue\n",
    "    values.append(v)\n",
    "\n",
    "\n",
    "#import matplotlib.pyplot as plt\n",
    "#plt.plot(Pd[\"TIME\"], Pd[\"OBS\"])\n",
    "#Pd[\"TIME\"]\n",
    "#Pd[\"OBS\"]\n",
    "len(values)\n",
    "values[0]"
   ]
  },
  {
   "cell_type": "code",
   "execution_count": 87,
   "metadata": {
    "collapsed": false
   },
   "outputs": [
    {
     "data": {
      "image/png": "[encoded data removed]",
      "text/plain": [
       "<matplotlib.figure.Figure at 0x7f8c927aa630>"
      ]
     },
     "metadata": {},
     "output_type": "display_data"
    }
   ],
   "source": [
    "%matplotlib inline\n",
    "\n",
    "areas = set(v['Area']  for v in values)\n",
    "\n",
    "import matplotlib.pyplot as plt\n",
    "\n",
    "ax = plt.gca()\n",
    "ax.get_xaxis().get_major_formatter().set_useOffset(False)\n",
    "#ax.get_xaxis().get_major_formatter().set_scientific(False)\n",
    "\n",
    "def pairplot(plt, vp, label):\n",
    "    plt.plot([v[0] for v in vp], [v[1] for v in vp], label=label)\n",
    "\n",
    "for area in areas:\n",
    "    pairplot(plt, [(v[TIME], v[OBS])  for v in values  if v[\"Area\"] == area and v[MEASURETYPE] == \"Value\"], area)\n",
    "plt.legend()\n",
    "plt.title(values[0][\"Mergers\"])\n",
    "plt.show()\n",
    "\n",
    "\n"
   ]
  },
  {
   "cell_type": "code",
   "execution_count": null,
   "metadata": {
    "collapsed": true
   },
   "outputs": [],
   "source": []
  }
 ],
 "metadata": {
  "kernelspec": {
   "display_name": "Python 3",
   "language": "python",
   "name": "python3"
  },
  "language_info": {
   "codemirror_mode": {
    "name": "ipython",
    "version": 3
   },
   "file_extension": ".py",
   "mimetype": "text/x-python",
   "name": "python",
   "nbconvert_exporter": "python",
   "pygments_lexer": "ipython3",
   "version": "3.5.2"
  }
 },
 "nbformat": 4,
 "nbformat_minor": 0
}
