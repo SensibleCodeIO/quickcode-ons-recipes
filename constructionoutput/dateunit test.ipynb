{
 "cells": [
  {
   "cell_type": "code",
   "execution_count": 1,
   "metadata": {
    "collapsed": false
   },
   "outputs": [
    {
     "name": "stdout",
     "output_type": "stream",
     "text": [
      "Loading constructionoutputseptemberq32016.xls which has size 1051648 bytes\n",
      "Table names: ['Table 4']\n"
     ]
    }
   ],
   "source": [
    "from databaker.framework import *\n",
    "inputfile = \"constructionoutputseptemberq32016.xls\"\n",
    "outputfile = \"constructionoutputtab4.csv\"\n",
    "previewfile = \"preview.html\"\n",
    "\n",
    "tab = loadxlstabs(inputfile, \"Table 4\")[0]\n"
   ]
  },
  {
   "cell_type": "code",
   "execution_count": 2,
   "metadata": {
    "collapsed": false
   },
   "outputs": [
    {
     "name": "stdout",
     "output_type": "stream",
     "text": [
      "tablepart 'Table 4' written #injblock1001\n",
      "javascript calculated\n"
     ]
    },
    {
     "data": {
      "text/html": [
       "Written to file <a href=\"file:///home/goatchurch/sensiblecode/quickcode-ons-recipes/constructionoutput/preview.html\" title=\"It would work if this linked to something like: http://localhost:8888/files/ILCH/preview.html\" >/home/goatchurch/sensiblecode/quickcode-ons-recipes/constructionoutput/preview.html</a>"
      ],
      "text/plain": [
       "<IPython.core.display.HTML object>"
      ]
     },
     "metadata": {},
     "output_type": "display_data"
    }
   ],
   "source": [
    "# get the columns out from this object \n",
    "anchor = tab.is_bold().regex(\"Period\")\n",
    "year = anchor.fill(DOWN).is_not_blank()\n",
    "subyear = anchor.shift(RIGHT).fill(DOWN)\n",
    "coderow = year.is_not_blank().by_index(1).shift(UP).fill(RIGHT)\n",
    "\n",
    "obs = coderow.fill(DOWN).is_not_blank()\n",
    "\n",
    "hd1 = HDim(year, \"year\", CLOSEST, ABOVE)\n",
    "hd2 = HDim(subyear, \"subyear\", DIRECTLY, LEFT)\n",
    "\n",
    "#savepreviewhtml([hd1, subyear, coderow, obs])\n",
    "cs = ConversionSegment(tab, [hd1, hd2], obs)\n",
    "savepreviewhtml(cs, previewfile)\n",
    "\n"
   ]
  },
  {
   "cell_type": "code",
   "execution_count": 3,
   "metadata": {
    "collapsed": false
   },
   "outputs": [
    {
     "name": "stdout",
     "output_type": "stream",
     "text": [
      "writing 1 conversion segments into /home/goatchurch/sensiblecode/quickcode-ons-recipes/constructionoutput/constructionoutputtab4.csv\n",
      "conversionwrite segment size 389 table 'Table 4; TIMEUNIT='Year'\n"
     ]
    }
   ],
   "source": [
    "# this classically looks like a job for subdimensions, either implemented by \n",
    "# dimensions looking up other dimensions, or by concatenating dimension values\n",
    "\n",
    "# but we can do it more powerfully with cellvalueoverride, which implements the \n",
    "# same feature, but gives us also the ability to clean up footnotes and other \n",
    "# things that often mess up the dates, which we would need to use the cellvalueoverride\n",
    "# system for anyway.  So we'll try and see if we can live without the subdims feature\n",
    "\n",
    "obs = coderow.is_not_blank().by_index(1).fill(DOWN).is_not_blank()   # smaller OBS set of one column\n",
    "\n",
    "# But first check that the dateunit thing is working just on the years (including fixing up the .0 value)\n",
    "hdt = HDim(year, TIME, CLOSEST, ABOVE)\n",
    "cs = ConversionSegment(tab, [hdt], obs)\n",
    "writetechnicalCSV(outputfile, cs)"
   ]
  },
  {
   "cell_type": "code",
   "execution_count": 4,
   "metadata": {
    "collapsed": false
   },
   "outputs": [
    {
     "name": "stdout",
     "output_type": "stream",
     "text": [
      "Initial processing\n",
      "[{-2: 1955.0, -9: 331.0}, {-2: 1956.0, -9: 319.0}, {-2: 1957.0, -9: 303.0}]\n",
      "\n",
      "\n",
      "TIMEUNIT adding\n",
      "timeunitmessage: TIMEUNIT='Year'\n",
      "[{-1: 'Year', -2: 1955.0, -9: 331.0}, {-1: 'Year', -2: 1956.0, -9: 319.0}, {-1: 'Year', -2: 1957.0, -9: 303.0}]\n",
      "\n",
      "\n",
      "Force TIME to match TIMEUNIT\n",
      "[{-1: 'Year', -2: '1955', -9: 331.0}, {-1: 'Year', -2: '1956', -9: 319.0}, {-1: 'Year', -2: '1957', -9: 303.0}]\n"
     ]
    }
   ],
   "source": [
    "# The years don't have the .0 problem.  It's been done in stages of \n",
    "# post processing like so:\n",
    "cs1 = ConversionSegment(tab, [hdt], obs)\n",
    "\n",
    "print(\"Initial processing\")\n",
    "cs1.process()  \n",
    "print(cs1.processedrows[:3])\n",
    "\n",
    "print(\"\\n\\nTIMEUNIT adding\")\n",
    "st = cs1.guesstimeunit()  \n",
    "print(\"timeunitmessage:\", st)\n",
    "print(cs1.processedrows[:3])\n",
    "\n",
    "# this function only does something with years, but we can talk about doing it more systematically\n",
    "print(\"\\n\\nForce TIME to match TIMEUNIT\")\n",
    "cs1.fixtimefromtimeunit()\n",
    "print(cs1.processedrows[:3])\n"
   ]
  },
  {
   "cell_type": "code",
   "execution_count": 5,
   "metadata": {
    "collapsed": false
   },
   "outputs": [
    {
     "name": "stdout",
     "output_type": "stream",
     "text": [
      "Here are some subyear column elements (some are blank)\n",
      "<B37 ''>\n",
      "<B94 'Q1'>\n",
      "<B229 'Q4'>\n",
      "<B192 'Q3'>\n",
      "<B170 'Q1'>\n",
      "<B191 'Q2'>\n",
      "<B265 'Q4'>\n",
      "<B33 ''>\n",
      "<B390 'Sep'>\n",
      "<B379 'Oct'>\n",
      "\n",
      "Here are how they lookup to the year column (it's a local lookup) to cell and value of cell\n",
      "<B37 ''> (<A37 1981.0>, 1981.0)\n",
      "<B94 'Q1'> (<A94 1960.0>, 1960.0)\n",
      "<B229 'Q4'> (<A226 1993.0>, 1993.0)\n",
      "<B192 'Q3'> (<A190 1984.0>, 1984.0)\n",
      "<B170 'Q1'> (<A170 1979.0>, 1979.0)\n",
      "<B191 'Q2'> (<A190 1984.0>, 1984.0)\n",
      "<B265 'Q4'> (<A262 2002.0>, 2002.0)\n",
      "<B33 ''> (<A33 1977.0>, 1977.0)\n",
      "<B390 'Sep'> (<A382 2015.0>, 2015.0)\n",
      "<B379 'Oct'> (<A370 2014.0>, 2014.0)\n"
     ]
    }
   ],
   "source": [
    "# Now back to the waterfall like structure, where we're going to \n",
    "# apply the year into the month column\n",
    "hdt = HDim(year, TIME, CLOSEST, ABOVE)\n",
    "lsubyear = list(subyear.unordered_cells)  # <--- unordered_cells are bare cell type, \n",
    "                                          # which we can use in cellvalueoverride\n",
    "\n",
    "print(\"Here are some subyear column elements (some are blank)\")\n",
    "for sy in lsubyear[:10]:\n",
    "    print(sy)\n",
    "\n",
    "print(\"\\nHere are how they lookup to the year column (it's a local lookup) to cell and value of cell\")\n",
    "for sy in lsubyear[:10]:\n",
    "    print(sy, hdt.cellvalobs(sy))\n"
   ]
  },
  {
   "cell_type": "code",
   "execution_count": 6,
   "metadata": {
    "collapsed": false
   },
   "outputs": [],
   "source": [
    "# this creates the concatenation of the year and subyear\n",
    "cvodate = { }\n",
    "for sy in lsubyear:\n",
    "    h, v = hdt.cellvalobs(sy)\n",
    "    if v:\n",
    "        cvodate[sy] = (str(int(v))+sy.value) \n",
    "        "
   ]
  },
  {
   "cell_type": "code",
   "execution_count": 7,
   "metadata": {
    "collapsed": false
   },
   "outputs": [],
   "source": [
    "# just in case you want to do that all in one line...\n",
    "cvodate = dict((sy, \"%s %s\" % (int(hdt.cellvalobs(sy)[1] or 0), (sy.value or \"\")))  for sy in subyear.unordered_cells)\n"
   ]
  },
  {
   "cell_type": "code",
   "execution_count": 8,
   "metadata": {
    "collapsed": true
   },
   "outputs": [],
   "source": [
    "hdd = HDim(subyear, TIME, DIRECTLY, LEFT, cellvalueoverride=cvodate)\n",
    "cs2 = ConversionSegment(tab, [hdd], obs)\n",
    "writetechnicalCSV(outputfile, cs2)\n",
    "#writetechnicalCSV(None, cs2)\n",
    "# see lots of errors"
   ]
  },
  {
   "cell_type": "code",
   "execution_count": 14,
   "metadata": {
    "collapsed": false
   },
   "outputs": [
    {
     "name": "stdout",
     "output_type": "stream",
     "text": [
      "writing 1 conversion segments into /home/goatchurch/sensiblecode/quickcode-ons-recipes/constructionoutput/constructionoutputtab4.csv\n",
      "conversionwrite segment size 389 table 'Table 4; multiple TIMEUNITs: 'Month'(81), 'Quarter'(247), 'Year'(61)\n"
     ]
    }
   ],
   "source": [
    "# But we get some datematching that doesn't work out, \n",
    "# We could either fix up the datematch code in the base library, or hack in this \n",
    "# lookup table to get the month in front of the year when it's there\n",
    "\n",
    "# this creates the concatenation of the year and subyear\n",
    "cvodate = { }\n",
    "for sy in lsubyear:\n",
    "    h, v = hdt.cellvalobs(sy)\n",
    "    if v:\n",
    "        y = str(int(v))\n",
    "        if sy.value:\n",
    "            if sy.value[0] == \"Q\":\n",
    "                cvodate[sy] = (y+\" \"+sy.value) \n",
    "            else:\n",
    "                cvodate[sy] = (sy.value.strip()+\" \"+y) \n",
    "        else:\n",
    "            cvodate[sy] = y\n",
    "\n",
    "hdd = HDim(subyear, TIME, DIRECTLY, LEFT, cellvalueoverride=cvodate)\n",
    "cs2 = ConversionSegment(tab, [hdd], obs)\n",
    "writetechnicalCSV(outputfile, cs2)\n",
    "\n",
    "# and this comes out quite nicely\n"
   ]
  },
  {
   "cell_type": "code",
   "execution_count": null,
   "metadata": {
    "collapsed": true
   },
   "outputs": [],
   "source": []
  }
 ],
 "metadata": {
  "kernelspec": {
   "display_name": "Python 3",
   "language": "python",
   "name": "python3"
  },
  "language_info": {
   "codemirror_mode": {
    "name": "ipython",
    "version": 3
   },
   "file_extension": ".py",
   "mimetype": "text/x-python",
   "name": "python",
   "nbconvert_exporter": "python",
   "pygments_lexer": "ipython3",
   "version": "3.5.2"
  }
 },
 "nbformat": 4,
 "nbformat_minor": 1
}
