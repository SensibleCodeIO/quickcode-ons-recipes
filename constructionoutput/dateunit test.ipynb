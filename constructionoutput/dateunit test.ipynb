{
 "cells": [
  {
   "cell_type": "code",
   "execution_count": 1,
   "metadata": {
    "collapsed": false
   },
   "outputs": [
    {
     "name": "stdout",
     "output_type": "stream",
     "text": [
      "Loading constructionoutputtab4.xls which has size 85504 bytes\n",
      "Table names: ['Table 4']\n"
     ]
    }
   ],
   "source": [
    "from databaker.framework import *\n",
    "inputfile = \"constructionoutputtab4.xls\"\n",
    "outputfile = \"constructionoutputtab4.csv\"\n",
    "previewfile = \"preview.html\"\n",
    "\n",
    "tab = loadxlstabs(inputfile, \"Table 4\")[0]\n"
   ]
  },
  {
   "cell_type": "code",
   "execution_count": 2,
   "metadata": {
    "collapsed": false
   },
   "outputs": [
    {
     "name": "stdout",
     "output_type": "stream",
     "text": [
      "tablepart 'Table 4' written #injblock1001\n",
      "javascript calculated\n"
     ]
    },
    {
     "data": {
      "text/html": [
       "Written to file <a href=\"file:///home/goatchurch/sensiblecode/quickcode-ons-recipes/constructionoutput/preview.html\" title=\"It would work if this linked to something like: http://localhost:8888/files/ILCH/preview.html\" >/home/goatchurch/sensiblecode/quickcode-ons-recipes/constructionoutput/preview.html</a>"
      ],
      "text/plain": [
       "<IPython.core.display.HTML object>"
      ]
     },
     "metadata": {},
     "output_type": "display_data"
    }
   ],
   "source": [
    "# get the columns out from this object \n",
    "anchor = tab.is_bold().regex(\"Period\")\n",
    "year = anchor.fill(DOWN).is_not_blank()\n",
    "subyear = anchor.shift(RIGHT).fill(DOWN)\n",
    "coderow = year.is_not_blank().by_index(1).shift(UP).fill(RIGHT)\n",
    "\n",
    "obs = coderow.fill(DOWN).is_not_blank()\n",
    "\n",
    "hd1 = HDim(year, \"year\", CLOSEST, ABOVE)\n",
    "hd2 = HDim(subyear, \"subyear\", DIRECTLY, LEFT)\n",
    "\n",
    "#savepreviewhtml([hd1, subyear, coderow, obs])\n",
    "cs = ConversionSegment(tab, [hd1, hd2], obs)\n",
    "savepreviewhtml(cs, previewfile)\n",
    "\n"
   ]
  },
  {
   "cell_type": "code",
   "execution_count": 3,
   "metadata": {
    "collapsed": false
   },
   "outputs": [
    {
     "name": "stdout",
     "output_type": "stream",
     "text": [
      "writing 1 conversion segments into /home/goatchurch/sensiblecode/quickcode-ons-recipes/constructionoutput/constructionoutputtab4.csv\n",
      "conversionwrite segment size 389 table 'Table 4; TIMEUNIT='Year'\n"
     ]
    }
   ],
   "source": [
    "# this classically looks like a job for subdimensions, either implemented by \n",
    "# dimensions looking up other dimensions, or by concatenating dimension values\n",
    "\n",
    "# but we can do it more powerfully with cellvalueoverride, which implements the \n",
    "# same feature, but gives us also the ability to clean up footnotes and other \n",
    "# things that often mess up the dates, which we would need to use the cellvalueoverride\n",
    "# system for anyway.  So we'll try and see if we can live without the subdims feature\n",
    "\n",
    "obs = coderow.is_not_blank().by_index(1).fill(DOWN).is_not_blank()   # smaller OBS set of one column\n",
    "\n",
    "# But first check that the dateunit thing is working just on the years (including fixing up the .0 value)\n",
    "hdt = HDim(year, TIME, CLOSEST, ABOVE)\n",
    "cs = ConversionSegment(tab, [hdt], obs)\n",
    "writetechnicalCSV(outputfile, cs)"
   ]
  },
  {
   "cell_type": "code",
   "execution_count": 4,
   "metadata": {
    "collapsed": false
   },
   "outputs": [
    {
     "name": "stdout",
     "output_type": "stream",
     "text": [
      "Initial processing\n",
      "[{-2: 1955.0, -9: 331.0}, {-2: 1956.0, -9: 319.0}, {-2: 1957.0, -9: 303.0}]\n",
      "\n",
      "\n",
      "TIMEUNIT adding\n",
      "timeunitmessage: TIMEUNIT='Year'\n",
      "[{-1: 'Year', -2: 1955.0, -9: 331.0}, {-1: 'Year', -2: 1956.0, -9: 319.0}, {-1: 'Year', -2: 1957.0, -9: 303.0}]\n",
      "\n",
      "\n",
      "Force TIME to match TIMEUNIT\n",
      "[{-1: 'Year', -2: '1955', -9: 331.0}, {-1: 'Year', -2: '1956', -9: 319.0}, {-1: 'Year', -2: '1957', -9: 303.0}]\n"
     ]
    }
   ],
   "source": [
    "# The years don't have the .0 problem.  It's been done in stages of \n",
    "# post processing like so:\n",
    "cs1 = ConversionSegment(tab, [hdt], obs)\n",
    "\n",
    "print(\"Initial processing\")\n",
    "cs1.process()  \n",
    "print(cs1.processedrows[:3])\n",
    "\n",
    "print(\"\\n\\nTIMEUNIT adding\")\n",
    "st = cs1.guesstimeunit()  \n",
    "print(\"timeunitmessage:\", st)\n",
    "print(cs1.processedrows[:3])\n",
    "\n",
    "# this function only does something with years, but we can talk about doing it more systematically\n",
    "print(\"\\n\\nForce TIME to match TIMEUNIT\")\n",
    "cs1.fixtimefromtimeunit()\n",
    "print(cs1.processedrows[:3])\n"
   ]
  },
  {
   "cell_type": "code",
   "execution_count": 5,
   "metadata": {
    "collapsed": false
   },
   "outputs": [
    {
     "name": "stdout",
     "output_type": "stream",
     "text": [
      "Here are some subyear column elements (some are blank)\n",
      "<B259 'Q2'>\n",
      "<B293 'Q4'>\n",
      "<B130 'Q1'>\n",
      "<B365 'Aug'>\n",
      "<B371 'Feb '>\n",
      "<B213 'Q4'>\n",
      "<B105 'Q4'>\n",
      "<B20 ''>\n",
      "<B241 'Q4'>\n",
      "<B393 'Dec'>\n",
      "\n",
      "Here are how they lookup to the year column (it's a local lookup) to cell and value of cell\n",
      "<B259 'Q2'> (<A258 2001.0>, 2001.0)\n",
      "<B293 'Q4'> (<A290 2009.0>, 2009.0)\n",
      "<B130 'Q1'> (<A130 1969.0>, 1969.0)\n",
      "<B365 'Aug'> (<A358 2013.0>, 2013.0)\n",
      "<B371 'Feb '> (<A370 2014.0>, 2014.0)\n",
      "<B213 'Q4'> (<A210 1989.0>, 1989.0)\n",
      "<B105 'Q4'> (<A102 1962.0>, 1962.0)\n",
      "<B20 ''> (<A20 1964.0>, 1964.0)\n",
      "<B241 'Q4'> (<A238 1996.0>, 1996.0)\n",
      "<B393 'Dec'> (<A382 2015.0>, 2015.0)\n"
     ]
    }
   ],
   "source": [
    "# Now back to the waterfall like structure, where we're going to \n",
    "# apply the year into the month column\n",
    "hdt = HDim(year, TIME, CLOSEST, ABOVE)\n",
    "lsubyear = list(subyear.unordered_cells)  # <--- unordered_cells are bare cell type, \n",
    "                                          # which we can use in cellvalueoverride\n",
    "\n",
    "print(\"Here are some subyear column elements (some are blank)\")\n",
    "for sy in lsubyear[:10]:\n",
    "    print(sy)\n",
    "\n",
    "print(\"\\nHere are how they lookup to the year column (it's a local lookup) to cell and value of cell\")\n",
    "for sy in lsubyear[:10]:\n",
    "    print(sy, hdt.cellvalobs(sy))\n"
   ]
  },
  {
   "cell_type": "code",
   "execution_count": 6,
   "metadata": {
    "collapsed": false
   },
   "outputs": [],
   "source": [
    "# this creates the concatenation of the year and subyear\n",
    "cvodate = { }\n",
    "for sy in lsubyear:\n",
    "    h, v = hdt.cellvalobs(sy)\n",
    "    if v:\n",
    "        cvodate[sy] = (str(int(v))+sy.value.strip()) "
   ]
  },
  {
   "cell_type": "code",
   "execution_count": 7,
   "metadata": {
    "collapsed": false
   },
   "outputs": [],
   "source": [
    "# just in case you want to do that all in one line...\n",
    "cvodate = dict((sy, \"%s%s\" % (int(hdt.cellvalobs(sy)[1] or 0), (sy.value or \"\").strip()))  for sy in subyear.unordered_cells)\n"
   ]
  },
  {
   "cell_type": "code",
   "execution_count": 8,
   "metadata": {
    "collapsed": false
   },
   "outputs": [
    {
     "name": "stdout",
     "output_type": "stream",
     "text": [
      "writing 1 conversion segments into /home/goatchurch/sensiblecode/quickcode-ons-recipes/constructionoutput/constructionoutputtab4.csv\n",
      "conversionwrite segment size 389 table 'Table 4; multiple TIMEUNITs: ''(81), 'Quarter'(247), 'Year'(61)\n"
     ]
    },
    {
     "name": "stderr",
     "output_type": "stream",
     "text": [
      "/home/goatchurch/sensiblecode/src/databaker/databaker/jupybakeutils.py:175: UserWarning: TIME 2010Jan disagrees with TIMEUNIT unknown:\n",
      "  warnings.warn(\"TIME %s disagrees with TIMEUNIT %s\" % (st, timeunit))\n",
      "/home/goatchurch/sensiblecode/src/databaker/databaker/jupybakeutils.py:175: UserWarning: TIME 2010Feb disagrees with TIMEUNIT unknown:\n",
      "  warnings.warn(\"TIME %s disagrees with TIMEUNIT %s\" % (st, timeunit))\n",
      "/home/goatchurch/sensiblecode/src/databaker/databaker/jupybakeutils.py:175: UserWarning: TIME 2010Mar disagrees with TIMEUNIT unknown:\n",
      "  warnings.warn(\"TIME %s disagrees with TIMEUNIT %s\" % (st, timeunit))\n",
      "/home/goatchurch/sensiblecode/src/databaker/databaker/jupybakeutils.py:175: UserWarning: TIME 2010Apr disagrees with TIMEUNIT unknown:\n",
      "  warnings.warn(\"TIME %s disagrees with TIMEUNIT %s\" % (st, timeunit))\n",
      "/home/goatchurch/sensiblecode/src/databaker/databaker/jupybakeutils.py:175: UserWarning: TIME 2010May disagrees with TIMEUNIT unknown:\n",
      "  warnings.warn(\"TIME %s disagrees with TIMEUNIT %s\" % (st, timeunit))\n",
      "/home/goatchurch/sensiblecode/src/databaker/databaker/jupybakeutils.py:175: UserWarning: TIME 2010Jun disagrees with TIMEUNIT unknown:\n",
      "  warnings.warn(\"TIME %s disagrees with TIMEUNIT %s\" % (st, timeunit))\n",
      "/home/goatchurch/sensiblecode/src/databaker/databaker/jupybakeutils.py:175: UserWarning: TIME 2010Jul disagrees with TIMEUNIT unknown:\n",
      "  warnings.warn(\"TIME %s disagrees with TIMEUNIT %s\" % (st, timeunit))\n",
      "/home/goatchurch/sensiblecode/src/databaker/databaker/jupybakeutils.py:175: UserWarning: TIME 2010Aug disagrees with TIMEUNIT unknown:\n",
      "  warnings.warn(\"TIME %s disagrees with TIMEUNIT %s\" % (st, timeunit))\n",
      "/home/goatchurch/sensiblecode/src/databaker/databaker/jupybakeutils.py:175: UserWarning: TIME 2010Sep disagrees with TIMEUNIT unknown:\n",
      "  warnings.warn(\"TIME %s disagrees with TIMEUNIT %s\" % (st, timeunit))\n",
      "/home/goatchurch/sensiblecode/src/databaker/databaker/jupybakeutils.py:175: UserWarning: TIME 2010Oct disagrees with TIMEUNIT unknown:\n",
      "  warnings.warn(\"TIME %s disagrees with TIMEUNIT %s\" % (st, timeunit))\n",
      "/home/goatchurch/sensiblecode/src/databaker/databaker/jupybakeutils.py:175: UserWarning: TIME 2010Nov disagrees with TIMEUNIT unknown:\n",
      "  warnings.warn(\"TIME %s disagrees with TIMEUNIT %s\" % (st, timeunit))\n",
      "/home/goatchurch/sensiblecode/src/databaker/databaker/jupybakeutils.py:175: UserWarning: TIME 2010Dec disagrees with TIMEUNIT unknown:\n",
      "  warnings.warn(\"TIME %s disagrees with TIMEUNIT %s\" % (st, timeunit))\n",
      "/home/goatchurch/sensiblecode/src/databaker/databaker/jupybakeutils.py:175: UserWarning: TIME 2011Jan disagrees with TIMEUNIT unknown:\n",
      "  warnings.warn(\"TIME %s disagrees with TIMEUNIT %s\" % (st, timeunit))\n",
      "/home/goatchurch/sensiblecode/src/databaker/databaker/jupybakeutils.py:175: UserWarning: TIME 2011Feb disagrees with TIMEUNIT unknown:\n",
      "  warnings.warn(\"TIME %s disagrees with TIMEUNIT %s\" % (st, timeunit))\n",
      "/home/goatchurch/sensiblecode/src/databaker/databaker/jupybakeutils.py:175: UserWarning: TIME 2011Mar disagrees with TIMEUNIT unknown:\n",
      "  warnings.warn(\"TIME %s disagrees with TIMEUNIT %s\" % (st, timeunit))\n",
      "/home/goatchurch/sensiblecode/src/databaker/databaker/jupybakeutils.py:175: UserWarning: TIME 2011Apr disagrees with TIMEUNIT unknown:\n",
      "  warnings.warn(\"TIME %s disagrees with TIMEUNIT %s\" % (st, timeunit))\n",
      "/home/goatchurch/sensiblecode/src/databaker/databaker/jupybakeutils.py:175: UserWarning: TIME 2011May disagrees with TIMEUNIT unknown:\n",
      "  warnings.warn(\"TIME %s disagrees with TIMEUNIT %s\" % (st, timeunit))\n",
      "/home/goatchurch/sensiblecode/src/databaker/databaker/jupybakeutils.py:175: UserWarning: TIME 2011Jun disagrees with TIMEUNIT unknown:\n",
      "  warnings.warn(\"TIME %s disagrees with TIMEUNIT %s\" % (st, timeunit))\n",
      "/home/goatchurch/sensiblecode/src/databaker/databaker/jupybakeutils.py:175: UserWarning: TIME 2011Jul disagrees with TIMEUNIT unknown:\n",
      "  warnings.warn(\"TIME %s disagrees with TIMEUNIT %s\" % (st, timeunit))\n",
      "/home/goatchurch/sensiblecode/src/databaker/databaker/jupybakeutils.py:175: UserWarning: TIME 2011Aug disagrees with TIMEUNIT unknown:\n",
      "  warnings.warn(\"TIME %s disagrees with TIMEUNIT %s\" % (st, timeunit))\n",
      "/home/goatchurch/sensiblecode/src/databaker/databaker/jupybakeutils.py:175: UserWarning: TIME 2011Sep disagrees with TIMEUNIT unknown:\n",
      "  warnings.warn(\"TIME %s disagrees with TIMEUNIT %s\" % (st, timeunit))\n",
      "/home/goatchurch/sensiblecode/src/databaker/databaker/jupybakeutils.py:175: UserWarning: TIME 2011Oct disagrees with TIMEUNIT unknown:\n",
      "  warnings.warn(\"TIME %s disagrees with TIMEUNIT %s\" % (st, timeunit))\n",
      "/home/goatchurch/sensiblecode/src/databaker/databaker/jupybakeutils.py:175: UserWarning: TIME 2011Nov disagrees with TIMEUNIT unknown:\n",
      "  warnings.warn(\"TIME %s disagrees with TIMEUNIT %s\" % (st, timeunit))\n",
      "/home/goatchurch/sensiblecode/src/databaker/databaker/jupybakeutils.py:175: UserWarning: TIME 2011Dec disagrees with TIMEUNIT unknown:\n",
      "  warnings.warn(\"TIME %s disagrees with TIMEUNIT %s\" % (st, timeunit))\n",
      "/home/goatchurch/sensiblecode/src/databaker/databaker/jupybakeutils.py:175: UserWarning: TIME 2012Jan disagrees with TIMEUNIT unknown:\n",
      "  warnings.warn(\"TIME %s disagrees with TIMEUNIT %s\" % (st, timeunit))\n",
      "/home/goatchurch/sensiblecode/src/databaker/databaker/jupybakeutils.py:175: UserWarning: TIME 2012Feb disagrees with TIMEUNIT unknown:\n",
      "  warnings.warn(\"TIME %s disagrees with TIMEUNIT %s\" % (st, timeunit))\n",
      "/home/goatchurch/sensiblecode/src/databaker/databaker/jupybakeutils.py:175: UserWarning: TIME 2012Mar disagrees with TIMEUNIT unknown:\n",
      "  warnings.warn(\"TIME %s disagrees with TIMEUNIT %s\" % (st, timeunit))\n",
      "/home/goatchurch/sensiblecode/src/databaker/databaker/jupybakeutils.py:175: UserWarning: TIME 2012Apr disagrees with TIMEUNIT unknown:\n",
      "  warnings.warn(\"TIME %s disagrees with TIMEUNIT %s\" % (st, timeunit))\n",
      "/home/goatchurch/sensiblecode/src/databaker/databaker/jupybakeutils.py:175: UserWarning: TIME 2012May disagrees with TIMEUNIT unknown:\n",
      "  warnings.warn(\"TIME %s disagrees with TIMEUNIT %s\" % (st, timeunit))\n",
      "/home/goatchurch/sensiblecode/src/databaker/databaker/jupybakeutils.py:175: UserWarning: TIME 2012Jun disagrees with TIMEUNIT unknown:\n",
      "  warnings.warn(\"TIME %s disagrees with TIMEUNIT %s\" % (st, timeunit))\n",
      "/home/goatchurch/sensiblecode/src/databaker/databaker/jupybakeutils.py:175: UserWarning: TIME 2012Jul disagrees with TIMEUNIT unknown:\n",
      "  warnings.warn(\"TIME %s disagrees with TIMEUNIT %s\" % (st, timeunit))\n",
      "/home/goatchurch/sensiblecode/src/databaker/databaker/jupybakeutils.py:175: UserWarning: TIME 2012Aug disagrees with TIMEUNIT unknown:\n",
      "  warnings.warn(\"TIME %s disagrees with TIMEUNIT %s\" % (st, timeunit))\n",
      "/home/goatchurch/sensiblecode/src/databaker/databaker/jupybakeutils.py:175: UserWarning: TIME 2012Sep disagrees with TIMEUNIT unknown:\n",
      "  warnings.warn(\"TIME %s disagrees with TIMEUNIT %s\" % (st, timeunit))\n",
      "/home/goatchurch/sensiblecode/src/databaker/databaker/jupybakeutils.py:175: UserWarning: TIME 2012Oct disagrees with TIMEUNIT unknown:\n",
      "  warnings.warn(\"TIME %s disagrees with TIMEUNIT %s\" % (st, timeunit))\n",
      "/home/goatchurch/sensiblecode/src/databaker/databaker/jupybakeutils.py:175: UserWarning: TIME 2012Nov disagrees with TIMEUNIT unknown:\n",
      "  warnings.warn(\"TIME %s disagrees with TIMEUNIT %s\" % (st, timeunit))\n",
      "/home/goatchurch/sensiblecode/src/databaker/databaker/jupybakeutils.py:175: UserWarning: TIME 2012Dec disagrees with TIMEUNIT unknown:\n",
      "  warnings.warn(\"TIME %s disagrees with TIMEUNIT %s\" % (st, timeunit))\n",
      "/home/goatchurch/sensiblecode/src/databaker/databaker/jupybakeutils.py:175: UserWarning: TIME 2013Jan disagrees with TIMEUNIT unknown:\n",
      "  warnings.warn(\"TIME %s disagrees with TIMEUNIT %s\" % (st, timeunit))\n",
      "/home/goatchurch/sensiblecode/src/databaker/databaker/jupybakeutils.py:175: UserWarning: TIME 2013Feb disagrees with TIMEUNIT unknown:\n",
      "  warnings.warn(\"TIME %s disagrees with TIMEUNIT %s\" % (st, timeunit))\n",
      "/home/goatchurch/sensiblecode/src/databaker/databaker/jupybakeutils.py:175: UserWarning: TIME 2013Mar disagrees with TIMEUNIT unknown:\n",
      "  warnings.warn(\"TIME %s disagrees with TIMEUNIT %s\" % (st, timeunit))\n",
      "/home/goatchurch/sensiblecode/src/databaker/databaker/jupybakeutils.py:175: UserWarning: TIME 2013Apr disagrees with TIMEUNIT unknown:\n",
      "  warnings.warn(\"TIME %s disagrees with TIMEUNIT %s\" % (st, timeunit))\n",
      "/home/goatchurch/sensiblecode/src/databaker/databaker/jupybakeutils.py:175: UserWarning: TIME 2013May disagrees with TIMEUNIT unknown:\n",
      "  warnings.warn(\"TIME %s disagrees with TIMEUNIT %s\" % (st, timeunit))\n",
      "/home/goatchurch/sensiblecode/src/databaker/databaker/jupybakeutils.py:175: UserWarning: TIME 2013Jun disagrees with TIMEUNIT unknown:\n",
      "  warnings.warn(\"TIME %s disagrees with TIMEUNIT %s\" % (st, timeunit))\n",
      "/home/goatchurch/sensiblecode/src/databaker/databaker/jupybakeutils.py:175: UserWarning: TIME 2013Jul disagrees with TIMEUNIT unknown:\n",
      "  warnings.warn(\"TIME %s disagrees with TIMEUNIT %s\" % (st, timeunit))\n",
      "/home/goatchurch/sensiblecode/src/databaker/databaker/jupybakeutils.py:175: UserWarning: TIME 2013Aug disagrees with TIMEUNIT unknown:\n",
      "  warnings.warn(\"TIME %s disagrees with TIMEUNIT %s\" % (st, timeunit))\n",
      "/home/goatchurch/sensiblecode/src/databaker/databaker/jupybakeutils.py:175: UserWarning: TIME 2013Sep disagrees with TIMEUNIT unknown:\n",
      "  warnings.warn(\"TIME %s disagrees with TIMEUNIT %s\" % (st, timeunit))\n",
      "/home/goatchurch/sensiblecode/src/databaker/databaker/jupybakeutils.py:175: UserWarning: TIME 2013Oct disagrees with TIMEUNIT unknown:\n",
      "  warnings.warn(\"TIME %s disagrees with TIMEUNIT %s\" % (st, timeunit))\n",
      "/home/goatchurch/sensiblecode/src/databaker/databaker/jupybakeutils.py:175: UserWarning: TIME 2013Nov disagrees with TIMEUNIT unknown:\n",
      "  warnings.warn(\"TIME %s disagrees with TIMEUNIT %s\" % (st, timeunit))\n",
      "/home/goatchurch/sensiblecode/src/databaker/databaker/jupybakeutils.py:175: UserWarning: TIME 2013Dec disagrees with TIMEUNIT unknown:\n",
      "  warnings.warn(\"TIME %s disagrees with TIMEUNIT %s\" % (st, timeunit))\n",
      "/home/goatchurch/sensiblecode/src/databaker/databaker/jupybakeutils.py:175: UserWarning: TIME 2014Jan disagrees with TIMEUNIT unknown:\n",
      "  warnings.warn(\"TIME %s disagrees with TIMEUNIT %s\" % (st, timeunit))\n",
      "/home/goatchurch/sensiblecode/src/databaker/databaker/jupybakeutils.py:175: UserWarning: TIME 2014Feb disagrees with TIMEUNIT unknown:\n",
      "  warnings.warn(\"TIME %s disagrees with TIMEUNIT %s\" % (st, timeunit))\n",
      "/home/goatchurch/sensiblecode/src/databaker/databaker/jupybakeutils.py:175: UserWarning: TIME 2014Mar disagrees with TIMEUNIT unknown:\n",
      "  warnings.warn(\"TIME %s disagrees with TIMEUNIT %s\" % (st, timeunit))\n",
      "/home/goatchurch/sensiblecode/src/databaker/databaker/jupybakeutils.py:175: UserWarning: TIME 2014Apr disagrees with TIMEUNIT unknown:\n",
      "  warnings.warn(\"TIME %s disagrees with TIMEUNIT %s\" % (st, timeunit))\n",
      "/home/goatchurch/sensiblecode/src/databaker/databaker/jupybakeutils.py:175: UserWarning: TIME 2014May disagrees with TIMEUNIT unknown:\n",
      "  warnings.warn(\"TIME %s disagrees with TIMEUNIT %s\" % (st, timeunit))\n",
      "/home/goatchurch/sensiblecode/src/databaker/databaker/jupybakeutils.py:175: UserWarning: TIME 2014Jun disagrees with TIMEUNIT unknown:\n",
      "  warnings.warn(\"TIME %s disagrees with TIMEUNIT %s\" % (st, timeunit))\n",
      "/home/goatchurch/sensiblecode/src/databaker/databaker/jupybakeutils.py:175: UserWarning: TIME 2014Jul disagrees with TIMEUNIT unknown:\n",
      "  warnings.warn(\"TIME %s disagrees with TIMEUNIT %s\" % (st, timeunit))\n",
      "/home/goatchurch/sensiblecode/src/databaker/databaker/jupybakeutils.py:175: UserWarning: TIME 2014Aug disagrees with TIMEUNIT unknown:\n",
      "  warnings.warn(\"TIME %s disagrees with TIMEUNIT %s\" % (st, timeunit))\n",
      "/home/goatchurch/sensiblecode/src/databaker/databaker/jupybakeutils.py:175: UserWarning: TIME 2014Sep disagrees with TIMEUNIT unknown:\n",
      "  warnings.warn(\"TIME %s disagrees with TIMEUNIT %s\" % (st, timeunit))\n",
      "/home/goatchurch/sensiblecode/src/databaker/databaker/jupybakeutils.py:175: UserWarning: TIME 2014Oct disagrees with TIMEUNIT unknown:\n",
      "  warnings.warn(\"TIME %s disagrees with TIMEUNIT %s\" % (st, timeunit))\n",
      "/home/goatchurch/sensiblecode/src/databaker/databaker/jupybakeutils.py:175: UserWarning: TIME 2014Nov disagrees with TIMEUNIT unknown:\n",
      "  warnings.warn(\"TIME %s disagrees with TIMEUNIT %s\" % (st, timeunit))\n",
      "/home/goatchurch/sensiblecode/src/databaker/databaker/jupybakeutils.py:175: UserWarning: TIME 2014Dec disagrees with TIMEUNIT unknown:\n",
      "  warnings.warn(\"TIME %s disagrees with TIMEUNIT %s\" % (st, timeunit))\n",
      "/home/goatchurch/sensiblecode/src/databaker/databaker/jupybakeutils.py:175: UserWarning: TIME 2015Jan disagrees with TIMEUNIT unknown:\n",
      "  warnings.warn(\"TIME %s disagrees with TIMEUNIT %s\" % (st, timeunit))\n",
      "/home/goatchurch/sensiblecode/src/databaker/databaker/jupybakeutils.py:175: UserWarning: TIME 2015Feb disagrees with TIMEUNIT unknown:\n",
      "  warnings.warn(\"TIME %s disagrees with TIMEUNIT %s\" % (st, timeunit))\n",
      "/home/goatchurch/sensiblecode/src/databaker/databaker/jupybakeutils.py:175: UserWarning: TIME 2015Mar disagrees with TIMEUNIT unknown:\n",
      "  warnings.warn(\"TIME %s disagrees with TIMEUNIT %s\" % (st, timeunit))\n",
      "/home/goatchurch/sensiblecode/src/databaker/databaker/jupybakeutils.py:175: UserWarning: TIME 2015Apr disagrees with TIMEUNIT unknown:\n",
      "  warnings.warn(\"TIME %s disagrees with TIMEUNIT %s\" % (st, timeunit))\n",
      "/home/goatchurch/sensiblecode/src/databaker/databaker/jupybakeutils.py:175: UserWarning: TIME 2015May disagrees with TIMEUNIT unknown:\n",
      "  warnings.warn(\"TIME %s disagrees with TIMEUNIT %s\" % (st, timeunit))\n",
      "/home/goatchurch/sensiblecode/src/databaker/databaker/jupybakeutils.py:175: UserWarning: TIME 2015Jun disagrees with TIMEUNIT unknown:\n",
      "  warnings.warn(\"TIME %s disagrees with TIMEUNIT %s\" % (st, timeunit))\n",
      "/home/goatchurch/sensiblecode/src/databaker/databaker/jupybakeutils.py:175: UserWarning: TIME 2015Jul disagrees with TIMEUNIT unknown:\n",
      "  warnings.warn(\"TIME %s disagrees with TIMEUNIT %s\" % (st, timeunit))\n",
      "/home/goatchurch/sensiblecode/src/databaker/databaker/jupybakeutils.py:175: UserWarning: TIME 2015Aug disagrees with TIMEUNIT unknown:\n",
      "  warnings.warn(\"TIME %s disagrees with TIMEUNIT %s\" % (st, timeunit))\n",
      "/home/goatchurch/sensiblecode/src/databaker/databaker/jupybakeutils.py:175: UserWarning: TIME 2015Sep disagrees with TIMEUNIT unknown:\n",
      "  warnings.warn(\"TIME %s disagrees with TIMEUNIT %s\" % (st, timeunit))\n",
      "/home/goatchurch/sensiblecode/src/databaker/databaker/jupybakeutils.py:175: UserWarning: TIME 2015Oct disagrees with TIMEUNIT unknown:\n",
      "  warnings.warn(\"TIME %s disagrees with TIMEUNIT %s\" % (st, timeunit))\n",
      "/home/goatchurch/sensiblecode/src/databaker/databaker/jupybakeutils.py:175: UserWarning: TIME 2015Nov disagrees with TIMEUNIT unknown:\n",
      "  warnings.warn(\"TIME %s disagrees with TIMEUNIT %s\" % (st, timeunit))\n",
      "/home/goatchurch/sensiblecode/src/databaker/databaker/jupybakeutils.py:175: UserWarning: TIME 2015Dec disagrees with TIMEUNIT unknown:\n",
      "  warnings.warn(\"TIME %s disagrees with TIMEUNIT %s\" % (st, timeunit))\n",
      "/home/goatchurch/sensiblecode/src/databaker/databaker/jupybakeutils.py:175: UserWarning: TIME 2016Jan disagrees with TIMEUNIT unknown:\n",
      "  warnings.warn(\"TIME %s disagrees with TIMEUNIT %s\" % (st, timeunit))\n",
      "/home/goatchurch/sensiblecode/src/databaker/databaker/jupybakeutils.py:175: UserWarning: TIME 2016Feb disagrees with TIMEUNIT unknown:\n",
      "  warnings.warn(\"TIME %s disagrees with TIMEUNIT %s\" % (st, timeunit))\n",
      "/home/goatchurch/sensiblecode/src/databaker/databaker/jupybakeutils.py:175: UserWarning: TIME 2016Mar disagrees with TIMEUNIT unknown:\n",
      "  warnings.warn(\"TIME %s disagrees with TIMEUNIT %s\" % (st, timeunit))\n",
      "/home/goatchurch/sensiblecode/src/databaker/databaker/jupybakeutils.py:175: UserWarning: TIME 2016Apr disagrees with TIMEUNIT unknown:\n",
      "  warnings.warn(\"TIME %s disagrees with TIMEUNIT %s\" % (st, timeunit))\n",
      "/home/goatchurch/sensiblecode/src/databaker/databaker/jupybakeutils.py:175: UserWarning: TIME 2016May disagrees with TIMEUNIT unknown:\n",
      "  warnings.warn(\"TIME %s disagrees with TIMEUNIT %s\" % (st, timeunit))\n",
      "/home/goatchurch/sensiblecode/src/databaker/databaker/jupybakeutils.py:175: UserWarning: TIME 2016Jun disagrees with TIMEUNIT unknown:\n",
      "  warnings.warn(\"TIME %s disagrees with TIMEUNIT %s\" % (st, timeunit))\n",
      "/home/goatchurch/sensiblecode/src/databaker/databaker/jupybakeutils.py:175: UserWarning: TIME 2016Jul disagrees with TIMEUNIT unknown:\n",
      "  warnings.warn(\"TIME %s disagrees with TIMEUNIT %s\" % (st, timeunit))\n",
      "/home/goatchurch/sensiblecode/src/databaker/databaker/jupybakeutils.py:175: UserWarning: TIME 2016Aug disagrees with TIMEUNIT unknown:\n",
      "  warnings.warn(\"TIME %s disagrees with TIMEUNIT %s\" % (st, timeunit))\n",
      "/home/goatchurch/sensiblecode/src/databaker/databaker/jupybakeutils.py:175: UserWarning: TIME 2016Sep disagrees with TIMEUNIT unknown:\n",
      "  warnings.warn(\"TIME %s disagrees with TIMEUNIT %s\" % (st, timeunit))\n"
     ]
    }
   ],
   "source": [
    "hdd = HDim(subyear, TIME, DIRECTLY, LEFT, cellvalueoverride=cvodate)\n",
    "cs2 = ConversionSegment(tab, [hdd], obs)\n",
    "writetechnicalCSV(outputfile, cs2)\n",
    "#writetechnicalCSV(None, cs2)\n",
    "# see lots of errors"
   ]
  },
  {
   "cell_type": "code",
   "execution_count": 9,
   "metadata": {
    "collapsed": false
   },
   "outputs": [
    {
     "data": {
      "text/plain": [
       "'observation,data_marking,statistical_unit_eng,statistical_unit_cym,measure_type_eng,measure_type_cym,observation_type,empty,obs_type_value,unit_multiplier,unit_of_measure_eng,unit_of_measure_cym,confidentuality,empty1,geographic_area,empty2,empty3,time_dim_item_id,time_dim_item_label_eng,time_dim_item_label_cym,time_type,empty4,statistical_population_id,statistical_population_label_eng,statistical_population_label_cym,cdid,cdiddescrip,empty5,empty6,empty7,empty8,empty9,empty10,empty11,empty12\\r\\n331.0,,,,,,,,,,,,,,,,,1955,1955,,Year,,,,,,,,,,,,,,\\r\\n319.0,,,,,,,,,,,,,,,,,1956,1956,,Year,,,,,,,,,,,,,,\\r\\n303.0,,,,,,,,,,,,,,,,,1957,1957,,Year,,,,,,,,,,,,,,\\r\\n256.0,,,,,,,,,,,,,,,,,1958,1958,,Year,,,,,,,,,,,,,,\\r\\n249.0,,,,,,,,,,,,,,,,,1959,1959,,Year,,,,,,,,,,,,,,\\r\\n241.0,,,,,,,,,,,,,,,,,1960,1960,,Year,,,,,,,,,,,,,,\\r\\n253.0,,,,,,,,,,,,,,,,,1961,1961,,Year,,,,,,,,,,,,,,\\r\\n288.0,,,,,,,,,,,,,,,,,1962,1962,,Year,,,,,,,,,,,,,,\\r\\n325.0,,,,,,,,,,,,,,,,,1963,1963,,Year,,,,,,,,,,,,,,\\r\\n412.0,,,,,,,,,,,,,,,,,1964,1964,,Year,,,,,,,,,,,,,,\\r\\n471.0,,,,,,,,,,,,,,,,,1965,1965,,Year,,,,,,,,,,,,,,\\r\\n519.0,,,,,,,,,,,,,,,,,1966,1966,,Year,,,,,,,,,,,,,,\\r\\n594.0,,,,,,,,,,,,,,,,,1967,1967,,Year,,,,,,,,,,,,,,\\r\\n650.0,,,,,,,,,,,,,,,,,1968,1968,,Year,,,,,,,,,,,,,,\\r\\n645.0,,,,,,,,,,,,,,,,,1969,1969,,Year,,,,,,,,,,,,,,\\r\\n610.0,,,,,,,,,,,,,,,,,1970,1970,,Year,,,,,,,,,,,,,,\\r\\n601.0,,,,,,,,,,,,,,,,,1971,1971,,Year,,,,,,,,,,,,,,\\r\\n607.0,,,,,,,,,,,,,,,,,1972,1972,,Year,,,,,,,,,,,,,,\\r\\n750.0,,,,,,,,,,,,,,,,,1973,1973,,Year,,,,,,,,,,,,,,\\r\\n973.0,,,,,,,,,,,,,,,,,1974,1974,,Year,,,,,,,,,,,,,,\\r\\n1307.0,,,,,,,,,,,,,,,,,1975,1975,,Year,,,,,,,,,,,,,,\\r\\n1608.0,,,,,,,,,,,,,,,,,1976,1976,,Year,,,,,,,,,,,,,,\\r\\n1559.0,,,,,,,,,,,,,,,,,1977,1977,,Year,,,,,,,,,,,,,,\\r\\n1569.0,,,,,,,,,,,,,,,,,1978,1978,,Year,,,,,,,,,,,,,,\\r\\n1534.0,,,,,,,,,,,,,,,,,1979,1979,,Year,,,,,,,,,,,,,,\\r\\n1485.0,,,,,,,,,,,,,,,,,1980,1980,,Year,,,,,,,,,,,,,,\\r\\n1055.0,,,,,,,,,,,,,,,,,1981,1981,,Year,,,,,,,,,,,,,,\\r\\n887.0,,,,,,,,,,,,,,,,,1982,1982,,Year,,,,,,,,,,,,,,\\r\\n993.0,,,,,,,,,,,,,,,,,1983,1983,,Year,,,,,,,,,,,,,,\\r\\n901.0,,,,,,,,,,,,,,,,,1984,1984,,Year,,,,,,,,,,,,,,\\r\\n725.0,,,,,,,,,,,,,,,,,1985,1985,,Year,,,,,,,,,,,,,,\\r\\n649.0,,,,,,,,,,,,,,,,,1986,1986,,Year,,,,,,,,,,,,,,\\r\\n725.0,,,,,,,,,,,,,,,,,1987,1987,,Year,,,,,,,,,,,,,,\\r\\n729.0,,,,,,,,,,,,,,,,,1988,1988,,Year,,,,,,,,,,,,,,\\r\\n782.0,,,,,,,,,,,,,,,,,1989,1989,,Year,,,,,,,,,,,,,,\\r\\n751.0,,,,,,,,,,,,,,,,,1990,1990,,Year,,,,,,,,,,,,,,\\r\\n648.0,,,,,,,,,,,,,,,,,1991,1991,,Year,,,,,,,,,,,,,,\\r\\n1055.0,,,,,,,,,,,,,,,,,1992,1992,,Year,,,,,,,,,,,,,,\\r\\n1228.0,,,,,,,,,,,,,,,,,1993,1993,,Year,,,,,,,,,,,,,,\\r\\n1454.0,,,,,,,,,,,,,,,,,1994,1994,,Year,,,,,,,,,,,,,,\\r\\n1435.0,,,,,,,,,,,,,,,,,1995,1995,,Year,,,,,,,,,,,,,,\\r\\n1213.0,,,,,,,,,,,,,,,,,1996,1996,,Year,,,,,,,,,,,,,,\\r\\n1028.0,,,,,,,,,,,,,,,,,1997,1997,,Year,,,,,,,,,,,,,,\\r\\n881.0,,,,,,,,,,,,,,,,,1998,1998,,Year,,,,,,,,,,,,,,\\r\\n824.0,,,,,,,,,,,,,,,,,1999,1999,,Year,,,,,,,,,,,,,,\\r\\n1075.0,,,,,,,,,,,,,,,,,2000,2000,,Year,,,,,,,,,,,,,,\\r\\n1174.0,,,,,,,,,,,,,,,,,2001,2001,,Year,,,,,,,,,,,,,,\\r\\n1411.0,,,,,,,,,,,,,,,,,2002,2002,,Year,,,,,,,,,,,,,,\\r\\n1706.0,,,,,,,,,,,,,,,,,2003,2003,,Year,,,,,,,,,,,,,,\\r\\n2210.0,,,,,,,,,,,,,,,,,2004,2004,,Year,,,,,,,,,,,,,,\\r\\n2251.0,,,,,,,,,,,,,,,,,2005,2005,,Year,,,,,,,,,,,,,,\\r\\n2853.0,,,,,,,,,,,,,,,,,2006,2006,,Year,,,,,,,,,,,,,,\\r\\n3480.0,,,,,,,,,,,,,,,,,2007,2007,,Year,,,,,,,,,,,,,,\\r\\n3299.0,,,,,,,,,,,,,,,,,2008,2008,,Year,,,,,,,,,,,,,,\\r\\n3327.0,,,,,,,,,,,,,,,,,2009,2009,,Year,,,,,,,,,,,,,,\\r\\n4893.0,,,,,,,,,,,,,,,,,2010,2010,,Year,,,,,,,,,,,,,,\\r\\n4919.0,,,,,,,,,,,,,,,,,2011,2011,,Year,,,,,,,,,,,,,,\\r\\n4047.0,,,,,,,,,,,,,,,,,2012,2012,,Year,,,,,,,,,,,,,,\\r\\n4344.0,,,,,,,,,,,,,,,,,2013,2013,,Year,,,,,,,,,,,,,,\\r\\n5782.0,,,,,,,,,,,,,,,,,2014,2014,,Year,,,,,,,,,,,,,,\\r\\n4892.0,,,,,,,,,,,,,,,,,2015,2015,,Year,,,,,,,,,,,,,,\\r\\n80.0,,,,,,,,,,,,,,,,,1955 Q1,1955 Q1,,Quarter,,,,,,,,,,,,,,\\r\\n86.0,,,,,,,,,,,,,,,,,1955 Q2,1955 Q2,,Quarter,,,,,,,,,,,,,,\\r\\n82.0,,,,,,,,,,,,,,,,,1955 Q3,1955 Q3,,Quarter,,,,,,,,,,,,,,\\r\\n83.0,,,,,,,,,,,,,,,,,1955 Q4,1955 Q4,,Quarter,,,,,,,,,,,,,,\\r\\n72.0,,,,,,,,,,,,,,,,,1956 Q1,1956 Q1,,Quarter,,,,,,,,,,,,,,\\r\\n84.0,,,,,,,,,,,,,,,,,1956 Q2,1956 Q2,,Quarter,,,,,,,,,,,,,,\\r\\n82.0,,,,,,,,,,,,,,,,,1956 Q3,1956 Q3,,Quarter,,,,,,,,,,,,,,\\r\\n81.0,,,,,,,,,,,,,,,,,1956 Q4,1956 Q4,,Quarter,,,,,,,,,,,,,,\\r\\n78.0,,,,,,,,,,,,,,,,,1957 Q1,1957 Q1,,Quarter,,,,,,,,,,,,,,\\r\\n80.0,,,,,,,,,,,,,,,,,1957 Q2,1957 Q2,,Quarter,,,,,,,,,,,,,,\\r\\n74.0,,,,,,,,,,,,,,,,,1957 Q3,1957 Q3,,Quarter,,,,,,,,,,,,,,\\r\\n72.0,,,,,,,,,,,,,,,,,1957 Q4,1957 Q4,,Quarter,,,,,,,,,,,,,,\\r\\n65.0,,,,,,,,,,,,,,,,,1958 Q1,1958 Q1,,Quarter,,,,,,,,,,,,,,\\r\\n68.0,,,,,,,,,,,,,,,,,1958 Q2,1958 Q2,,Quarter,,,,,,,,,,,,,,\\r\\n63.0,,,,,,,,,,,,,,,,,1958 Q3,1958 Q3,,Quarter,,,,,,,,,,,,,,\\r\\n60.0,,,,,,,,,,,,,,,,,1958 Q4,1958 Q4,,Quarter,,,,,,,,,,,,,,\\r\\n60.0,,,,,,,,,,,,,,,,,1959 Q1,1959 Q1,,Quarter,,,,,,,,,,,,,,\\r\\n64.0,,,,,,,,,,,,,,,,,1959 Q2,1959 Q2,,Quarter,,,,,,,,,,,,,,\\r\\n63.0,,,,,,,,,,,,,,,,,1959 Q3,1959 Q3,,Quarter,,,,,,,,,,,,,,\\r\\n63.0,,,,,,,,,,,,,,,,,1959 Q4,1959 Q4,,Quarter,,,,,,,,,,,,,,\\r\\n60.0,,,,,,,,,,,,,,,,,1960 Q1,1960 Q1,,Quarter,,,,,,,,,,,,,,\\r\\n62.0,,,,,,,,,,,,,,,,,1960 Q2,1960 Q2,,Quarter,,,,,,,,,,,,,,\\r\\n59.0,,,,,,,,,,,,,,,,,1960 Q3,1960 Q3,,Quarter,,,,,,,,,,,,,,\\r\\n60.0,,,,,,,,,,,,,,,,,1960 Q4,1960 Q4,,Quarter,,,,,,,,,,,,,,\\r\\n60.0,,,,,,,,,,,,,,,,,1961 Q1,1961 Q1,,Quarter,,,,,,,,,,,,,,\\r\\n63.0,,,,,,,,,,,,,,,,,1961 Q2,1961 Q2,,Quarter,,,,,,,,,,,,,,\\r\\n65.0,,,,,,,,,,,,,,,,,1961 Q3,1961 Q3,,Quarter,,,,,,,,,,,,,,\\r\\n65.0,,,,,,,,,,,,,,,,,1961 Q4,1961 Q4,,Quarter,,,,,,,,,,,,,,\\r\\n64.0,,,,,,,,,,,,,,,,,1962 Q1,1962 Q1,,Quarter,,,,,,,,,,,,,,\\r\\n73.0,,,,,,,,,,,,,,,,,1962 Q2,1962 Q2,,Quarter,,,,,,,,,,,,,,\\r\\n76.0,,,,,,,,,,,,,,,,,1962 Q3,1962 Q3,,Quarter,,,,,,,,,,,,,,\\r\\n75.0,,,,,,,,,,,,,,,,,1962 Q4,1962 Q4,,Quarter,,,,,,,,,,,,,,\\r\\n55.0,,,,,,,,,,,,,,,,,1963 Q1,1963 Q1,,Quarter,,,,,,,,,,,,,,\\r\\n86.0,,,,,,,,,,,,,,,,,1963 Q2,1963 Q2,,Quarter,,,,,,,,,,,,,,\\r\\n90.0,,,,,,,,,,,,,,,,,1963 Q3,1963 Q3,,Quarter,,,,,,,,,,,,,,\\r\\n95.0,,,,,,,,,,,,,,,,,1963 Q4,1963 Q4,,Quarter,,,,,,,,,,,,,,\\r\\n98.0,,,,,,,,,,,,,,,,,1964 Q1,1964 Q1,,Quarter,,,,,,,,,,,,,,\\r\\n106.0,,,,,,,,,,,,,,,,,1964 Q2,1964 Q2,,Quarter,,,,,,,,,,,,,,\\r\\n102.0,,,,,,,,,,,,,,,,,1964 Q3,1964 Q3,,Quarter,,,,,,,,,,,,,,\\r\\n107.0,,,,,,,,,,,,,,,,,1964 Q4,1964 Q4,,Quarter,,,,,,,,,,,,,,\\r\\n109.0,,,,,,,,,,,,,,,,,1965 Q1,1965 Q1,,Quarter,,,,,,,,,,,,,,\\r\\n116.0,,,,,,,,,,,,,,,,,1965 Q2,1965 Q2,,Quarter,,,,,,,,,,,,,,\\r\\n124.0,,,,,,,,,,,,,,,,,1965 Q3,1965 Q3,,Quarter,,,,,,,,,,,,,,\\r\\n122.0,,,,,,,,,,,,,,,,,1965 Q4,1965 Q4,,Quarter,,,,,,,,,,,,,,\\r\\n117.0,,,,,,,,,,,,,,,,,1966 Q1,1966 Q1,,Quarter,,,,,,,,,,,,,,\\r\\n130.0,,,,,,,,,,,,,,,,,1966 Q2,1966 Q2,,Quarter,,,,,,,,,,,,,,\\r\\n133.0,,,,,,,,,,,,,,,,,1966 Q3,1966 Q3,,Quarter,,,,,,,,,,,,,,\\r\\n139.0,,,,,,,,,,,,,,,,,1966 Q4,1966 Q4,,Quarter,,,,,,,,,,,,,,\\r\\n140.0,,,,,,,,,,,,,,,,,1967 Q1,1967 Q1,,Quarter,,,,,,,,,,,,,,\\r\\n150.0,,,,,,,,,,,,,,,,,1967 Q2,1967 Q2,,Quarter,,,,,,,,,,,,,,\\r\\n150.0,,,,,,,,,,,,,,,,,1967 Q3,1967 Q3,,Quarter,,,,,,,,,,,,,,\\r\\n155.0,,,,,,,,,,,,,,,,,1967 Q4,1967 Q4,,Quarter,,,,,,,,,,,,,,\\r\\n152.0,,,,,,,,,,,,,,,,,1968 Q1,1968 Q1,,Quarter,,,,,,,,,,,,,,\\r\\n164.0,,,,,,,,,,,,,,,,,1968 Q2,1968 Q2,,Quarter,,,,,,,,,,,,,,\\r\\n169.0,,,,,,,,,,,,,,,,,1968 Q3,1968 Q3,,Quarter,,,,,,,,,,,,,,\\r\\n166.0,,,,,,,,,,,,,,,,,1968 Q4,1968 Q4,,Quarter,,,,,,,,,,,,,,\\r\\n154.0,,,,,,,,,,,,,,,,,1969 Q1,1969 Q1,,Quarter,,,,,,,,,,,,,,\\r\\n164.0,,,,,,,,,,,,,,,,,1969 Q2,1969 Q2,,Quarter,,,,,,,,,,,,,,\\r\\n162.0,,,,,,,,,,,,,,,,,1969 Q3,1969 Q3,,Quarter,,,,,,,,,,,,,,\\r\\n164.0,,,,,,,,,,,,,,,,,1969 Q4,1969 Q4,,Quarter,,,,,,,,,,,,,,\\r\\n145.0,,,,,,,,,,,,,,,,,1970 Q1,1970 Q1,,Quarter,,,,,,,,,,,,,,\\r\\n159.0,,,,,,,,,,,,,,,,,1970 Q2,1970 Q2,,Quarter,,,,,,,,,,,,,,\\r\\n156.0,,,,,,,,,,,,,,,,,1970 Q3,1970 Q3,,Quarter,,,,,,,,,,,,,,\\r\\n151.0,,,,,,,,,,,,,,,,,1970 Q4,1970 Q4,,Quarter,,,,,,,,,,,,,,\\r\\n140.0,,,,,,,,,,,,,,,,,1971 Q1,1971 Q1,,Quarter,,,,,,,,,,,,,,\\r\\n155.0,,,,,,,,,,,,,,,,,1971 Q2,1971 Q2,,Quarter,,,,,,,,,,,,,,\\r\\n152.0,,,,,,,,,,,,,,,,,1971 Q3,1971 Q3,,Quarter,,,,,,,,,,,,,,\\r\\n154.0,,,,,,,,,,,,,,,,,1971 Q4,1971 Q4,,Quarter,,,,,,,,,,,,,,\\r\\n145.0,,,,,,,,,,,,,,,,,1972 Q1,1972 Q1,,Quarter,,,,,,,,,,,,,,\\r\\n159.0,,,,,,,,,,,,,,,,,1972 Q2,1972 Q2,,Quarter,,,,,,,,,,,,,,\\r\\n147.0,,,,,,,,,,,,,,,,,1972 Q3,1972 Q3,,Quarter,,,,,,,,,,,,,,\\r\\n157.0,,,,,,,,,,,,,,,,,1972 Q4,1972 Q4,,Quarter,,,,,,,,,,,,,,\\r\\n166.0,,,,,,,,,,,,,,,,,1973 Q1,1973 Q1,,Quarter,,,,,,,,,,,,,,\\r\\n185.0,,,,,,,,,,,,,,,,,1973 Q2,1973 Q2,,Quarter,,,,,,,,,,,,,,\\r\\n198.0,,,,,,,,,,,,,,,,,1973 Q3,1973 Q3,,Quarter,,,,,,,,,,,,,,\\r\\n201.0,,,,,,,,,,,,,,,,,1973 Q4,1973 Q4,,Quarter,,,,,,,,,,,,,,\\r\\n210.0,,,,,,,,,,,,,,,,,1974 Q1,1974 Q1,,Quarter,,,,,,,,,,,,,,\\r\\n242.0,,,,,,,,,,,,,,,,,1974 Q2,1974 Q2,,Quarter,,,,,,,,,,,,,,\\r\\n255.0,,,,,,,,,,,,,,,,,1974 Q3,1974 Q3,,Quarter,,,,,,,,,,,,,,\\r\\n267.0,,,,,,,,,,,,,,,,,1974 Q4,1974 Q4,,Quarter,,,,,,,,,,,,,,\\r\\n277.0,,,,,,,,,,,,,,,,,1975 Q1,1975 Q1,,Quarter,,,,,,,,,,,,,,\\r\\n317.0,,,,,,,,,,,,,,,,,1975 Q2,1975 Q2,,Quarter,,,,,,,,,,,,,,\\r\\n352.0,,,,,,,,,,,,,,,,,1975 Q3,1975 Q3,,Quarter,,,,,,,,,,,,,,\\r\\n361.0,,,,,,,,,,,,,,,,,1975 Q4,1975 Q4,,Quarter,,,,,,,,,,,,,,\\r\\n381.0,,,,,,,,,,,,,,,,,1976 Q1,1976 Q1,,Quarter,,,,,,,,,,,,,,\\r\\n402.0,,,,,,,,,,,,,,,,,1976 Q2,1976 Q2,,Quarter,,,,,,,,,,,,,,\\r\\n412.0,,,,,,,,,,,,,,,,,1976 Q3,1976 Q3,,Quarter,,,,,,,,,,,,,,\\r\\n413.0,,,,,,,,,,,,,,,,,1976 Q4,1976 Q4,,Quarter,,,,,,,,,,,,,,\\r\\n365.0,,,,,,,,,,,,,,,,,1977 Q1,1977 Q1,,Quarter,,,,,,,,,,,,,,\\r\\n384.0,,,,,,,,,,,,,,,,,1977 Q2,1977 Q2,,Quarter,,,,,,,,,,,,,,\\r\\n415.0,,,,,,,,,,,,,,,,,1977 Q3,1977 Q3,,Quarter,,,,,,,,,,,,,,\\r\\n395.0,,,,,,,,,,,,,,,,,1977 Q4,1977 Q4,,Quarter,,,,,,,,,,,,,,\\r\\n365.0,,,,,,,,,,,,,,,,,1978 Q1,1978 Q1,,Quarter,,,,,,,,,,,,,,\\r\\n396.0,,,,,,,,,,,,,,,,,1978 Q2,1978 Q2,,Quarter,,,,,,,,,,,,,,\\r\\n416.0,,,,,,,,,,,,,,,,,1978 Q3,1978 Q3,,Quarter,,,,,,,,,,,,,,\\r\\n391.0,,,,,,,,,,,,,,,,,1978 Q4,1978 Q4,,Quarter,,,,,,,,,,,,,,\\r\\n335.0,,,,,,,,,,,,,,,,,1979 Q1,1979 Q1,,Quarter,,,,,,,,,,,,,,\\r\\n383.0,,,,,,,,,,,,,,,,,1979 Q2,1979 Q2,,Quarter,,,,,,,,,,,,,,\\r\\n405.0,,,,,,,,,,,,,,,,,1979 Q3,1979 Q3,,Quarter,,,,,,,,,,,,,,\\r\\n411.0,,,,,,,,,,,,,,,,,1979 Q4,1979 Q4,,Quarter,,,,,,,,,,,,,,\\r\\n384.0,,,,,,,,,,,,,,,,,1980 Q1,1980 Q1,,Quarter,,,,,,,,,,,,,,\\r\\n375.0,,,,,,,,,,,,,,,,,1980 Q2,1980 Q2,,Quarter,,,,,,,,,,,,,,\\r\\n384.0,,,,,,,,,,,,,,,,,1980 Q3,1980 Q3,,Quarter,,,,,,,,,,,,,,\\r\\n343.0,,,,,,,,,,,,,,,,,1980 Q4,1980 Q4,,Quarter,,,,,,,,,,,,,,\\r\\n300.0,,,,,,,,,,,,,,,,,1981 Q1,1981 Q1,,Quarter,,,,,,,,,,,,,,\\r\\n275.0,,,,,,,,,,,,,,,,,1981 Q2,1981 Q2,,Quarter,,,,,,,,,,,,,,\\r\\n259.0,,,,,,,,,,,,,,,,,1981 Q3,1981 Q3,,Quarter,,,,,,,,,,,,,,\\r\\n220.0,,,,,,,,,,,,,,,,,1981 Q4,1981 Q4,,Quarter,,,,,,,,,,,,,,\\r\\n217.0,,,,,,,,,,,,,,,,,1982 Q1,1982 Q1,,Quarter,,,,,,,,,,,,,,\\r\\n215.0,,,,,,,,,,,,,,,,,1982 Q2,1982 Q2,,Quarter,,,,,,,,,,,,,,\\r\\n222.0,,,,,,,,,,,,,,,,,1982 Q3,1982 Q3,,Quarter,,,,,,,,,,,,,,\\r\\n233.0,,,,,,,,,,,,,,,,,1982 Q4,1982 Q4,,Quarter,,,,,,,,,,,,,,\\r\\n240.0,,,,,,,,,,,,,,,,,1983 Q1,1983 Q1,,Quarter,,,,,,,,,,,,,,\\r\\n242.0,,,,,,,,,,,,,,,,,1983 Q2,1983 Q2,,Quarter,,,,,,,,,,,,,,\\r\\n258.0,,,,,,,,,,,,,,,,,1983 Q3,1983 Q3,,Quarter,,,,,,,,,,,,,,\\r\\n252.0,,,,,,,,,,,,,,,,,1983 Q4,1983 Q4,,Quarter,,,,,,,,,,,,,,\\r\\n247.0,,,,,,,,,,,,,,,,,1984 Q1,1984 Q1,,Quarter,,,,,,,,,,,,,,\\r\\n223.0,,,,,,,,,,,,,,,,,1984 Q2,1984 Q2,,Quarter,,,,,,,,,,,,,,\\r\\n225.0,,,,,,,,,,,,,,,,,1984 Q3,1984 Q3,,Quarter,,,,,,,,,,,,,,\\r\\n205.0,,,,,,,,,,,,,,,,,1984 Q4,1984 Q4,,Quarter,,,,,,,,,,,,,,\\r\\n180.0,,,,,,,,,,,,,,,,,1985 Q1,1985 Q1,,Quarter,,,,,,,,,,,,,,\\r\\n186.0,,,,,,,,,,,,,,,,,1985 Q2,1985 Q2,,Quarter,,,,,,,,,,,,,,\\r\\n189.0,,,,,,,,,,,,,,,,,1985 Q3,1985 Q3,,Quarter,,,,,,,,,,,,,,\\r\\n170.0,,,,,,,,,,,,,,,,,1985 Q4,1985 Q4,,Quarter,,,,,,,,,,,,,,\\r\\n155.0,,,,,,,,,,,,,,,,,1986 Q1,1986 Q1,,Quarter,,,,,,,,,,,,,,\\r\\n172.0,,,,,,,,,,,,,,,,,1986 Q2,1986 Q2,,Quarter,,,,,,,,,,,,,,\\r\\n163.0,,,,,,,,,,,,,,,,,1986 Q3,1986 Q3,,Quarter,,,,,,,,,,,,,,\\r\\n159.0,,,,,,,,,,,,,,,,,1986 Q4,1986 Q4,,Quarter,,,,,,,,,,,,,,\\r\\n161.0,,,,,,,,,,,,,,,,,1987 Q1,1987 Q1,,Quarter,,,,,,,,,,,,,,\\r\\n185.0,,,,,,,,,,,,,,,,,1987 Q2,1987 Q2,,Quarter,,,,,,,,,,,,,,\\r\\n190.0,,,,,,,,,,,,,,,,,1987 Q3,1987 Q3,,Quarter,,,,,,,,,,,,,,\\r\\n189.0,,,,,,,,,,,,,,,,,1987 Q4,1987 Q4,,Quarter,,,,,,,,,,,,,,\\r\\n180.0,,,,,,,,,,,,,,,,,1988 Q1,1988 Q1,,Quarter,,,,,,,,,,,,,,\\r\\n198.0,,,,,,,,,,,,,,,,,1988 Q2,1988 Q2,,Quarter,,,,,,,,,,,,,,\\r\\n184.0,,,,,,,,,,,,,,,,,1988 Q3,1988 Q3,,Quarter,,,,,,,,,,,,,,\\r\\n168.0,,,,,,,,,,,,,,,,,1988 Q4,1988 Q4,,Quarter,,,,,,,,,,,,,,\\r\\n189.0,,,,,,,,,,,,,,,,,1989 Q1,1989 Q1,,Quarter,,,,,,,,,,,,,,\\r\\n213.0,,,,,,,,,,,,,,,,,1989 Q2,1989 Q2,,Quarter,,,,,,,,,,,,,,\\r\\n185.0,,,,,,,,,,,,,,,,,1989 Q3,1989 Q3,,Quarter,,,,,,,,,,,,,,\\r\\n195.0,,,,,,,,,,,,,,,,,1989 Q4,1989 Q4,,Quarter,,,,,,,,,,,,,,\\r\\n209.0,,,,,,,,,,,,,,,,,1990 Q1,1990 Q1,,Quarter,,,,,,,,,,,,,,\\r\\n186.0,,,,,,,,,,,,,,,,,1990 Q2,1990 Q2,,Quarter,,,,,,,,,,,,,,\\r\\n189.0,,,,,,,,,,,,,,,,,1990 Q3,1990 Q3,,Quarter,,,,,,,,,,,,,,\\r\\n167.0,,,,,,,,,,,,,,,,,1990 Q4,1990 Q4,,Quarter,,,,,,,,,,,,,,\\r\\n165.0,,,,,,,,,,,,,,,,,1991 Q1,1991 Q1,,Quarter,,,,,,,,,,,,,,\\r\\n152.0,,,,,,,,,,,,,,,,,1991 Q2,1991 Q2,,Quarter,,,,,,,,,,,,,,\\r\\n158.0,,,,,,,,,,,,,,,,,1991 Q3,1991 Q3,,Quarter,,,,,,,,,,,,,,\\r\\n173.0,,,,,,,,,,,,,,,,,1991 Q4,1991 Q4,,Quarter,,,,,,,,,,,,,,\\r\\n212.0,,,,,,,,,,,,,,,,,1992 Q1,1992 Q1,,Quarter,,,,,,,,,,,,,,\\r\\n251.0,,,,,,,,,,,,,,,,,1992 Q2,1992 Q2,,Quarter,,,,,,,,,,,,,,\\r\\n283.0,,,,,,,,,,,,,,,,,1992 Q3,1992 Q3,,Quarter,,,,,,,,,,,,,,\\r\\n310.0,,,,,,,,,,,,,,,,,1992 Q4,1992 Q4,,Quarter,,,,,,,,,,,,,,\\r\\n287.0,,,,,,,,,,,,,,,,,1993 Q1,1993 Q1,,Quarter,,,,,,,,,,,,,,\\r\\n317.0,,,,,,,,,,,,,,,,,1993 Q2,1993 Q2,,Quarter,,,,,,,,,,,,,,\\r\\n313.0,,,,,,,,,,,,,,,,,1993 Q3,1993 Q3,,Quarter,,,,,,,,,,,,,,\\r\\n312.0,,,,,,,,,,,,,,,,,1993 Q4,1993 Q4,,Quarter,,,,,,,,,,,,,,\\r\\n361.0,,,,,,,,,,,,,,,,,1994 Q1,1994 Q1,,Quarter,,,,,,,,,,,,,,\\r\\n375.0,,,,,,,,,,,,,,,,,1994 Q2,1994 Q2,,Quarter,,,,,,,,,,,,,,\\r\\n390.0,,,,,,,,,,,,,,,,,1994 Q3,1994 Q3,,Quarter,,,,,,,,,,,,,,\\r\\n328.0,,,,,,,,,,,,,,,,,1994 Q4,1994 Q4,,Quarter,,,,,,,,,,,,,,\\r\\n345.0,,,,,,,,,,,,,,,,,1995 Q1,1995 Q1,,Quarter,,,,,,,,,,,,,,\\r\\n367.0,,,,,,,,,,,,,,,,,1995 Q2,1995 Q2,,Quarter,,,,,,,,,,,,,,\\r\\n381.0,,,,,,,,,,,,,,,,,1995 Q3,1995 Q3,,Quarter,,,,,,,,,,,,,,\\r\\n342.0,,,,,,,,,,,,,,,,,1995 Q4,1995 Q4,,Quarter,,,,,,,,,,,,,,\\r\\n301.0,,,,,,,,,,,,,,,,,1996 Q1,1996 Q1,,Quarter,,,,,,,,,,,,,,\\r\\n329.0,,,,,,,,,,,,,,,,,1996 Q2,1996 Q2,,Quarter,,,,,,,,,,,,,,\\r\\n297.0,,,,,,,,,,,,,,,,,1996 Q3,1996 Q3,,Quarter,,,,,,,,,,,,,,\\r\\n286.0,,,,,,,,,,,,,,,,,1996 Q4,1996 Q4,,Quarter,,,,,,,,,,,,,,\\r\\n244.0,,,,,,,,,,,,,,,,,1997 Q1,1997 Q1,,Quarter,,,,,,,,,,,,,,\\r\\n264.0,,,,,,,,,,,,,,,,,1997 Q2,1997 Q2,,Quarter,,,,,,,,,,,,,,\\r\\n292.0,,,,,,,,,,,,,,,,,1997 Q3,1997 Q3,,Quarter,,,,,,,,,,,,,,\\r\\n228.0,,,,,,,,,,,,,,,,,1997 Q4,1997 Q4,,Quarter,,,,,,,,,,,,,,\\r\\n238.0,,,,,,,,,,,,,,,,,1998 Q1,1998 Q1,,Quarter,,,,,,,,,,,,,,\\r\\n228.0,,,,,,,,,,,,,,,,,1998 Q2,1998 Q2,,Quarter,,,,,,,,,,,,,,\\r\\n218.0,,,,,,,,,,,,,,,,,1998 Q3,1998 Q3,,Quarter,,,,,,,,,,,,,,\\r\\n197.0,,,,,,,,,,,,,,,,,1998 Q4,1998 Q4,,Quarter,,,,,,,,,,,,,,\\r\\n199.0,,,,,,,,,,,,,,,,,1999 Q1,1999 Q1,,Quarter,,,,,,,,,,,,,,\\r\\n190.0,,,,,,,,,,,,,,,,,1999 Q2,1999 Q2,,Quarter,,,,,,,,,,,,,,\\r\\n214.0,,,,,,,,,,,,,,,,,1999 Q3,1999 Q3,,Quarter,,,,,,,,,,,,,,\\r\\n221.0,,,,,,,,,,,,,,,,,1999 Q4,1999 Q4,,Quarter,,,,,,,,,,,,,,\\r\\n254.0,,,,,,,,,,,,,,,,,2000 Q1,2000 Q1,,Quarter,,,,,,,,,,,,,,\\r\\n270.0,,,,,,,,,,,,,,,,,2000 Q2,2000 Q2,,Quarter,,,,,,,,,,,,,,\\r\\n273.0,,,,,,,,,,,,,,,,,2000 Q3,2000 Q3,,Quarter,,,,,,,,,,,,,,\\r\\n278.0,,,,,,,,,,,,,,,,,2000 Q4,2000 Q4,,Quarter,,,,,,,,,,,,,,\\r\\n246.0,,,,,,,,,,,,,,,,,2001 Q1,2001 Q1,,Quarter,,,,,,,,,,,,,,\\r\\n318.0,,,,,,,,,,,,,,,,,2001 Q2,2001 Q2,,Quarter,,,,,,,,,,,,,,\\r\\n300.0,,,,,,,,,,,,,,,,,2001 Q3,2001 Q3,,Quarter,,,,,,,,,,,,,,\\r\\n310.0,,,,,,,,,,,,,,,,,2001 Q4,2001 Q4,,Quarter,,,,,,,,,,,,,,\\r\\n347.0,,,,,,,,,,,,,,,,,2002 Q1,2002 Q1,,Quarter,,,,,,,,,,,,,,\\r\\n362.0,,,,,,,,,,,,,,,,,2002 Q2,2002 Q2,,Quarter,,,,,,,,,,,,,,\\r\\n361.0,,,,,,,,,,,,,,,,,2002 Q3,2002 Q3,,Quarter,,,,,,,,,,,,,,\\r\\n341.0,,,,,,,,,,,,,,,,,2002 Q4,2002 Q4,,Quarter,,,,,,,,,,,,,,\\r\\n393.0,,,,,,,,,,,,,,,,,2003 Q1,2003 Q1,,Quarter,,,,,,,,,,,,,,\\r\\n428.0,,,,,,,,,,,,,,,,,2003 Q2,2003 Q2,,Quarter,,,,,,,,,,,,,,\\r\\n437.0,,,,,,,,,,,,,,,,,2003 Q3,2003 Q3,,Quarter,,,,,,,,,,,,,,\\r\\n448.0,,,,,,,,,,,,,,,,,2003 Q4,2003 Q4,,Quarter,,,,,,,,,,,,,,\\r\\n551.0,,,,,,,,,,,,,,,,,2004 Q1,2004 Q1,,Quarter,,,,,,,,,,,,,,\\r\\n582.0,,,,,,,,,,,,,,,,,2004 Q2,2004 Q2,,Quarter,,,,,,,,,,,,,,\\r\\n556.0,,,,,,,,,,,,,,,,,2004 Q3,2004 Q3,,Quarter,,,,,,,,,,,,,,\\r\\n521.0,,,,,,,,,,,,,,,,,2004 Q4,2004 Q4,,Quarter,,,,,,,,,,,,,,\\r\\n567.0,,,,,,,,,,,,,,,,,2005 Q1,2005 Q1,,Quarter,,,,,,,,,,,,,,\\r\\n568.0,,,,,,,,,,,,,,,,,2005 Q2,2005 Q2,,Quarter,,,,,,,,,,,,,,\\r\\n539.0,,,,,,,,,,,,,,,,,2005 Q3,2005 Q3,,Quarter,,,,,,,,,,,,,,\\r\\n577.0,,,,,,,,,,,,,,,,,2005 Q4,2005 Q4,,Quarter,,,,,,,,,,,,,,\\r\\n683.0,,,,,,,,,,,,,,,,,2006 Q1,2006 Q1,,Quarter,,,,,,,,,,,,,,\\r\\n723.0,,,,,,,,,,,,,,,,,2006 Q2,2006 Q2,,Quarter,,,,,,,,,,,,,,\\r\\n731.0,,,,,,,,,,,,,,,,,2006 Q3,2006 Q3,,Quarter,,,,,,,,,,,,,,\\r\\n716.0,,,,,,,,,,,,,,,,,2006 Q4,2006 Q4,,Quarter,,,,,,,,,,,,,,\\r\\n876.0,,,,,,,,,,,,,,,,,2007 Q1,2007 Q1,,Quarter,,,,,,,,,,,,,,\\r\\n901.0,,,,,,,,,,,,,,,,,2007 Q2,2007 Q2,,Quarter,,,,,,,,,,,,,,\\r\\n872.0,,,,,,,,,,,,,,,,,2007 Q3,2007 Q3,,Quarter,,,,,,,,,,,,,,\\r\\n831.0,,,,,,,,,,,,,,,,,2007 Q4,2007 Q4,,Quarter,,,,,,,,,,,,,,\\r\\n866.0,,,,,,,,,,,,,,,,,2008 Q1,2008 Q1,,Quarter,,,,,,,,,,,,,,\\r\\n860.0,,,,,,,,,,,,,,,,,2008 Q2,2008 Q2,,Quarter,,,,,,,,,,,,,,\\r\\n834.0,,,,,,,,,,,,,,,,,2008 Q3,2008 Q3,,Quarter,,,,,,,,,,,,,,\\r\\n739.0,,,,,,,,,,,,,,,,,2008 Q4,2008 Q4,,Quarter,,,,,,,,,,,,,,\\r\\n734.0,,,,,,,,,,,,,,,,,2009 Q1,2009 Q1,,Quarter,,,,,,,,,,,,,,\\r\\n763.0,,,,,,,,,,,,,,,,,2009 Q2,2009 Q2,,Quarter,,,,,,,,,,,,,,\\r\\n874.0,,,,,,,,,,,,,,,,,2009 Q3,2009 Q3,,Quarter,,,,,,,,,,,,,,\\r\\n956.0,,,,,,,,,,,,,,,,,2009 Q4,2009 Q4,,Quarter,,,,,,,,,,,,,,\\r\\n1072.0,,,,,,,,,,,,,,,,,2010 Q1,2010 Q1,,Quarter,,,,,,,,,,,,,,\\r\\n1230.0,,,,,,,,,,,,,,,,,2010 Q2,2010 Q2,,Quarter,,,,,,,,,,,,,,\\r\\n1311.0,,,,,,,,,,,,,,,,,2010 Q3,2010 Q3,,Quarter,,,,,,,,,,,,,,\\r\\n1279.0,,,,,,,,,,,,,,,,,2010 Q4,2010 Q4,,Quarter,,,,,,,,,,,,,,\\r\\n1241.0,,,,,,,,,,,,,,,,,2011 Q1,2011 Q1,,Quarter,,,,,,,,,,,,,,\\r\\n1305.0,,,,,,,,,,,,,,,,,2011 Q2,2011 Q2,,Quarter,,,,,,,,,,,,,,\\r\\n1212.0,,,,,,,,,,,,,,,,,2011 Q3,2011 Q3,,Quarter,,,,,,,,,,,,,,\\r\\n1160.0,,,,,,,,,,,,,,,,,2011 Q4,2011 Q4,,Quarter,,,,,,,,,,,,,,\\r\\n1022.0,,,,,,,,,,,,,,,,,2012 Q1,2012 Q1,,Quarter,,,,,,,,,,,,,,\\r\\n1018.0,,,,,,,,,,,,,,,,,2012 Q2,2012 Q2,,Quarter,,,,,,,,,,,,,,\\r\\n1010.0,,,,,,,,,,,,,,,,,2012 Q3,2012 Q3,,Quarter,,,,,,,,,,,,,,\\r\\n997.0,,,,,,,,,,,,,,,,,2012 Q4,2012 Q4,,Quarter,,,,,,,,,,,,,,\\r\\n904.0,,,,,,,,,,,,,,,,,2013 Q1,2013 Q1,,Quarter,,,,,,,,,,,,,,\\r\\n1089.0,,,,,,,,,,,,,,,,,2013 Q2,2013 Q2,,Quarter,,,,,,,,,,,,,,\\r\\n1109.0,,,,,,,,,,,,,,,,,2013 Q3,2013 Q3,,Quarter,,,,,,,,,,,,,,\\r\\n1242.0,,,,,,,,,,,,,,,,,2013 Q4,2013 Q4,,Quarter,,,,,,,,,,,,,,\\r\\n1280.0,,,,,,,,,,,,,,,,,2014 Q1,2014 Q1,,Quarter,,,,,,,,,,,,,,\\r\\n1487.0,,,,,,,,,,,,,,,,,2014 Q2,2014 Q2,,Quarter,,,,,,,,,,,,,,\\r\\n1535.0,,,,,,,,,,,,,,,,,2014 Q3,2014 Q3,,Quarter,,,,,,,,,,,,,,\\r\\n1480.0,,,,,,,,,,,,,,,,,2014 Q4,2014 Q4,,Quarter,,,,,,,,,,,,,,\\r\\n1313.0,,,,,,,,,,,,,,,,,2015 Q1,2015 Q1,,Quarter,,,,,,,,,,,,,,\\r\\n1359.0,,,,,,,,,,,,,,,,,2015 Q2,2015 Q2,,Quarter,,,,,,,,,,,,,,\\r\\n1118.0,,,,,,,,,,,,,,,,,2015 Q3,2015 Q3,,Quarter,,,,,,,,,,,,,,\\r\\n1102.0,,,,,,,,,,,,,,,,,2015 Q4,2015 Q4,,Quarter,,,,,,,,,,,,,,\\r\\n1066.0,,,,,,,,,,,,,,,,,2016 Q1,2016 Q1,,Quarter,,,,,,,,,,,,,,\\r\\n1152.0,,,,,,,,,,,,,,,,,2016 Q2,2016 Q2,,Quarter,,,,,,,,,,,,,,\\r\\n1113.0,,,,,,,,,,,,,,,,,2016 Q3,2016 Q3,,Quarter,,,,,,,,,,,,,,\\r\\n275.0,,,,,,,,,,,,,,,,,Jan 2010,Jan 2010,,Month,,,,,,,,,,,,,,\\r\\n385.0,,,,,,,,,,,,,,,,,Feb 2010,Feb 2010,,Month,,,,,,,,,,,,,,\\r\\n411.0,,,,,,,,,,,,,,,,,Mar 2010,Mar 2010,,Month,,,,,,,,,,,,,,\\r\\n394.0,,,,,,,,,,,,,,,,,Apr 2010,Apr 2010,,Month,,,,,,,,,,,,,,\\r\\n412.0,,,,,,,,,,,,,,,,,May 2010,May 2010,,Month,,,,,,,,,,,,,,\\r\\n424.0,,,,,,,,,,,,,,,,,Jun 2010,Jun 2010,,Month,,,,,,,,,,,,,,\\r\\n426.0,,,,,,,,,,,,,,,,,Jul 2010,Jul 2010,,Month,,,,,,,,,,,,,,\\r\\n446.0,,,,,,,,,,,,,,,,,Aug 2010,Aug 2010,,Month,,,,,,,,,,,,,,\\r\\n439.0,,,,,,,,,,,,,,,,,Sep 2010,Sep 2010,,Month,,,,,,,,,,,,,,\\r\\n448.0,,,,,,,,,,,,,,,,,Oct 2010,Oct 2010,,Month,,,,,,,,,,,,,,\\r\\n450.0,,,,,,,,,,,,,,,,,Nov 2010,Nov 2010,,Month,,,,,,,,,,,,,,\\r\\n381.0,,,,,,,,,,,,,,,,,Dec 2010,Dec 2010,,Month,,,,,,,,,,,,,,\\r\\n371.0,,,,,,,,,,,,,,,,,Jan 2011,Jan 2011,,Month,,,,,,,,,,,,,,\\r\\n404.0,,,,,,,,,,,,,,,,,Feb 2011,Feb 2011,,Month,,,,,,,,,,,,,,\\r\\n468.0,,,,,,,,,,,,,,,,,Mar 2011,Mar 2011,,Month,,,,,,,,,,,,,,\\r\\n416.0,,,,,,,,,,,,,,,,,Apr 2011,Apr 2011,,Month,,,,,,,,,,,,,,\\r\\n435.0,,,,,,,,,,,,,,,,,May 2011,May 2011,,Month,,,,,,,,,,,,,,\\r\\n455.0,,,,,,,,,,,,,,,,,Jun 2011,Jun 2011,,Month,,,,,,,,,,,,,,\\r\\n384.0,,,,,,,,,,,,,,,,,Jul 2011,Jul 2011,,Month,,,,,,,,,,,,,,\\r\\n395.0,,,,,,,,,,,,,,,,,Aug 2011,Aug 2011,,Month,,,,,,,,,,,,,,\\r\\n435.0,,,,,,,,,,,,,,,,,Sep 2011,Sep 2011,,Month,,,,,,,,,,,,,,\\r\\n401.0,,,,,,,,,,,,,,,,,Oct 2011,Oct 2011,,Month,,,,,,,,,,,,,,\\r\\n410.0,,,,,,,,,,,,,,,,,Nov 2011,Nov 2011,,Month,,,,,,,,,,,,,,\\r\\n351.0,,,,,,,,,,,,,,,,,Dec 2011,Dec 2011,,Month,,,,,,,,,,,,,,\\r\\n338.0,,,,,,,,,,,,,,,,,Jan 2012,Jan 2012,,Month,,,,,,,,,,,,,,\\r\\n326.0,,,,,,,,,,,,,,,,,Feb 2012,Feb 2012,,Month,,,,,,,,,,,,,,\\r\\n358.0,,,,,,,,,,,,,,,,,Mar 2012,Mar 2012,,Month,,,,,,,,,,,,,,\\r\\n344.0,,,,,,,,,,,,,,,,,Apr 2012,Apr 2012,,Month,,,,,,,,,,,,,,\\r\\n329.0,,,,,,,,,,,,,,,,,May 2012,May 2012,,Month,,,,,,,,,,,,,,\\r\\n345.0,,,,,,,,,,,,,,,,,Jun 2012,Jun 2012,,Month,,,,,,,,,,,,,,\\r\\n344.0,,,,,,,,,,,,,,,,,Jul 2012,Jul 2012,,Month,,,,,,,,,,,,,,\\r\\n328.0,,,,,,,,,,,,,,,,,Aug 2012,Aug 2012,,Month,,,,,,,,,,,,,,\\r\\n338.0,,,,,,,,,,,,,,,,,Sep 2012,Sep 2012,,Month,,,,,,,,,,,,,,\\r\\n338.0,,,,,,,,,,,,,,,,,Oct 2012,Oct 2012,,Month,,,,,,,,,,,,,,\\r\\n339.0,,,,,,,,,,,,,,,,,Nov 2012,Nov 2012,,Month,,,,,,,,,,,,,,\\r\\n320.0,,,,,,,,,,,,,,,,,Dec 2012,Dec 2012,,Month,,,,,,,,,,,,,,\\r\\n258.0,,,,,,,,,,,,,,,,,Jan 2013,Jan 2013,,Month,,,,,,,,,,,,,,\\r\\n301.0,,,,,,,,,,,,,,,,,Feb 2013,Feb 2013,,Month,,,,,,,,,,,,,,\\r\\n345.0,,,,,,,,,,,,,,,,,Mar 2013,Mar 2013,,Month,,,,,,,,,,,,,,\\r\\n332.0,,,,,,,,,,,,,,,,,Apr 2013,Apr 2013,,Month,,,,,,,,,,,,,,\\r\\n352.0,,,,,,,,,,,,,,,,,May 2013,May 2013,,Month,,,,,,,,,,,,,,\\r\\n405.0,,,,,,,,,,,,,,,,,Jun 2013,Jun 2013,,Month,,,,,,,,,,,,,,\\r\\n360.0,,,,,,,,,,,,,,,,,Jul 2013,Jul 2013,,Month,,,,,,,,,,,,,,\\r\\n367.0,,,,,,,,,,,,,,,,,Aug 2013,Aug 2013,,Month,,,,,,,,,,,,,,\\r\\n382.0,,,,,,,,,,,,,,,,,Sep 2013,Sep 2013,,Month,,,,,,,,,,,,,,\\r\\n424.0,,,,,,,,,,,,,,,,,Oct 2013,Oct 2013,,Month,,,,,,,,,,,,,,\\r\\n427.0,,,,,,,,,,,,,,,,,Nov 2013,Nov 2013,,Month,,,,,,,,,,,,,,\\r\\n391.0,,,,,,,,,,,,,,,,,Dec 2013,Dec 2013,,Month,,,,,,,,,,,,,,\\r\\n372.0,,,,,,,,,,,,,,,,,Jan 2014,Jan 2014,,Month,,,,,,,,,,,,,,\\r\\n422.0,,,,,,,,,,,,,,,,,Feb 2014,Feb 2014,,Month,,,,,,,,,,,,,,\\r\\n487.0,,,,,,,,,,,,,,,,,Mar 2014,Mar 2014,,Month,,,,,,,,,,,,,,\\r\\n435.0,,,,,,,,,,,,,,,,,Apr 2014,Apr 2014,,Month,,,,,,,,,,,,,,\\r\\n497.0,,,,,,,,,,,,,,,,,May 2014,May 2014,,Month,,,,,,,,,,,,,,\\r\\n556.0,,,,,,,,,,,,,,,,,Jun 2014,Jun 2014,,Month,,,,,,,,,,,,,,\\r\\n499.0,,,,,,,,,,,,,,,,,Jul 2014,Jul 2014,,Month,,,,,,,,,,,,,,\\r\\n516.0,,,,,,,,,,,,,,,,,Aug 2014,Aug 2014,,Month,,,,,,,,,,,,,,\\r\\n522.0,,,,,,,,,,,,,,,,,Sep 2014,Sep 2014,,Month,,,,,,,,,,,,,,\\r\\n513.0,,,,,,,,,,,,,,,,,Oct 2014,Oct 2014,,Month,,,,,,,,,,,,,,\\r\\n495.0,,,,,,,,,,,,,,,,,Nov 2014,Nov 2014,,Month,,,,,,,,,,,,,,\\r\\n474.0,,,,,,,,,,,,,,,,,Dec 2014,Dec 2014,,Month,,,,,,,,,,,,,,\\r\\n392.0,,,,,,,,,,,,,,,,,Jan 2015,Jan 2015,,Month,,,,,,,,,,,,,,\\r\\n438.0,,,,,,,,,,,,,,,,,Feb 2015,Feb 2015,,Month,,,,,,,,,,,,,,\\r\\n483.0,,,,,,,,,,,,,,,,,Mar 2015,Mar 2015,,Month,,,,,,,,,,,,,,\\r\\n465.0,,,,,,,,,,,,,,,,,Apr 2015,Apr 2015,,Month,,,,,,,,,,,,,,\\r\\n425.0,,,,,,,,,,,,,,,,,May 2015,May 2015,,Month,,,,,,,,,,,,,,\\r\\n468.0,,,,,,,,,,,,,,,,,Jun 2015,Jun 2015,,Month,,,,,,,,,,,,,,\\r\\n389.0,,,,,,,,,,,,,,,,,Jul 2015,Jul 2015,,Month,,,,,,,,,,,,,,\\r\\n351.0,,,,,,,,,,,,,,,,,Aug 2015,Aug 2015,,Month,,,,,,,,,,,,,,\\r\\n378.0,,,,,,,,,,,,,,,,,Sep 2015,Sep 2015,,Month,,,,,,,,,,,,,,\\r\\n374.0,,,,,,,,,,,,,,,,,Oct 2015,Oct 2015,,Month,,,,,,,,,,,,,,\\r\\n365.0,,,,,,,,,,,,,,,,,Nov 2015,Nov 2015,,Month,,,,,,,,,,,,,,\\r\\n363.0,,,,,,,,,,,,,,,,,Dec 2015,Dec 2015,,Month,,,,,,,,,,,,,,\\r\\n322.0,,,,,,,,,,,,,,,,,Jan 2016,Jan 2016,,Month,,,,,,,,,,,,,,\\r\\n331.0,,,,,,,,,,,,,,,,,Feb 2016,Feb 2016,,Month,,,,,,,,,,,,,,\\r\\n413.0,,,,,,,,,,,,,,,,,Mar 2016,Mar 2016,,Month,,,,,,,,,,,,,,\\r\\n348.0,,,,,,,,,,,,,,,,,Apr 2016,Apr 2016,,Month,,,,,,,,,,,,,,\\r\\n375.0,,,,,,,,,,,,,,,,,May 2016,May 2016,,Month,,,,,,,,,,,,,,\\r\\n430.0,,,,,,,,,,,,,,,,,Jun 2016,Jun 2016,,Month,,,,,,,,,,,,,,\\r\\n370.0,,,,,,,,,,,,,,,,,Jul 2016,Jul 2016,,Month,,,,,,,,,,,,,,\\r\\n351.0,,,,,,,,,,,,,,,,,Aug 2016,Aug 2016,,Month,,,,,,,,,,,,,,\\r\\n392.0,,,,,,,,,,,,,,,,,Sep 2016,Sep 2016,,Month,,,,,,,,,,,,,,\\r\\n*********,389\\r\\n'"
      ]
     },
     "execution_count": 9,
     "metadata": {},
     "output_type": "execute_result"
    }
   ],
   "source": [
    "# But we get some datematching that doesn't work out, \n",
    "# We could either fix up the datematch code in the base library, or hack in this \n",
    "# lookup table to get the month in front of the year when it's there\n",
    "\n",
    "# this creates the concatenation of the year and subyear\n",
    "cvodate = { }\n",
    "for sy in lsubyear:\n",
    "    h, v = hdt.cellvalobs(sy)\n",
    "    if v:\n",
    "        y = str(int(v))\n",
    "        if sy.value:\n",
    "            if sy.value[0] == \"Q\":\n",
    "                cvodate[sy] = (y+sy.value.strip()) \n",
    "            else:\n",
    "                cvodate[sy] = (sy.value.strip()+\" \"+y) \n",
    "        else:\n",
    "            cvodate[sy] = y\n",
    "\n",
    "hdd = HDim(subyear, TIME, DIRECTLY, LEFT, cellvalueoverride=cvodate)\n",
    "cs2 = ConversionSegment(tab, [hdd], obs)\n",
    "writetechnicalCSV(None, cs2)\n",
    "\n",
    "# and this comes out quite nicely\n"
   ]
  },
  {
   "cell_type": "code",
   "execution_count": null,
   "metadata": {
    "collapsed": true
   },
   "outputs": [],
   "source": []
  },
  {
   "cell_type": "code",
   "execution_count": null,
   "metadata": {
    "collapsed": true
   },
   "outputs": [],
   "source": []
  }
 ],
 "metadata": {
  "kernelspec": {
   "display_name": "Python 3",
   "language": "python",
   "name": "python3"
  },
  "language_info": {
   "codemirror_mode": {
    "name": "ipython",
    "version": 3
   },
   "file_extension": ".py",
   "mimetype": "text/x-python",
   "name": "python",
   "nbconvert_exporter": "python",
   "pygments_lexer": "ipython3",
   "version": "3.5.2"
  }
 },
 "nbformat": 4,
 "nbformat_minor": 1
}
