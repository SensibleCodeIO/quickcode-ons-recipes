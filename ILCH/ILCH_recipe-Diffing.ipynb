{
 "cells": [
  {
   "cell_type": "code",
   "execution_count": 1,
   "metadata": {
    "collapsed": false
   },
   "outputs": [],
   "source": [
    "from databaker.framework import *"
   ]
  },
  {
   "cell_type": "code",
   "execution_count": 33,
   "metadata": {
    "collapsed": true
   },
   "outputs": [],
   "source": [
    "# There needs to be a lot of thought put into the convensions on how \n",
    "# files are handled, named, and tracked so we know what the previous \n",
    "# file is supposed to be\n",
    "\n",
    "# Here we just do the process against two versions of the same file\n",
    "inputfile1 = \"ilchtablestemplatesa2016-06-17.xls\"\n",
    "inputfile2 = \"ilchtablestemplatesa.xls\"\n"
   ]
  },
  {
   "cell_type": "code",
   "execution_count": 34,
   "metadata": {
    "collapsed": true
   },
   "outputs": [],
   "source": [
    "# Shared functions\n",
    "\n",
    "# Get the growth period\n",
    "def get_growthPeriod(tab):\n",
    "    tab_title = tab.excel_ref('A1')\n",
    "    \n",
    "    if tab_title.filter(contains_string(\"year on year\")):\n",
    "        gp = \"Annual\"\n",
    "    elif tab_title.filter(contains_string(\"quarter on quarter\")):\n",
    "        gp = \"Quarterly\"\n",
    "    elif tab_title.filter(contains_string(\"growth rates\")):\n",
    "        gp = \"Annual\"\n",
    "    return gp\n",
    "\n",
    "\n",
    "# Get the measure type\n",
    "def get_measureType(tab):\n",
    "    tab_title = tab.excel_ref('A1')\n",
    "                       \n",
    "    if tab_title.filter(contains_string(\"year on year\")):\n",
    "        mt = \"Percent\"\n",
    "    elif tab_title.filter(contains_string(\"quarter on quarter\")):\n",
    "        mt = \"Percent\"\n",
    "    elif tab_title.filter(contains_string(\"growth rates\")):\n",
    "        mt = \"Percent\"\n",
    "    else:\n",
    "        mt = \"Index\"\n",
    "    return mt\n",
    "\n"
   ]
  },
  {
   "cell_type": "code",
   "execution_count": 35,
   "metadata": {
    "collapsed": false
   },
   "outputs": [],
   "source": [
    "\n",
    "# !!! You should pass parameters in (like tabs_growth), rather than relying on \n",
    "# global values to work it out for you\n",
    "\n",
    "def growth_recipe(saOrNsa, tabs_growth):\n",
    "    \n",
    "    conversionsegments = []\n",
    "\n",
    "    for tab in tabs_growth:\n",
    "\n",
    "        # Set anchor one to the left of cell with \"Agriculture\" \n",
    "        anchor = tab.filter(contains_string(\"eriod\")).assert_one()\n",
    "\n",
    "        # set up a waffle\n",
    "        datarows = anchor.fill(DOWN).is_not_blank()\n",
    "        datacols = anchor.shift(DOWN).fill(RIGHT).is_not_blank()\n",
    "        obs = datarows.waffle(datacols).is_not_blank()\n",
    "\n",
    "        # set the growth period & measuretype\n",
    "        gp = get_growthPeriod(tab)\n",
    "        mt = get_measureType(tab)\n",
    "\n",
    "        dimensions = [\n",
    "                HDimConst(MEASURETYPE, mt),\n",
    "                HDim(datarows, TIME, DIRECTLY, LEFT),\n",
    "                HDim(datacols.parent(), \"Costs\", DIRECTLY, ABOVE),\n",
    "                HDim(anchor.fill(RIGHT).parent(), \"SIC\", CLOSEST, LEFT),\n",
    "                HDimConst(\"Growth Period\", gp),\n",
    "                HDimConst(\"SA / NSA\", saOrNsa)\n",
    "                     ]\n",
    "\n",
    "        # TIME has wierd data markings, get them out\n",
    "        time = dimensions[1]\n",
    "        assert time.name == 'TIME', \"Time needs to be dimension 0\"\n",
    "        for val in time.hbagset:\n",
    "            if '(r)' in val.value or ('p') in val.value:\n",
    "                time.cellvalueoverride[val.value] = val.value[:6]\n",
    "\n",
    "        conversionsegment = ConversionSegment(tab, dimensions, obs)\n",
    "        conversionsegments.append(conversionsegment)\n",
    "    \n",
    "    return conversionsegments\n"
   ]
  },
  {
   "cell_type": "code",
   "execution_count": 36,
   "metadata": {
    "collapsed": false
   },
   "outputs": [
    {
     "data": {
      "text/plain": [
       "['INTRODUCTION',\n",
       " 'DEFINITIONS',\n",
       " '1. Industry level SA',\n",
       " '2. Sector level SA',\n",
       " '3. Industry annual growth SA',\n",
       " '4. Sector annual growth SA',\n",
       " '5. Industry quarterly growth SA',\n",
       " '6. Sector quarterly growth SA']"
      ]
     },
     "execution_count": 36,
     "metadata": {},
     "output_type": "execute_result"
    }
   ],
   "source": [
    "[t.name for t in tabs1]"
   ]
  },
  {
   "cell_type": "code",
   "execution_count": 37,
   "metadata": {
    "collapsed": false
   },
   "outputs": [
    {
     "name": "stdout",
     "output_type": "stream",
     "text": [
      "Loading ilchtablestemplatesa2016-06-17.xls which has size 399360 bytes\n",
      "Table names: ['INTRODUCTION', 'DEFINITIONS', '1. Industry level SA', '2. Sector level SA', '3. Industry annual growth SA', '4. Sector annual growth SA', '5. Industry quarterly growth SA', '6. Sector quarterly growth SA']\n",
      "Loading ilchtablestemplatesa.xls which has size 407552 bytes\n",
      "Table names: ['INTRODUCTION', 'DEFINITIONS', '1. Industry level SA', '2. Sector level SA', '3. Industry annual growth SA', '4. Sector annual growth SA', '5. Industry quarterly growth SA', '6. Sector quarterly growth SA']\n"
     ]
    }
   ],
   "source": [
    "# Here we write the two files into the two different filenames \n",
    "# (note use of os.path.splitext)\n",
    "\n",
    "# The ConversionSegments lists are separated out rather than \n",
    "# passed straight into the writetechnicalCSV function so we can \n",
    "# refer to them later on.\n",
    "\n",
    "# Perhaps we will need a new class representing a file, which will manage \n",
    "# the list of ConversionSegments, filename, previous filename \n",
    "# and the error comparisons\n",
    "\n",
    "tabs1 = loadxlstabs(inputfile1)\n",
    "tabs_growth1 = [x for x in tabs1 if 'growth' in x.name]\n",
    "assert len(tabs_growth1) == 4, \"We expect the NSA file to have 2 tabs with the word 'growth' in them\"\n",
    "\n",
    "tabs2 = loadxlstabs(inputfile2)\n",
    "tabs_growth2 = [x for x in tabs2 if 'growth' in x.name]\n",
    "assert len(tabs_growth2) == 4, \"We expect the NSA file to have 2 tabs with the word 'growth' in them\"\n",
    "\n",
    "outputfile1 = 'Output-NSA-growth-' + os.path.splitext(inputfile1)[0] + '.csv'\n",
    "outputfile2 = 'Output-NSA-growth-' + os.path.splitext(inputfile2)[0] + '.csv'\n",
    "\n",
    "growthsegments1 = growth_recipe(\"Not seasonally adjusted\", tabs_growth1)\n",
    "growthsegments2 = growth_recipe(\"Not seasonally adjusted\", tabs_growth2)\n",
    "\n",
    "#writetechnicalCSV(outputfile1, growthsegments1)\n",
    "#writetechnicalCSV(outputfile2, growthsegments2)\n"
   ]
  },
  {
   "cell_type": "code",
   "execution_count": 38,
   "metadata": {
    "collapsed": false
   },
   "outputs": [
    {
     "name": "stdout",
     "output_type": "stream",
     "text": [
      "segment 0 completed with 5760 rows\n",
      "segment 1 completed with 2160 rows\n",
      "segment 2 completed with 6048 rows\n",
      "segment 3 completed with 2268 rows\n",
      "conversionwrite segment size 5952 table '3. Industry annual growth SA; TIMEUNIT='Quarter'\n",
      "conversionwrite segment size 2232 table '4. Sector annual growth SA; TIMEUNIT='Quarter'\n",
      "conversionwrite segment size 6240 table '5. Industry quarterly growth SA; TIMEUNIT='Quarter'\n",
      "conversionwrite segment size 2340 table '6. Sector quarterly growth SA; TIMEUNIT='Quarter'\n"
     ]
    },
    {
     "data": {
      "text/plain": [
       "[(0, ['NEWVALUESINSEGMENT', 'WDAEXTRAVALUES']),\n",
       " (1, ['NEWVALUESINSEGMENT', 'WDAEXTRAVALUES']),\n",
       " (2, ['NEWVALUESINSEGMENT', 'WDAEXTRAVALUES']),\n",
       " (3, ['NEWVALUESINSEGMENT', 'WDAEXTRAVALUES'])]"
      ]
     },
     "execution_count": 38,
     "metadata": {},
     "output_type": "execute_result"
    }
   ],
   "source": [
    "# Compare the new ConversionSegments against the outputfile from the previous conversionsegments\n",
    "msglistperseg = CompareConversionSegments(growthsegments2, outputfile1, bprintwarnings=False)\n",
    "\n",
    "print(\"This gives the type of differences we're getting\")\n",
    "[ (iseg, [msg[0] for msg in msglist])  for iseg, msglist in msglistperseg.items() ]\n",
    "\n"
   ]
  },
  {
   "cell_type": "code",
   "execution_count": 45,
   "metadata": {
    "collapsed": false
   },
   "outputs": [],
   "source": [
    "# If you print the contents of msglistperseg, it's way too much, \n",
    "# so I'm going to break down the CompareConversionSegments function a bit \n",
    "\n",
    "# msglistperseg"
   ]
  },
  {
   "cell_type": "code",
   "execution_count": 19,
   "metadata": {
    "collapsed": false
   },
   "outputs": [
    {
     "name": "stdout",
     "output_type": "stream",
     "text": [
      "segment 0 completed with 5760 rows\n",
      "segment 1 completed with 2160 rows\n",
      "segment 2 completed with 6048 rows\n",
      "segment 3 completed with 2268 rows\n"
     ]
    }
   ],
   "source": [
    "# Let's start by reading the segments from the file\n",
    "wdasegs = readtechnicalCSV(outputfile1, True)"
   ]
  },
  {
   "cell_type": "code",
   "execution_count": 39,
   "metadata": {
    "collapsed": false
   },
   "outputs": [],
   "source": [
    "# Then we do the matching up for the first segment in the new output \n",
    "# to the first segment in the WDA file\n",
    "wdaseg = wdasegs[0]\n",
    "conversionsegment = growthsegments2[0]\n",
    "msglist = [ ]\n",
    "headers = extraheaderscheck(conversionsegment, wdaseg, msglist)\n",
    "headers = checktheconstantdimensions(conversionsegment, headers, wdaseg, msglist)\n",
    "oheaders = [OBS]+list(headers)\n",
    "ccounts = [tuple(row.get(h)  for h in oheaders)  for row in conversionsegment.processedrows]\n",
    "wcounts = [tuple(wrow.get(h)  for h in oheaders)  for wrow in wdaseg]\n"
   ]
  },
  {
   "cell_type": "code",
   "execution_count": 46,
   "metadata": {
    "collapsed": false
   },
   "outputs": [
    {
     "name": "stdout",
     "output_type": "stream",
     "text": [
      "New data size 5952 Old size 5760\n",
      "Records in new data not in old data 4489\n",
      "Records in old data not in old data 4297\n"
     ]
    }
   ],
   "source": [
    "# There is a considerable lack of overlapping\n",
    "print(\"New data size\", len(ccounts), \"Old size\", len(wcounts))  # new is bigger than old\n",
    "print(\"Records in new data not in old data\", len(set(ccounts).difference(wcounts)))\n",
    "print(\"Records in old data not in old data\", len(set(wcounts).difference(ccounts)))\n"
   ]
  },
  {
   "cell_type": "code",
   "execution_count": 48,
   "metadata": {
    "collapsed": false
   },
   "outputs": [
    {
     "name": "stdout",
     "output_type": "stream",
     "text": [
      "('16.9', 'ILCH_A\\nAgriculture, Forestry and Fishing', 'Labour Costs per Hour', '2001 Q1')\n",
      "('16.5', 'ILCH_A\\nAgriculture, Forestry and Fishing', 'Labour Costs per Hour', '2001 Q1')\n",
      "\n",
      "('17.7', 'ILCH_A\\nAgriculture, Forestry and Fishing', 'Wage Costs per Hour', '2001 Q1')\n",
      "('17.7', 'ILCH_A\\nAgriculture, Forestry and Fishing', 'Wage Costs per Hour', '2001 Q1')\n",
      "\n",
      "('9.7', 'ILCH_A\\nAgriculture, Forestry and Fishing', 'Other Costs per Hour', '2001 Q1')\n",
      "('9.4', 'ILCH_A\\nAgriculture, Forestry and Fishing', 'Other Costs per Hour', '2001 Q1')\n",
      "\n",
      "('16.4', 'ILCH_A\\nAgriculture, Forestry and Fishing', 'Labour Costs per Hour Excluding Bonuses and Arrears', '2001 Q1')\n",
      "('16.3', 'ILCH_A\\nAgriculture, Forestry and Fishing', 'Labour Costs per Hour Excluding Bonuses and Arrears', '2001 Q1')\n",
      "\n",
      "('19.7', 'ILCH_B\\nMining and Quarrying', 'Labour Costs per Hour', '2001 Q1')\n",
      "('19.7', 'ILCH_B\\nMining and Quarrying', 'Labour Costs per Hour', '2001 Q1')\n",
      "\n",
      "('18.2', 'ILCH_B\\nMining and Quarrying', 'Wage Costs per Hour', '2001 Q1')\n",
      "('18.2', 'ILCH_B\\nMining and Quarrying', 'Wage Costs per Hour', '2001 Q1')\n",
      "\n",
      "('31.3', 'ILCH_B\\nMining and Quarrying', 'Other Costs per Hour', '2001 Q1')\n",
      "('31.5', 'ILCH_B\\nMining and Quarrying', 'Other Costs per Hour', '2001 Q1')\n",
      "\n",
      "('15.3', 'ILCH_B\\nMining and Quarrying', 'Labour Costs per Hour Excluding Bonuses and Arrears', '2001 Q1')\n",
      "('15.3', 'ILCH_B\\nMining and Quarrying', 'Labour Costs per Hour Excluding Bonuses and Arrears', '2001 Q1')\n",
      "\n",
      "('11.0', 'ILCH_C1\\nManufacturing - Food Products, Beverages and Tobacco ', 'Labour Costs per Hour', '2001 Q1')\n",
      "('10.1', 'ILCH_C1\\nManufacturing - Food Products, Beverages and Tobacco ', 'Labour Costs per Hour', '2001 Q1')\n",
      "\n",
      "('11.8', 'ILCH_C1\\nManufacturing - Food Products, Beverages and Tobacco ', 'Wage Costs per Hour', '2001 Q1')\n",
      "('10.4', 'ILCH_C1\\nManufacturing - Food Products, Beverages and Tobacco ', 'Wage Costs per Hour', '2001 Q1')\n",
      "\n",
      "('8.2', 'ILCH_C1\\nManufacturing - Food Products, Beverages and Tobacco ', 'Other Costs per Hour', '2001 Q1')\n",
      "('7.5', 'ILCH_C1\\nManufacturing - Food Products, Beverages and Tobacco ', 'Other Costs per Hour', '2001 Q1')\n",
      "\n",
      "('10.6', 'ILCH_C1\\nManufacturing - Food Products, Beverages and Tobacco ', 'Labour Costs per Hour Excluding Bonuses and Arrears', '2001 Q1')\n",
      "('6.9', 'ILCH_C1\\nManufacturing - Food Products, Beverages and Tobacco ', 'Labour Costs per Hour Excluding Bonuses and Arrears', '2001 Q1')\n"
     ]
    }
   ],
   "source": [
    "# Print the first ten in these files (which are aligned because we sorted by cell position)\n",
    "for i, (c, w) in enumerate(zip(ccounts, wcounts)):\n",
    "    print(c)\n",
    "    print(w)\n",
    "    if i > 10:\n",
    "        break\n",
    "    print()\n"
   ]
  },
  {
   "cell_type": "code",
   "execution_count": null,
   "metadata": {
    "collapsed": true
   },
   "outputs": [],
   "source": [
    "# There are subtle changes in the 2001 numbers between a spreadsheet relesed in June 2016\n",
    "# and the latest version.  Really???"
   ]
  }
 ],
 "metadata": {
  "kernelspec": {
   "display_name": "Python 3",
   "language": "python",
   "name": "python3"
  },
  "language_info": {
   "codemirror_mode": {
    "name": "ipython",
    "version": 3
   },
   "file_extension": ".py",
   "mimetype": "text/x-python",
   "name": "python",
   "nbconvert_exporter": "python",
   "pygments_lexer": "ipython3",
   "version": "3.5.2"
  }
 },
 "nbformat": 4,
 "nbformat_minor": 1
}
