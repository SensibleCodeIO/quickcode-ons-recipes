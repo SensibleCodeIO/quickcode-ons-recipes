{
 "cells": [
  {
   "cell_type": "markdown",
   "metadata": {},
   "source": [
    "# ILCH Databaker Recipes\n",
    "\n",
    "The purpose of this recipe is to create 4 datasets. One growth and one level datasets from the ILCH SA (Seasonally adjusted) spreadsheet, and the same for the NSA (not seasonally adjusted) spreadsheet.\n",
    "\n",
    "This notebooks contains the following sections\n",
    "\n",
    "1.) Introduction, selecting filenames & shared functions\n",
    "\n",
    "2.) The recipe code\n",
    "\n",
    "3.) Loading and running the NSA recipe\n",
    "\n",
    "4.) Loading and running the SA recipe\n"
   ]
  },
  {
   "cell_type": "code",
   "execution_count": 1,
   "metadata": {
    "collapsed": false
   },
   "outputs": [],
   "source": [
    "from databaker.framework import *"
   ]
  },
  {
   "cell_type": "code",
   "execution_count": 2,
   "metadata": {
    "collapsed": true
   },
   "outputs": [],
   "source": [
    "\n",
    "# FILENAMES - this is the ONLY bit that should need to change\n",
    "sa_inputfile = \"ilchtablestemplatesa.xls\"\n",
    "nsa_inputfile = \"ilchtablestemplatensa.xls\"\n"
   ]
  },
  {
   "cell_type": "code",
   "execution_count": 3,
   "metadata": {
    "collapsed": true
   },
   "outputs": [],
   "source": [
    "# Shared functions\n",
    "\n",
    "# Get the growth period\n",
    "def get_growthPeriod(tab):\n",
    "    tab_title = tab.excel_ref('A1')\n",
    "    \n",
    "    if tab_title.filter(contains_string(\"year on year\")):\n",
    "        gp = \"Annual\"\n",
    "    elif tab_title.filter(contains_string(\"quarter on quarter\")):\n",
    "        gp = \"Quarterly\"\n",
    "    elif tab_title.filter(contains_string(\"growth rates\")):\n",
    "        gp = \"Annual\"\n",
    "    return gp\n",
    "\n",
    "\n",
    "# Get the measure type\n",
    "def get_measureType(tab):\n",
    "    tab_title = tab.excel_ref('A1')\n",
    "                       \n",
    "    if tab_title.filter(contains_string(\"year on year\")):\n",
    "        mt = \"Percent\"\n",
    "    elif tab_title.filter(contains_string(\"quarter on quarter\")):\n",
    "        mt = \"Percent\"\n",
    "    elif tab_title.filter(contains_string(\"growth rates\")):\n",
    "        mt = \"Percent\"\n",
    "    else:\n",
    "        mt = \"Index\"\n",
    "    return mt\n",
    "\n"
   ]
  },
  {
   "cell_type": "code",
   "execution_count": 4,
   "metadata": {
    "collapsed": false
   },
   "outputs": [],
   "source": [
    "\n",
    "def growth_recipe(saOrNsa, tabs_growth):\n",
    "    \n",
    "    conversionsegments = []\n",
    "\n",
    "    for tab in tabs_growth:\n",
    "\n",
    "        # Set anchor one to the left of cell with \"Agriculture\" \n",
    "        anchor = tab.filter(contains_string(\"eriod\")).assert_one()\n",
    "\n",
    "        # set up a waffle\n",
    "        datarows = anchor.fill(DOWN).is_not_blank()\n",
    "        datacols = anchor.shift(DOWN).fill(RIGHT).is_not_blank()\n",
    "        obs = datarows.waffle(datacols).is_not_blank()\n",
    "\n",
    "        # set the growth period & measuretype\n",
    "        gp = get_growthPeriod(tab)\n",
    "        mt = get_measureType(tab)\n",
    "\n",
    "        dimensions = [\n",
    "                HDimConst(MEASURETYPE, mt),\n",
    "                HDim(datarows, TIME, DIRECTLY, LEFT),\n",
    "                HDim(datacols.parent(), \"Costs\", DIRECTLY, ABOVE),\n",
    "                HDim(anchor.fill(RIGHT).parent(), \"SIC\", CLOSEST, LEFT),\n",
    "                HDimConst(\"Growth Period\", gp),\n",
    "                HDimConst(\"SA / NSA\", saOrNsa)\n",
    "                     ]\n",
    "\n",
    "        # TIME has wierd data markings, get them out\n",
    "        time = dimensions[1]\n",
    "        assert time.name == 'TIME', \"Time needs to be dimension 0\"\n",
    "        for val in time.hbagset:\n",
    "            if '(r)' in val.value or ('p') in val.value:\n",
    "                time.cellvalueoverride[val.value] = val.value[:6]\n",
    "\n",
    "        conversionsegment = ConversionSegment(tab, dimensions, obs)\n",
    "        conversionsegments.append(conversionsegment)\n",
    "    \n",
    "    return conversionsegments\n"
   ]
  },
  {
   "cell_type": "code",
   "execution_count": 5,
   "metadata": {
    "collapsed": true
   },
   "outputs": [],
   "source": [
    "\n",
    "def level_recipe(saOrNsa):\n",
    "    \n",
    "    conversionsegments = []\n",
    "\n",
    "    for tab in tabs_level:\n",
    "\n",
    "        # Set anchor one to the left of cell with \"Agriculture\" \n",
    "        anchor = tab.filter(contains_string(\"eriod\")).assert_one()\n",
    "\n",
    "        # set up a waffle\n",
    "        datarows = anchor.fill(DOWN).is_not_blank()\n",
    "        datacols = anchor.shift(DOWN).fill(RIGHT).is_not_blank()\n",
    "        obs = datarows.waffle(datacols).is_not_blank()\n",
    "        \n",
    "        # set the measuretype\n",
    "        mt = get_measureType(tab)\n",
    "\n",
    "        dimensions = [\n",
    "                HDim(datarows, TIME, DIRECTLY, LEFT),\n",
    "                HDim(datacols.parent(), \"Costs\", DIRECTLY, ABOVE),\n",
    "                HDim(anchor.fill(RIGHT).parent(), \"SIC\", CLOSEST, LEFT),\n",
    "                HDimConst(MEASURETYPE, mt),\n",
    "                HDimConst(\"SA / NSA\", saOrNsa)\n",
    "                     ]\n",
    "\n",
    "        # TIME has wierd data markings, get them out\n",
    "        time = dimensions[0]\n",
    "        assert time.name == 'TIME', \"Time needs to be dimension 0\"\n",
    "        for val in time.hbagset:\n",
    "            if '(r)' in val.value or ('p') in val.value:\n",
    "                time.cellvalueoverride[val.value] = val.value[:6]\n",
    "\n",
    "        conversionsegment = ConversionSegment(tab, dimensions, obs)\n",
    "        conversionsegments.append(conversionsegment)\n",
    "    \n",
    "    return conversionsegments\n"
   ]
  },
  {
   "cell_type": "markdown",
   "metadata": {},
   "source": [
    "## Loading and Running the NSA Recipes"
   ]
  },
  {
   "cell_type": "code",
   "execution_count": 6,
   "metadata": {
    "collapsed": false
   },
   "outputs": [
    {
     "name": "stdout",
     "output_type": "stream",
     "text": [
      "Loading ilchtablestemplatensa.xls which has size 289792 bytes\n",
      "Table names: ['INTRODUCTION', 'DEFINITIONS', '1. Industry level', '2. Sector level', '3. Industry growth rates', '4. Sector growth Rates']\n"
     ]
    }
   ],
   "source": [
    "\n",
    "tabs = loadxlstabs(nsa_inputfile)"
   ]
  },
  {
   "cell_type": "code",
   "execution_count": 7,
   "metadata": {
    "collapsed": false
   },
   "outputs": [],
   "source": [
    "\n",
    "# get the growth and level tabs\n",
    "tabs_growth = [x for x in tabs if 'growth' in x.name]\n",
    "tabs_level = [x for x in tabs if 'level' in x.name]\n",
    "\n",
    "# Sanity check\n",
    "assert len(tabs_growth) == 2, \"We expect the NSA file to have 2 tabs with the word 'growth' in them\"\n",
    "assert len(tabs_level) == 2, \"We expect the NSA file require 2 tabs with the word 'level' in them\"\n"
   ]
  },
  {
   "cell_type": "code",
   "execution_count": 8,
   "metadata": {
    "collapsed": false
   },
   "outputs": [
    {
     "name": "stdout",
     "output_type": "stream",
     "text": [
      "writing 2 conversion segments into /home/goatchurch/sensiblecode/quickcode-ons-recipes/ILCH/Output-NSA-growth-ilchtablestemplatensa.csv\n",
      "conversionwrite segment size 5952 table '3. Industry growth rates; TIMEUNIT='Quarter'\n",
      "conversionwrite segment size 2232 table '4. Sector growth Rates; TIMEUNIT='Quarter'\n",
      "writing 2 conversion segments into /home/goatchurch/sensiblecode/quickcode-ons-recipes/ILCH/Output-NSA-level-ilchtablestemplatensa.csv\n",
      "conversionwrite segment size 6336 table '1. Industry level; TIMEUNIT='Quarter'\n",
      "conversionwrite segment size 2376 table '2. Sector level; TIMEUNIT='Quarter'\n"
     ]
    }
   ],
   "source": [
    "\n",
    "# Growth, NSA\n",
    "outputfile = 'Output-NSA-growth-' + nsa_inputfile[:-4] + '.csv'\n",
    "writetechnicalCSV(outputfile, growth_recipe(\"Not seasonally adjusted\"))\n",
    "\n",
    "# LEvel SA\n",
    "outputfile = 'Output-NSA-level-' + nsa_inputfile[:-4] + '.csv'\n",
    "writetechnicalCSV(outputfile, level_recipe(\"Not seasonally adjusted\"))\n"
   ]
  },
  {
   "cell_type": "markdown",
   "metadata": {},
   "source": [
    "## Loading and Running the SA Recipes"
   ]
  },
  {
   "cell_type": "code",
   "execution_count": 10,
   "metadata": {
    "collapsed": false
   },
   "outputs": [
    {
     "name": "stdout",
     "output_type": "stream",
     "text": [
      "Loading ilchtablestemplatesa.xls which has size 407552 bytes\n",
      "Table names: ['INTRODUCTION', 'DEFINITIONS', '1. Industry level SA', '2. Sector level SA', '3. Industry annual growth SA', '4. Sector annual growth SA', '5. Industry quarterly growth SA', '6. Sector quarterly growth SA']\n"
     ]
    }
   ],
   "source": [
    "tabs = loadxlstabs(sa_inputfile)"
   ]
  },
  {
   "cell_type": "code",
   "execution_count": 11,
   "metadata": {
    "collapsed": false
   },
   "outputs": [],
   "source": [
    "\n",
    "# get the growth and level tabs\n",
    "tabs_growth = [x for x in tabs if 'growth' in x.name]\n",
    "tabs_level = [x for x in tabs if 'level' in x.name]\n",
    "\n",
    "# Sanity check\n",
    "assert len(tabs_growth) == 4, \"We expect the SA file to have 4 tabs with the word 'growth' in them\"\n",
    "assert len(tabs_level) == 2, \"We expect the SA file require 2 tabs with the word 'level' in them\""
   ]
  },
  {
   "cell_type": "code",
   "execution_count": 12,
   "metadata": {
    "collapsed": false,
    "scrolled": true
   },
   "outputs": [
    {
     "name": "stdout",
     "output_type": "stream",
     "text": [
      "writing 4 conversion segments into /home/goatchurch/sensiblecode/quickcode-ons-recipes/ILCH/Output-SA-growth-ilchtablestemplatesa.csv\n",
      "conversionwrite segment size 5952 table '3. Industry annual growth SA; TIMEUNIT='Quarter'\n",
      "conversionwrite segment size 2232 table '4. Sector annual growth SA; TIMEUNIT='Quarter'\n",
      "conversionwrite segment size 6240 table '5. Industry quarterly growth SA; TIMEUNIT='Quarter'\n",
      "conversionwrite segment size 2340 table '6. Sector quarterly growth SA; TIMEUNIT='Quarter'\n",
      "writing 2 conversion segments into /home/goatchurch/sensiblecode/quickcode-ons-recipes/ILCH/Output-SA-level-ilchtablestemplatesa.csv\n",
      "conversionwrite segment size 6336 table '1. Industry level SA; TIMEUNIT='Quarter'\n",
      "conversionwrite segment size 2376 table '2. Sector level SA; TIMEUNIT='Quarter'\n"
     ]
    }
   ],
   "source": [
    "\n",
    "# Growth, SA\n",
    "outputfile = 'Output-SA-growth-' + sa_inputfile[:-4] + '.csv'\n",
    "writetechnicalCSV(outputfile, growth_recipe(\"Seasonally Adjusted\"))   # 'A' to match previous months\n",
    "\n",
    "# LEvel SA\n",
    "outputfile = 'Output-SA-level-' + sa_inputfile[:-4] + '.csv'\n",
    "writetechnicalCSV(outputfile, level_recipe(\"Seasonally adjusted\"))"
   ]
  },
  {
   "cell_type": "code",
   "execution_count": 17,
   "metadata": {
    "collapsed": false
   },
   "outputs": [
    {
     "data": {
      "text/plain": [
       "0.0547945205479452"
      ]
     },
     "execution_count": 17,
     "metadata": {},
     "output_type": "execute_result"
    }
   ],
   "source": [
    "#topandas(level_recipe(\"Seasonally adjusted\")[0])\n",
    "20/365"
   ]
  },
  {
   "cell_type": "code",
   "execution_count": null,
   "metadata": {
    "collapsed": true
   },
   "outputs": [],
   "source": []
  }
 ],
 "metadata": {
  "kernelspec": {
   "display_name": "Python 3",
   "language": "python",
   "name": "python3"
  },
  "language_info": {
   "codemirror_mode": {
    "name": "ipython",
    "version": 3
   },
   "file_extension": ".py",
   "mimetype": "text/x-python",
   "name": "python",
   "nbconvert_exporter": "python",
   "pygments_lexer": "ipython3",
   "version": "3.5.2"
  }
 },
 "nbformat": 4,
 "nbformat_minor": 1
}
