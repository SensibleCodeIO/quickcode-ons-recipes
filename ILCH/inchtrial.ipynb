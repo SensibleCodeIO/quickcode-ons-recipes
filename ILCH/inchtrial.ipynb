{
 "cells": [
  {
   "cell_type": "code",
   "execution_count": 1,
   "metadata": {
    "collapsed": true
   },
   "outputs": [],
   "source": [
    "# messy imports to be tidied up later\n",
    "import os\n",
    "import xlutils, xypath\n",
    "import databaker\n",
    "import databaker.constants\n",
    "from databaker.constants import *\n",
    "import databaker.databakersolo as ds\n",
    "from databaker.jupybakeutils import savepreviewhtml, savepreviewhtmlBAGS, writetechnicalCSV, procrows, TechnicalCSV, yield_dimension_values, DUPgenerate_header_row\n",
    "Dcelllookup = ds.overrides.Dcelllookup\n",
    "batchcelllookup = ds.overrides.batchcelllookup\n"
   ]
  },
  {
   "cell_type": "code",
   "execution_count": 2,
   "metadata": {
    "collapsed": true
   },
   "outputs": [],
   "source": [
    "\"\"\"\n",
    "bake --preview ILCH.py ilchtablestemplatensa.xls growth\n",
    "bake --preview ILCH.py ilchtablestemplatensa.xls level\n",
    "\n",
    "bake --preview ILCH.py ilchtablestemplatesa.xls growth\n",
    "bake --preview ILCH.py ilchtablestemplatesa.xls level\n",
    "\"\"\"\n",
    "\n",
    "# input-output\n",
    "inputfile = \"ilchtablestemplatesa.xls\"\n",
    "outputfile = \"%s.csv\" % os.path.splitext(inputfile)[0]\n",
    "previewfile = \"preview.html\"\n"
   ]
  },
  {
   "cell_type": "code",
   "execution_count": 3,
   "metadata": {
    "collapsed": false
   },
   "outputs": [
    {
     "name": "stdout",
     "output_type": "stream",
     "text": [
      "Loading ilchtablestemplatesa.xls which has size 407552 bytes\n",
      "Table names: INTRODUCTION, DEFINITIONS, 1. Industry level SA, 2. Sector level SA, 3. Industry annual growth SA, 4. Sector annual growth SA, 5. Industry quarterly growth SA, 6. Sector quarterly growth SA\n"
     ]
    }
   ],
   "source": [
    "print(\"Loading %s which has size %d bytes\" % (inputfile, os.path.getsize(inputfile)))\n",
    "tableset = xypath.loader.table_set(inputfile, extension='xls')\n",
    "tabs = list(xypath.loader.get_sheets(tableset, \"*\"))\n",
    "print(\"Table names: %s\" % \", \".join([tab.name  for tab in tabs]))\n"
   ]
  },
  {
   "cell_type": "code",
   "execution_count": 4,
   "metadata": {
    "collapsed": false
   },
   "outputs": [
    {
     "name": "stdout",
     "output_type": "stream",
     "text": [
      "opening file preview.html\n",
      "table '1. Industry level SA' written\n"
     ]
    }
   ],
   "source": [
    "savepreviewhtmlBAGS(tabs[2], previewfile)"
   ]
  },
  {
   "cell_type": "code",
   "execution_count": 5,
   "metadata": {
    "collapsed": false
   },
   "outputs": [],
   "source": [
    "newtabs = []\n",
    "for tab in tabs:\n",
    "    tab_title = tab.excel_ref(\"A1\")\n",
    "    if tab_title.filter(contains_string(\"growth\")):    \n",
    "        newtabs.append(tab)\n",
    "tab = newtabs[0]\n",
    "#[tab.name  for tab in newtabs]"
   ]
  },
  {
   "cell_type": "code",
   "execution_count": 4,
   "metadata": {
    "collapsed": false
   },
   "outputs": [
    {
     "name": "stdout",
     "output_type": "stream",
     "text": [
      "{<A7 '2000Q1'>} changed from 2000Q1\n",
      "{<A8 '2000Q2'>} changed from 2000Q2\n",
      "{<A9 '2000Q3'>} changed from 2000Q3\n",
      "{<A10 '2000Q4'>} changed from 2000Q4\n",
      "{<A11 '2001Q1'>} changed from 2001Q1\n",
      "{<A12 '2001Q2'>} changed from 2001Q2\n",
      "{<A13 '2001Q3'>} changed from 2001Q3\n",
      "{<A14 '2001Q4'>} changed from 2001Q4\n",
      "{<A15 '2002Q1'>} changed from 2002Q1\n",
      "{<A16 '2002Q2'>} changed from 2002Q2\n",
      "{<A17 '2002Q3'>} changed from 2002Q3\n",
      "{<A18 '2002Q4'>} changed from 2002Q4\n",
      "{<A19 '2003Q1'>} changed from 2003Q1\n",
      "{<A20 '2003Q2'>} changed from 2003Q2\n",
      "{<A21 '2003Q3'>} changed from 2003Q3\n",
      "{<A22 '2003Q4'>} changed from 2003Q4\n",
      "{<A23 '2004Q1'>} changed from 2004Q1\n",
      "{<A24 '2004Q2'>} changed from 2004Q2\n",
      "{<A25 '2004Q3'>} changed from 2004Q3\n",
      "{<A26 '2004Q4'>} changed from 2004Q4\n",
      "{<A27 '2005Q1'>} changed from 2005Q1\n",
      "{<A28 '2005Q2'>} changed from 2005Q2\n",
      "{<A29 '2005Q3'>} changed from 2005Q3\n",
      "{<A30 '2005Q4'>} changed from 2005Q4\n",
      "{<A31 '2006Q1'>} changed from 2006Q1\n",
      "{<A32 '2006Q2'>} changed from 2006Q2\n",
      "{<A33 '2006Q3'>} changed from 2006Q3\n",
      "{<A34 '2006Q4'>} changed from 2006Q4\n",
      "{<A35 '2007Q1'>} changed from 2007Q1\n",
      "{<A36 '2007Q2'>} changed from 2007Q2\n",
      "{<A37 '2007Q3'>} changed from 2007Q3\n",
      "{<A38 '2007Q4'>} changed from 2007Q4\n",
      "{<A39 '2008Q1'>} changed from 2008Q1\n",
      "{<A40 '2008Q2'>} changed from 2008Q2\n",
      "{<A41 '2008Q3'>} changed from 2008Q3\n",
      "{<A42 '2008Q4'>} changed from 2008Q4\n",
      "{<A43 '2009Q1'>} changed from 2009Q1\n",
      "{<A44 '2009Q2'>} changed from 2009Q2\n",
      "{<A45 '2009Q3'>} changed from 2009Q3\n",
      "{<A46 '2009Q4'>} changed from 2009Q4\n",
      "{<A47 '2010Q1'>} changed from 2010Q1\n",
      "{<A48 '2010Q2'>} changed from 2010Q2\n",
      "{<A49 '2010Q3'>} changed from 2010Q3\n",
      "{<A50 '2010Q4'>} changed from 2010Q4\n",
      "{<A51 '2011Q1'>} changed from 2011Q1\n",
      "{<A52 '2011Q2'>} changed from 2011Q2\n",
      "{<A53 '2011Q3'>} changed from 2011Q3\n",
      "{<A54 '2011Q4'>} changed from 2011Q4\n",
      "{<A55 '2012Q1'>} changed from 2012Q1\n",
      "{<A56 '2012Q2'>} changed from 2012Q2\n",
      "{<A57 '2012Q3'>} changed from 2012Q3\n",
      "{<A58 '2012Q4'>} changed from 2012Q4\n",
      "{<A59 '2013Q1'>} changed from 2013Q1\n",
      "{<A60 '2013Q2'>} changed from 2013Q2\n",
      "{<A61 '2013Q3'>} changed from 2013Q3\n",
      "{<A62 '2013Q4'>} changed from 2013Q4\n",
      "{<A63 '2014Q1'>} changed from 2014Q1\n",
      "{<A64 '2014Q2'>} changed from 2014Q2 (r)\n",
      "{<A65 '2014Q3'>} changed from 2014Q3 (r)\n",
      "{<A66 '2014Q4'>} changed from 2014Q4 (r)\n",
      "{<A67 '2015Q1'>} changed from 2015Q1 (r)\n",
      "{<A68 '2015Q2'>} changed from 2015Q2 (r)\n",
      "{<A69 '2015Q3'>} changed from 2015Q3 (r)\n",
      "{<A70 '2015Q4'>} changed from 2015Q4 (r)\n",
      "{<A71 '2016Q1'>} changed from 2016Q1 (r)\n",
      "{<A72 '2016Q2'>} changed from 2016Q2 (p)\n",
      "{<A74 'p = Pr'>} changed from p = Provisional\n",
      "{<A75 'r = Re'>} changed from r = Revised\n",
      "{<A77 'Source'>} changed from Source: Monthly Wages and Salaries Survey, Labour Force Survey\n",
      "{<A78 'ILCH e'>} changed from ILCH enquiries: Email: ster@ons.gsi.gov.uk\n",
      "opening file preview.html\n",
      "table '3. Industry annual growth SA' written\n",
      "{<A7 '2000Q1'>} changed from 2000Q1\n",
      "{<A8 '2000Q2'>} changed from 2000Q2\n",
      "{<A9 '2000Q3'>} changed from 2000Q3\n",
      "{<A10 '2000Q4'>} changed from 2000Q4\n",
      "{<A11 '2001Q1'>} changed from 2001Q1\n",
      "{<A12 '2001Q2'>} changed from 2001Q2\n",
      "{<A13 '2001Q3'>} changed from 2001Q3\n",
      "{<A14 '2001Q4'>} changed from 2001Q4\n",
      "{<A15 '2002Q1'>} changed from 2002Q1\n",
      "{<A16 '2002Q2'>} changed from 2002Q2\n",
      "{<A17 '2002Q3'>} changed from 2002Q3\n",
      "{<A18 '2002Q4'>} changed from 2002Q4\n",
      "{<A19 '2003Q1'>} changed from 2003Q1\n",
      "{<A20 '2003Q2'>} changed from 2003Q2\n",
      "{<A21 '2003Q3'>} changed from 2003Q3\n",
      "{<A22 '2003Q4'>} changed from 2003Q4\n",
      "{<A23 '2004Q1'>} changed from 2004Q1\n",
      "{<A24 '2004Q2'>} changed from 2004Q2\n",
      "{<A25 '2004Q3'>} changed from 2004Q3\n",
      "{<A26 '2004Q4'>} changed from 2004Q4\n",
      "{<A27 '2005Q1'>} changed from 2005Q1\n",
      "{<A28 '2005Q2'>} changed from 2005Q2\n",
      "{<A29 '2005Q3'>} changed from 2005Q3\n",
      "{<A30 '2005Q4'>} changed from 2005Q4\n",
      "{<A31 '2006Q1'>} changed from 2006Q1\n",
      "{<A32 '2006Q2'>} changed from 2006Q2\n",
      "{<A33 '2006Q3'>} changed from 2006Q3\n",
      "{<A34 '2006Q4'>} changed from 2006Q4\n",
      "{<A35 '2007Q1'>} changed from 2007Q1\n",
      "{<A36 '2007Q2'>} changed from 2007Q2\n",
      "{<A37 '2007Q3'>} changed from 2007Q3\n",
      "{<A38 '2007Q4'>} changed from 2007Q4\n",
      "{<A39 '2008Q1'>} changed from 2008Q1\n",
      "{<A40 '2008Q2'>} changed from 2008Q2\n",
      "{<A41 '2008Q3'>} changed from 2008Q3\n",
      "{<A42 '2008Q4'>} changed from 2008Q4\n",
      "{<A43 '2009Q1'>} changed from 2009Q1\n",
      "{<A44 '2009Q2'>} changed from 2009Q2\n",
      "{<A45 '2009Q3'>} changed from 2009Q3\n",
      "{<A46 '2009Q4'>} changed from 2009Q4\n",
      "{<A47 '2010Q1'>} changed from 2010Q1\n",
      "{<A48 '2010Q2'>} changed from 2010Q2\n",
      "{<A49 '2010Q3'>} changed from 2010Q3\n",
      "{<A50 '2010Q4'>} changed from 2010Q4\n",
      "{<A51 '2011Q1'>} changed from 2011Q1\n",
      "{<A52 '2011Q2'>} changed from 2011Q2\n",
      "{<A53 '2011Q3'>} changed from 2011Q3\n",
      "{<A54 '2011Q4'>} changed from 2011Q4\n",
      "{<A55 '2012Q1'>} changed from 2012Q1\n",
      "{<A56 '2012Q2'>} changed from 2012Q2\n",
      "{<A57 '2012Q3'>} changed from 2012Q3\n",
      "{<A58 '2012Q4'>} changed from 2012Q4\n",
      "{<A59 '2013Q1'>} changed from 2013Q1\n",
      "{<A60 '2013Q2'>} changed from 2013Q2\n",
      "{<A61 '2013Q3'>} changed from 2013Q3\n",
      "{<A62 '2013Q4'>} changed from 2013Q4\n",
      "{<A63 '2014Q1'>} changed from 2014Q1\n",
      "{<A64 '2014Q2'>} changed from 2014Q2 (r)\n",
      "{<A65 '2014Q3'>} changed from 2014Q3 (r)\n",
      "{<A66 '2014Q4'>} changed from 2014Q4 (r)\n",
      "{<A67 '2015Q1'>} changed from 2015Q1 (r)\n",
      "{<A68 '2015Q2'>} changed from 2015Q2 (r)\n",
      "{<A69 '2015Q3'>} changed from 2015Q3 (r)\n",
      "{<A70 '2015Q4'>} changed from 2015Q4 (r)\n",
      "{<A71 '2016Q1'>} changed from 2016Q1 (r)\n",
      "{<A72 '2016Q2'>} changed from 2016Q2 (p)\n",
      "{<A74 'p = Pr'>} changed from p = Provisional\n",
      "{<A75 'r = Re'>} changed from r = Revised\n",
      "{<A77 'Source'>} changed from Source: Monthly Wages and Salaries Survey, Labour Force Survey\n",
      "{<A78 'ILCH e'>} changed from ILCH enquiries: Email: ster@ons.gsi.gov.uk\n",
      "opening file preview.html\n",
      "table '4. Sector annual growth SA' written\n",
      "{<A7 '2000Q1'>} changed from 2000Q1\n",
      "{<A8 '2000Q2'>} changed from 2000Q2\n",
      "{<A9 '2000Q3'>} changed from 2000Q3\n",
      "{<A10 '2000Q4'>} changed from 2000Q4\n",
      "{<A11 '2001Q1'>} changed from 2001Q1\n",
      "{<A12 '2001Q2'>} changed from 2001Q2\n",
      "{<A13 '2001Q3'>} changed from 2001Q3\n",
      "{<A14 '2001Q4'>} changed from 2001Q4\n",
      "{<A15 '2002Q1'>} changed from 2002Q1\n",
      "{<A16 '2002Q2'>} changed from 2002Q2\n",
      "{<A17 '2002Q3'>} changed from 2002Q3\n",
      "{<A18 '2002Q4'>} changed from 2002Q4\n",
      "{<A19 '2003Q1'>} changed from 2003Q1\n",
      "{<A20 '2003Q2'>} changed from 2003Q2\n",
      "{<A21 '2003Q3'>} changed from 2003Q3\n",
      "{<A22 '2003Q4'>} changed from 2003Q4\n",
      "{<A23 '2004Q1'>} changed from 2004Q1\n",
      "{<A24 '2004Q2'>} changed from 2004Q2\n",
      "{<A25 '2004Q3'>} changed from 2004Q3\n",
      "{<A26 '2004Q4'>} changed from 2004Q4\n",
      "{<A27 '2005Q1'>} changed from 2005Q1\n",
      "{<A28 '2005Q2'>} changed from 2005Q2\n",
      "{<A29 '2005Q3'>} changed from 2005Q3\n",
      "{<A30 '2005Q4'>} changed from 2005Q4\n",
      "{<A31 '2006Q1'>} changed from 2006Q1\n",
      "{<A32 '2006Q2'>} changed from 2006Q2\n",
      "{<A33 '2006Q3'>} changed from 2006Q3\n",
      "{<A34 '2006Q4'>} changed from 2006Q4\n",
      "{<A35 '2007Q1'>} changed from 2007Q1\n",
      "{<A36 '2007Q2'>} changed from 2007Q2\n",
      "{<A37 '2007Q3'>} changed from 2007Q3\n",
      "{<A38 '2007Q4'>} changed from 2007Q4\n",
      "{<A39 '2008Q1'>} changed from 2008Q1\n",
      "{<A40 '2008Q2'>} changed from 2008Q2\n",
      "{<A41 '2008Q3'>} changed from 2008Q3\n",
      "{<A42 '2008Q4'>} changed from 2008Q4\n",
      "{<A43 '2009Q1'>} changed from 2009Q1\n",
      "{<A44 '2009Q2'>} changed from 2009Q2\n",
      "{<A45 '2009Q3'>} changed from 2009Q3\n",
      "{<A46 '2009Q4'>} changed from 2009Q4\n",
      "{<A47 '2010Q1'>} changed from 2010Q1\n",
      "{<A48 '2010Q2'>} changed from 2010Q2\n",
      "{<A49 '2010Q3'>} changed from 2010Q3\n",
      "{<A50 '2010Q4'>} changed from 2010Q4\n",
      "{<A51 '2011Q1'>} changed from 2011Q1\n",
      "{<A52 '2011Q2'>} changed from 2011Q2\n",
      "{<A53 '2011Q3'>} changed from 2011Q3\n",
      "{<A54 '2011Q4'>} changed from 2011Q4\n",
      "{<A55 '2012Q1'>} changed from 2012Q1\n",
      "{<A56 '2012Q2'>} changed from 2012Q2\n",
      "{<A57 '2012Q3'>} changed from 2012Q3\n",
      "{<A58 '2012Q4'>} changed from 2012Q4\n",
      "{<A59 '2013Q1'>} changed from 2013Q1\n",
      "{<A60 '2013Q2'>} changed from 2013Q2\n",
      "{<A61 '2013Q3'>} changed from 2013Q3\n",
      "{<A62 '2013Q4'>} changed from 2013Q4\n",
      "{<A63 '2014Q1'>} changed from 2014Q1\n",
      "{<A64 '2014Q2'>} changed from 2014Q2 (r)\n",
      "{<A65 '2014Q3'>} changed from 2014Q3 (r)\n",
      "{<A66 '2014Q4'>} changed from 2014Q4 (r)\n",
      "{<A67 '2015Q1'>} changed from 2015Q1 (r)\n",
      "{<A68 '2015Q2'>} changed from 2015Q2 (r)\n",
      "{<A69 '2015Q3'>} changed from 2015Q3 (r)\n",
      "{<A70 '2015Q4'>} changed from 2015Q4 (r)\n",
      "{<A71 '2016Q1'>} changed from 2016Q1 (r)\n",
      "{<A72 '2016Q2'>} changed from 2016Q2 (p)\n",
      "{<A74 'p = Pr'>} changed from p = Provisional\n",
      "{<A75 'r = Re'>} changed from r = Revised\n",
      "{<A77 'Source'>} changed from Source: Monthly Wages and Salaries Survey, Labour Force Survey\n",
      "{<A78 'ILCH e'>} changed from ILCH enquiries: Email: ster@ons.gsi.gov.uk\n",
      "opening file preview.html\n",
      "table '5. Industry quarterly growth SA' written\n",
      "{<A7 '2000Q1'>} changed from 2000Q1\n",
      "{<A8 '2000Q2'>} changed from 2000Q2\n",
      "{<A9 '2000Q3'>} changed from 2000Q3\n",
      "{<A10 '2000Q4'>} changed from 2000Q4\n",
      "{<A11 '2001Q1'>} changed from 2001Q1\n",
      "{<A12 '2001Q2'>} changed from 2001Q2\n",
      "{<A13 '2001Q3'>} changed from 2001Q3\n",
      "{<A14 '2001Q4'>} changed from 2001Q4\n",
      "{<A15 '2002Q1'>} changed from 2002Q1\n",
      "{<A16 '2002Q2'>} changed from 2002Q2\n",
      "{<A17 '2002Q3'>} changed from 2002Q3\n",
      "{<A18 '2002Q4'>} changed from 2002Q4\n",
      "{<A19 '2003Q1'>} changed from 2003Q1\n",
      "{<A20 '2003Q2'>} changed from 2003Q2\n",
      "{<A21 '2003Q3'>} changed from 2003Q3\n",
      "{<A22 '2003Q4'>} changed from 2003Q4\n",
      "{<A23 '2004Q1'>} changed from 2004Q1\n",
      "{<A24 '2004Q2'>} changed from 2004Q2\n",
      "{<A25 '2004Q3'>} changed from 2004Q3\n",
      "{<A26 '2004Q4'>} changed from 2004Q4\n",
      "{<A27 '2005Q1'>} changed from 2005Q1\n",
      "{<A28 '2005Q2'>} changed from 2005Q2\n",
      "{<A29 '2005Q3'>} changed from 2005Q3\n",
      "{<A30 '2005Q4'>} changed from 2005Q4\n",
      "{<A31 '2006Q1'>} changed from 2006Q1\n",
      "{<A32 '2006Q2'>} changed from 2006Q2\n",
      "{<A33 '2006Q3'>} changed from 2006Q3\n",
      "{<A34 '2006Q4'>} changed from 2006Q4\n",
      "{<A35 '2007Q1'>} changed from 2007Q1\n",
      "{<A36 '2007Q2'>} changed from 2007Q2\n",
      "{<A37 '2007Q3'>} changed from 2007Q3\n",
      "{<A38 '2007Q4'>} changed from 2007Q4\n",
      "{<A39 '2008Q1'>} changed from 2008Q1\n",
      "{<A40 '2008Q2'>} changed from 2008Q2\n",
      "{<A41 '2008Q3'>} changed from 2008Q3\n",
      "{<A42 '2008Q4'>} changed from 2008Q4\n",
      "{<A43 '2009Q1'>} changed from 2009Q1\n",
      "{<A44 '2009Q2'>} changed from 2009Q2\n",
      "{<A45 '2009Q3'>} changed from 2009Q3\n",
      "{<A46 '2009Q4'>} changed from 2009Q4\n",
      "{<A47 '2010Q1'>} changed from 2010Q1\n",
      "{<A48 '2010Q2'>} changed from 2010Q2\n",
      "{<A49 '2010Q3'>} changed from 2010Q3\n",
      "{<A50 '2010Q4'>} changed from 2010Q4\n",
      "{<A51 '2011Q1'>} changed from 2011Q1\n",
      "{<A52 '2011Q2'>} changed from 2011Q2\n",
      "{<A53 '2011Q3'>} changed from 2011Q3\n",
      "{<A54 '2011Q4'>} changed from 2011Q4\n",
      "{<A55 '2012Q1'>} changed from 2012Q1\n",
      "{<A56 '2012Q2'>} changed from 2012Q2\n",
      "{<A57 '2012Q3'>} changed from 2012Q3\n",
      "{<A58 '2012Q4'>} changed from 2012Q4\n",
      "{<A59 '2013Q1'>} changed from 2013Q1\n",
      "{<A60 '2013Q2'>} changed from 2013Q2\n",
      "{<A61 '2013Q3'>} changed from 2013Q3\n",
      "{<A62 '2013Q4'>} changed from 2013Q4\n",
      "{<A63 '2014Q1'>} changed from 2014Q1\n",
      "{<A64 '2014Q2'>} changed from 2014Q2 (r)\n",
      "{<A65 '2014Q3'>} changed from 2014Q3 (r)\n",
      "{<A66 '2014Q4'>} changed from 2014Q4 (r)\n",
      "{<A67 '2015Q1'>} changed from 2015Q1 (r)\n",
      "{<A68 '2015Q2'>} changed from 2015Q2 (r)\n",
      "{<A69 '2015Q3'>} changed from 2015Q3 (r)\n",
      "{<A70 '2015Q4'>} changed from 2015Q4 (r)\n",
      "{<A71 '2016Q1'>} changed from 2016Q1 (r)\n",
      "{<A72 '2016Q2'>} changed from 2016Q2 (p)\n",
      "{<A74 'p = Pr'>} changed from p = Provisional\n",
      "{<A75 'r = Re'>} changed from r = Revised\n",
      "{<A77 'Source'>} changed from Source: Monthly Wages and Salaries Survey, Labour Force Survey\n",
      "{<A78 'ILCH e'>} changed from ILCH enquiries: Email: ster@ons.gsi.gov.uk\n",
      "opening file preview.html\n",
      "table '6. Sector quarterly growth SA' written\n",
      "opening file preview.html\n",
      "table '6. Sector quarterly growth SA' written\n",
      "javascript calculated\n"
     ]
    }
   ],
   "source": [
    "conversionsegments = [ ]\n",
    "for tab in tabs:\n",
    "    tab_title = tab.excel_ref(\"A1\")\n",
    "    if not tab_title.filter(contains_string(\"growth\")):    # this is the word that was in PARAMS(1)\n",
    "        continue\n",
    "        \n",
    "    anchor = tab.filter(\"Period\").assert_one()\n",
    "\n",
    "    datarows = anchor.fill(DOWN).is_not_blank()\n",
    "    datacols = anchor.shift(DOWN).fill(RIGHT).is_not_blank()\n",
    "    \n",
    "    # !!! this is where we are rewriting the values directly to strip out the bad names\n",
    "    for c in datarows:\n",
    "        v = c._cell.value\n",
    "        c._cell.value = v[:6]\n",
    "        print(c, \"changed from\", v)\n",
    "\n",
    "    obs = datarows.waffle(datacols).is_not_blank()\n",
    "    savepreviewhtmlBAGS(obs, previewfile)\n",
    "\n",
    "    dimensions = [ \n",
    "        (datarows, TIME, DIRECTLY, LEFT), \n",
    "        (datacols.parent(), \"Costs\", DIRECTLY, ABOVE), \n",
    "        (anchor.fill(RIGHT).parent(), \"SIC\", CLOSEST, LEFT)\n",
    "    ]\n",
    "\n",
    "    if tab_title.filter(contains_string(\"year on year\")):\n",
    "        dimensions.append((\"Annual\", \"Growth Period\", None, None))\n",
    "        dimensions.append((\"Percent\", MEASURETYPE, None, None))\n",
    "    elif tab_title.filter(contains_string(\"quarter on quarter\")):\n",
    "        dimensions.append((\"Quarterly\", \"Growth Period\", None, None))\n",
    "        dimensions.append((\"Percent\", MEASURETYPE, None, None))\n",
    "    elif tab_title.filter(contains_string(\"growth rates\")):\n",
    "        dimensions.append((\"Annual\", \"Growth Period\", None, None))\n",
    "        dimensions.append((\"Percent\", MEASURETYPE, None, None))\n",
    "    else:\n",
    "        assert 0 #tab.dimension(MEASURETYPE,\"Index\")\n",
    "    if tab_title.filter(contains_string(\"Non-Seasonally\")):\n",
    "        dimensions.append((\"Not seasonally adjusted\", \"SA / NSA\", None, None))\n",
    "    else:\n",
    "        dimensions.append((\"Seasonally adjusted\", \"SA / NSA\", None, None))\n",
    "\n",
    "    conversionsegment = (tab, dimensions, obs)\n",
    "    conversionsegments.append(conversionsegment)\n",
    "    \n",
    "savepreviewhtml(conversionsegments[-1], batchcelllookup, previewfile)\n"
   ]
  },
  {
   "cell_type": "code",
   "execution_count": 6,
   "metadata": {
    "collapsed": false
   },
   "outputs": [
    {
     "data": {
      "text/plain": [
       "4"
      ]
     },
     "execution_count": 6,
     "metadata": {},
     "output_type": "execute_result"
    }
   ],
   "source": [
    "len(conversionsegments)"
   ]
  },
  {
   "cell_type": "code",
   "execution_count": 6,
   "metadata": {
    "collapsed": false
   },
   "outputs": [
    {
     "name": "stdout",
     "output_type": "stream",
     "text": [
      "opening file preview.html\n",
      "table '6. Sector quarterly growth SA' written\n",
      "javascript calculated\n"
     ]
    }
   ],
   "source": [
    "savepreviewhtml(conversionsegments[-1], batchcelllookup, previewfile)   # <---- preview thing"
   ]
  },
  {
   "cell_type": "code",
   "execution_count": 5,
   "metadata": {
    "collapsed": false
   },
   "outputs": [
    {
     "name": "stdout",
     "output_type": "stream",
     "text": [
      "converting and writing 4 conversion segments into ilchtablestemplatesa.csv\n",
      "conversion segment size 5952\n",
      "conversion segment size 2232\n",
      "conversion segment size 6240\n",
      "conversion segment size 2340\n"
     ]
    }
   ],
   "source": [
    "print(\"converting and writing %d conversion segments into %s\" % (len(conversionsegments), outputfile))\n",
    "convertedrows = [ ]\n",
    "for conversionsegment in conversionsegments:\n",
    "    print(\"conversion segment size %d\" % len(conversionsegment[2]))\n",
    "    rows = procrows(conversionsegment, batchcelllookup)\n",
    "    convertedrows.append(rows)\n",
    "    \n",
    "# Should detect errors and throw up preview with cells marked\n",
    "# (though actually the errors manifest further upstream, normally)\n",
    "    \n",
    "# here we can do further sorting and postprocessing and allocating to different files \n"
   ]
  },
  {
   "cell_type": "code",
   "execution_count": 8,
   "metadata": {
    "collapsed": false
   },
   "outputs": [
    {
     "name": "stdout",
     "output_type": "stream",
     "text": [
      "writing 4 conversion segments into ilchtablestemplatesa.csv\n",
      "conversionwrite segment size 5952\n",
      "conversionwrite segment size 2232\n",
      "conversionwrite segment size 6240\n",
      "conversionwrite segment size 2340\n"
     ]
    }
   ],
   "source": [
    "\n",
    "writetechnicalCSV(outputfile, conversionsegments, convertedrows)\n",
    "\n"
   ]
  },
  {
   "cell_type": "code",
   "execution_count": null,
   "metadata": {
    "collapsed": true
   },
   "outputs": [],
   "source": []
  },
  {
   "cell_type": "code",
   "execution_count": null,
   "metadata": {
    "collapsed": true
   },
   "outputs": [],
   "source": []
  }
 ],
 "metadata": {
  "kernelspec": {
   "display_name": "Python 3",
   "language": "python",
   "name": "python3"
  },
  "language_info": {
   "codemirror_mode": {
    "name": "ipython",
    "version": 3
   },
   "file_extension": ".py",
   "mimetype": "text/x-python",
   "name": "python",
   "nbconvert_exporter": "python",
   "pygments_lexer": "ipython3",
   "version": "3.5.2"
  }
 },
 "nbformat": 4,
 "nbformat_minor": 1
}
