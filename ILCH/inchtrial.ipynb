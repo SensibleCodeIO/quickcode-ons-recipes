{
 "cells": [
  {
   "cell_type": "code",
   "execution_count": 27,
   "metadata": {
    "collapsed": true
   },
   "outputs": [],
   "source": [
    "# messy imports to be tidied up later\n",
    "import os\n",
    "import xlutils, xypath\n",
    "import databaker\n",
    "import databaker.constants\n",
    "from databaker.constants import *\n",
    "import databaker.databakersolo as ds\n",
    "from databaker.jupybakeutils import savepreviewhtml, savepreviewhtmlBAGS, writetechnicalCSV, procrows, TechnicalCSV, yield_dimension_values, DUPgenerate_header_row\n",
    "Dcelllookup = ds.overrides.Dcelllookup\n",
    "batchcelllookup = ds.overrides.batchcelllookup\n"
   ]
  },
  {
   "cell_type": "code",
   "execution_count": 28,
   "metadata": {
    "collapsed": true
   },
   "outputs": [],
   "source": [
    "\"\"\"\n",
    "bake --preview ILCH.py ilchtablestemplatensa.xls growth\n",
    "bake --preview ILCH.py ilchtablestemplatensa.xls level\n",
    "\n",
    "bake --preview ILCH.py ilchtablestemplatesa.xls growth\n",
    "bake --preview ILCH.py ilchtablestemplatesa.xls level\n",
    "\"\"\"\n",
    "\n",
    "# input-output\n",
    "inputfile = \"ilchtablestemplatesa.xls\"\n",
    "outputfile = \"%s.csv\" % os.path.splitext(inputfile)[0]\n",
    "previewfile = \"preview.html\"\n"
   ]
  },
  {
   "cell_type": "code",
   "execution_count": 29,
   "metadata": {
    "collapsed": false
   },
   "outputs": [
    {
     "name": "stdout",
     "output_type": "stream",
     "text": [
      "Loading ilchtablestemplatesa.xls which has size 407552 bytes\n",
      "Table names: INTRODUCTION, DEFINITIONS, 1. Industry level SA, 2. Sector level SA, 3. Industry annual growth SA, 4. Sector annual growth SA, 5. Industry quarterly growth SA, 6. Sector quarterly growth SA\n"
     ]
    }
   ],
   "source": [
    "print(\"Loading %s which has size %d bytes\" % (inputfile, os.path.getsize(inputfile)))\n",
    "tableset = xypath.loader.table_set(inputfile, extension='xls')\n",
    "tabs = list(xypath.loader.get_sheets(tableset, \"*\"))\n",
    "print(\"Table names: %s\" % \", \".join([tab.name  for tab in tabs]))\n"
   ]
  },
  {
   "cell_type": "code",
   "execution_count": 30,
   "metadata": {
    "collapsed": false
   },
   "outputs": [
    {
     "name": "stdout",
     "output_type": "stream",
     "text": [
      "opening file preview.html\n",
      "table '1. Industry level SA' written\n"
     ]
    }
   ],
   "source": [
    "savepreviewhtmlBAGS(tabs[2], previewfile)"
   ]
  },
  {
   "cell_type": "code",
   "execution_count": 31,
   "metadata": {
    "collapsed": false
   },
   "outputs": [],
   "source": [
    "newtabs = []\n",
    "for tab in tabs:\n",
    "    tab_title = tab.excel_ref(\"A1\")\n",
    "    if tab_title.filter(contains_string(\"growth\")):    \n",
    "        newtabs.append(tab)\n",
    "tab = newtabs[0]\n",
    "#[tab.name  for tab in newtabs]"
   ]
  },
  {
   "cell_type": "code",
   "execution_count": 34,
   "metadata": {
    "collapsed": false
   },
   "outputs": [
    {
     "name": "stdout",
     "output_type": "stream",
     "text": [
      "opening file preview.html\n",
      "table '3. Industry annual growth SA' written\n",
      "opening file preview.html\n",
      "table '4. Sector annual growth SA' written\n",
      "opening file preview.html\n",
      "table '5. Industry quarterly growth SA' written\n",
      "opening file preview.html\n",
      "table '6. Sector quarterly growth SA' written\n",
      "opening file preview.html\n",
      "table '6. Sector quarterly growth SA' written\n",
      "javascript calculated\n"
     ]
    }
   ],
   "source": [
    "conversionsegments = [ ]\n",
    "for tab in tabs:\n",
    "    tab_title = tab.excel_ref(\"A1\")\n",
    "    if not tab_title.filter(contains_string(\"growth\")):    # this is the word that was in PARAMS(1)\n",
    "        continue\n",
    "        \n",
    "    anchor = tab.filter(\"Period\").assert_one()\n",
    "\n",
    "    datarows = anchor.fill(DOWN).is_not_blank()\n",
    "    datacols = anchor.shift(DOWN).fill(RIGHT).is_not_blank()\n",
    "    \n",
    "    # !!! this is where we are rewriting the values directly to strip out the bad names\n",
    "    datarowsdim = HDim(datarows, TIME, DIRECTLY, LEFT)\n",
    "    for c in datarows:\n",
    "        datarowsdim.cellvalueoverride[c._cell] = c.value[:6]\n",
    "\n",
    "    obs = datarows.waffle(datacols).is_not_blank()\n",
    "    savepreviewhtmlBAGS(obs, previewfile)\n",
    "\n",
    "    dimensions = [ \n",
    "        datarowsdim, \n",
    "        HDim(datacols.parent(), \"Costs\", DIRECTLY, ABOVE), \n",
    "        HDim(anchor.fill(RIGHT).parent(), \"SIC\", CLOSEST, LEFT)\n",
    "    ]\n",
    "\n",
    "    if tab_title.filter(contains_string(\"year on year\")):\n",
    "        dimensions.append(HDim(\"Annual\", \"Growth Period\"))\n",
    "        dimensions.append(HDim(\"Percent\", MEASURETYPE))\n",
    "    elif tab_title.filter(contains_string(\"quarter on quarter\")):\n",
    "        dimensions.append(HDim(\"Quarterly\", \"Growth Period\"))\n",
    "        dimensions.append(HDim(\"Percent\", MEASURETYPE))\n",
    "    elif tab_title.filter(contains_string(\"growth rates\")):\n",
    "        dimensions.append(HDim(\"Annual\", \"Growth Period\"))\n",
    "        dimensions.append(HDim(\"Percent\", MEASURETYPE))\n",
    "    else:\n",
    "        assert 0 #tab.dimension(MEASURETYPE,\"Index\")\n",
    "    if tab_title.filter(contains_string(\"Non-Seasonally\")):\n",
    "        dimensions.append(HDim(\"Not seasonally adjusted\", \"SA / NSA\"))\n",
    "    else:\n",
    "        dimensions.append(HDim(\"Seasonally adjusted\", \"SA / NSA\"))\n",
    "\n",
    "    conversionsegment = (tab, dimensions, obs)\n",
    "    conversionsegments.append(conversionsegment)\n",
    "    \n",
    "savepreviewhtml(conversionsegments[-1], previewfile)\n"
   ]
  },
  {
   "cell_type": "code",
   "execution_count": 35,
   "metadata": {
    "collapsed": false
   },
   "outputs": [
    {
     "data": {
      "text/plain": [
       "4"
      ]
     },
     "execution_count": 35,
     "metadata": {},
     "output_type": "execute_result"
    }
   ],
   "source": [
    "len(conversionsegments)"
   ]
  },
  {
   "cell_type": "code",
   "execution_count": 36,
   "metadata": {
    "collapsed": false
   },
   "outputs": [
    {
     "name": "stdout",
     "output_type": "stream",
     "text": [
      "opening file preview.html\n",
      "table '6. Sector quarterly growth SA' written\n",
      "javascript calculated\n"
     ]
    }
   ],
   "source": [
    "savepreviewhtml(conversionsegments[-1], previewfile)   # <---- preview thing"
   ]
  },
  {
   "cell_type": "code",
   "execution_count": 38,
   "metadata": {
    "collapsed": false
   },
   "outputs": [
    {
     "name": "stdout",
     "output_type": "stream",
     "text": [
      "converting and writing 4 conversion segments into ilchtablestemplatesa.csv\n",
      "conversion segment size 5952\n",
      "conversion segment size 2232\n",
      "conversion segment size 6240\n",
      "conversion segment size 2340\n"
     ]
    }
   ],
   "source": [
    "print(\"converting and writing %d conversion segments into %s\" % (len(conversionsegments), outputfile))\n",
    "convertedrows = [ ]\n",
    "for conversionsegment in conversionsegments:\n",
    "    print(\"conversion segment size %d\" % len(conversionsegment[2]))\n",
    "    rows = procrows(conversionsegment)\n",
    "    convertedrows.append(rows)\n",
    "    \n",
    "# Should detect errors and throw up preview with cells marked\n",
    "# (though actually the errors manifest further upstream, normally)\n",
    "    \n",
    "# here we can do further sorting and postprocessing and allocating to different files \n"
   ]
  },
  {
   "cell_type": "code",
   "execution_count": 39,
   "metadata": {
    "collapsed": false
   },
   "outputs": [
    {
     "name": "stdout",
     "output_type": "stream",
     "text": [
      "writing 4 conversion segments into ilchtablestemplatesa.csv\n",
      "conversionwrite segment size 5952\n",
      "conversionwrite segment size 2232\n",
      "conversionwrite segment size 6240\n",
      "conversionwrite segment size 2340\n"
     ]
    }
   ],
   "source": [
    "\n",
    "writetechnicalCSV(outputfile, conversionsegments)\n",
    "\n"
   ]
  },
  {
   "cell_type": "code",
   "execution_count": null,
   "metadata": {
    "collapsed": true
   },
   "outputs": [],
   "source": []
  },
  {
   "cell_type": "code",
   "execution_count": null,
   "metadata": {
    "collapsed": true
   },
   "outputs": [],
   "source": []
  }
 ],
 "metadata": {
  "kernelspec": {
   "display_name": "Python 3",
   "language": "python",
   "name": "python3"
  },
  "language_info": {
   "codemirror_mode": {
    "name": "ipython",
    "version": 3
   },
   "file_extension": ".py",
   "mimetype": "text/x-python",
   "name": "python",
   "nbconvert_exporter": "python",
   "pygments_lexer": "ipython3",
   "version": "3.5.2"
  }
 },
 "nbformat": 4,
 "nbformat_minor": 1
}
