{
 "cells": [
  {
   "cell_type": "code",
   "execution_count": 1,
   "metadata": {
    "collapsed": true
   },
   "outputs": [],
   "source": [
    "import os\n",
    "import xlutils\n",
    "import databaker\n",
    "import databaker.constants\n",
    "from databaker.constants import *\n",
    "import xypath\n",
    "import databaker.databakersolo as ds\n",
    "from databaker.jupybakeutils import savepreviewhtml, writetechnicalCSV, procrows, TechnicalCSV, yield_dimension_values, savepreviewhtmlBAGS\n",
    "Dcelllookup = ds.overrides.Dcelllookup\n",
    "batchcelllookup = ds.overrides.batchcelllookup\n"
   ]
  },
  {
   "cell_type": "code",
   "execution_count": 2,
   "metadata": {
    "collapsed": false
   },
   "outputs": [],
   "source": [
    "import zipfile, io, re, os\n"
   ]
  },
  {
   "cell_type": "code",
   "execution_count": 3,
   "metadata": {
    "collapsed": false
   },
   "outputs": [
    {
     "name": "stdout",
     "output_type": "stream",
     "text": [
      "893440\n"
     ]
    }
   ],
   "source": [
    "from tempfile import NamedTemporaryFile\n",
    "\n",
    "dirname = \"table7zips\"\n",
    "dfiles = os.listdir(dirname)\n",
    "dfiles.sort(reverse=True)\n",
    "dfile = dfiles[0]\n",
    "zfile = os.path.join(dirname, dfile)\n",
    "zfile\n",
    "\n",
    "zdir = zipfile.ZipFile(zfile)\n",
    "xlsfilenames = zdir.namelist()\n",
    "xlsfilename = xlsfilenames[0]\n",
    "\n",
    "z = zdir.read(xlsfilename)\n",
    "print(len(z))\n",
    "z[:100]\n",
    "tf = NamedTemporaryFile(\"w+b\", suffix=\".xls\")\n",
    "tf.write(z)\n",
    "tableset = xypath.loader.table_set(tf.name, extension='xls')\n"
   ]
  },
  {
   "cell_type": "code",
   "execution_count": 4,
   "metadata": {
    "collapsed": false
   },
   "outputs": [
    {
     "name": "stdout",
     "output_type": "stream",
     "text": [
      "Notes\n",
      "All\n",
      "Male\n",
      "Female\n",
      "Full-Time\n",
      "Part-Time\n",
      "Male Full-Time\n",
      "Male Part-Time\n",
      "Female Full-Time\n",
      "Female Part-Time\n"
     ]
    }
   ],
   "source": [
    "tabs = list(xypath.loader.get_sheets(tableset, \"*\"))\n",
    "for tab in tabs:\n",
    "    print(tab.name)"
   ]
  },
  {
   "cell_type": "code",
   "execution_count": 5,
   "metadata": {
    "collapsed": false
   },
   "outputs": [
    {
     "name": "stdout",
     "output_type": "stream",
     "text": [
      "opening file preview.html\n",
      "table 'All' written\n"
     ]
    }
   ],
   "source": [
    "previewfile = \"preview.html\"\n",
    "savepreviewhtmlBAGS(tabs[1], previewfile)"
   ]
  },
  {
   "cell_type": "code",
   "execution_count": 6,
   "metadata": {
    "collapsed": false
   },
   "outputs": [],
   "source": [
    "\n",
    "def readzxls(dfile, zdir, xlsfilename):\n",
    "    print(\"loading: '%s'\" % (xlsfilename))\n",
    "    from tempfile import NamedTemporaryFile\n",
    "    tf = NamedTemporaryFile(\"w+b\", suffix=\".xls\")\n",
    "    tf.write(zdir.read(xlsfilename))\n",
    "    tableset = xypath.loader.table_set(tf.name, extension='xls')\n",
    "    tabs = list(xypath.loader.get_sheets(tableset, \"*\"))\n",
    "    assert tabs[0].name in [\"Notes\", \"CV notes\"], tabs[0].name\n",
    "    return tabs[1:]\n",
    "\n"
   ]
  },
  {
   "cell_type": "code",
   "execution_count": 7,
   "metadata": {
    "collapsed": false
   },
   "outputs": [],
   "source": [
    "previewfile = \"preview.html\"\n",
    "\n",
    "def pertab(dfile, xlsfilename, tab):\n",
    "    earningstype = re.search(\"   ([^\\d]*) \\d\", xlsfilename).group(1)  # becomes PARAM(0)\n",
    "    constantdimensions = [ (earningstype, \"Earnings\", None, None), \n",
    "                           (re.search(\"(Male|Female|All)\", tab.name+\" All\").group(1), \"Sex\", None, None),\n",
    "                           (re.search(\"(Full-Time|Part-Time|All)\", tab.name+\" All\").group(1), \"Working Pattern\", None, None), \n",
    "                           (re.match(\"(\\d\\d\\d\\d)\", dfile).group(1), \"Year\", None, None)\n",
    "                         ]\n",
    "    dimensions = [ \n",
    "        (tab.excel_ref('3').expand(RIGHT).is_not_blank().is_not_whitespace(), \"Default Title 1\", DIRECTLY, ABOVE), \n",
    "        (tab.excel_ref('4').expand(RIGHT).is_not_blank().is_not_whitespace(), \"Default Title 2\", DIRECTLY, ABOVE), \n",
    "        (tab.excel_ref('5').expand(RIGHT).is_not_blank().is_not_whitespace(), \"Default Title 3\", DIRECTLY, ABOVE), \n",
    "\n",
    "        (tab.excel_ref('A6').expand(DOWN), \"NoBold\", DIRECTLY, LEFT),\n",
    "        (tab.excel_ref('B6').expand(DOWN), \"N\", DIRECTLY, LEFT)\n",
    "                ]\n",
    "\n",
    "    obs = tab.excel_ref('C6').expand(RIGHT).expand(DOWN)\n",
    "    obs = obs - tab.filter(contains_string ('CV > 10% and <= 20%')).shift(-1, -3).expand(RIGHT).expand(DOWN)\n",
    "    obs = obs - tab.excel_ref('A1').fill(DOWN).filter(contains_string(\"Not Classified\")).expand(RIGHT).expand(DOWN)\n",
    "    dimensions.extend(constantdimensions)\n",
    "    return (tab, dimensions, obs)\n",
    "\n"
   ]
  },
  {
   "cell_type": "code",
   "execution_count": null,
   "metadata": {
    "collapsed": false,
    "scrolled": true
   },
   "outputs": [
    {
     "name": "stdout",
     "output_type": "stream",
     "text": [
      "2016-table72016provisional.zip\n",
      "loading: 'PROV - Work Geography Table 7.1a   Weekly pay - Gross 2016.xls'\n",
      "loading: 'PROV - Work Geography Table 7.1b   Weekly pay - Gross 2016 CV.xls'\n"
     ]
    }
   ],
   "source": [
    "conversionsegments = [ ]\n",
    "\n",
    "# whole directory\n",
    "dirname = \"table7zips\"\n",
    "dfiles = os.listdir(dirname)\n",
    "dfiles.sort(reverse=True)\n",
    "\n",
    "for dfile in dfiles:\n",
    "    zfile = os.path.join(dirname, dfile)\n",
    "    zdir = zipfile.ZipFile(zfile)\n",
    "    xlsfilenames = zdir.namelist()\n",
    "    print(dfile)\n",
    "    for xlsfilename in xlsfilenames:\n",
    "        tabs = readzxls(dfile, zdir, xlsfilename)\n",
    "        for tab in tabs:\n",
    "            conversionsegments.append(pertab(dfile, xlsfilename, tab))\n",
    "\n",
    "#savepreviewhtml(conversionsegment, batchcelllookup, previewfile)\n"
   ]
  },
  {
   "cell_type": "code",
   "execution_count": 18,
   "metadata": {
    "collapsed": false
   },
   "outputs": [
    {
     "data": {
      "text/plain": [
       "'CV notes'"
      ]
     },
     "execution_count": 18,
     "metadata": {},
     "output_type": "execute_result"
    }
   ],
   "source": []
  },
  {
   "cell_type": "code",
   "execution_count": null,
   "metadata": {
    "collapsed": true
   },
   "outputs": [],
   "source": []
  }
 ],
 "metadata": {
  "kernelspec": {
   "display_name": "Python 3",
   "language": "python",
   "name": "python3"
  },
  "language_info": {
   "codemirror_mode": {
    "name": "ipython",
    "version": 3
   },
   "file_extension": ".py",
   "mimetype": "text/x-python",
   "name": "python",
   "nbconvert_exporter": "python",
   "pygments_lexer": "ipython3",
   "version": "3.5.2"
  }
 },
 "nbformat": 4,
 "nbformat_minor": 1
}
