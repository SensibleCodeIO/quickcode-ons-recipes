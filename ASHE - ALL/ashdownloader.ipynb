{
 "cells": [
  {
   "cell_type": "code",
   "execution_count": 16,
   "metadata": {
    "collapsed": false
   },
   "outputs": [
    {
     "data": {
      "text/plain": [
       "1"
      ]
     },
     "execution_count": 16,
     "metadata": {},
     "output_type": "execute_result"
    }
   ],
   "source": [
    "import urllib.request\n",
    "\n",
    "# This is the front page for table7\n",
    "iurl = \"https://www.ons.gov.uk/employmentandlabourmarket/peopleinwork/earningsandworkinghours/datasets/placeofworkbylocalauthorityashetable7\"\n",
    "req = urllib.request.Request(iurl, headers={'User-Agent' : \"Magic Browser\"}) \n",
    "ipage = urllib.request.urlopen(req).read()\n"
   ]
  },
  {
   "cell_type": "code",
   "execution_count": 32,
   "metadata": {
    "collapsed": false
   },
   "outputs": [
    {
     "name": "stdout",
     "output_type": "stream",
     "text": [
      "2006consistentw_005methodology-2006-table-7 (1).zip 6255157 bytes\n",
      "2005-2005-table-7.zip 6294121 bytes\n",
      "2004-2004-table-7.zip 6461641 bytes\n",
      "2003-2003-table-7.zip 5896387 bytes\n",
      "2002-2002-table-7.zip 5827546 bytes\n",
      "2001-2001-table-7.zip 5263242 bytes\n",
      "2000-2000-table-7.zip 5285670 bytes\n",
      "1999-1999-table-7.zip 5279918 bytes\n",
      "1998-1998-table-7.zip 4733767 bytes\n",
      "1997-1997-table-7.zip 4941445 bytes\n"
     ]
    }
   ],
   "source": [
    "import re, urllib.parse, os\n",
    "\n",
    "# find all the links to the zip files on this index page\n",
    "zyears = [urllib.parse.urljoin(iurl, z)  for z in re.findall('<a href=\"([^\"]*?\\.zip)\"', str(ipage))]\n",
    "dirname = \"table7zips\"\n",
    "if not os.path.exists(dirname):\n",
    "    os.mkdir(dirname)\n",
    "    \n",
    "# copy and download each of these zip files\n",
    "for zurl in zyears:\n",
    "    zfilename = \"-\".join(zurl.split(\"/\")[-2:])\n",
    "    zurl = zurl.replace(\" \", \"%20\")   # spaces in the url get escaped in the browser\n",
    "    req = urllib.request.Request(zurl, headers={'User-Agent' : \"Magic Browser\"}) \n",
    "    zcon = urllib.request.urlopen(req)\n",
    "    #zcon.headers.items()\n",
    "    fout = open(os.path.join(dirname, zfilename), \"wb\")\n",
    "    zbytes = zcon.read()\n",
    "    fout.write(zbytes)\n",
    "    fout.close()\n",
    "    print(zfilename, len(zbytes), \"bytes\")\n"
   ]
  },
  {
   "cell_type": "code",
   "execution_count": 31,
   "metadata": {
    "collapsed": false
   },
   "outputs": [
    {
     "data": {
      "text/plain": [
       "'https://www.ons.gov.uk/file?uri=/employmentandlabourmarket/peopleinwork/earningsandworkinghours/datasets/placeofworkbylocalauthorityashetable7/2006consistentw_005methodology/2006-table-7 (1).zip'"
      ]
     },
     "execution_count": 31,
     "metadata": {},
     "output_type": "execute_result"
    }
   ],
   "source": [
    "zurl"
   ]
  },
  {
   "cell_type": "code",
   "execution_count": null,
   "metadata": {
    "collapsed": true
   },
   "outputs": [],
   "source": []
  }
 ],
 "metadata": {
  "kernelspec": {
   "display_name": "Python 3",
   "language": "python",
   "name": "python3"
  },
  "language_info": {
   "codemirror_mode": {
    "name": "ipython",
    "version": 3
   },
   "file_extension": ".py",
   "mimetype": "text/x-python",
   "name": "python",
   "nbconvert_exporter": "python",
   "pygments_lexer": "ipython3",
   "version": "3.5.2"
  }
 },
 "nbformat": 4,
 "nbformat_minor": 1
}
