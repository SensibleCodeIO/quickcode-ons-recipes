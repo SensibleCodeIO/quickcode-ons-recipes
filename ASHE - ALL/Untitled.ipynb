{
 "cells": [
  {
   "cell_type": "code",
   "execution_count": null,
   "metadata": {
    "collapsed": true
   },
   "outputs": [],
   "source": [
    "import urllib.request\n",
    "iurl = \"https://www.python.org/\"\n",
    "req = urllib.request.Request(url, headers={'User-Agent' : \"Magic Browser\"}) \n",
    "ipage = urllib.request.urlopen(req).read()\n",
    "len(ipage)\n",
    "\n"
   ]
  },
  {
   "cell_type": "code",
   "execution_count": null,
   "metadata": {
    "collapsed": true
   },
   "outputs": [],
   "source": []
  }
 ],
 "metadata": {
  "kernelspec": {
   "display_name": "Python 3",
   "language": "python",
   "name": "python3"
  }
 },
 "nbformat": 4,
 "nbformat_minor": 1
}
